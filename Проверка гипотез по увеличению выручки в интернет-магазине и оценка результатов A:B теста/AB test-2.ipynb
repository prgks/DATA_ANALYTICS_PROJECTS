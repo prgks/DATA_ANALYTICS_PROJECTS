{
 "cells": [
  {
   "cell_type": "markdown",
   "metadata": {},
   "source": [
    "# Декомпозиция проекта:\n",
    "\n",
    " 1. [Введение](#p1)\n",
    "      * [Описание проекта](#p1.1)  \n",
    "      * [Задачи проекта](#p1.2)\n",
    "      * [Описание данных](#p1.3)\n",
    "\n",
    " 2. [Загрузка и изучение данных:](#p2)\n",
    "      * [Загрузка данных](#p2.1)  \n",
    "      * [Изучение данных](#p2.2)\n",
    "      * [Вывод](#p2.3)\n",
    "\n",
    " 3. [Предобработка данных:](#p3)\n",
    "      * [Приведение названия столбцов к стандартному виду](#p3.1)  \n",
    "      * [Преобразование данных к необходимому для анализа типу](#p3.2)\n",
    "      * [Проверка данных на явные и неявные дубликаты](#p3.3)\n",
    "      * [Проверка данных на пропуски и аномалии](#p3.4)\n",
    "      * [Объединение таблиц](#p3.5)\n",
    "      * [Вывод](#p3.6)\n",
    "\n",
    " 4. [Исследовательский анализ данных:](#p4)\n",
    "      * [ICE и RICE](#p4.1)\n",
    "          * [Вывод](#p)\n",
    "      * [A/B тест](#p4.2)\n",
    "          * [Графики комулятивных показателей](#p4.2.1)\n",
    "          * [Выбивающиеся значения](#p4.2.2)\n",
    "          * [Формулировка нулевых и альтернативных гипотиз](#p4.2.3)\n",
    "          * [Проверка статистических гипотез](#p4.2.4)\n",
    "          * [Вывод](#p4.2.5)\n",
    "\n",
    " 5. [Рекомендации](#p5)\n",
    "   "
   ]
  },
  {
   "cell_type": "markdown",
   "metadata": {},
   "source": [
    "<a id=\"p1\"></a>\n",
    "## 1 Введение"
   ]
  },
  {
   "cell_type": "markdown",
   "metadata": {},
   "source": [
    "<a id=\"p1.1\"></a>\n",
    "### 1.1 Описание проекта\n",
    "\n",
    "В рамках данного проекта необходимо приоритизировать полученные гипотезы, а также изучить и проанализировать результаты А/В теста."
   ]
  },
  {
   "cell_type": "markdown",
   "metadata": {},
   "source": [
    "<a id=\"p1.2\"></a>\n",
    "### 1.2 Задачи проекта\n",
    "\n",
    "1)Приоритизировать полученные гипотезы применив методы ICE и RICE и сравнить результаты.\n",
    "\n",
    "2)Произвести анализ результата A/B теста."
   ]
  },
  {
   "cell_type": "markdown",
   "metadata": {},
   "source": [
    "<a id=\"p1.3\"></a>\n",
    "### 1.3 Описание данных\n",
    "\n",
    "Данные для первой части:\n",
    "\n",
    "Файл /datasets/hypothesis.csv\n",
    "\n",
    "* Hypothesis — краткое описание гипотезы;\n",
    "* Reach — охват пользователей по 10-балльной шкале;\n",
    "* Impact — влияние на пользователей по 10-балльной шкале;\n",
    "* Confidence — уверенность в гипотезе по 10-балльной шкале;\n",
    "* Efforts — затраты ресурсов на проверку гипотезы по 10-балльной шкале. Чем больше значение * Efforts, тем дороже проверка гипотезы.\n",
    "\n",
    "Данные для второй части:\n",
    "\n",
    "Файл /datasets/orders.csv\n",
    "\n",
    "* transactionId — идентификатор заказа;\n",
    "* visitorId — идентификатор пользователя, совершившего заказ;\n",
    "* date — дата, когда был совершён заказ;\n",
    "* revenue — выручка заказа;\n",
    "* group — группа A/B-теста, в которую попал заказ.\n",
    "\n",
    "Файл /datasets/visitors.csv. Скачать датасет\n",
    "\n",
    "* date — дата;\n",
    "* group — группа A/B-теста;\n",
    "* visitors — количество пользователей в указанную дату в указанной группе A/B-теста"
   ]
  },
  {
   "cell_type": "markdown",
   "metadata": {},
   "source": [
    " "
   ]
  },
  {
   "cell_type": "markdown",
   "metadata": {},
   "source": [
    "<a id=\"p2\"></a>\n",
    "## 2 Загрузка и изучение данных"
   ]
  },
  {
   "cell_type": "markdown",
   "metadata": {},
   "source": [
    "<a id=\"p2.1\"></a>\n",
    "### 2.1 Загрузка данных"
   ]
  },
  {
   "cell_type": "code",
   "execution_count": 1,
   "metadata": {},
   "outputs": [],
   "source": [
    "import pandas as pd\n",
    "import numpy as np\n",
    "from datetime import datetime, timedelta\n",
    "from matplotlib import pyplot as plt\n",
    "import scipy.stats as stats\n"
   ]
  },
  {
   "cell_type": "code",
   "execution_count": 2,
   "metadata": {},
   "outputs": [],
   "source": [
    "hypothesis, orders, visitors = (\n",
    "    pd.read_csv('https://code.s3.yandex.net/datasets/hypothesis.csv'),\n",
    "    pd.read_csv('https://code.s3.yandex.net/datasets/orders.csv'),\n",
    "    pd.read_csv('https://code.s3.yandex.net/datasets/visitors.csv')\n",
    ") "
   ]
  },
  {
   "cell_type": "markdown",
   "metadata": {},
   "source": [
    "<a id=\"p2.2\"></a>\n",
    "###  2.2 Изучение данных"
   ]
  },
  {
   "cell_type": "code",
   "execution_count": 3,
   "metadata": {},
   "outputs": [
    {
     "data": {
      "text/html": [
       "<div>\n",
       "<style scoped>\n",
       "    .dataframe tbody tr th:only-of-type {\n",
       "        vertical-align: middle;\n",
       "    }\n",
       "\n",
       "    .dataframe tbody tr th {\n",
       "        vertical-align: top;\n",
       "    }\n",
       "\n",
       "    .dataframe thead th {\n",
       "        text-align: right;\n",
       "    }\n",
       "</style>\n",
       "<table border=\"1\" class=\"dataframe\">\n",
       "  <thead>\n",
       "    <tr style=\"text-align: right;\">\n",
       "      <th></th>\n",
       "      <th>Hypothesis</th>\n",
       "      <th>Reach</th>\n",
       "      <th>Impact</th>\n",
       "      <th>Confidence</th>\n",
       "      <th>Efforts</th>\n",
       "    </tr>\n",
       "  </thead>\n",
       "  <tbody>\n",
       "    <tr>\n",
       "      <th>0</th>\n",
       "      <td>Добавить два новых канала привлечения трафика,...</td>\n",
       "      <td>3</td>\n",
       "      <td>10</td>\n",
       "      <td>8</td>\n",
       "      <td>6</td>\n",
       "    </tr>\n",
       "    <tr>\n",
       "      <th>1</th>\n",
       "      <td>Запустить собственную службу доставки, что сок...</td>\n",
       "      <td>2</td>\n",
       "      <td>5</td>\n",
       "      <td>4</td>\n",
       "      <td>10</td>\n",
       "    </tr>\n",
       "    <tr>\n",
       "      <th>2</th>\n",
       "      <td>Добавить блоки рекомендаций товаров на сайт ин...</td>\n",
       "      <td>8</td>\n",
       "      <td>3</td>\n",
       "      <td>7</td>\n",
       "      <td>3</td>\n",
       "    </tr>\n",
       "    <tr>\n",
       "      <th>3</th>\n",
       "      <td>Изменить структура категорий, что увеличит кон...</td>\n",
       "      <td>8</td>\n",
       "      <td>3</td>\n",
       "      <td>3</td>\n",
       "      <td>8</td>\n",
       "    </tr>\n",
       "    <tr>\n",
       "      <th>4</th>\n",
       "      <td>Изменить цвет фона главной страницы, чтобы уве...</td>\n",
       "      <td>3</td>\n",
       "      <td>1</td>\n",
       "      <td>1</td>\n",
       "      <td>1</td>\n",
       "    </tr>\n",
       "    <tr>\n",
       "      <th>5</th>\n",
       "      <td>Добавить страницу отзывов клиентов о магазине,...</td>\n",
       "      <td>3</td>\n",
       "      <td>2</td>\n",
       "      <td>2</td>\n",
       "      <td>3</td>\n",
       "    </tr>\n",
       "    <tr>\n",
       "      <th>6</th>\n",
       "      <td>Показать на главной странице баннеры с актуаль...</td>\n",
       "      <td>5</td>\n",
       "      <td>3</td>\n",
       "      <td>8</td>\n",
       "      <td>3</td>\n",
       "    </tr>\n",
       "    <tr>\n",
       "      <th>7</th>\n",
       "      <td>Добавить форму подписки на все основные страни...</td>\n",
       "      <td>10</td>\n",
       "      <td>7</td>\n",
       "      <td>8</td>\n",
       "      <td>5</td>\n",
       "    </tr>\n",
       "    <tr>\n",
       "      <th>8</th>\n",
       "      <td>Запустить акцию, дающую скидку на товар в день...</td>\n",
       "      <td>1</td>\n",
       "      <td>9</td>\n",
       "      <td>9</td>\n",
       "      <td>5</td>\n",
       "    </tr>\n",
       "  </tbody>\n",
       "</table>\n",
       "</div>"
      ],
      "text/plain": [
       "                                          Hypothesis  Reach  Impact  \\\n",
       "0  Добавить два новых канала привлечения трафика,...      3      10   \n",
       "1  Запустить собственную службу доставки, что сок...      2       5   \n",
       "2  Добавить блоки рекомендаций товаров на сайт ин...      8       3   \n",
       "3  Изменить структура категорий, что увеличит кон...      8       3   \n",
       "4  Изменить цвет фона главной страницы, чтобы уве...      3       1   \n",
       "5  Добавить страницу отзывов клиентов о магазине,...      3       2   \n",
       "6  Показать на главной странице баннеры с актуаль...      5       3   \n",
       "7  Добавить форму подписки на все основные страни...     10       7   \n",
       "8  Запустить акцию, дающую скидку на товар в день...      1       9   \n",
       "\n",
       "   Confidence  Efforts  \n",
       "0           8        6  \n",
       "1           4       10  \n",
       "2           7        3  \n",
       "3           3        8  \n",
       "4           1        1  \n",
       "5           2        3  \n",
       "6           8        3  \n",
       "7           8        5  \n",
       "8           9        5  "
      ]
     },
     "execution_count": 3,
     "metadata": {},
     "output_type": "execute_result"
    }
   ],
   "source": [
    "hypothesis"
   ]
  },
  {
   "cell_type": "markdown",
   "metadata": {},
   "source": [
    "Представлено 9 гипотиз "
   ]
  },
  {
   "cell_type": "code",
   "execution_count": 4,
   "metadata": {},
   "outputs": [
    {
     "name": "stdout",
     "output_type": "stream",
     "text": [
      "<class 'pandas.core.frame.DataFrame'>\n",
      "RangeIndex: 9 entries, 0 to 8\n",
      "Data columns (total 5 columns):\n",
      " #   Column      Non-Null Count  Dtype \n",
      "---  ------      --------------  ----- \n",
      " 0   Hypothesis  9 non-null      object\n",
      " 1   Reach       9 non-null      int64 \n",
      " 2   Impact      9 non-null      int64 \n",
      " 3   Confidence  9 non-null      int64 \n",
      " 4   Efforts     9 non-null      int64 \n",
      "dtypes: int64(4), object(1)\n",
      "memory usage: 488.0+ bytes\n"
     ]
    }
   ],
   "source": [
    "hypothesis.info()"
   ]
  },
  {
   "cell_type": "markdown",
   "metadata": {},
   "source": [
    "Все данные приведены к корректному типу"
   ]
  },
  {
   "cell_type": "code",
   "execution_count": 5,
   "metadata": {},
   "outputs": [
    {
     "name": "stdout",
     "output_type": "stream",
     "text": [
      "<class 'pandas.core.frame.DataFrame'>\n",
      "RangeIndex: 1197 entries, 0 to 1196\n",
      "Data columns (total 5 columns):\n",
      " #   Column         Non-Null Count  Dtype \n",
      "---  ------         --------------  ----- \n",
      " 0   transactionId  1197 non-null   int64 \n",
      " 1   visitorId      1197 non-null   int64 \n",
      " 2   date           1197 non-null   object\n",
      " 3   revenue        1197 non-null   int64 \n",
      " 4   group          1197 non-null   object\n",
      "dtypes: int64(3), object(2)\n",
      "memory usage: 46.9+ KB\n"
     ]
    }
   ],
   "source": [
    "orders.info()"
   ]
  },
  {
   "cell_type": "markdown",
   "metadata": {},
   "source": [
    "Необходимо привести данные колонки date к типу datetime"
   ]
  },
  {
   "cell_type": "code",
   "execution_count": 6,
   "metadata": {},
   "outputs": [
    {
     "name": "stdout",
     "output_type": "stream",
     "text": [
      "<class 'pandas.core.frame.DataFrame'>\n",
      "RangeIndex: 62 entries, 0 to 61\n",
      "Data columns (total 3 columns):\n",
      " #   Column    Non-Null Count  Dtype \n",
      "---  ------    --------------  ----- \n",
      " 0   date      62 non-null     object\n",
      " 1   group     62 non-null     object\n",
      " 2   visitors  62 non-null     int64 \n",
      "dtypes: int64(1), object(2)\n",
      "memory usage: 1.6+ KB\n"
     ]
    }
   ],
   "source": [
    "visitors.info()"
   ]
  },
  {
   "cell_type": "markdown",
   "metadata": {},
   "source": [
    "Необходимо привести данные колонки date к типу datetime"
   ]
  },
  {
   "cell_type": "markdown",
   "metadata": {},
   "source": [
    "<a id=\"p2.3\"></a>\n",
    "###  2.3 Вывод\n",
    "\n",
    "В hypothesis представлено 9 гипотез, в orders и visitors необходимо поправить тип данных и привести название столбцов к стандартному, легко читаемому виду."
   ]
  },
  {
   "cell_type": "markdown",
   "metadata": {},
   "source": [
    " "
   ]
  },
  {
   "cell_type": "markdown",
   "metadata": {},
   "source": [
    "<a id=\"p3\"></a>\n",
    "## 3 Предобработка данных"
   ]
  },
  {
   "cell_type": "markdown",
   "metadata": {},
   "source": [
    "<a id=\"p3.1\"></a>\n",
    "### 3.1 Приведение названия столбцов к стандартному виду"
   ]
  },
  {
   "cell_type": "code",
   "execution_count": 7,
   "metadata": {},
   "outputs": [],
   "source": [
    "orders.rename(columns = {'transactionId' : 'transaction_id', 'visitorId' : 'visitor_id'}, inplace = True)"
   ]
  },
  {
   "cell_type": "markdown",
   "metadata": {},
   "source": [
    "<a id=\"p3.2\"></a>\n",
    "### 3.2 Преобразование данных к необходимому для анализа типу"
   ]
  },
  {
   "cell_type": "code",
   "execution_count": 8,
   "metadata": {},
   "outputs": [],
   "source": [
    "orders['date'] = pd.to_datetime(orders['date'])\n",
    "visitors['date'] = pd.to_datetime(visitors['date'])"
   ]
  },
  {
   "cell_type": "markdown",
   "metadata": {},
   "source": [
    "<a id=\"p3.3\"></a>\n",
    "### 3.3 Проверка данных на явные и неявные дубликаты"
   ]
  },
  {
   "cell_type": "code",
   "execution_count": 9,
   "metadata": {},
   "outputs": [
    {
     "name": "stdout",
     "output_type": "stream",
     "text": [
      "False\n",
      "False\n"
     ]
    }
   ],
   "source": [
    "for i in (visitors, orders):\n",
    "    print(i.duplicated().any())"
   ]
  },
  {
   "cell_type": "markdown",
   "metadata": {},
   "source": [
    "Дубликатов нет"
   ]
  },
  {
   "cell_type": "markdown",
   "metadata": {},
   "source": [
    "<a id=\"p3.4\"></a>\n",
    "### 3.4 Проверка данных на пропуски и аномалии"
   ]
  },
  {
   "cell_type": "code",
   "execution_count": 10,
   "metadata": {},
   "outputs": [
    {
     "name": "stdout",
     "output_type": "stream",
     "text": [
      "transaction_id    0\n",
      "visitor_id        0\n",
      "date              0\n",
      "revenue           0\n",
      "group             0\n",
      "dtype: int64\n",
      "date        0\n",
      "group       0\n",
      "visitors    0\n",
      "dtype: int64\n"
     ]
    }
   ],
   "source": [
    "print(orders.isna().sum())\n",
    "print(visitors.isna().sum())"
   ]
  },
  {
   "cell_type": "markdown",
   "metadata": {},
   "source": [
    "Пропусков нет"
   ]
  },
  {
   "cell_type": "markdown",
   "metadata": {},
   "source": [
    "Проверим таблицу orders на соблюдение условий проведения a/b тестирования:\n",
    "\n",
    "если есть пользователи, которые попали и в группу А и в группу B удалим их и посмотрим сколько данных мы потеряем.Созданим даполнительный пареметр ignore, в случае если захотим провести анализ данных без изменения, передадим ему значение True"
   ]
  },
  {
   "cell_type": "code",
   "execution_count": 11,
   "metadata": {},
   "outputs": [
    {
     "data": {
      "text/html": [
       "<div>\n",
       "<style scoped>\n",
       "    .dataframe tbody tr th:only-of-type {\n",
       "        vertical-align: middle;\n",
       "    }\n",
       "\n",
       "    .dataframe tbody tr th {\n",
       "        vertical-align: top;\n",
       "    }\n",
       "\n",
       "    .dataframe thead th {\n",
       "        text-align: right;\n",
       "    }\n",
       "</style>\n",
       "<table border=\"1\" class=\"dataframe\">\n",
       "  <thead>\n",
       "    <tr style=\"text-align: right;\">\n",
       "      <th></th>\n",
       "      <th>transaction_id</th>\n",
       "      <th>visitor_id</th>\n",
       "      <th>date</th>\n",
       "      <th>revenue</th>\n",
       "      <th>group</th>\n",
       "    </tr>\n",
       "  </thead>\n",
       "  <tbody>\n",
       "    <tr>\n",
       "      <th>0</th>\n",
       "      <td>3667963787</td>\n",
       "      <td>3312258926</td>\n",
       "      <td>2019-08-15</td>\n",
       "      <td>1650</td>\n",
       "      <td>B</td>\n",
       "    </tr>\n",
       "    <tr>\n",
       "      <th>1</th>\n",
       "      <td>2804400009</td>\n",
       "      <td>3642806036</td>\n",
       "      <td>2019-08-15</td>\n",
       "      <td>730</td>\n",
       "      <td>B</td>\n",
       "    </tr>\n",
       "    <tr>\n",
       "      <th>2</th>\n",
       "      <td>2961555356</td>\n",
       "      <td>4069496402</td>\n",
       "      <td>2019-08-15</td>\n",
       "      <td>400</td>\n",
       "      <td>A</td>\n",
       "    </tr>\n",
       "    <tr>\n",
       "      <th>3</th>\n",
       "      <td>3797467345</td>\n",
       "      <td>1196621759</td>\n",
       "      <td>2019-08-15</td>\n",
       "      <td>9759</td>\n",
       "      <td>B</td>\n",
       "    </tr>\n",
       "    <tr>\n",
       "      <th>4</th>\n",
       "      <td>2282983706</td>\n",
       "      <td>2322279887</td>\n",
       "      <td>2019-08-15</td>\n",
       "      <td>2308</td>\n",
       "      <td>B</td>\n",
       "    </tr>\n",
       "    <tr>\n",
       "      <th>...</th>\n",
       "      <td>...</td>\n",
       "      <td>...</td>\n",
       "      <td>...</td>\n",
       "      <td>...</td>\n",
       "      <td>...</td>\n",
       "    </tr>\n",
       "    <tr>\n",
       "      <th>1192</th>\n",
       "      <td>2662137336</td>\n",
       "      <td>3733762160</td>\n",
       "      <td>2019-08-14</td>\n",
       "      <td>6490</td>\n",
       "      <td>B</td>\n",
       "    </tr>\n",
       "    <tr>\n",
       "      <th>1193</th>\n",
       "      <td>2203539145</td>\n",
       "      <td>370388673</td>\n",
       "      <td>2019-08-14</td>\n",
       "      <td>3190</td>\n",
       "      <td>A</td>\n",
       "    </tr>\n",
       "    <tr>\n",
       "      <th>1194</th>\n",
       "      <td>1807773912</td>\n",
       "      <td>573423106</td>\n",
       "      <td>2019-08-14</td>\n",
       "      <td>10550</td>\n",
       "      <td>A</td>\n",
       "    </tr>\n",
       "    <tr>\n",
       "      <th>1195</th>\n",
       "      <td>1947021204</td>\n",
       "      <td>1614305549</td>\n",
       "      <td>2019-08-14</td>\n",
       "      <td>100</td>\n",
       "      <td>A</td>\n",
       "    </tr>\n",
       "    <tr>\n",
       "      <th>1196</th>\n",
       "      <td>3936777065</td>\n",
       "      <td>2108080724</td>\n",
       "      <td>2019-08-15</td>\n",
       "      <td>202740</td>\n",
       "      <td>B</td>\n",
       "    </tr>\n",
       "  </tbody>\n",
       "</table>\n",
       "<p>1197 rows × 5 columns</p>\n",
       "</div>"
      ],
      "text/plain": [
       "      transaction_id  visitor_id       date  revenue group\n",
       "0         3667963787  3312258926 2019-08-15     1650     B\n",
       "1         2804400009  3642806036 2019-08-15      730     B\n",
       "2         2961555356  4069496402 2019-08-15      400     A\n",
       "3         3797467345  1196621759 2019-08-15     9759     B\n",
       "4         2282983706  2322279887 2019-08-15     2308     B\n",
       "...              ...         ...        ...      ...   ...\n",
       "1192      2662137336  3733762160 2019-08-14     6490     B\n",
       "1193      2203539145   370388673 2019-08-14     3190     A\n",
       "1194      1807773912   573423106 2019-08-14    10550     A\n",
       "1195      1947021204  1614305549 2019-08-14      100     A\n",
       "1196      3936777065  2108080724 2019-08-15   202740     B\n",
       "\n",
       "[1197 rows x 5 columns]"
      ]
     },
     "execution_count": 11,
     "metadata": {},
     "output_type": "execute_result"
    }
   ],
   "source": [
    "orders"
   ]
  },
  {
   "cell_type": "code",
   "execution_count": 12,
   "metadata": {},
   "outputs": [
    {
     "data": {
      "text/plain": [
       "58"
      ]
     },
     "execution_count": 12,
     "metadata": {},
     "output_type": "execute_result"
    }
   ],
   "source": [
    "len(\n",
    "    np.intersect1d(orders.query('group == \"A\"')['visitor_id']\n",
    "    , orders.query('group == \"B\"')['visitor_id']\n",
    "    , assume_unique = False)\n",
    ")"
   ]
  },
  {
   "cell_type": "markdown",
   "metadata": {},
   "source": [
    "58 пользователей находятся и в группе А и в группе В"
   ]
  },
  {
   "cell_type": "code",
   "execution_count": 13,
   "metadata": {},
   "outputs": [],
   "source": [
    "ignore = False\n",
    "if not ignore:\n",
    "    a = orders[orders['group'] == 'A']['visitor_id'].drop_duplicates().reset_index()\n",
    "    b = orders[orders['group'] == 'B']['visitor_id'].drop_duplicates().reset_index()\n",
    "    c = a.loc[a['visitor_id'].isin(b['visitor_id'])]\n",
    "    orders = orders.loc[~(orders['visitor_id'].isin(c['visitor_id']))]"
   ]
  },
  {
   "cell_type": "code",
   "execution_count": 14,
   "metadata": {},
   "outputs": [
    {
     "data": {
      "text/html": [
       "<div>\n",
       "<style scoped>\n",
       "    .dataframe tbody tr th:only-of-type {\n",
       "        vertical-align: middle;\n",
       "    }\n",
       "\n",
       "    .dataframe tbody tr th {\n",
       "        vertical-align: top;\n",
       "    }\n",
       "\n",
       "    .dataframe thead th {\n",
       "        text-align: right;\n",
       "    }\n",
       "</style>\n",
       "<table border=\"1\" class=\"dataframe\">\n",
       "  <thead>\n",
       "    <tr style=\"text-align: right;\">\n",
       "      <th></th>\n",
       "      <th>transaction_id</th>\n",
       "      <th>visitor_id</th>\n",
       "      <th>date</th>\n",
       "      <th>revenue</th>\n",
       "      <th>group</th>\n",
       "    </tr>\n",
       "  </thead>\n",
       "  <tbody>\n",
       "    <tr>\n",
       "      <th>0</th>\n",
       "      <td>3667963787</td>\n",
       "      <td>3312258926</td>\n",
       "      <td>2019-08-15</td>\n",
       "      <td>1650</td>\n",
       "      <td>B</td>\n",
       "    </tr>\n",
       "    <tr>\n",
       "      <th>1</th>\n",
       "      <td>2804400009</td>\n",
       "      <td>3642806036</td>\n",
       "      <td>2019-08-15</td>\n",
       "      <td>730</td>\n",
       "      <td>B</td>\n",
       "    </tr>\n",
       "    <tr>\n",
       "      <th>3</th>\n",
       "      <td>3797467345</td>\n",
       "      <td>1196621759</td>\n",
       "      <td>2019-08-15</td>\n",
       "      <td>9759</td>\n",
       "      <td>B</td>\n",
       "    </tr>\n",
       "    <tr>\n",
       "      <th>4</th>\n",
       "      <td>2282983706</td>\n",
       "      <td>2322279887</td>\n",
       "      <td>2019-08-15</td>\n",
       "      <td>2308</td>\n",
       "      <td>B</td>\n",
       "    </tr>\n",
       "    <tr>\n",
       "      <th>5</th>\n",
       "      <td>182168103</td>\n",
       "      <td>935554773</td>\n",
       "      <td>2019-08-15</td>\n",
       "      <td>2210</td>\n",
       "      <td>B</td>\n",
       "    </tr>\n",
       "    <tr>\n",
       "      <th>...</th>\n",
       "      <td>...</td>\n",
       "      <td>...</td>\n",
       "      <td>...</td>\n",
       "      <td>...</td>\n",
       "      <td>...</td>\n",
       "    </tr>\n",
       "    <tr>\n",
       "      <th>1191</th>\n",
       "      <td>3592955527</td>\n",
       "      <td>608641596</td>\n",
       "      <td>2019-08-14</td>\n",
       "      <td>16490</td>\n",
       "      <td>B</td>\n",
       "    </tr>\n",
       "    <tr>\n",
       "      <th>1192</th>\n",
       "      <td>2662137336</td>\n",
       "      <td>3733762160</td>\n",
       "      <td>2019-08-14</td>\n",
       "      <td>6490</td>\n",
       "      <td>B</td>\n",
       "    </tr>\n",
       "    <tr>\n",
       "      <th>1193</th>\n",
       "      <td>2203539145</td>\n",
       "      <td>370388673</td>\n",
       "      <td>2019-08-14</td>\n",
       "      <td>3190</td>\n",
       "      <td>A</td>\n",
       "    </tr>\n",
       "    <tr>\n",
       "      <th>1194</th>\n",
       "      <td>1807773912</td>\n",
       "      <td>573423106</td>\n",
       "      <td>2019-08-14</td>\n",
       "      <td>10550</td>\n",
       "      <td>A</td>\n",
       "    </tr>\n",
       "    <tr>\n",
       "      <th>1196</th>\n",
       "      <td>3936777065</td>\n",
       "      <td>2108080724</td>\n",
       "      <td>2019-08-15</td>\n",
       "      <td>202740</td>\n",
       "      <td>B</td>\n",
       "    </tr>\n",
       "  </tbody>\n",
       "</table>\n",
       "<p>1016 rows × 5 columns</p>\n",
       "</div>"
      ],
      "text/plain": [
       "      transaction_id  visitor_id       date  revenue group\n",
       "0         3667963787  3312258926 2019-08-15     1650     B\n",
       "1         2804400009  3642806036 2019-08-15      730     B\n",
       "3         3797467345  1196621759 2019-08-15     9759     B\n",
       "4         2282983706  2322279887 2019-08-15     2308     B\n",
       "5          182168103   935554773 2019-08-15     2210     B\n",
       "...              ...         ...        ...      ...   ...\n",
       "1191      3592955527   608641596 2019-08-14    16490     B\n",
       "1192      2662137336  3733762160 2019-08-14     6490     B\n",
       "1193      2203539145   370388673 2019-08-14     3190     A\n",
       "1194      1807773912   573423106 2019-08-14    10550     A\n",
       "1196      3936777065  2108080724 2019-08-15   202740     B\n",
       "\n",
       "[1016 rows x 5 columns]"
      ]
     },
     "execution_count": 14,
     "metadata": {},
     "output_type": "execute_result"
    }
   ],
   "source": [
    "orders"
   ]
  },
  {
   "cell_type": "markdown",
   "metadata": {},
   "source": [
    "При обработке было удалено 15 процентов данных, однако это необходимая мера для проведения точного A/B теста, так же стоит заметить, что нет возможности удалить данных пользователей из visitors"
   ]
  },
  {
   "cell_type": "code",
   "execution_count": 15,
   "metadata": {},
   "outputs": [
    {
     "data": {
      "text/html": [
       "<div>\n",
       "<style scoped>\n",
       "    .dataframe tbody tr th:only-of-type {\n",
       "        vertical-align: middle;\n",
       "    }\n",
       "\n",
       "    .dataframe tbody tr th {\n",
       "        vertical-align: top;\n",
       "    }\n",
       "\n",
       "    .dataframe thead th {\n",
       "        text-align: right;\n",
       "    }\n",
       "</style>\n",
       "<table border=\"1\" class=\"dataframe\">\n",
       "  <thead>\n",
       "    <tr style=\"text-align: right;\">\n",
       "      <th></th>\n",
       "      <th>date</th>\n",
       "      <th>group</th>\n",
       "      <th>visitors</th>\n",
       "    </tr>\n",
       "  </thead>\n",
       "  <tbody>\n",
       "    <tr>\n",
       "      <th>0</th>\n",
       "      <td>2019-08-01</td>\n",
       "      <td>A</td>\n",
       "      <td>719</td>\n",
       "    </tr>\n",
       "    <tr>\n",
       "      <th>1</th>\n",
       "      <td>2019-08-02</td>\n",
       "      <td>A</td>\n",
       "      <td>619</td>\n",
       "    </tr>\n",
       "    <tr>\n",
       "      <th>2</th>\n",
       "      <td>2019-08-03</td>\n",
       "      <td>A</td>\n",
       "      <td>507</td>\n",
       "    </tr>\n",
       "    <tr>\n",
       "      <th>3</th>\n",
       "      <td>2019-08-04</td>\n",
       "      <td>A</td>\n",
       "      <td>717</td>\n",
       "    </tr>\n",
       "    <tr>\n",
       "      <th>4</th>\n",
       "      <td>2019-08-05</td>\n",
       "      <td>A</td>\n",
       "      <td>756</td>\n",
       "    </tr>\n",
       "    <tr>\n",
       "      <th>...</th>\n",
       "      <td>...</td>\n",
       "      <td>...</td>\n",
       "      <td>...</td>\n",
       "    </tr>\n",
       "    <tr>\n",
       "      <th>57</th>\n",
       "      <td>2019-08-27</td>\n",
       "      <td>B</td>\n",
       "      <td>720</td>\n",
       "    </tr>\n",
       "    <tr>\n",
       "      <th>58</th>\n",
       "      <td>2019-08-28</td>\n",
       "      <td>B</td>\n",
       "      <td>654</td>\n",
       "    </tr>\n",
       "    <tr>\n",
       "      <th>59</th>\n",
       "      <td>2019-08-29</td>\n",
       "      <td>B</td>\n",
       "      <td>531</td>\n",
       "    </tr>\n",
       "    <tr>\n",
       "      <th>60</th>\n",
       "      <td>2019-08-30</td>\n",
       "      <td>B</td>\n",
       "      <td>490</td>\n",
       "    </tr>\n",
       "    <tr>\n",
       "      <th>61</th>\n",
       "      <td>2019-08-31</td>\n",
       "      <td>B</td>\n",
       "      <td>718</td>\n",
       "    </tr>\n",
       "  </tbody>\n",
       "</table>\n",
       "<p>62 rows × 3 columns</p>\n",
       "</div>"
      ],
      "text/plain": [
       "         date group  visitors\n",
       "0  2019-08-01     A       719\n",
       "1  2019-08-02     A       619\n",
       "2  2019-08-03     A       507\n",
       "3  2019-08-04     A       717\n",
       "4  2019-08-05     A       756\n",
       "..        ...   ...       ...\n",
       "57 2019-08-27     B       720\n",
       "58 2019-08-28     B       654\n",
       "59 2019-08-29     B       531\n",
       "60 2019-08-30     B       490\n",
       "61 2019-08-31     B       718\n",
       "\n",
       "[62 rows x 3 columns]"
      ]
     },
     "execution_count": 15,
     "metadata": {},
     "output_type": "execute_result"
    }
   ],
   "source": [
    "visitors"
   ]
  },
  {
   "cell_type": "code",
   "execution_count": 16,
   "metadata": {},
   "outputs": [
    {
     "data": {
      "text/html": [
       "<div>\n",
       "<style scoped>\n",
       "    .dataframe tbody tr th:only-of-type {\n",
       "        vertical-align: middle;\n",
       "    }\n",
       "\n",
       "    .dataframe tbody tr th {\n",
       "        vertical-align: top;\n",
       "    }\n",
       "\n",
       "    .dataframe thead th {\n",
       "        text-align: right;\n",
       "    }\n",
       "</style>\n",
       "<table border=\"1\" class=\"dataframe\">\n",
       "  <thead>\n",
       "    <tr style=\"text-align: right;\">\n",
       "      <th></th>\n",
       "      <th>group</th>\n",
       "      <th>visitors</th>\n",
       "    </tr>\n",
       "  </thead>\n",
       "  <tbody>\n",
       "    <tr>\n",
       "      <th>0</th>\n",
       "      <td>A</td>\n",
       "      <td>18736</td>\n",
       "    </tr>\n",
       "    <tr>\n",
       "      <th>1</th>\n",
       "      <td>B</td>\n",
       "      <td>18916</td>\n",
       "    </tr>\n",
       "  </tbody>\n",
       "</table>\n",
       "</div>"
      ],
      "text/plain": [
       "  group  visitors\n",
       "0     A     18736\n",
       "1     B     18916"
      ]
     },
     "execution_count": 16,
     "metadata": {},
     "output_type": "execute_result"
    }
   ],
   "source": [
    "visitors.groupby('group', as_index = False).agg({'visitors': 'sum'})"
   ]
  },
  {
   "cell_type": "markdown",
   "metadata": {},
   "source": [
    "Количество пользователей за период исследования примерно равно( разница менее 1 процента), \n",
    "не идеально, но удовлетворяет условиям А/В теста"
   ]
  },
  {
   "cell_type": "markdown",
   "metadata": {},
   "source": [
    "<a id=\"p3.6\"></a>\n",
    "### 3.6 Вывод\n",
    "\n",
    "На данном этапе данные были приведены к необходимому типу для дальнейшего анализа, проверены на наличие дубликатов и пропусков, а так же из visitors исключины пользователи относившиеся к двум группам тестирования"
   ]
  },
  {
   "cell_type": "markdown",
   "metadata": {},
   "source": [
    " "
   ]
  },
  {
   "cell_type": "markdown",
   "metadata": {},
   "source": [
    "<a id=\"p4\"></a>\n",
    "## 4 Исследовательский анализ данных"
   ]
  },
  {
   "cell_type": "markdown",
   "metadata": {},
   "source": [
    "<a id=\"p4.1\"></a>\n",
    "### 4.1 ICE и RICE"
   ]
  },
  {
   "cell_type": "markdown",
   "metadata": {},
   "source": [
    "Изучим гипотезы подробнее"
   ]
  },
  {
   "cell_type": "code",
   "execution_count": 17,
   "metadata": {},
   "outputs": [
    {
     "data": {
      "text/html": [
       "<div>\n",
       "<style scoped>\n",
       "    .dataframe tbody tr th:only-of-type {\n",
       "        vertical-align: middle;\n",
       "    }\n",
       "\n",
       "    .dataframe tbody tr th {\n",
       "        vertical-align: top;\n",
       "    }\n",
       "\n",
       "    .dataframe thead th {\n",
       "        text-align: right;\n",
       "    }\n",
       "</style>\n",
       "<table border=\"1\" class=\"dataframe\">\n",
       "  <thead>\n",
       "    <tr style=\"text-align: right;\">\n",
       "      <th></th>\n",
       "      <th>Hypothesis</th>\n",
       "      <th>Reach</th>\n",
       "      <th>Impact</th>\n",
       "      <th>Confidence</th>\n",
       "      <th>Efforts</th>\n",
       "    </tr>\n",
       "  </thead>\n",
       "  <tbody>\n",
       "    <tr>\n",
       "      <th>0</th>\n",
       "      <td>Добавить два новых канала привлечения трафика, что позволит привлекать на 30% больше пользователей</td>\n",
       "      <td>3</td>\n",
       "      <td>10</td>\n",
       "      <td>8</td>\n",
       "      <td>6</td>\n",
       "    </tr>\n",
       "    <tr>\n",
       "      <th>1</th>\n",
       "      <td>Запустить собственную службу доставки, что сократит срок доставки заказов</td>\n",
       "      <td>2</td>\n",
       "      <td>5</td>\n",
       "      <td>4</td>\n",
       "      <td>10</td>\n",
       "    </tr>\n",
       "    <tr>\n",
       "      <th>2</th>\n",
       "      <td>Добавить блоки рекомендаций товаров на сайт интернет магазина, чтобы повысить конверсию и средний чек заказа</td>\n",
       "      <td>8</td>\n",
       "      <td>3</td>\n",
       "      <td>7</td>\n",
       "      <td>3</td>\n",
       "    </tr>\n",
       "    <tr>\n",
       "      <th>3</th>\n",
       "      <td>Изменить структура категорий, что увеличит конверсию, т.к. пользователи быстрее найдут нужный товар</td>\n",
       "      <td>8</td>\n",
       "      <td>3</td>\n",
       "      <td>3</td>\n",
       "      <td>8</td>\n",
       "    </tr>\n",
       "    <tr>\n",
       "      <th>4</th>\n",
       "      <td>Изменить цвет фона главной страницы, чтобы увеличить вовлеченность пользователей</td>\n",
       "      <td>3</td>\n",
       "      <td>1</td>\n",
       "      <td>1</td>\n",
       "      <td>1</td>\n",
       "    </tr>\n",
       "    <tr>\n",
       "      <th>5</th>\n",
       "      <td>Добавить страницу отзывов клиентов о магазине, что позволит увеличить количество заказов</td>\n",
       "      <td>3</td>\n",
       "      <td>2</td>\n",
       "      <td>2</td>\n",
       "      <td>3</td>\n",
       "    </tr>\n",
       "    <tr>\n",
       "      <th>6</th>\n",
       "      <td>Показать на главной странице баннеры с актуальными акциями и распродажами, чтобы увеличить конверсию</td>\n",
       "      <td>5</td>\n",
       "      <td>3</td>\n",
       "      <td>8</td>\n",
       "      <td>3</td>\n",
       "    </tr>\n",
       "    <tr>\n",
       "      <th>7</th>\n",
       "      <td>Добавить форму подписки на все основные страницы, чтобы собрать базу клиентов для email-рассылок</td>\n",
       "      <td>10</td>\n",
       "      <td>7</td>\n",
       "      <td>8</td>\n",
       "      <td>5</td>\n",
       "    </tr>\n",
       "    <tr>\n",
       "      <th>8</th>\n",
       "      <td>Запустить акцию, дающую скидку на товар в день рождения</td>\n",
       "      <td>1</td>\n",
       "      <td>9</td>\n",
       "      <td>9</td>\n",
       "      <td>5</td>\n",
       "    </tr>\n",
       "  </tbody>\n",
       "</table>\n",
       "</div>"
      ],
      "text/plain": [
       "                                                                                                     Hypothesis  \\\n",
       "0            Добавить два новых канала привлечения трафика, что позволит привлекать на 30% больше пользователей   \n",
       "1                                     Запустить собственную службу доставки, что сократит срок доставки заказов   \n",
       "2  Добавить блоки рекомендаций товаров на сайт интернет магазина, чтобы повысить конверсию и средний чек заказа   \n",
       "3           Изменить структура категорий, что увеличит конверсию, т.к. пользователи быстрее найдут нужный товар   \n",
       "4                              Изменить цвет фона главной страницы, чтобы увеличить вовлеченность пользователей   \n",
       "5                      Добавить страницу отзывов клиентов о магазине, что позволит увеличить количество заказов   \n",
       "6          Показать на главной странице баннеры с актуальными акциями и распродажами, чтобы увеличить конверсию   \n",
       "7              Добавить форму подписки на все основные страницы, чтобы собрать базу клиентов для email-рассылок   \n",
       "8                                                       Запустить акцию, дающую скидку на товар в день рождения   \n",
       "\n",
       "   Reach  Impact  Confidence  Efforts  \n",
       "0      3      10           8        6  \n",
       "1      2       5           4       10  \n",
       "2      8       3           7        3  \n",
       "3      8       3           3        8  \n",
       "4      3       1           1        1  \n",
       "5      3       2           2        3  \n",
       "6      5       3           8        3  \n",
       "7     10       7           8        5  \n",
       "8      1       9           9        5  "
      ]
     },
     "execution_count": 17,
     "metadata": {},
     "output_type": "execute_result"
    }
   ],
   "source": [
    "pd.options.display.max_colwidth = 150\n",
    "hypothesis"
   ]
  },
  {
   "cell_type": "markdown",
   "metadata": {},
   "source": [
    "Рассчитаем ICE для гипотиз и построим график"
   ]
  },
  {
   "cell_type": "code",
   "execution_count": 18,
   "metadata": {},
   "outputs": [
    {
     "data": {
      "text/html": [
       "<div>\n",
       "<style scoped>\n",
       "    .dataframe tbody tr th:only-of-type {\n",
       "        vertical-align: middle;\n",
       "    }\n",
       "\n",
       "    .dataframe tbody tr th {\n",
       "        vertical-align: top;\n",
       "    }\n",
       "\n",
       "    .dataframe thead th {\n",
       "        text-align: right;\n",
       "    }\n",
       "</style>\n",
       "<table border=\"1\" class=\"dataframe\">\n",
       "  <thead>\n",
       "    <tr style=\"text-align: right;\">\n",
       "      <th></th>\n",
       "      <th>Hypothesis</th>\n",
       "      <th>Ice</th>\n",
       "    </tr>\n",
       "  </thead>\n",
       "  <tbody>\n",
       "    <tr>\n",
       "      <th>8</th>\n",
       "      <td>Запустить акцию, дающую скидку на товар в день рождения</td>\n",
       "      <td>16.0</td>\n",
       "    </tr>\n",
       "    <tr>\n",
       "      <th>0</th>\n",
       "      <td>Добавить два новых канала привлечения трафика, что позволит привлекать на 30% больше пользователей</td>\n",
       "      <td>13.0</td>\n",
       "    </tr>\n",
       "    <tr>\n",
       "      <th>7</th>\n",
       "      <td>Добавить форму подписки на все основные страницы, чтобы собрать базу клиентов для email-рассылок</td>\n",
       "      <td>11.0</td>\n",
       "    </tr>\n",
       "    <tr>\n",
       "      <th>6</th>\n",
       "      <td>Показать на главной странице баннеры с актуальными акциями и распродажами, чтобы увеличить конверсию</td>\n",
       "      <td>8.0</td>\n",
       "    </tr>\n",
       "    <tr>\n",
       "      <th>2</th>\n",
       "      <td>Добавить блоки рекомендаций товаров на сайт интернет магазина, чтобы повысить конверсию и средний чек заказа</td>\n",
       "      <td>7.0</td>\n",
       "    </tr>\n",
       "    <tr>\n",
       "      <th>1</th>\n",
       "      <td>Запустить собственную службу доставки, что сократит срок доставки заказов</td>\n",
       "      <td>2.0</td>\n",
       "    </tr>\n",
       "    <tr>\n",
       "      <th>3</th>\n",
       "      <td>Изменить структура категорий, что увеличит конверсию, т.к. пользователи быстрее найдут нужный товар</td>\n",
       "      <td>1.0</td>\n",
       "    </tr>\n",
       "    <tr>\n",
       "      <th>4</th>\n",
       "      <td>Изменить цвет фона главной страницы, чтобы увеличить вовлеченность пользователей</td>\n",
       "      <td>1.0</td>\n",
       "    </tr>\n",
       "    <tr>\n",
       "      <th>5</th>\n",
       "      <td>Добавить страницу отзывов клиентов о магазине, что позволит увеличить количество заказов</td>\n",
       "      <td>1.0</td>\n",
       "    </tr>\n",
       "  </tbody>\n",
       "</table>\n",
       "</div>"
      ],
      "text/plain": [
       "                                                                                                     Hypothesis  \\\n",
       "8                                                       Запустить акцию, дающую скидку на товар в день рождения   \n",
       "0            Добавить два новых канала привлечения трафика, что позволит привлекать на 30% больше пользователей   \n",
       "7              Добавить форму подписки на все основные страницы, чтобы собрать базу клиентов для email-рассылок   \n",
       "6          Показать на главной странице баннеры с актуальными акциями и распродажами, чтобы увеличить конверсию   \n",
       "2  Добавить блоки рекомендаций товаров на сайт интернет магазина, чтобы повысить конверсию и средний чек заказа   \n",
       "1                                     Запустить собственную службу доставки, что сократит срок доставки заказов   \n",
       "3           Изменить структура категорий, что увеличит конверсию, т.к. пользователи быстрее найдут нужный товар   \n",
       "4                              Изменить цвет фона главной страницы, чтобы увеличить вовлеченность пользователей   \n",
       "5                      Добавить страницу отзывов клиентов о магазине, что позволит увеличить количество заказов   \n",
       "\n",
       "    Ice  \n",
       "8  16.0  \n",
       "0  13.0  \n",
       "7  11.0  \n",
       "6   8.0  \n",
       "2   7.0  \n",
       "1   2.0  \n",
       "3   1.0  \n",
       "4   1.0  \n",
       "5   1.0  "
      ]
     },
     "execution_count": 18,
     "metadata": {},
     "output_type": "execute_result"
    }
   ],
   "source": [
    "hypothesis['Ice'] = round(hypothesis['Impact'] * hypothesis['Confidence'] / hypothesis['Efforts'])\n",
    "\n",
    "hypothesis[['Hypothesis', 'Ice']].sort_values('Ice', ascending = False)"
   ]
  },
  {
   "cell_type": "code",
   "execution_count": 19,
   "metadata": {},
   "outputs": [
    {
     "data": {
      "image/png": "[encoded data removed]",
      "text/plain": [
       "<Figure size 432x288 with 1 Axes>"
      ]
     },
     "metadata": {
      "needs_background": "light"
     },
     "output_type": "display_data"
    }
   ],
   "source": [
    "plt.scatter(hypothesis.index, hypothesis['Ice'])\n",
    "plt.title('ICE каждой гипотизы');"
   ]
  },
  {
   "cell_type": "markdown",
   "metadata": {},
   "source": [
    "Лучшая гипотезой по параметру ICE - гипотеза с индексом 8(Запустить акцию, дающую скидку на товар в день рождения)"
   ]
  },
  {
   "cell_type": "markdown",
   "metadata": {},
   "source": [
    "Рассчитаем RICE для гипотез и построим график"
   ]
  },
  {
   "cell_type": "code",
   "execution_count": 20,
   "metadata": {},
   "outputs": [
    {
     "data": {
      "text/html": [
       "<div>\n",
       "<style scoped>\n",
       "    .dataframe tbody tr th:only-of-type {\n",
       "        vertical-align: middle;\n",
       "    }\n",
       "\n",
       "    .dataframe tbody tr th {\n",
       "        vertical-align: top;\n",
       "    }\n",
       "\n",
       "    .dataframe thead th {\n",
       "        text-align: right;\n",
       "    }\n",
       "</style>\n",
       "<table border=\"1\" class=\"dataframe\">\n",
       "  <thead>\n",
       "    <tr style=\"text-align: right;\">\n",
       "      <th></th>\n",
       "      <th>Hypothesis</th>\n",
       "      <th>Rice</th>\n",
       "    </tr>\n",
       "  </thead>\n",
       "  <tbody>\n",
       "    <tr>\n",
       "      <th>7</th>\n",
       "      <td>Добавить форму подписки на все основные страницы, чтобы собрать базу клиентов для email-рассылок</td>\n",
       "      <td>112.0</td>\n",
       "    </tr>\n",
       "    <tr>\n",
       "      <th>2</th>\n",
       "      <td>Добавить блоки рекомендаций товаров на сайт интернет магазина, чтобы повысить конверсию и средний чек заказа</td>\n",
       "      <td>56.0</td>\n",
       "    </tr>\n",
       "    <tr>\n",
       "      <th>0</th>\n",
       "      <td>Добавить два новых канала привлечения трафика, что позволит привлекать на 30% больше пользователей</td>\n",
       "      <td>40.0</td>\n",
       "    </tr>\n",
       "    <tr>\n",
       "      <th>6</th>\n",
       "      <td>Показать на главной странице баннеры с актуальными акциями и распродажами, чтобы увеличить конверсию</td>\n",
       "      <td>40.0</td>\n",
       "    </tr>\n",
       "    <tr>\n",
       "      <th>8</th>\n",
       "      <td>Запустить акцию, дающую скидку на товар в день рождения</td>\n",
       "      <td>16.0</td>\n",
       "    </tr>\n",
       "    <tr>\n",
       "      <th>3</th>\n",
       "      <td>Изменить структура категорий, что увеличит конверсию, т.к. пользователи быстрее найдут нужный товар</td>\n",
       "      <td>9.0</td>\n",
       "    </tr>\n",
       "    <tr>\n",
       "      <th>1</th>\n",
       "      <td>Запустить собственную службу доставки, что сократит срок доставки заказов</td>\n",
       "      <td>4.0</td>\n",
       "    </tr>\n",
       "    <tr>\n",
       "      <th>5</th>\n",
       "      <td>Добавить страницу отзывов клиентов о магазине, что позволит увеличить количество заказов</td>\n",
       "      <td>4.0</td>\n",
       "    </tr>\n",
       "    <tr>\n",
       "      <th>4</th>\n",
       "      <td>Изменить цвет фона главной страницы, чтобы увеличить вовлеченность пользователей</td>\n",
       "      <td>3.0</td>\n",
       "    </tr>\n",
       "  </tbody>\n",
       "</table>\n",
       "</div>"
      ],
      "text/plain": [
       "                                                                                                     Hypothesis  \\\n",
       "7              Добавить форму подписки на все основные страницы, чтобы собрать базу клиентов для email-рассылок   \n",
       "2  Добавить блоки рекомендаций товаров на сайт интернет магазина, чтобы повысить конверсию и средний чек заказа   \n",
       "0            Добавить два новых канала привлечения трафика, что позволит привлекать на 30% больше пользователей   \n",
       "6          Показать на главной странице баннеры с актуальными акциями и распродажами, чтобы увеличить конверсию   \n",
       "8                                                       Запустить акцию, дающую скидку на товар в день рождения   \n",
       "3           Изменить структура категорий, что увеличит конверсию, т.к. пользователи быстрее найдут нужный товар   \n",
       "1                                     Запустить собственную службу доставки, что сократит срок доставки заказов   \n",
       "5                      Добавить страницу отзывов клиентов о магазине, что позволит увеличить количество заказов   \n",
       "4                              Изменить цвет фона главной страницы, чтобы увеличить вовлеченность пользователей   \n",
       "\n",
       "    Rice  \n",
       "7  112.0  \n",
       "2   56.0  \n",
       "0   40.0  \n",
       "6   40.0  \n",
       "8   16.0  \n",
       "3    9.0  \n",
       "1    4.0  \n",
       "5    4.0  \n",
       "4    3.0  "
      ]
     },
     "execution_count": 20,
     "metadata": {},
     "output_type": "execute_result"
    }
   ],
   "source": [
    "hypothesis['Rice'] = round(hypothesis['Reach'] * hypothesis['Impact'] * hypothesis['Confidence'] / hypothesis['Efforts'])\n",
    "hypothesis[['Hypothesis', 'Rice']].sort_values('Rice', ascending = False)"
   ]
  },
  {
   "cell_type": "code",
   "execution_count": 21,
   "metadata": {},
   "outputs": [
    {
     "data": {
      "image/png": "[encoded data removed]",
      "text/plain": [
       "<Figure size 432x288 with 1 Axes>"
      ]
     },
     "metadata": {
      "needs_background": "light"
     },
     "output_type": "display_data"
    }
   ],
   "source": [
    "plt.scatter(hypothesis.index, hypothesis['Rice'])\n",
    "plt.title('RICE каждой гипотезы');"
   ]
  },
  {
   "cell_type": "markdown",
   "metadata": {},
   "source": [
    "Лучшая гипотезой по параметру RICE - гипотеза с индексом 7(Добавить форму подписки на все основные страницы, чтобы собрать базу клиентов для email-рассылок)"
   ]
  },
  {
   "cell_type": "markdown",
   "metadata": {},
   "source": [
    "<a id=\"p\"></a>\n",
    "#### 4.1.1 Вывод\n",
    "При приоритизации гипотез основным показателем был выбран RICE, так как он учитывает охват пользователей. Это видно на примере гипотезы о запуске акции, дающей скидку на товар в день рождения, что показывало лучший результат по показателю ICE, но спустилось на 5 место по RICE. У этой гипотезы был минимальный охват, возможно не все пользователи указывали свои дни рождения. Другая гипотеза о добавлении формы подписки на все основные страницы чтобы собрать базу клиентов для email-рассылок, имеет максимальный охват, а значит затронет всех пользователей, что в совокупности с другими высокими показателями должно дать лучший результат.\n",
    "\n",
    "Приоритетной гипотезой выбрана гипотеза с индексом 7(Добавить форму подписки на все основные страницы, чтобы собрать базу клиентов для email-рассылок)"
   ]
  },
  {
   "cell_type": "markdown",
   "metadata": {},
   "source": [
    " "
   ]
  },
  {
   "cell_type": "markdown",
   "metadata": {},
   "source": [
    "<a id=\"p4.2\"></a>\n",
    "### 4.2  A/B тест"
   ]
  },
  {
   "cell_type": "markdown",
   "metadata": {},
   "source": [
    "<a id=\"p4.2.1\"></a>\n",
    "#### 4.2.1  Графики комулятивных показателей"
   ]
  },
  {
   "cell_type": "markdown",
   "metadata": {},
   "source": [
    "Создадим массив уникальных пар значений дат и групп теста"
   ]
  },
  {
   "cell_type": "code",
   "execution_count": 22,
   "metadata": {},
   "outputs": [
    {
     "data": {
      "text/html": [
       "<div>\n",
       "<style scoped>\n",
       "    .dataframe tbody tr th:only-of-type {\n",
       "        vertical-align: middle;\n",
       "    }\n",
       "\n",
       "    .dataframe tbody tr th {\n",
       "        vertical-align: top;\n",
       "    }\n",
       "\n",
       "    .dataframe thead th {\n",
       "        text-align: right;\n",
       "    }\n",
       "</style>\n",
       "<table border=\"1\" class=\"dataframe\">\n",
       "  <thead>\n",
       "    <tr style=\"text-align: right;\">\n",
       "      <th></th>\n",
       "      <th>transaction_id</th>\n",
       "      <th>visitor_id</th>\n",
       "      <th>date</th>\n",
       "      <th>revenue</th>\n",
       "      <th>group</th>\n",
       "    </tr>\n",
       "  </thead>\n",
       "  <tbody>\n",
       "    <tr>\n",
       "      <th>0</th>\n",
       "      <td>3667963787</td>\n",
       "      <td>3312258926</td>\n",
       "      <td>2019-08-15</td>\n",
       "      <td>1650</td>\n",
       "      <td>B</td>\n",
       "    </tr>\n",
       "    <tr>\n",
       "      <th>1</th>\n",
       "      <td>2804400009</td>\n",
       "      <td>3642806036</td>\n",
       "      <td>2019-08-15</td>\n",
       "      <td>730</td>\n",
       "      <td>B</td>\n",
       "    </tr>\n",
       "    <tr>\n",
       "      <th>3</th>\n",
       "      <td>3797467345</td>\n",
       "      <td>1196621759</td>\n",
       "      <td>2019-08-15</td>\n",
       "      <td>9759</td>\n",
       "      <td>B</td>\n",
       "    </tr>\n",
       "    <tr>\n",
       "      <th>4</th>\n",
       "      <td>2282983706</td>\n",
       "      <td>2322279887</td>\n",
       "      <td>2019-08-15</td>\n",
       "      <td>2308</td>\n",
       "      <td>B</td>\n",
       "    </tr>\n",
       "    <tr>\n",
       "      <th>5</th>\n",
       "      <td>182168103</td>\n",
       "      <td>935554773</td>\n",
       "      <td>2019-08-15</td>\n",
       "      <td>2210</td>\n",
       "      <td>B</td>\n",
       "    </tr>\n",
       "    <tr>\n",
       "      <th>...</th>\n",
       "      <td>...</td>\n",
       "      <td>...</td>\n",
       "      <td>...</td>\n",
       "      <td>...</td>\n",
       "      <td>...</td>\n",
       "    </tr>\n",
       "    <tr>\n",
       "      <th>1191</th>\n",
       "      <td>3592955527</td>\n",
       "      <td>608641596</td>\n",
       "      <td>2019-08-14</td>\n",
       "      <td>16490</td>\n",
       "      <td>B</td>\n",
       "    </tr>\n",
       "    <tr>\n",
       "      <th>1192</th>\n",
       "      <td>2662137336</td>\n",
       "      <td>3733762160</td>\n",
       "      <td>2019-08-14</td>\n",
       "      <td>6490</td>\n",
       "      <td>B</td>\n",
       "    </tr>\n",
       "    <tr>\n",
       "      <th>1193</th>\n",
       "      <td>2203539145</td>\n",
       "      <td>370388673</td>\n",
       "      <td>2019-08-14</td>\n",
       "      <td>3190</td>\n",
       "      <td>A</td>\n",
       "    </tr>\n",
       "    <tr>\n",
       "      <th>1194</th>\n",
       "      <td>1807773912</td>\n",
       "      <td>573423106</td>\n",
       "      <td>2019-08-14</td>\n",
       "      <td>10550</td>\n",
       "      <td>A</td>\n",
       "    </tr>\n",
       "    <tr>\n",
       "      <th>1196</th>\n",
       "      <td>3936777065</td>\n",
       "      <td>2108080724</td>\n",
       "      <td>2019-08-15</td>\n",
       "      <td>202740</td>\n",
       "      <td>B</td>\n",
       "    </tr>\n",
       "  </tbody>\n",
       "</table>\n",
       "<p>1016 rows × 5 columns</p>\n",
       "</div>"
      ],
      "text/plain": [
       "      transaction_id  visitor_id       date  revenue group\n",
       "0         3667963787  3312258926 2019-08-15     1650     B\n",
       "1         2804400009  3642806036 2019-08-15      730     B\n",
       "3         3797467345  1196621759 2019-08-15     9759     B\n",
       "4         2282983706  2322279887 2019-08-15     2308     B\n",
       "5          182168103   935554773 2019-08-15     2210     B\n",
       "...              ...         ...        ...      ...   ...\n",
       "1191      3592955527   608641596 2019-08-14    16490     B\n",
       "1192      2662137336  3733762160 2019-08-14     6490     B\n",
       "1193      2203539145   370388673 2019-08-14     3190     A\n",
       "1194      1807773912   573423106 2019-08-14    10550     A\n",
       "1196      3936777065  2108080724 2019-08-15   202740     B\n",
       "\n",
       "[1016 rows x 5 columns]"
      ]
     },
     "execution_count": 22,
     "metadata": {},
     "output_type": "execute_result"
    }
   ],
   "source": [
    "orders"
   ]
  },
  {
   "cell_type": "code",
   "execution_count": 23,
   "metadata": {},
   "outputs": [
    {
     "data": {
      "text/html": [
       "<div>\n",
       "<style scoped>\n",
       "    .dataframe tbody tr th:only-of-type {\n",
       "        vertical-align: middle;\n",
       "    }\n",
       "\n",
       "    .dataframe tbody tr th {\n",
       "        vertical-align: top;\n",
       "    }\n",
       "\n",
       "    .dataframe thead th {\n",
       "        text-align: right;\n",
       "    }\n",
       "</style>\n",
       "<table border=\"1\" class=\"dataframe\">\n",
       "  <thead>\n",
       "    <tr style=\"text-align: right;\">\n",
       "      <th></th>\n",
       "      <th>date</th>\n",
       "      <th>group</th>\n",
       "    </tr>\n",
       "  </thead>\n",
       "  <tbody>\n",
       "    <tr>\n",
       "      <th>0</th>\n",
       "      <td>2019-08-15</td>\n",
       "      <td>B</td>\n",
       "    </tr>\n",
       "    <tr>\n",
       "      <th>7</th>\n",
       "      <td>2019-08-15</td>\n",
       "      <td>A</td>\n",
       "    </tr>\n",
       "    <tr>\n",
       "      <th>45</th>\n",
       "      <td>2019-08-16</td>\n",
       "      <td>A</td>\n",
       "    </tr>\n",
       "    <tr>\n",
       "      <th>47</th>\n",
       "      <td>2019-08-16</td>\n",
       "      <td>B</td>\n",
       "    </tr>\n",
       "    <tr>\n",
       "      <th>55</th>\n",
       "      <td>2019-08-01</td>\n",
       "      <td>A</td>\n",
       "    </tr>\n",
       "    <tr>\n",
       "      <th>...</th>\n",
       "      <td>...</td>\n",
       "      <td>...</td>\n",
       "    </tr>\n",
       "    <tr>\n",
       "      <th>1068</th>\n",
       "      <td>2019-08-12</td>\n",
       "      <td>A</td>\n",
       "    </tr>\n",
       "    <tr>\n",
       "      <th>1114</th>\n",
       "      <td>2019-08-13</td>\n",
       "      <td>B</td>\n",
       "    </tr>\n",
       "    <tr>\n",
       "      <th>1116</th>\n",
       "      <td>2019-08-13</td>\n",
       "      <td>A</td>\n",
       "    </tr>\n",
       "    <tr>\n",
       "      <th>1149</th>\n",
       "      <td>2019-08-14</td>\n",
       "      <td>B</td>\n",
       "    </tr>\n",
       "    <tr>\n",
       "      <th>1150</th>\n",
       "      <td>2019-08-14</td>\n",
       "      <td>A</td>\n",
       "    </tr>\n",
       "  </tbody>\n",
       "</table>\n",
       "<p>62 rows × 2 columns</p>\n",
       "</div>"
      ],
      "text/plain": [
       "           date group\n",
       "0    2019-08-15     B\n",
       "7    2019-08-15     A\n",
       "45   2019-08-16     A\n",
       "47   2019-08-16     B\n",
       "55   2019-08-01     A\n",
       "...         ...   ...\n",
       "1068 2019-08-12     A\n",
       "1114 2019-08-13     B\n",
       "1116 2019-08-13     A\n",
       "1149 2019-08-14     B\n",
       "1150 2019-08-14     A\n",
       "\n",
       "[62 rows x 2 columns]"
      ]
     },
     "execution_count": 23,
     "metadata": {},
     "output_type": "execute_result"
    }
   ],
   "source": [
    "datesGroups = orders[['date', 'group']].drop_duplicates()\n",
    "datesGroups"
   ]
  },
  {
   "cell_type": "markdown",
   "metadata": {},
   "source": [
    "Соберём агрегированные кумулятивные по дням, для visitors и orders"
   ]
  },
  {
   "cell_type": "code",
   "execution_count": 24,
   "metadata": {},
   "outputs": [
    {
     "data": {
      "text/html": [
       "<div>\n",
       "<style scoped>\n",
       "    .dataframe tbody tr th:only-of-type {\n",
       "        vertical-align: middle;\n",
       "    }\n",
       "\n",
       "    .dataframe tbody tr th {\n",
       "        vertical-align: top;\n",
       "    }\n",
       "\n",
       "    .dataframe thead th {\n",
       "        text-align: right;\n",
       "    }\n",
       "</style>\n",
       "<table border=\"1\" class=\"dataframe\">\n",
       "  <thead>\n",
       "    <tr style=\"text-align: right;\">\n",
       "      <th></th>\n",
       "      <th>date</th>\n",
       "      <th>group</th>\n",
       "      <th>transaction_id</th>\n",
       "      <th>visitor_id</th>\n",
       "      <th>revenue</th>\n",
       "    </tr>\n",
       "  </thead>\n",
       "  <tbody>\n",
       "    <tr>\n",
       "      <th>55</th>\n",
       "      <td>2019-08-01</td>\n",
       "      <td>A</td>\n",
       "      <td>23</td>\n",
       "      <td>19</td>\n",
       "      <td>142779</td>\n",
       "    </tr>\n",
       "    <tr>\n",
       "      <th>66</th>\n",
       "      <td>2019-08-01</td>\n",
       "      <td>B</td>\n",
       "      <td>17</td>\n",
       "      <td>17</td>\n",
       "      <td>59758</td>\n",
       "    </tr>\n",
       "    <tr>\n",
       "      <th>175</th>\n",
       "      <td>2019-08-02</td>\n",
       "      <td>A</td>\n",
       "      <td>42</td>\n",
       "      <td>36</td>\n",
       "      <td>234381</td>\n",
       "    </tr>\n",
       "    <tr>\n",
       "      <th>173</th>\n",
       "      <td>2019-08-02</td>\n",
       "      <td>B</td>\n",
       "      <td>40</td>\n",
       "      <td>39</td>\n",
       "      <td>221801</td>\n",
       "    </tr>\n",
       "    <tr>\n",
       "      <th>291</th>\n",
       "      <td>2019-08-03</td>\n",
       "      <td>A</td>\n",
       "      <td>66</td>\n",
       "      <td>60</td>\n",
       "      <td>346854</td>\n",
       "    </tr>\n",
       "    <tr>\n",
       "      <th>...</th>\n",
       "      <td>...</td>\n",
       "      <td>...</td>\n",
       "      <td>...</td>\n",
       "      <td>...</td>\n",
       "      <td>...</td>\n",
       "    </tr>\n",
       "    <tr>\n",
       "      <th>533</th>\n",
       "      <td>2019-08-29</td>\n",
       "      <td>B</td>\n",
       "      <td>510</td>\n",
       "      <td>490</td>\n",
       "      <td>4746610</td>\n",
       "    </tr>\n",
       "    <tr>\n",
       "      <th>757</th>\n",
       "      <td>2019-08-30</td>\n",
       "      <td>A</td>\n",
       "      <td>460</td>\n",
       "      <td>437</td>\n",
       "      <td>3311413</td>\n",
       "    </tr>\n",
       "    <tr>\n",
       "      <th>690</th>\n",
       "      <td>2019-08-30</td>\n",
       "      <td>B</td>\n",
       "      <td>531</td>\n",
       "      <td>511</td>\n",
       "      <td>4955833</td>\n",
       "    </tr>\n",
       "    <tr>\n",
       "      <th>958</th>\n",
       "      <td>2019-08-31</td>\n",
       "      <td>A</td>\n",
       "      <td>468</td>\n",
       "      <td>445</td>\n",
       "      <td>3364656</td>\n",
       "    </tr>\n",
       "    <tr>\n",
       "      <th>930</th>\n",
       "      <td>2019-08-31</td>\n",
       "      <td>B</td>\n",
       "      <td>548</td>\n",
       "      <td>528</td>\n",
       "      <td>5068972</td>\n",
       "    </tr>\n",
       "  </tbody>\n",
       "</table>\n",
       "<p>62 rows × 5 columns</p>\n",
       "</div>"
      ],
      "text/plain": [
       "          date group  transaction_id  visitor_id  revenue\n",
       "55  2019-08-01     A              23          19   142779\n",
       "66  2019-08-01     B              17          17    59758\n",
       "175 2019-08-02     A              42          36   234381\n",
       "173 2019-08-02     B              40          39   221801\n",
       "291 2019-08-03     A              66          60   346854\n",
       "..         ...   ...             ...         ...      ...\n",
       "533 2019-08-29     B             510         490  4746610\n",
       "757 2019-08-30     A             460         437  3311413\n",
       "690 2019-08-30     B             531         511  4955833\n",
       "958 2019-08-31     A             468         445  3364656\n",
       "930 2019-08-31     B             548         528  5068972\n",
       "\n",
       "[62 rows x 5 columns]"
      ]
     },
     "execution_count": 24,
     "metadata": {},
     "output_type": "execute_result"
    }
   ],
   "source": [
    "orders_new = datesGroups.apply(\n",
    "    lambda x : orders[\n",
    "    np.logical_and(orders['date'] <= x['date'], orders['group'] == x['group']\n",
    "    )].agg(\n",
    "    {'date': 'max',\n",
    "     'group': 'max',\n",
    "      'transaction_id': 'nunique',\n",
    "     'visitor_id': 'nunique',\n",
    "     'revenue' : 'sum'\n",
    "    }\n",
    "    ), axis =1).sort_values(['date', 'group'])\n",
    "orders_new"
   ]
  },
  {
   "cell_type": "code",
   "execution_count": 25,
   "metadata": {},
   "outputs": [
    {
     "name": "stdout",
     "output_type": "stream",
     "text": [
      "<class 'pandas.core.frame.DataFrame'>\n",
      "RangeIndex: 62 entries, 0 to 61\n",
      "Data columns (total 3 columns):\n",
      " #   Column    Non-Null Count  Dtype         \n",
      "---  ------    --------------  -----         \n",
      " 0   date      62 non-null     datetime64[ns]\n",
      " 1   group     62 non-null     object        \n",
      " 2   visitors  62 non-null     int64         \n",
      "dtypes: datetime64[ns](1), int64(1), object(1)\n",
      "memory usage: 1.6+ KB\n"
     ]
    }
   ],
   "source": [
    "visitors.info()"
   ]
  },
  {
   "cell_type": "code",
   "execution_count": 26,
   "metadata": {},
   "outputs": [
    {
     "data": {
      "text/html": [
       "<div>\n",
       "<style scoped>\n",
       "    .dataframe tbody tr th:only-of-type {\n",
       "        vertical-align: middle;\n",
       "    }\n",
       "\n",
       "    .dataframe tbody tr th {\n",
       "        vertical-align: top;\n",
       "    }\n",
       "\n",
       "    .dataframe thead th {\n",
       "        text-align: right;\n",
       "    }\n",
       "</style>\n",
       "<table border=\"1\" class=\"dataframe\">\n",
       "  <thead>\n",
       "    <tr style=\"text-align: right;\">\n",
       "      <th></th>\n",
       "      <th>date</th>\n",
       "      <th>group</th>\n",
       "      <th>visitors</th>\n",
       "    </tr>\n",
       "  </thead>\n",
       "  <tbody>\n",
       "    <tr>\n",
       "      <th>55</th>\n",
       "      <td>2019-08-01</td>\n",
       "      <td>A</td>\n",
       "      <td>719</td>\n",
       "    </tr>\n",
       "    <tr>\n",
       "      <th>66</th>\n",
       "      <td>2019-08-01</td>\n",
       "      <td>B</td>\n",
       "      <td>713</td>\n",
       "    </tr>\n",
       "    <tr>\n",
       "      <th>175</th>\n",
       "      <td>2019-08-02</td>\n",
       "      <td>A</td>\n",
       "      <td>1338</td>\n",
       "    </tr>\n",
       "    <tr>\n",
       "      <th>173</th>\n",
       "      <td>2019-08-02</td>\n",
       "      <td>B</td>\n",
       "      <td>1294</td>\n",
       "    </tr>\n",
       "    <tr>\n",
       "      <th>291</th>\n",
       "      <td>2019-08-03</td>\n",
       "      <td>A</td>\n",
       "      <td>1845</td>\n",
       "    </tr>\n",
       "    <tr>\n",
       "      <th>...</th>\n",
       "      <td>...</td>\n",
       "      <td>...</td>\n",
       "      <td>...</td>\n",
       "    </tr>\n",
       "    <tr>\n",
       "      <th>533</th>\n",
       "      <td>2019-08-29</td>\n",
       "      <td>B</td>\n",
       "      <td>17708</td>\n",
       "    </tr>\n",
       "    <tr>\n",
       "      <th>757</th>\n",
       "      <td>2019-08-30</td>\n",
       "      <td>A</td>\n",
       "      <td>18037</td>\n",
       "    </tr>\n",
       "    <tr>\n",
       "      <th>690</th>\n",
       "      <td>2019-08-30</td>\n",
       "      <td>B</td>\n",
       "      <td>18198</td>\n",
       "    </tr>\n",
       "    <tr>\n",
       "      <th>958</th>\n",
       "      <td>2019-08-31</td>\n",
       "      <td>A</td>\n",
       "      <td>18736</td>\n",
       "    </tr>\n",
       "    <tr>\n",
       "      <th>930</th>\n",
       "      <td>2019-08-31</td>\n",
       "      <td>B</td>\n",
       "      <td>18916</td>\n",
       "    </tr>\n",
       "  </tbody>\n",
       "</table>\n",
       "<p>62 rows × 3 columns</p>\n",
       "</div>"
      ],
      "text/plain": [
       "          date group  visitors\n",
       "55  2019-08-01     A       719\n",
       "66  2019-08-01     B       713\n",
       "175 2019-08-02     A      1338\n",
       "173 2019-08-02     B      1294\n",
       "291 2019-08-03     A      1845\n",
       "..         ...   ...       ...\n",
       "533 2019-08-29     B     17708\n",
       "757 2019-08-30     A     18037\n",
       "690 2019-08-30     B     18198\n",
       "958 2019-08-31     A     18736\n",
       "930 2019-08-31     B     18916\n",
       "\n",
       "[62 rows x 3 columns]"
      ]
     },
     "execution_count": 26,
     "metadata": {},
     "output_type": "execute_result"
    }
   ],
   "source": [
    "visitors_new = datesGroups.apply(\n",
    "    lambda x : visitors[\n",
    "    np.logical_and(visitors['date'] <= x['date'], visitors['group'] == x['group']\n",
    "    )].agg(\n",
    "    {'date': 'max',\n",
    "     'group': 'max',\n",
    "     'visitors' : 'sum'\n",
    "    }\n",
    "    ), axis =1).sort_values(['date', 'group'])\n",
    "visitors_new"
   ]
  },
  {
   "cell_type": "markdown",
   "metadata": {},
   "source": [
    "Объединим две таблицы и переименуем столбцы, чтобы лучше ориентироваться в данны. Дополнительно расчитаем конверсию и средний чек по дням"
   ]
  },
  {
   "cell_type": "code",
   "execution_count": 27,
   "metadata": {},
   "outputs": [
    {
     "data": {
      "text/html": [
       "<div>\n",
       "<style scoped>\n",
       "    .dataframe tbody tr th:only-of-type {\n",
       "        vertical-align: middle;\n",
       "    }\n",
       "\n",
       "    .dataframe tbody tr th {\n",
       "        vertical-align: top;\n",
       "    }\n",
       "\n",
       "    .dataframe thead th {\n",
       "        text-align: right;\n",
       "    }\n",
       "</style>\n",
       "<table border=\"1\" class=\"dataframe\">\n",
       "  <thead>\n",
       "    <tr style=\"text-align: right;\">\n",
       "      <th></th>\n",
       "      <th>date</th>\n",
       "      <th>group</th>\n",
       "      <th>orders</th>\n",
       "      <th>buyers</th>\n",
       "      <th>revenue</th>\n",
       "      <th>visitors</th>\n",
       "      <th>conversion</th>\n",
       "      <th>mean</th>\n",
       "    </tr>\n",
       "  </thead>\n",
       "  <tbody>\n",
       "    <tr>\n",
       "      <th>0</th>\n",
       "      <td>2019-08-01</td>\n",
       "      <td>A</td>\n",
       "      <td>23</td>\n",
       "      <td>19</td>\n",
       "      <td>142779</td>\n",
       "      <td>719</td>\n",
       "      <td>0.031989</td>\n",
       "      <td>6207.782609</td>\n",
       "    </tr>\n",
       "    <tr>\n",
       "      <th>1</th>\n",
       "      <td>2019-08-01</td>\n",
       "      <td>B</td>\n",
       "      <td>17</td>\n",
       "      <td>17</td>\n",
       "      <td>59758</td>\n",
       "      <td>713</td>\n",
       "      <td>0.023843</td>\n",
       "      <td>3515.176471</td>\n",
       "    </tr>\n",
       "    <tr>\n",
       "      <th>2</th>\n",
       "      <td>2019-08-02</td>\n",
       "      <td>A</td>\n",
       "      <td>42</td>\n",
       "      <td>36</td>\n",
       "      <td>234381</td>\n",
       "      <td>1338</td>\n",
       "      <td>0.031390</td>\n",
       "      <td>5580.500000</td>\n",
       "    </tr>\n",
       "    <tr>\n",
       "      <th>3</th>\n",
       "      <td>2019-08-02</td>\n",
       "      <td>B</td>\n",
       "      <td>40</td>\n",
       "      <td>39</td>\n",
       "      <td>221801</td>\n",
       "      <td>1294</td>\n",
       "      <td>0.030912</td>\n",
       "      <td>5545.025000</td>\n",
       "    </tr>\n",
       "    <tr>\n",
       "      <th>4</th>\n",
       "      <td>2019-08-03</td>\n",
       "      <td>A</td>\n",
       "      <td>66</td>\n",
       "      <td>60</td>\n",
       "      <td>346854</td>\n",
       "      <td>1845</td>\n",
       "      <td>0.035772</td>\n",
       "      <td>5255.363636</td>\n",
       "    </tr>\n",
       "    <tr>\n",
       "      <th>...</th>\n",
       "      <td>...</td>\n",
       "      <td>...</td>\n",
       "      <td>...</td>\n",
       "      <td>...</td>\n",
       "      <td>...</td>\n",
       "      <td>...</td>\n",
       "      <td>...</td>\n",
       "      <td>...</td>\n",
       "    </tr>\n",
       "    <tr>\n",
       "      <th>57</th>\n",
       "      <td>2019-08-29</td>\n",
       "      <td>B</td>\n",
       "      <td>510</td>\n",
       "      <td>490</td>\n",
       "      <td>4746610</td>\n",
       "      <td>17708</td>\n",
       "      <td>0.028801</td>\n",
       "      <td>9307.078431</td>\n",
       "    </tr>\n",
       "    <tr>\n",
       "      <th>58</th>\n",
       "      <td>2019-08-30</td>\n",
       "      <td>A</td>\n",
       "      <td>460</td>\n",
       "      <td>437</td>\n",
       "      <td>3311413</td>\n",
       "      <td>18037</td>\n",
       "      <td>0.025503</td>\n",
       "      <td>7198.723913</td>\n",
       "    </tr>\n",
       "    <tr>\n",
       "      <th>59</th>\n",
       "      <td>2019-08-30</td>\n",
       "      <td>B</td>\n",
       "      <td>531</td>\n",
       "      <td>511</td>\n",
       "      <td>4955833</td>\n",
       "      <td>18198</td>\n",
       "      <td>0.029179</td>\n",
       "      <td>9333.018832</td>\n",
       "    </tr>\n",
       "    <tr>\n",
       "      <th>60</th>\n",
       "      <td>2019-08-31</td>\n",
       "      <td>A</td>\n",
       "      <td>468</td>\n",
       "      <td>445</td>\n",
       "      <td>3364656</td>\n",
       "      <td>18736</td>\n",
       "      <td>0.024979</td>\n",
       "      <td>7189.435897</td>\n",
       "    </tr>\n",
       "    <tr>\n",
       "      <th>61</th>\n",
       "      <td>2019-08-31</td>\n",
       "      <td>B</td>\n",
       "      <td>548</td>\n",
       "      <td>528</td>\n",
       "      <td>5068972</td>\n",
       "      <td>18916</td>\n",
       "      <td>0.028970</td>\n",
       "      <td>9249.948905</td>\n",
       "    </tr>\n",
       "  </tbody>\n",
       "</table>\n",
       "<p>62 rows × 8 columns</p>\n",
       "</div>"
      ],
      "text/plain": [
       "         date group  orders  buyers  revenue  visitors  conversion  \\\n",
       "0  2019-08-01     A      23      19   142779       719    0.031989   \n",
       "1  2019-08-01     B      17      17    59758       713    0.023843   \n",
       "2  2019-08-02     A      42      36   234381      1338    0.031390   \n",
       "3  2019-08-02     B      40      39   221801      1294    0.030912   \n",
       "4  2019-08-03     A      66      60   346854      1845    0.035772   \n",
       "..        ...   ...     ...     ...      ...       ...         ...   \n",
       "57 2019-08-29     B     510     490  4746610     17708    0.028801   \n",
       "58 2019-08-30     A     460     437  3311413     18037    0.025503   \n",
       "59 2019-08-30     B     531     511  4955833     18198    0.029179   \n",
       "60 2019-08-31     A     468     445  3364656     18736    0.024979   \n",
       "61 2019-08-31     B     548     528  5068972     18916    0.028970   \n",
       "\n",
       "           mean  \n",
       "0   6207.782609  \n",
       "1   3515.176471  \n",
       "2   5580.500000  \n",
       "3   5545.025000  \n",
       "4   5255.363636  \n",
       "..          ...  \n",
       "57  9307.078431  \n",
       "58  7198.723913  \n",
       "59  9333.018832  \n",
       "60  7189.435897  \n",
       "61  9249.948905  \n",
       "\n",
       "[62 rows x 8 columns]"
      ]
     },
     "execution_count": 27,
     "metadata": {},
     "output_type": "execute_result"
    }
   ],
   "source": [
    "df = orders_new.merge(visitors_new, left_on = ['date', 'group'], right_on = ['date', 'group'])\n",
    "df.columns = [\n",
    "    'date',\n",
    "    'group',\n",
    "    'orders',\n",
    "    'buyers',\n",
    "    'revenue',\n",
    "    'visitors',\n",
    "]\n",
    "df['conversion'] = df['orders']/df['visitors']\n",
    "df['mean'] = df['revenue']/df['orders']\n",
    "df"
   ]
  },
  {
   "cell_type": "markdown",
   "metadata": {},
   "source": [
    "Создадим две таблицы с данными - дата, средний чек, доход и конверсия, разбитыми по группам"
   ]
  },
  {
   "cell_type": "code",
   "execution_count": 28,
   "metadata": {},
   "outputs": [],
   "source": [
    "group_A = df[df['group'] == 'A'][['date','mean','revenue', 'conversion']]\n",
    "group_B = df[df['group'] == 'B'][['date','mean','revenue', 'conversion']]"
   ]
  },
  {
   "cell_type": "markdown",
   "metadata": {},
   "source": [
    "Строим графики  комулятивных показателей"
   ]
  },
  {
   "cell_type": "code",
   "execution_count": 29,
   "metadata": {},
   "outputs": [
    {
     "data": {
      "image/png": "[encoded data removed]",
      "text/plain": [
       "<Figure size 864x288 with 1 Axes>"
      ]
     },
     "metadata": {
      "needs_background": "light"
     },
     "output_type": "display_data"
    }
   ],
   "source": [
    "plt.figure(figsize=(12,4))\n",
    "plt.plot(group_A['date'], group_A['revenue'], label = 'A')\n",
    "plt.plot(group_B['date'], group_B['revenue'], label = 'B')\n",
    "plt.title('График кумулятивной выручки по группам')\n",
    "plt.legend();"
   ]
  },
  {
   "cell_type": "markdown",
   "metadata": {},
   "source": [
    "группа B имеет стабильно лучший результат по кумулятивной выручке, а к концу 3 недели преимущество резко увеличивается"
   ]
  },
  {
   "cell_type": "code",
   "execution_count": 30,
   "metadata": {},
   "outputs": [
    {
     "data": {
      "image/png": "[encoded data removed]",
      "text/plain": [
       "<Figure size 864x288 with 1 Axes>"
      ]
     },
     "metadata": {
      "needs_background": "light"
     },
     "output_type": "display_data"
    }
   ],
   "source": [
    "plt.figure(figsize=(12,4))\n",
    "plt.plot(group_A['date'], group_A['mean'], label = 'A')\n",
    "plt.plot(group_B['date'], group_B['mean'], label = 'B')\n",
    "plt.title('График кумулятивного среднего чека по группам')\n",
    "plt.legend();"
   ]
  },
  {
   "cell_type": "markdown",
   "metadata": {},
   "source": [
    "изначально группа B уступает группе А по кумулятивному среднему чеку, но к концу 3 недели значительно опережает "
   ]
  },
  {
   "cell_type": "code",
   "execution_count": 31,
   "metadata": {},
   "outputs": [
    {
     "data": {
      "image/png": "[encoded data removed]",
      "text/plain": [
       "<Figure size 864x288 with 1 Axes>"
      ]
     },
     "metadata": {
      "needs_background": "light"
     },
     "output_type": "display_data"
    }
   ],
   "source": [
    "merge_groups = group_A.merge(group_B, left_on = 'date', right_on ='date', suffixes=['A', 'B'])\n",
    "merge_groups\n",
    "plt.figure(figsize=(12,4))\n",
    "plt.plot(merge_groups['date'], merge_groups['meanB']/merge_groups['meanA'] - 1)\n",
    "plt.title('График относительного изменения кумулятивного среднего чека группы B к группе A')\n",
    "plt.axhline(y=0, color='black', linestyle='--'); "
   ]
  },
  {
   "cell_type": "markdown",
   "metadata": {},
   "source": [
    "График относительного изменения кумулятивного среднего чека группы B к группе A, так же показывает значительное превосходство группы B над A к концу 3 недели и далее, однако заметны сильные скачки в обе стороны, до этого периода(возможно вызвано выбросами в данных)"
   ]
  },
  {
   "cell_type": "code",
   "execution_count": 32,
   "metadata": {},
   "outputs": [
    {
     "data": {
      "image/png": "[encoded data removed]",
      "text/plain": [
       "<Figure size 864x288 with 1 Axes>"
      ]
     },
     "metadata": {
      "needs_background": "light"
     },
     "output_type": "display_data"
    }
   ],
   "source": [
    "plt.figure(figsize=(12,4))\n",
    "plt.plot(group_A['date'], group_A['conversion'], label = 'A')\n",
    "plt.plot(group_B['date'], group_B['conversion'], label = 'B')\n",
    "plt.title('График кумулятивной конверсии по группам')\n",
    "plt.legend();"
   ]
  },
  {
   "cell_type": "markdown",
   "metadata": {},
   "source": [
    "По кумулятивной конверсиигруппа A сначала превосходит группу B, но затем, к концу 1 недели начинает показывает стабильно худший результат, так же стоит сказать что со временем данные стабилизируютя и скачки пропадают."
   ]
  },
  {
   "cell_type": "code",
   "execution_count": 33,
   "metadata": {},
   "outputs": [
    {
     "data": {
      "image/png": "[encoded data removed]",
      "text/plain": [
       "<Figure size 864x288 with 1 Axes>"
      ]
     },
     "metadata": {
      "needs_background": "light"
     },
     "output_type": "display_data"
    }
   ],
   "source": [
    "plt.figure(figsize=(12,4))\n",
    "plt.plot(merge_groups['date'], merge_groups['conversionB']/merge_groups['conversionA'] - 1)\n",
    "plt.title('график относительного изменения кумулятивной конверсии группы B к группе A')\n",
    "plt.axhline(y=0.1, color='black', linestyle='--')\n",
    "plt.axhline(y=0, color='black', linestyle='--');"
   ]
  },
  {
   "cell_type": "markdown",
   "metadata": {},
   "source": [
    "По графику относительного изменения кумулятивной конверсии группы B к группе A можно сказать, что сначала группа B уступает, однако потом к концу первой недели догоняет группу A, и далее стабильно опережает более чем на 10 процентов(временами доходит до 20)."
   ]
  },
  {
   "cell_type": "markdown",
   "metadata": {},
   "source": [
    "<a id=\"p4.2.2\"></a>\n",
    "#### 4.2.2  Выбивающиеся значения"
   ]
  },
  {
   "cell_type": "code",
   "execution_count": 34,
   "metadata": {},
   "outputs": [
    {
     "data": {
      "image/png": "[encoded data removed]",
      "text/plain": [
       "<Figure size 432x288 with 1 Axes>"
      ]
     },
     "metadata": {
      "needs_background": "light"
     },
     "output_type": "display_data"
    }
   ],
   "source": [
    "ordersByUsers = orders.groupby('visitor_id', as_index = False).agg({'transaction_id' : 'nunique'})\n",
    "ordersByUsers.columns = ['user_id', 'orders'] \n",
    "x_values = pd.Series(range(0,len(ordersByUsers)))\n",
    "plt.scatter(x_values, ordersByUsers['orders'])\n",
    "plt.title('Распределение заказов по платящим пользователям');"
   ]
  },
  {
   "cell_type": "markdown",
   "metadata": {},
   "source": [
    "Видно, что только 7 пользователей совершали 3 заказа"
   ]
  },
  {
   "cell_type": "code",
   "execution_count": 35,
   "metadata": {},
   "outputs": [
    {
     "data": {
      "text/plain": [
       "array([1., 2.])"
      ]
     },
     "execution_count": 35,
     "metadata": {},
     "output_type": "execute_result"
    }
   ],
   "source": [
    "np.percentile(ordersByUsers['orders'],[95,99])"
   ]
  },
  {
   "cell_type": "markdown",
   "metadata": {},
   "source": [
    "Больше двух заказов совершает всего 1 процент пользователей"
   ]
  },
  {
   "cell_type": "code",
   "execution_count": 36,
   "metadata": {},
   "outputs": [
    {
     "data": {
      "image/png": "[encoded data removed]",
      "text/plain": [
       "<Figure size 432x288 with 1 Axes>"
      ]
     },
     "metadata": {
      "needs_background": "light"
     },
     "output_type": "display_data"
    }
   ],
   "source": [
    "x_values = pd.Series(range(0,len(orders['revenue'])))\n",
    "plt.scatter(x_values, orders['revenue'])\n",
    "plt.title('Распределение выручки по платящим пользователям');"
   ]
  },
  {
   "cell_type": "code",
   "execution_count": 37,
   "metadata": {},
   "outputs": [
    {
     "data": {
      "image/png": "[encoded data removed]",
      "text/plain": [
       "<Figure size 432x288 with 1 Axes>"
      ]
     },
     "metadata": {
      "needs_background": "light"
     },
     "output_type": "display_data"
    }
   ],
   "source": [
    "x_values = pd.Series(range(0,len(orders['revenue'])))\n",
    "plt.scatter(x_values, orders['revenue'])\n",
    "plt.ylim(0,200000)\n",
    "plt.title('Распределение выручки по платящим пользователям');"
   ]
  },
  {
   "cell_type": "markdown",
   "metadata": {},
   "source": [
    "Неоднородность проявляется начиная с 25000"
   ]
  },
  {
   "cell_type": "code",
   "execution_count": 38,
   "metadata": {},
   "outputs": [
    {
     "data": {
      "text/plain": [
       "array([26785., 53904.])"
      ]
     },
     "execution_count": 38,
     "metadata": {},
     "output_type": "execute_result"
    }
   ],
   "source": [
    "np.percentile(orders['revenue'],[95,99])"
   ]
  },
  {
   "cell_type": "markdown",
   "metadata": {},
   "source": [
    "<a id=\"p4.2.3\"></a>\n",
    "#### 4.2.3  Формулировка нулевых и альтернативных гипотиз"
   ]
  },
  {
   "cell_type": "markdown",
   "metadata": {},
   "source": [
    "\n",
    "Сформулируем гипотезы, где H0 - нулевая гипотеза, H1 - альтернативная гипотеза\n",
    "\n",
    "1) Н0: конверсии между группами по «сырым» данным равны; Н1: конверсии между группами по «сырым» данным различны;\n",
    "\n",
    "2) Н0: конверсии между группами по «отфильтрованым» данным равны; Н1: конверсии между группами по «отфильтрованым» различны;\n",
    "\n",
    "3) Н0: средние чеки заказов между группами по «сырым» данным равны; Н1 средние чеки заказов между группами по «сырым» различны;\n",
    "\n",
    "4) Н0: средние чеки заказов между группами по «отфильтрованным» данным равны; Н1: средние чеки заказов между группами по «отфильтрованным» не равны;\n",
    "   \n"
   ]
  },
  {
   "cell_type": "markdown",
   "metadata": {},
   "source": [
    "<a id=\"p4.2.4\"></a>\n",
    "#### 4.2.4  Проверка статистических гипотез"
   ]
  },
  {
   "cell_type": "markdown",
   "metadata": {},
   "source": [
    "Напишем функцию для распределения количества заказов по посетителям, которые распределены по группам. Тем кто ничего не заказал присвоим ноль и присоединим их списком пользователей, сделавших заказ, дополнительно добавим фильтр для выбивающихся значений."
   ]
  },
  {
   "cell_type": "code",
   "execution_count": 39,
   "metadata": {},
   "outputs": [],
   "source": [
    "def con(i,mx = 0, filt = False):\n",
    "    ordersByUsers = orders.loc[orders['group'] == i].groupby('visitor_id', as_index = False).agg({'transaction_id' : 'nunique'})\n",
    "    ordersByUsers.columns = ['user_id', 'orders']\n",
    "    count = 0\n",
    "    if filt:\n",
    "        count = ordersByUsers[ordersByUsers['orders'] > mx]['orders'].count()\n",
    "        ordersByUsers = ordersByUsers[ordersByUsers['orders'] <= mx]\n",
    "    a = pd.Series(0, index = np.arange(visitors[visitors['group'] == i]['visitors'].sum() - len(ordersByUsers['orders'])-count), name = 'orders')\n",
    "    sampleA = pd.concat((ordersByUsers['orders'], a), axis = 0)\n",
    "    return sampleA, count"
   ]
  },
  {
   "cell_type": "markdown",
   "metadata": {},
   "source": [
    "Проверим гипотезу 1.Применим функцию и проверим, если ли различия в распределении количества заказов между группами с помощью критерия Манна-Уитни(для данных с большими выбросами), а также найдем отношение конверсий данных групп."
   ]
  },
  {
   "cell_type": "code",
   "execution_count": 40,
   "metadata": {},
   "outputs": [
    {
     "name": "stdout",
     "output_type": "stream",
     "text": [
      "p-value 0.011\n",
      "conv 0.160\n"
     ]
    }
   ],
   "source": [
    "sampleA, count = con('A')\n",
    "sampleB, count = con('B')\n",
    "print('p-value',\"{0:.3f}\".format(stats.mannwhitneyu(sampleA, sampleB)[1]))\n",
    "print('conv',\"{0:.3f}\".format(sampleB.mean() / sampleA.mean() - 1))"
   ]
  },
  {
   "cell_type": "markdown",
   "metadata": {},
   "source": [
    "Для неочищенных данных, разница статистически значима, p-values < 0.05(отвергаем нулевую гипотезу), конверсия  группы B  больше конверсии группы A на 16 процентов"
   ]
  },
  {
   "cell_type": "markdown",
   "metadata": {},
   "source": [
    "Проверим гипотезу 2 для очищенных данных."
   ]
  },
  {
   "cell_type": "code",
   "execution_count": 41,
   "metadata": {},
   "outputs": [
    {
     "data": {
      "text/plain": [
       "array([1., 2.])"
      ]
     },
     "execution_count": 41,
     "metadata": {},
     "output_type": "execute_result"
    }
   ],
   "source": [
    "np.percentile(ordersByUsers['orders'],[95,99])"
   ]
  },
  {
   "cell_type": "code",
   "execution_count": 42,
   "metadata": {},
   "outputs": [
    {
     "name": "stdout",
     "output_type": "stream",
     "text": [
      "количество удаленных пользователей 7\n",
      "p-value 0.008\n",
      "conv 0.185\n"
     ]
    }
   ],
   "source": [
    "sampleAfilt, countA = con('A', mx = int(np.percentile(ordersByUsers['orders'],[99])), filt = True)\n",
    "sampleBfilt, countB = con('B', mx = int(np.percentile(ordersByUsers['orders'],[99])), filt = True)\n",
    "print('количество удаленных пользователей', countA+ countB)\n",
    "print('p-value',\"{0:.3f}\".format(stats.mannwhitneyu(sampleAfilt, sampleBfilt)[1]))\n",
    "print('conv',\"{0:.3f}\".format(sampleBfilt.mean() / sampleAfilt.mean() - 1))"
   ]
  },
  {
   "cell_type": "markdown",
   "metadata": {},
   "source": [
    "После очистки данных статистическая значимость стала еще больше,\n",
    "p-values < 0.01, конверсия группы B  больше конверсии группы A на 18 процентов(отвергаем нулевую гипотезу о равенстве конверсий)"
   ]
  },
  {
   "cell_type": "markdown",
   "metadata": {},
   "source": [
    "Проверим гипотезу 3 для очищенных данных."
   ]
  },
  {
   "cell_type": "markdown",
   "metadata": {},
   "source": [
    "Напишем фунцию для разбивки заказов по группам, добавив фильт выручки с каждого заказа"
   ]
  },
  {
   "cell_type": "code",
   "execution_count": 43,
   "metadata": {},
   "outputs": [],
   "source": [
    "def rev(i = 0):\n",
    "    count = 0\n",
    "    o = orders\n",
    "    if i != 0:\n",
    "        count = orders[orders['revenue'] > i]['revenue'].count() \n",
    "        o = orders[orders['revenue'] <= i]\n",
    "    stat = round(stats.mannwhitneyu(o[o['group']=='A']['revenue'], o[o['group']=='B']['revenue'])[1],3)\n",
    "    mean = round(o[o['group']=='B']['revenue'].mean()/o[o['group']=='A']['revenue'].mean()-1,3)\n",
    "    return count, stat, mean"
   ]
  },
  {
   "cell_type": "markdown",
   "metadata": {},
   "source": [
    "Применим функцию для определения статистической значимости различий в среднем чеке"
   ]
  },
  {
   "cell_type": "code",
   "execution_count": 44,
   "metadata": {},
   "outputs": [
    {
     "name": "stdout",
     "output_type": "stream",
     "text": [
      "p-value 0.829\n",
      "mean 0.287\n"
     ]
    }
   ],
   "source": [
    "count, stat, mean = rev(i = 0)\n",
    "print('p-value', stat)\n",
    "print('mean', mean)"
   ]
  },
  {
   "cell_type": "markdown",
   "metadata": {},
   "source": [
    "По неочищенным данным средний чек группы В превосходит группу А на 29 процентов, но разница между этими двумя группами статистически не значима, p-value намного больше 0.05(невозможно опровергнуть гипотезу о равенстве средних чеков в группах)"
   ]
  },
  {
   "cell_type": "markdown",
   "metadata": {},
   "source": [
    "Проверим 4 гипотезу"
   ]
  },
  {
   "cell_type": "code",
   "execution_count": 45,
   "metadata": {},
   "outputs": [
    {
     "name": "stdout",
     "output_type": "stream",
     "text": [
      "Число удаленных из анализа пользователей 9\n",
      "p-value 0.901\n",
      "mean -0.032\n"
     ]
    }
   ],
   "source": [
    "count, stat, mean = rev(i = int(np.percentile(orders['revenue'],[99])))\n",
    "print('Число удаленных из анализа пользователей',count)\n",
    "print('p-value',stat)\n",
    "print('mean',mean)"
   ]
  },
  {
   "cell_type": "markdown",
   "metadata": {},
   "source": [
    "По очищенным данным средний чек группы В уже уступает группе А на 3 процента, но разница между этими двумя группами все также статистически не значима, p-value намного больше 0.05(невозможно опровергнуть гипотезу о равенстве средних чеков в группах)"
   ]
  },
  {
   "cell_type": "markdown",
   "metadata": {},
   "source": [
    "<a id=\"p4.2.5\"></a>\n",
    "#### 4.2.5  Вывод\n",
    "\n",
    "Различие  общей конверсий между группами А и B статистически значимо(в обоих случаях), фиксируем победу группы В по этому показателю(превосходит группу А более чем на 15 процентов) \n",
    "\n",
    "Различия в среднем чеке заказа между группами A и B статистически не значимы, нельзя сказать что группы отличны по этому показателю.\n",
    "\n",
    "График различия конверсии между группами по времени сообщает, что результат группы B лучше группы A(к концу 3 недели группа В стабильно опережает группу А более чем на 10 процентов)."
   ]
  },
  {
   "cell_type": "markdown",
   "metadata": {},
   "source": [
    "   "
   ]
  },
  {
   "cell_type": "markdown",
   "metadata": {},
   "source": [
    "<a id=\"p5\"></a>\n",
    "## 5 Рекомендации"
   ]
  },
  {
   "cell_type": "markdown",
   "metadata": {},
   "source": [
    "### 1) Признать гипотезу о добавлении формы подписки на все основные страницы, для того чтобы собрать базу клиентов для email-рассылок - приоритетной \n",
    "\n",
    "### 2) Остановить A/B тест, зафиксировать победу группы B по показателю конверсии.  \n",
    "\n",
    "### 3) Дальнейшее  наблюдение за средним чеком признать нецелесообразным.  Различия в этом показатели абсолютно не являются статистически значимыми ,  учитывая время проведения теста и количество собранных данных, явных изменений уже не будет.\n",
    "\n",
    "### 4) Остановить A/B тест"
   ]
  }
 ],
 "metadata": {
  "ExecuteTimeLog": [
   {
    "duration": 51,
    "start_time": "2022-09-13T18:03:03.538Z"
   },
   {
    "duration": 408,
    "start_time": "2022-09-13T18:03:07.974Z"
   },
   {
    "duration": 126,
    "start_time": "2022-09-13T18:03:09.672Z"
   },
   {
    "duration": 13,
    "start_time": "2022-09-13T18:04:03.736Z"
   },
   {
    "duration": 82,
    "start_time": "2022-09-13T18:19:12.705Z"
   },
   {
    "duration": 382,
    "start_time": "2022-09-13T18:40:15.412Z"
   },
   {
    "duration": 66,
    "start_time": "2022-09-13T18:40:15.796Z"
   },
   {
    "duration": 13,
    "start_time": "2022-09-13T18:40:15.864Z"
   },
   {
    "duration": 8,
    "start_time": "2022-09-13T18:40:15.879Z"
   },
   {
    "duration": 12,
    "start_time": "2022-09-13T18:40:15.889Z"
   },
   {
    "duration": 4,
    "start_time": "2022-09-13T18:41:55.969Z"
   },
   {
    "duration": 87,
    "start_time": "2022-09-13T18:42:10.399Z"
   },
   {
    "duration": 3,
    "start_time": "2022-09-13T18:43:41.094Z"
   },
   {
    "duration": 10,
    "start_time": "2022-09-13T18:44:19.570Z"
   },
   {
    "duration": 6,
    "start_time": "2022-09-13T18:44:38.567Z"
   },
   {
    "duration": 3,
    "start_time": "2022-09-13T18:45:57.640Z"
   },
   {
    "duration": 13,
    "start_time": "2022-09-13T18:46:03.616Z"
   },
   {
    "duration": 399,
    "start_time": "2022-09-13T18:46:24.726Z"
   },
   {
    "duration": 62,
    "start_time": "2022-09-13T18:46:25.129Z"
   },
   {
    "duration": 18,
    "start_time": "2022-09-13T18:46:25.193Z"
   },
   {
    "duration": 35,
    "start_time": "2022-09-13T18:46:25.213Z"
   },
   {
    "duration": 25,
    "start_time": "2022-09-13T18:46:25.250Z"
   },
   {
    "duration": 42,
    "start_time": "2022-09-13T18:46:25.277Z"
   },
   {
    "duration": 1049,
    "start_time": "2022-09-13T18:46:42.999Z"
   },
   {
    "duration": 899,
    "start_time": "2022-09-13T18:46:54.573Z"
   },
   {
    "duration": 873,
    "start_time": "2022-09-13T18:47:01.538Z"
   },
   {
    "duration": 808,
    "start_time": "2022-09-13T18:47:58.899Z"
   },
   {
    "duration": 5,
    "start_time": "2022-09-13T18:48:43.299Z"
   },
   {
    "duration": 5,
    "start_time": "2022-09-13T18:48:51.519Z"
   },
   {
    "duration": 5,
    "start_time": "2022-09-13T18:55:29.204Z"
   },
   {
    "duration": 4,
    "start_time": "2022-09-13T18:55:37.439Z"
   },
   {
    "duration": 4,
    "start_time": "2022-09-13T18:56:55.076Z"
   },
   {
    "duration": 8,
    "start_time": "2022-09-13T18:56:56.272Z"
   },
   {
    "duration": 386,
    "start_time": "2022-09-13T19:15:03.766Z"
   },
   {
    "duration": 79,
    "start_time": "2022-09-13T19:15:04.154Z"
   },
   {
    "duration": 13,
    "start_time": "2022-09-13T19:15:04.236Z"
   },
   {
    "duration": 4,
    "start_time": "2022-09-13T19:15:04.251Z"
   },
   {
    "duration": 6,
    "start_time": "2022-09-13T19:15:04.257Z"
   },
   {
    "duration": 13,
    "start_time": "2022-09-13T19:15:04.264Z"
   },
   {
    "duration": 10,
    "start_time": "2022-09-13T19:15:04.279Z"
   },
   {
    "duration": 14,
    "start_time": "2022-09-13T19:15:04.291Z"
   },
   {
    "duration": 11,
    "start_time": "2022-09-13T19:17:30.559Z"
   },
   {
    "duration": 86,
    "start_time": "2022-09-13T19:19:18.311Z"
   },
   {
    "duration": 428,
    "start_time": "2022-09-13T19:19:52.987Z"
   },
   {
    "duration": 151,
    "start_time": "2022-09-13T19:19:53.427Z"
   },
   {
    "duration": 28,
    "start_time": "2022-09-13T19:19:53.580Z"
   },
   {
    "duration": 10,
    "start_time": "2022-09-13T19:19:53.610Z"
   },
   {
    "duration": 33,
    "start_time": "2022-09-13T19:19:53.623Z"
   },
   {
    "duration": 11,
    "start_time": "2022-09-13T19:19:53.658Z"
   },
   {
    "duration": 12,
    "start_time": "2022-09-13T19:19:53.671Z"
   },
   {
    "duration": 16,
    "start_time": "2022-09-13T19:19:53.684Z"
   },
   {
    "duration": 16,
    "start_time": "2022-09-13T19:19:53.702Z"
   },
   {
    "duration": 34,
    "start_time": "2022-09-13T19:19:53.720Z"
   },
   {
    "duration": 10,
    "start_time": "2022-09-13T19:20:16.280Z"
   },
   {
    "duration": 16,
    "start_time": "2022-09-13T19:20:23.057Z"
   },
   {
    "duration": 69,
    "start_time": "2022-09-13T19:37:05.846Z"
   },
   {
    "duration": 385,
    "start_time": "2022-09-13T19:37:17.357Z"
   },
   {
    "duration": 0,
    "start_time": "2022-09-13T19:37:17.744Z"
   },
   {
    "duration": 0,
    "start_time": "2022-09-13T19:37:17.745Z"
   },
   {
    "duration": 0,
    "start_time": "2022-09-13T19:37:17.746Z"
   },
   {
    "duration": 0,
    "start_time": "2022-09-13T19:37:17.747Z"
   },
   {
    "duration": 0,
    "start_time": "2022-09-13T19:37:17.747Z"
   },
   {
    "duration": 0,
    "start_time": "2022-09-13T19:37:17.748Z"
   },
   {
    "duration": 0,
    "start_time": "2022-09-13T19:37:17.749Z"
   },
   {
    "duration": 0,
    "start_time": "2022-09-13T19:37:17.750Z"
   },
   {
    "duration": 0,
    "start_time": "2022-09-13T19:37:17.751Z"
   },
   {
    "duration": 873,
    "start_time": "2022-09-13T19:38:03.194Z"
   },
   {
    "duration": 93,
    "start_time": "2022-09-13T19:38:04.069Z"
   },
   {
    "duration": 19,
    "start_time": "2022-09-13T19:38:04.164Z"
   },
   {
    "duration": 7,
    "start_time": "2022-09-13T19:38:04.185Z"
   },
   {
    "duration": 7,
    "start_time": "2022-09-13T19:38:04.195Z"
   },
   {
    "duration": 40,
    "start_time": "2022-09-13T19:38:04.208Z"
   },
   {
    "duration": 7,
    "start_time": "2022-09-13T19:38:04.249Z"
   },
   {
    "duration": 12,
    "start_time": "2022-09-13T19:38:04.257Z"
   },
   {
    "duration": 81,
    "start_time": "2022-09-13T19:38:04.271Z"
   },
   {
    "duration": 0,
    "start_time": "2022-09-13T19:38:04.354Z"
   },
   {
    "duration": 19,
    "start_time": "2022-09-13T19:38:13.621Z"
   },
   {
    "duration": 14,
    "start_time": "2022-09-13T19:38:26.682Z"
   },
   {
    "duration": 16,
    "start_time": "2022-09-13T19:38:50.503Z"
   },
   {
    "duration": 21,
    "start_time": "2022-09-13T19:45:58.300Z"
   },
   {
    "duration": 9,
    "start_time": "2022-09-13T19:48:38.087Z"
   },
   {
    "duration": 6,
    "start_time": "2022-09-13T19:48:46.911Z"
   },
   {
    "duration": 10,
    "start_time": "2022-09-13T19:48:55.646Z"
   },
   {
    "duration": 14,
    "start_time": "2022-09-13T19:51:07.125Z"
   },
   {
    "duration": 13,
    "start_time": "2022-09-13T19:58:04.447Z"
   },
   {
    "duration": 669,
    "start_time": "2022-09-13T19:58:09.959Z"
   },
   {
    "duration": 78,
    "start_time": "2022-09-13T19:58:10.630Z"
   },
   {
    "duration": 15,
    "start_time": "2022-09-13T19:58:10.710Z"
   },
   {
    "duration": 16,
    "start_time": "2022-09-13T19:58:10.730Z"
   },
   {
    "duration": 5,
    "start_time": "2022-09-13T19:58:10.748Z"
   },
   {
    "duration": 11,
    "start_time": "2022-09-13T19:58:10.754Z"
   },
   {
    "duration": 5,
    "start_time": "2022-09-13T19:58:10.767Z"
   },
   {
    "duration": 10,
    "start_time": "2022-09-13T19:58:10.773Z"
   },
   {
    "duration": 26,
    "start_time": "2022-09-13T19:58:10.784Z"
   },
   {
    "duration": 45,
    "start_time": "2022-09-13T19:58:10.812Z"
   },
   {
    "duration": 21,
    "start_time": "2022-09-13T19:58:10.859Z"
   },
   {
    "duration": 35,
    "start_time": "2022-09-13T19:58:10.882Z"
   },
   {
    "duration": 22,
    "start_time": "2022-09-13T19:58:10.922Z"
   },
   {
    "duration": 11,
    "start_time": "2022-09-13T19:58:10.946Z"
   },
   {
    "duration": 10,
    "start_time": "2022-09-13T19:58:25.154Z"
   },
   {
    "duration": 11,
    "start_time": "2022-09-13T19:59:00.979Z"
   },
   {
    "duration": 6,
    "start_time": "2022-09-13T20:00:01.349Z"
   },
   {
    "duration": 638,
    "start_time": "2022-09-13T20:00:40.531Z"
   },
   {
    "duration": 88,
    "start_time": "2022-09-13T20:00:41.171Z"
   },
   {
    "duration": 11,
    "start_time": "2022-09-13T20:00:41.260Z"
   },
   {
    "duration": 5,
    "start_time": "2022-09-13T20:00:41.272Z"
   },
   {
    "duration": 2,
    "start_time": "2022-09-13T20:00:41.279Z"
   },
   {
    "duration": 11,
    "start_time": "2022-09-13T20:00:41.283Z"
   },
   {
    "duration": 17,
    "start_time": "2022-09-13T20:00:41.295Z"
   },
   {
    "duration": 39,
    "start_time": "2022-09-13T20:00:41.313Z"
   },
   {
    "duration": 12,
    "start_time": "2022-09-13T20:00:41.354Z"
   },
   {
    "duration": 14,
    "start_time": "2022-09-13T20:00:41.368Z"
   },
   {
    "duration": 10,
    "start_time": "2022-09-13T20:00:41.384Z"
   },
   {
    "duration": 22,
    "start_time": "2022-09-13T20:00:41.395Z"
   },
   {
    "duration": 36,
    "start_time": "2022-09-13T20:00:41.420Z"
   },
   {
    "duration": 12,
    "start_time": "2022-09-13T20:00:41.457Z"
   },
   {
    "duration": 16,
    "start_time": "2022-09-13T20:00:41.470Z"
   },
   {
    "duration": 11,
    "start_time": "2022-09-13T20:00:41.489Z"
   },
   {
    "duration": 39,
    "start_time": "2022-09-13T20:00:41.502Z"
   },
   {
    "duration": 6,
    "start_time": "2022-09-13T20:02:39.178Z"
   },
   {
    "duration": 9,
    "start_time": "2022-09-13T20:02:46.851Z"
   },
   {
    "duration": 4,
    "start_time": "2022-09-13T20:03:15.073Z"
   },
   {
    "duration": 10,
    "start_time": "2022-09-13T20:03:16.484Z"
   },
   {
    "duration": 5,
    "start_time": "2022-09-13T20:03:50.478Z"
   },
   {
    "duration": 128,
    "start_time": "2022-09-13T20:21:31.714Z"
   },
   {
    "duration": 675,
    "start_time": "2022-09-13T20:24:37.835Z"
   },
   {
    "duration": 605,
    "start_time": "2022-09-13T20:24:52.966Z"
   },
   {
    "duration": 652,
    "start_time": "2022-09-13T20:29:26.087Z"
   },
   {
    "duration": 675,
    "start_time": "2022-09-13T20:29:41.370Z"
   },
   {
    "duration": 658,
    "start_time": "2022-09-13T20:29:56.945Z"
   },
   {
    "duration": 647,
    "start_time": "2022-09-13T20:31:43.847Z"
   },
   {
    "duration": 762,
    "start_time": "2022-09-14T17:12:18.724Z"
   },
   {
    "duration": 197,
    "start_time": "2022-09-14T17:12:19.489Z"
   },
   {
    "duration": 11,
    "start_time": "2022-09-14T17:12:19.688Z"
   },
   {
    "duration": 4,
    "start_time": "2022-09-14T17:12:19.700Z"
   },
   {
    "duration": 4,
    "start_time": "2022-09-14T17:12:19.706Z"
   },
   {
    "duration": 11,
    "start_time": "2022-09-14T17:12:19.711Z"
   },
   {
    "duration": 6,
    "start_time": "2022-09-14T17:12:19.723Z"
   },
   {
    "duration": 10,
    "start_time": "2022-09-14T17:12:19.730Z"
   },
   {
    "duration": 11,
    "start_time": "2022-09-14T17:12:19.742Z"
   },
   {
    "duration": 12,
    "start_time": "2022-09-14T17:12:19.755Z"
   },
   {
    "duration": 4,
    "start_time": "2022-09-14T17:12:19.769Z"
   },
   {
    "duration": 9,
    "start_time": "2022-09-14T17:12:19.775Z"
   },
   {
    "duration": 26,
    "start_time": "2022-09-14T17:12:19.786Z"
   },
   {
    "duration": 10,
    "start_time": "2022-09-14T17:12:19.814Z"
   },
   {
    "duration": 6,
    "start_time": "2022-09-14T17:12:19.825Z"
   },
   {
    "duration": 11,
    "start_time": "2022-09-14T17:12:19.832Z"
   },
   {
    "duration": 12,
    "start_time": "2022-09-14T17:12:19.844Z"
   },
   {
    "duration": 6,
    "start_time": "2022-09-14T17:12:19.857Z"
   },
   {
    "duration": 14,
    "start_time": "2022-09-14T17:12:19.865Z"
   },
   {
    "duration": 730,
    "start_time": "2022-09-14T17:12:19.880Z"
   },
   {
    "duration": 84,
    "start_time": "2022-09-14T17:24:07.199Z"
   },
   {
    "duration": 620,
    "start_time": "2022-09-14T17:33:46.081Z"
   },
   {
    "duration": 619,
    "start_time": "2022-09-14T17:33:54.732Z"
   },
   {
    "duration": 670,
    "start_time": "2022-09-14T17:35:56.706Z"
   },
   {
    "duration": 118,
    "start_time": "2022-09-14T17:45:56.591Z"
   },
   {
    "duration": 8,
    "start_time": "2022-09-14T17:46:08.834Z"
   },
   {
    "duration": 155,
    "start_time": "2022-09-14T17:46:17.150Z"
   },
   {
    "duration": 155,
    "start_time": "2022-09-14T17:47:38.007Z"
   },
   {
    "duration": 255,
    "start_time": "2022-09-14T18:35:45.770Z"
   },
   {
    "duration": 252,
    "start_time": "2022-09-14T18:56:22.736Z"
   },
   {
    "duration": 259,
    "start_time": "2022-09-14T18:56:46.873Z"
   },
   {
    "duration": 264,
    "start_time": "2022-09-14T18:57:03.101Z"
   },
   {
    "duration": 273,
    "start_time": "2022-09-14T18:58:33.789Z"
   },
   {
    "duration": 264,
    "start_time": "2022-09-14T18:59:55.647Z"
   },
   {
    "duration": 82,
    "start_time": "2022-09-14T19:36:44.577Z"
   },
   {
    "duration": 8,
    "start_time": "2022-09-14T19:36:51.004Z"
   },
   {
    "duration": 164,
    "start_time": "2022-09-14T19:36:52.711Z"
   },
   {
    "duration": 234,
    "start_time": "2022-09-14T19:37:14.016Z"
   },
   {
    "duration": 221,
    "start_time": "2022-09-14T19:37:23.281Z"
   },
   {
    "duration": 177,
    "start_time": "2022-09-14T19:37:51.721Z"
   },
   {
    "duration": 155,
    "start_time": "2022-09-14T19:37:57.550Z"
   },
   {
    "duration": 180,
    "start_time": "2022-09-14T19:38:09.548Z"
   },
   {
    "duration": 170,
    "start_time": "2022-09-14T19:38:17.349Z"
   },
   {
    "duration": 201,
    "start_time": "2022-09-14T19:38:23.751Z"
   },
   {
    "duration": 245,
    "start_time": "2022-09-14T19:39:45.260Z"
   },
   {
    "duration": 198,
    "start_time": "2022-09-14T19:40:30.637Z"
   },
   {
    "duration": 15,
    "start_time": "2022-09-14T19:44:43.077Z"
   },
   {
    "duration": 577,
    "start_time": "2022-09-14T19:47:28.473Z"
   },
   {
    "duration": 72,
    "start_time": "2022-09-14T19:47:29.052Z"
   },
   {
    "duration": 11,
    "start_time": "2022-09-14T19:47:29.125Z"
   },
   {
    "duration": 5,
    "start_time": "2022-09-14T19:47:29.137Z"
   },
   {
    "duration": 3,
    "start_time": "2022-09-14T19:47:29.143Z"
   },
   {
    "duration": 10,
    "start_time": "2022-09-14T19:47:29.147Z"
   },
   {
    "duration": 6,
    "start_time": "2022-09-14T19:47:29.158Z"
   },
   {
    "duration": 10,
    "start_time": "2022-09-14T19:47:29.165Z"
   },
   {
    "duration": 12,
    "start_time": "2022-09-14T19:47:29.177Z"
   },
   {
    "duration": 28,
    "start_time": "2022-09-14T19:47:29.190Z"
   },
   {
    "duration": 6,
    "start_time": "2022-09-14T19:47:29.220Z"
   },
   {
    "duration": 15,
    "start_time": "2022-09-14T19:47:29.227Z"
   },
   {
    "duration": 13,
    "start_time": "2022-09-14T19:47:29.244Z"
   },
   {
    "duration": 16,
    "start_time": "2022-09-14T19:47:29.260Z"
   },
   {
    "duration": 14,
    "start_time": "2022-09-14T19:47:29.277Z"
   },
   {
    "duration": 10,
    "start_time": "2022-09-14T19:47:29.293Z"
   },
   {
    "duration": 16,
    "start_time": "2022-09-14T19:47:29.304Z"
   },
   {
    "duration": 7,
    "start_time": "2022-09-14T19:47:29.321Z"
   },
   {
    "duration": 13,
    "start_time": "2022-09-14T19:47:29.329Z"
   },
   {
    "duration": 278,
    "start_time": "2022-09-14T19:47:29.344Z"
   },
   {
    "duration": 7,
    "start_time": "2022-09-14T19:47:29.624Z"
   },
   {
    "duration": 305,
    "start_time": "2022-09-14T19:47:29.633Z"
   },
   {
    "duration": 196,
    "start_time": "2022-09-14T19:47:29.940Z"
   },
   {
    "duration": 144,
    "start_time": "2022-09-14T19:47:30.138Z"
   },
   {
    "duration": 246,
    "start_time": "2022-09-14T19:47:30.283Z"
   },
   {
    "duration": 620,
    "start_time": "2022-09-14T19:47:30.531Z"
   },
   {
    "duration": 133,
    "start_time": "2022-09-14T19:48:02.301Z"
   },
   {
    "duration": 16,
    "start_time": "2022-09-14T19:48:07.856Z"
   },
   {
    "duration": 149,
    "start_time": "2022-09-14T19:48:49.108Z"
   },
   {
    "duration": 245,
    "start_time": "2022-09-14T19:49:26.818Z"
   },
   {
    "duration": 256,
    "start_time": "2022-09-14T19:49:40.280Z"
   },
   {
    "duration": 255,
    "start_time": "2022-09-14T19:49:47.821Z"
   },
   {
    "duration": 618,
    "start_time": "2022-09-14T19:50:10.494Z"
   },
   {
    "duration": 74,
    "start_time": "2022-09-14T19:50:11.114Z"
   },
   {
    "duration": 10,
    "start_time": "2022-09-14T19:50:11.189Z"
   },
   {
    "duration": 4,
    "start_time": "2022-09-14T19:50:11.201Z"
   },
   {
    "duration": 4,
    "start_time": "2022-09-14T19:50:11.207Z"
   },
   {
    "duration": 10,
    "start_time": "2022-09-14T19:50:11.212Z"
   },
   {
    "duration": 5,
    "start_time": "2022-09-14T19:50:11.224Z"
   },
   {
    "duration": 10,
    "start_time": "2022-09-14T19:50:11.230Z"
   },
   {
    "duration": 17,
    "start_time": "2022-09-14T19:50:11.241Z"
   },
   {
    "duration": 12,
    "start_time": "2022-09-14T19:50:11.260Z"
   },
   {
    "duration": 19,
    "start_time": "2022-09-14T19:50:11.273Z"
   },
   {
    "duration": 17,
    "start_time": "2022-09-14T19:50:11.293Z"
   },
   {
    "duration": 7,
    "start_time": "2022-09-14T19:50:11.311Z"
   },
   {
    "duration": 10,
    "start_time": "2022-09-14T19:50:11.320Z"
   },
   {
    "duration": 6,
    "start_time": "2022-09-14T19:50:11.332Z"
   },
   {
    "duration": 10,
    "start_time": "2022-09-14T19:50:11.339Z"
   },
   {
    "duration": 14,
    "start_time": "2022-09-14T19:50:11.351Z"
   },
   {
    "duration": 7,
    "start_time": "2022-09-14T19:50:11.367Z"
   },
   {
    "duration": 12,
    "start_time": "2022-09-14T19:50:11.375Z"
   },
   {
    "duration": 292,
    "start_time": "2022-09-14T19:50:11.389Z"
   },
   {
    "duration": 6,
    "start_time": "2022-09-14T19:50:11.682Z"
   },
   {
    "duration": 256,
    "start_time": "2022-09-14T19:50:11.690Z"
   },
   {
    "duration": 168,
    "start_time": "2022-09-14T19:50:11.948Z"
   },
   {
    "duration": 267,
    "start_time": "2022-09-14T19:50:12.118Z"
   },
   {
    "duration": 281,
    "start_time": "2022-09-14T19:50:12.387Z"
   },
   {
    "duration": 635,
    "start_time": "2022-09-14T19:50:12.670Z"
   },
   {
    "duration": 13,
    "start_time": "2022-09-14T19:50:45.813Z"
   },
   {
    "duration": 244,
    "start_time": "2022-09-14T19:52:35.639Z"
   },
   {
    "duration": 268,
    "start_time": "2022-09-14T19:54:14.798Z"
   },
   {
    "duration": 611,
    "start_time": "2022-09-14T19:55:45.519Z"
   },
   {
    "duration": 81,
    "start_time": "2022-09-14T19:55:46.131Z"
   },
   {
    "duration": 12,
    "start_time": "2022-09-14T19:55:46.213Z"
   },
   {
    "duration": 6,
    "start_time": "2022-09-14T19:55:46.226Z"
   },
   {
    "duration": 7,
    "start_time": "2022-09-14T19:55:46.234Z"
   },
   {
    "duration": 13,
    "start_time": "2022-09-14T19:55:46.243Z"
   },
   {
    "duration": 16,
    "start_time": "2022-09-14T19:55:46.257Z"
   },
   {
    "duration": 14,
    "start_time": "2022-09-14T19:55:46.275Z"
   },
   {
    "duration": 22,
    "start_time": "2022-09-14T19:55:46.290Z"
   },
   {
    "duration": 13,
    "start_time": "2022-09-14T19:55:46.313Z"
   },
   {
    "duration": 7,
    "start_time": "2022-09-14T19:55:46.327Z"
   },
   {
    "duration": 11,
    "start_time": "2022-09-14T19:55:46.336Z"
   },
   {
    "duration": 5,
    "start_time": "2022-09-14T19:55:46.349Z"
   },
   {
    "duration": 10,
    "start_time": "2022-09-14T19:55:46.357Z"
   },
   {
    "duration": 7,
    "start_time": "2022-09-14T19:55:46.369Z"
   },
   {
    "duration": 40,
    "start_time": "2022-09-14T19:55:46.377Z"
   },
   {
    "duration": 14,
    "start_time": "2022-09-14T19:55:46.418Z"
   },
   {
    "duration": 6,
    "start_time": "2022-09-14T19:55:46.433Z"
   },
   {
    "duration": 12,
    "start_time": "2022-09-14T19:55:46.441Z"
   },
   {
    "duration": 325,
    "start_time": "2022-09-14T19:55:46.454Z"
   },
   {
    "duration": 6,
    "start_time": "2022-09-14T19:55:46.780Z"
   },
   {
    "duration": 281,
    "start_time": "2022-09-14T19:55:46.787Z"
   },
   {
    "duration": 172,
    "start_time": "2022-09-14T19:55:47.070Z"
   },
   {
    "duration": 257,
    "start_time": "2022-09-14T19:55:47.244Z"
   },
   {
    "duration": 226,
    "start_time": "2022-09-14T19:55:47.502Z"
   },
   {
    "duration": 264,
    "start_time": "2022-09-14T19:55:47.729Z"
   },
   {
    "duration": 212,
    "start_time": "2022-09-14T19:56:42.642Z"
   },
   {
    "duration": 157,
    "start_time": "2022-09-14T19:56:47.879Z"
   },
   {
    "duration": 263,
    "start_time": "2022-09-14T19:56:55.513Z"
   },
   {
    "duration": 44,
    "start_time": "2022-09-15T12:10:36.888Z"
   },
   {
    "duration": 774,
    "start_time": "2022-09-15T12:10:41.416Z"
   },
   {
    "duration": 208,
    "start_time": "2022-09-15T12:10:42.193Z"
   },
   {
    "duration": 12,
    "start_time": "2022-09-15T12:10:42.402Z"
   },
   {
    "duration": 25,
    "start_time": "2022-09-15T12:10:42.416Z"
   },
   {
    "duration": 13,
    "start_time": "2022-09-15T12:10:42.443Z"
   },
   {
    "duration": 45,
    "start_time": "2022-09-15T12:10:42.457Z"
   },
   {
    "duration": 15,
    "start_time": "2022-09-15T12:10:42.504Z"
   },
   {
    "duration": 26,
    "start_time": "2022-09-15T12:10:42.521Z"
   },
   {
    "duration": 22,
    "start_time": "2022-09-15T12:10:42.549Z"
   },
   {
    "duration": 37,
    "start_time": "2022-09-15T12:10:42.573Z"
   },
   {
    "duration": 15,
    "start_time": "2022-09-15T12:10:42.611Z"
   },
   {
    "duration": 34,
    "start_time": "2022-09-15T12:10:42.628Z"
   },
   {
    "duration": 11,
    "start_time": "2022-09-15T12:10:42.664Z"
   },
   {
    "duration": 35,
    "start_time": "2022-09-15T12:10:42.677Z"
   },
   {
    "duration": 31,
    "start_time": "2022-09-15T12:10:42.715Z"
   },
   {
    "duration": 13,
    "start_time": "2022-09-15T12:10:42.747Z"
   },
   {
    "duration": 48,
    "start_time": "2022-09-15T12:10:42.761Z"
   },
   {
    "duration": 27,
    "start_time": "2022-09-15T12:10:42.811Z"
   },
   {
    "duration": 12,
    "start_time": "2022-09-15T12:10:42.840Z"
   },
   {
    "duration": 298,
    "start_time": "2022-09-15T12:10:42.853Z"
   },
   {
    "duration": 5,
    "start_time": "2022-09-15T12:10:43.153Z"
   },
   {
    "duration": 262,
    "start_time": "2022-09-15T12:10:43.159Z"
   },
   {
    "duration": 175,
    "start_time": "2022-09-15T12:10:43.422Z"
   },
   {
    "duration": 298,
    "start_time": "2022-09-15T12:10:43.598Z"
   },
   {
    "duration": 236,
    "start_time": "2022-09-15T12:10:43.898Z"
   },
   {
    "duration": 260,
    "start_time": "2022-09-15T12:10:44.136Z"
   },
   {
    "duration": 10,
    "start_time": "2022-09-15T12:10:44.398Z"
   },
   {
    "duration": 15,
    "start_time": "2022-09-15T12:11:10.475Z"
   },
   {
    "duration": 11,
    "start_time": "2022-09-15T12:12:14.057Z"
   },
   {
    "duration": 81,
    "start_time": "2022-09-15T12:17:45.690Z"
   },
   {
    "duration": 6,
    "start_time": "2022-09-15T12:17:58.064Z"
   },
   {
    "duration": 18,
    "start_time": "2022-09-15T12:18:09.796Z"
   },
   {
    "duration": 14,
    "start_time": "2022-09-15T12:23:07.174Z"
   },
   {
    "duration": 105,
    "start_time": "2022-09-15T12:23:32.807Z"
   },
   {
    "duration": 626,
    "start_time": "2022-09-15T12:24:13.936Z"
   },
   {
    "duration": 86,
    "start_time": "2022-09-15T12:24:14.564Z"
   },
   {
    "duration": 11,
    "start_time": "2022-09-15T12:24:14.652Z"
   },
   {
    "duration": 5,
    "start_time": "2022-09-15T12:24:14.665Z"
   },
   {
    "duration": 6,
    "start_time": "2022-09-15T12:24:14.671Z"
   },
   {
    "duration": 20,
    "start_time": "2022-09-15T12:24:14.678Z"
   },
   {
    "duration": 8,
    "start_time": "2022-09-15T12:24:14.699Z"
   },
   {
    "duration": 13,
    "start_time": "2022-09-15T12:24:14.709Z"
   },
   {
    "duration": 13,
    "start_time": "2022-09-15T12:24:14.723Z"
   },
   {
    "duration": 14,
    "start_time": "2022-09-15T12:24:14.737Z"
   },
   {
    "duration": 6,
    "start_time": "2022-09-15T12:24:14.752Z"
   },
   {
    "duration": 13,
    "start_time": "2022-09-15T12:24:14.759Z"
   },
   {
    "duration": 18,
    "start_time": "2022-09-15T12:24:14.773Z"
   },
   {
    "duration": 13,
    "start_time": "2022-09-15T12:24:14.794Z"
   },
   {
    "duration": 14,
    "start_time": "2022-09-15T12:24:14.808Z"
   },
   {
    "duration": 18,
    "start_time": "2022-09-15T12:24:14.823Z"
   },
   {
    "duration": 13,
    "start_time": "2022-09-15T12:24:14.842Z"
   },
   {
    "duration": 10,
    "start_time": "2022-09-15T12:24:14.856Z"
   },
   {
    "duration": 15,
    "start_time": "2022-09-15T12:24:14.867Z"
   },
   {
    "duration": 303,
    "start_time": "2022-09-15T12:24:14.888Z"
   },
   {
    "duration": 6,
    "start_time": "2022-09-15T12:24:15.193Z"
   },
   {
    "duration": 255,
    "start_time": "2022-09-15T12:24:15.201Z"
   },
   {
    "duration": 169,
    "start_time": "2022-09-15T12:24:15.457Z"
   },
   {
    "duration": 240,
    "start_time": "2022-09-15T12:24:15.627Z"
   },
   {
    "duration": 231,
    "start_time": "2022-09-15T12:24:15.877Z"
   },
   {
    "duration": 270,
    "start_time": "2022-09-15T12:24:16.111Z"
   },
   {
    "duration": 15,
    "start_time": "2022-09-15T12:24:16.383Z"
   },
   {
    "duration": 67,
    "start_time": "2022-09-15T12:24:16.399Z"
   },
   {
    "duration": 107,
    "start_time": "2022-09-15T12:24:23.909Z"
   },
   {
    "duration": 5,
    "start_time": "2022-09-15T12:25:33.144Z"
   },
   {
    "duration": 6,
    "start_time": "2022-09-15T12:25:46.077Z"
   },
   {
    "duration": 6,
    "start_time": "2022-09-15T12:25:51.350Z"
   },
   {
    "duration": 4,
    "start_time": "2022-09-15T12:25:56.561Z"
   },
   {
    "duration": 4,
    "start_time": "2022-09-15T12:26:02.870Z"
   },
   {
    "duration": 118,
    "start_time": "2022-09-15T12:43:01.699Z"
   },
   {
    "duration": 134,
    "start_time": "2022-09-15T12:43:30.372Z"
   },
   {
    "duration": 109,
    "start_time": "2022-09-15T12:43:55.894Z"
   },
   {
    "duration": 111,
    "start_time": "2022-09-15T12:44:08.388Z"
   },
   {
    "duration": 116,
    "start_time": "2022-09-15T12:45:08.342Z"
   },
   {
    "duration": 98,
    "start_time": "2022-09-15T12:45:14.452Z"
   },
   {
    "duration": 5,
    "start_time": "2022-09-15T12:45:40.907Z"
   },
   {
    "duration": 10,
    "start_time": "2022-09-15T12:49:08.006Z"
   },
   {
    "duration": 7,
    "start_time": "2022-09-15T12:49:13.747Z"
   },
   {
    "duration": 13,
    "start_time": "2022-09-15T12:49:19.876Z"
   },
   {
    "duration": 7,
    "start_time": "2022-09-15T12:54:51.596Z"
   },
   {
    "duration": 148,
    "start_time": "2022-09-15T12:55:12.875Z"
   },
   {
    "duration": 122,
    "start_time": "2022-09-15T12:55:22.432Z"
   },
   {
    "duration": 16,
    "start_time": "2022-09-15T12:56:02.784Z"
   },
   {
    "duration": 193,
    "start_time": "2022-09-15T12:56:42.975Z"
   },
   {
    "duration": 154,
    "start_time": "2022-09-15T12:57:01.334Z"
   },
   {
    "duration": 140,
    "start_time": "2022-09-15T12:57:30.420Z"
   },
   {
    "duration": 59,
    "start_time": "2022-09-15T14:45:49.072Z"
   },
   {
    "duration": 928,
    "start_time": "2022-09-15T14:45:58.937Z"
   },
   {
    "duration": 182,
    "start_time": "2022-09-15T14:45:59.867Z"
   },
   {
    "duration": 13,
    "start_time": "2022-09-15T14:46:00.051Z"
   },
   {
    "duration": 15,
    "start_time": "2022-09-15T14:46:00.067Z"
   },
   {
    "duration": 8,
    "start_time": "2022-09-15T14:46:00.084Z"
   },
   {
    "duration": 29,
    "start_time": "2022-09-15T14:46:00.094Z"
   },
   {
    "duration": 13,
    "start_time": "2022-09-15T14:46:00.125Z"
   },
   {
    "duration": 33,
    "start_time": "2022-09-15T14:46:00.139Z"
   },
   {
    "duration": 26,
    "start_time": "2022-09-15T14:46:00.174Z"
   },
   {
    "duration": 31,
    "start_time": "2022-09-15T14:46:00.203Z"
   },
   {
    "duration": 29,
    "start_time": "2022-09-15T14:46:00.236Z"
   },
   {
    "duration": 22,
    "start_time": "2022-09-15T14:46:00.267Z"
   },
   {
    "duration": 35,
    "start_time": "2022-09-15T14:46:00.291Z"
   },
   {
    "duration": 39,
    "start_time": "2022-09-15T14:46:00.328Z"
   },
   {
    "duration": 21,
    "start_time": "2022-09-15T14:46:00.369Z"
   },
   {
    "duration": 21,
    "start_time": "2022-09-15T14:46:00.391Z"
   },
   {
    "duration": 25,
    "start_time": "2022-09-15T14:46:00.414Z"
   },
   {
    "duration": 20,
    "start_time": "2022-09-15T14:46:00.441Z"
   },
   {
    "duration": 38,
    "start_time": "2022-09-15T14:46:00.463Z"
   },
   {
    "duration": 334,
    "start_time": "2022-09-15T14:46:00.503Z"
   },
   {
    "duration": 8,
    "start_time": "2022-09-15T14:46:00.838Z"
   },
   {
    "duration": 311,
    "start_time": "2022-09-15T14:46:00.848Z"
   },
   {
    "duration": 217,
    "start_time": "2022-09-15T14:46:01.161Z"
   },
   {
    "duration": 388,
    "start_time": "2022-09-15T14:46:01.380Z"
   },
   {
    "duration": 276,
    "start_time": "2022-09-15T14:46:01.770Z"
   },
   {
    "duration": 275,
    "start_time": "2022-09-15T14:46:02.048Z"
   },
   {
    "duration": 18,
    "start_time": "2022-09-15T14:46:02.324Z"
   },
   {
    "duration": 145,
    "start_time": "2022-09-15T14:46:02.347Z"
   },
   {
    "duration": 7,
    "start_time": "2022-09-15T14:46:02.495Z"
   },
   {
    "duration": 197,
    "start_time": "2022-09-15T14:46:02.504Z"
   },
   {
    "duration": 5,
    "start_time": "2022-09-15T14:46:02.703Z"
   },
   {
    "duration": 22,
    "start_time": "2022-09-15T14:46:02.721Z"
   },
   {
    "duration": 14,
    "start_time": "2022-09-15T14:58:27.362Z"
   },
   {
    "duration": 44,
    "start_time": "2022-09-15T20:55:19.455Z"
   },
   {
    "duration": 750,
    "start_time": "2022-09-15T20:55:23.615Z"
   },
   {
    "duration": 186,
    "start_time": "2022-09-15T20:55:24.367Z"
   },
   {
    "duration": 12,
    "start_time": "2022-09-15T20:55:24.554Z"
   },
   {
    "duration": 13,
    "start_time": "2022-09-15T20:55:24.568Z"
   },
   {
    "duration": 8,
    "start_time": "2022-09-15T20:55:24.582Z"
   },
   {
    "duration": 11,
    "start_time": "2022-09-15T20:55:24.591Z"
   },
   {
    "duration": 5,
    "start_time": "2022-09-15T20:55:24.603Z"
   },
   {
    "duration": 24,
    "start_time": "2022-09-15T20:55:24.609Z"
   },
   {
    "duration": 23,
    "start_time": "2022-09-15T20:55:24.634Z"
   },
   {
    "duration": 14,
    "start_time": "2022-09-15T20:55:24.660Z"
   },
   {
    "duration": 10,
    "start_time": "2022-09-15T20:55:24.676Z"
   },
   {
    "duration": 15,
    "start_time": "2022-09-15T20:55:24.687Z"
   },
   {
    "duration": 4,
    "start_time": "2022-09-15T20:55:24.704Z"
   },
   {
    "duration": 17,
    "start_time": "2022-09-15T20:55:24.710Z"
   },
   {
    "duration": 6,
    "start_time": "2022-09-15T20:55:24.729Z"
   },
   {
    "duration": 16,
    "start_time": "2022-09-15T20:55:24.736Z"
   },
   {
    "duration": 25,
    "start_time": "2022-09-15T20:55:24.754Z"
   },
   {
    "duration": 9,
    "start_time": "2022-09-15T20:55:24.781Z"
   },
   {
    "duration": 12,
    "start_time": "2022-09-15T20:55:24.792Z"
   },
   {
    "duration": 278,
    "start_time": "2022-09-15T20:55:24.806Z"
   },
   {
    "duration": 6,
    "start_time": "2022-09-15T20:55:25.086Z"
   },
   {
    "duration": 245,
    "start_time": "2022-09-15T20:55:25.093Z"
   },
   {
    "duration": 165,
    "start_time": "2022-09-15T20:55:25.339Z"
   },
   {
    "duration": 335,
    "start_time": "2022-09-15T20:55:25.506Z"
   },
   {
    "duration": 224,
    "start_time": "2022-09-15T20:55:25.842Z"
   },
   {
    "duration": 236,
    "start_time": "2022-09-15T20:55:26.067Z"
   },
   {
    "duration": 22,
    "start_time": "2022-09-15T20:55:26.305Z"
   },
   {
    "duration": 108,
    "start_time": "2022-09-15T20:55:26.329Z"
   },
   {
    "duration": 4,
    "start_time": "2022-09-15T20:55:26.439Z"
   },
   {
    "duration": 124,
    "start_time": "2022-09-15T20:55:26.445Z"
   },
   {
    "duration": 5,
    "start_time": "2022-09-15T20:55:26.571Z"
   },
   {
    "duration": 25,
    "start_time": "2022-09-15T20:55:26.577Z"
   },
   {
    "duration": 21,
    "start_time": "2022-09-15T20:55:26.604Z"
   },
   {
    "duration": 21,
    "start_time": "2022-09-15T20:55:26.626Z"
   },
   {
    "duration": 5,
    "start_time": "2022-09-15T21:04:16.828Z"
   },
   {
    "duration": 91,
    "start_time": "2022-09-15T21:05:05.599Z"
   },
   {
    "duration": 11,
    "start_time": "2022-09-15T21:05:18.948Z"
   },
   {
    "duration": 10,
    "start_time": "2022-09-15T21:11:13.483Z"
   },
   {
    "duration": 8,
    "start_time": "2022-09-15T21:11:28.685Z"
   },
   {
    "duration": 5,
    "start_time": "2022-09-15T21:12:05.257Z"
   },
   {
    "duration": 6,
    "start_time": "2022-09-15T21:12:10.480Z"
   },
   {
    "duration": 5,
    "start_time": "2022-09-15T21:12:23.588Z"
   },
   {
    "duration": 12,
    "start_time": "2022-09-15T21:12:35.510Z"
   },
   {
    "duration": 10,
    "start_time": "2022-09-15T21:12:50.019Z"
   },
   {
    "duration": 7,
    "start_time": "2022-09-15T21:13:59.193Z"
   },
   {
    "duration": 16,
    "start_time": "2022-09-15T21:14:04.537Z"
   },
   {
    "duration": 673,
    "start_time": "2022-09-15T21:15:07.414Z"
   },
   {
    "duration": 76,
    "start_time": "2022-09-15T21:15:08.089Z"
   },
   {
    "duration": 10,
    "start_time": "2022-09-15T21:15:08.167Z"
   },
   {
    "duration": 12,
    "start_time": "2022-09-15T21:15:08.179Z"
   },
   {
    "duration": 4,
    "start_time": "2022-09-15T21:15:08.193Z"
   },
   {
    "duration": 13,
    "start_time": "2022-09-15T21:15:08.198Z"
   },
   {
    "duration": 8,
    "start_time": "2022-09-15T21:15:08.212Z"
   },
   {
    "duration": 11,
    "start_time": "2022-09-15T21:15:08.221Z"
   },
   {
    "duration": 14,
    "start_time": "2022-09-15T21:15:08.234Z"
   },
   {
    "duration": 78,
    "start_time": "2022-09-15T21:15:08.250Z"
   },
   {
    "duration": 0,
    "start_time": "2022-09-15T21:15:08.330Z"
   },
   {
    "duration": 0,
    "start_time": "2022-09-15T21:15:08.332Z"
   },
   {
    "duration": 0,
    "start_time": "2022-09-15T21:15:08.332Z"
   },
   {
    "duration": 0,
    "start_time": "2022-09-15T21:15:08.333Z"
   },
   {
    "duration": 0,
    "start_time": "2022-09-15T21:15:08.335Z"
   },
   {
    "duration": 0,
    "start_time": "2022-09-15T21:15:08.336Z"
   },
   {
    "duration": 0,
    "start_time": "2022-09-15T21:15:08.337Z"
   },
   {
    "duration": 0,
    "start_time": "2022-09-15T21:15:08.338Z"
   },
   {
    "duration": 0,
    "start_time": "2022-09-15T21:15:08.340Z"
   },
   {
    "duration": 0,
    "start_time": "2022-09-15T21:15:08.341Z"
   },
   {
    "duration": 0,
    "start_time": "2022-09-15T21:15:08.342Z"
   },
   {
    "duration": 0,
    "start_time": "2022-09-15T21:15:08.343Z"
   },
   {
    "duration": 0,
    "start_time": "2022-09-15T21:15:08.345Z"
   },
   {
    "duration": 0,
    "start_time": "2022-09-15T21:15:08.346Z"
   },
   {
    "duration": 0,
    "start_time": "2022-09-15T21:15:08.348Z"
   },
   {
    "duration": 0,
    "start_time": "2022-09-15T21:15:08.349Z"
   },
   {
    "duration": 0,
    "start_time": "2022-09-15T21:15:08.351Z"
   },
   {
    "duration": 0,
    "start_time": "2022-09-15T21:15:08.352Z"
   },
   {
    "duration": 0,
    "start_time": "2022-09-15T21:15:08.353Z"
   },
   {
    "duration": 0,
    "start_time": "2022-09-15T21:15:08.355Z"
   },
   {
    "duration": 0,
    "start_time": "2022-09-15T21:15:08.356Z"
   },
   {
    "duration": 0,
    "start_time": "2022-09-15T21:15:08.357Z"
   },
   {
    "duration": 0,
    "start_time": "2022-09-15T21:15:08.358Z"
   },
   {
    "duration": 0,
    "start_time": "2022-09-15T21:15:08.360Z"
   },
   {
    "duration": 0,
    "start_time": "2022-09-15T21:15:08.361Z"
   },
   {
    "duration": 7,
    "start_time": "2022-09-15T21:15:28.018Z"
   },
   {
    "duration": 8,
    "start_time": "2022-09-15T21:15:32.952Z"
   },
   {
    "duration": 7,
    "start_time": "2022-09-15T21:15:44.732Z"
   },
   {
    "duration": 12,
    "start_time": "2022-09-15T21:15:56.830Z"
   },
   {
    "duration": 998,
    "start_time": "2022-09-15T21:16:30.999Z"
   },
   {
    "duration": 17,
    "start_time": "2022-09-15T21:16:50.752Z"
   },
   {
    "duration": 7,
    "start_time": "2022-09-15T21:20:14.597Z"
   },
   {
    "duration": 8,
    "start_time": "2022-09-15T21:20:23.409Z"
   },
   {
    "duration": 7,
    "start_time": "2022-09-15T21:20:32.041Z"
   },
   {
    "duration": 16,
    "start_time": "2022-09-15T21:20:33.407Z"
   },
   {
    "duration": 14,
    "start_time": "2022-09-15T21:21:29.758Z"
   },
   {
    "duration": 8,
    "start_time": "2022-09-15T21:22:25.195Z"
   },
   {
    "duration": 11,
    "start_time": "2022-09-15T21:22:38.512Z"
   },
   {
    "duration": 8,
    "start_time": "2022-09-15T21:22:54.444Z"
   },
   {
    "duration": 11,
    "start_time": "2022-09-15T21:22:57.553Z"
   },
   {
    "duration": 14,
    "start_time": "2022-09-15T21:23:14.534Z"
   },
   {
    "duration": 12,
    "start_time": "2022-09-15T21:23:19.046Z"
   },
   {
    "duration": 566,
    "start_time": "2022-09-15T21:23:22.245Z"
   },
   {
    "duration": 86,
    "start_time": "2022-09-15T21:23:22.813Z"
   },
   {
    "duration": 11,
    "start_time": "2022-09-15T21:23:22.900Z"
   },
   {
    "duration": 6,
    "start_time": "2022-09-15T21:23:22.913Z"
   },
   {
    "duration": 4,
    "start_time": "2022-09-15T21:23:22.920Z"
   },
   {
    "duration": 13,
    "start_time": "2022-09-15T21:23:22.925Z"
   },
   {
    "duration": 7,
    "start_time": "2022-09-15T21:23:22.940Z"
   },
   {
    "duration": 17,
    "start_time": "2022-09-15T21:23:22.948Z"
   },
   {
    "duration": 15,
    "start_time": "2022-09-15T21:23:22.966Z"
   },
   {
    "duration": 9,
    "start_time": "2022-09-15T21:23:22.983Z"
   },
   {
    "duration": 15,
    "start_time": "2022-09-15T21:23:22.993Z"
   },
   {
    "duration": 10,
    "start_time": "2022-09-15T21:23:23.009Z"
   },
   {
    "duration": 6,
    "start_time": "2022-09-15T21:23:23.022Z"
   },
   {
    "duration": 13,
    "start_time": "2022-09-15T21:23:23.030Z"
   },
   {
    "duration": 7,
    "start_time": "2022-09-15T21:23:23.045Z"
   },
   {
    "duration": 14,
    "start_time": "2022-09-15T21:23:23.054Z"
   },
   {
    "duration": 8,
    "start_time": "2022-09-15T21:23:23.069Z"
   },
   {
    "duration": 16,
    "start_time": "2022-09-15T21:23:23.079Z"
   },
   {
    "duration": 30,
    "start_time": "2022-09-15T21:23:23.096Z"
   },
   {
    "duration": 13,
    "start_time": "2022-09-15T21:23:23.128Z"
   },
   {
    "duration": 14,
    "start_time": "2022-09-15T21:23:23.142Z"
   },
   {
    "duration": 270,
    "start_time": "2022-09-15T21:23:23.157Z"
   },
   {
    "duration": 5,
    "start_time": "2022-09-15T21:23:23.429Z"
   },
   {
    "duration": 237,
    "start_time": "2022-09-15T21:23:23.435Z"
   },
   {
    "duration": 158,
    "start_time": "2022-09-15T21:23:23.673Z"
   },
   {
    "duration": 262,
    "start_time": "2022-09-15T21:23:23.832Z"
   },
   {
    "duration": 236,
    "start_time": "2022-09-15T21:23:24.095Z"
   },
   {
    "duration": 267,
    "start_time": "2022-09-15T21:23:24.332Z"
   },
   {
    "duration": 23,
    "start_time": "2022-09-15T21:23:24.600Z"
   },
   {
    "duration": 106,
    "start_time": "2022-09-15T21:23:24.625Z"
   },
   {
    "duration": 4,
    "start_time": "2022-09-15T21:23:24.733Z"
   },
   {
    "duration": 132,
    "start_time": "2022-09-15T21:23:24.739Z"
   },
   {
    "duration": 5,
    "start_time": "2022-09-15T21:23:24.873Z"
   },
   {
    "duration": 25,
    "start_time": "2022-09-15T21:23:24.880Z"
   },
   {
    "duration": 19,
    "start_time": "2022-09-15T21:23:24.907Z"
   },
   {
    "duration": 16,
    "start_time": "2022-09-15T21:23:24.928Z"
   },
   {
    "duration": 9,
    "start_time": "2022-09-15T21:23:48.826Z"
   },
   {
    "duration": 13,
    "start_time": "2022-09-15T21:24:19.342Z"
   },
   {
    "duration": 80,
    "start_time": "2022-09-15T21:24:52.015Z"
   },
   {
    "duration": 10,
    "start_time": "2022-09-15T21:26:00.996Z"
   },
   {
    "duration": 9,
    "start_time": "2022-09-15T21:27:19.096Z"
   },
   {
    "duration": 10,
    "start_time": "2022-09-15T21:27:36.455Z"
   },
   {
    "duration": 10,
    "start_time": "2022-09-15T21:27:38.040Z"
   },
   {
    "duration": 162,
    "start_time": "2022-09-15T21:27:52.440Z"
   },
   {
    "duration": 7,
    "start_time": "2022-09-15T21:27:58.309Z"
   },
   {
    "duration": 9,
    "start_time": "2022-09-15T21:28:00.379Z"
   },
   {
    "duration": 9,
    "start_time": "2022-09-15T21:28:14.629Z"
   },
   {
    "duration": 9,
    "start_time": "2022-09-15T21:28:18.293Z"
   },
   {
    "duration": 8,
    "start_time": "2022-09-15T21:28:26.557Z"
   },
   {
    "duration": 8,
    "start_time": "2022-09-15T21:28:28.228Z"
   },
   {
    "duration": 9,
    "start_time": "2022-09-15T21:28:30.501Z"
   },
   {
    "duration": 6,
    "start_time": "2022-09-15T21:29:07.836Z"
   },
   {
    "duration": 12,
    "start_time": "2022-09-15T21:29:19.934Z"
   },
   {
    "duration": 585,
    "start_time": "2022-09-15T21:30:25.478Z"
   },
   {
    "duration": 76,
    "start_time": "2022-09-15T21:30:26.065Z"
   },
   {
    "duration": 14,
    "start_time": "2022-09-15T21:30:26.142Z"
   },
   {
    "duration": 16,
    "start_time": "2022-09-15T21:30:26.159Z"
   },
   {
    "duration": 10,
    "start_time": "2022-09-15T21:30:26.177Z"
   },
   {
    "duration": 18,
    "start_time": "2022-09-15T21:30:26.189Z"
   },
   {
    "duration": 10,
    "start_time": "2022-09-15T21:30:26.209Z"
   },
   {
    "duration": 20,
    "start_time": "2022-09-15T21:30:26.221Z"
   },
   {
    "duration": 17,
    "start_time": "2022-09-15T21:30:26.243Z"
   },
   {
    "duration": 8,
    "start_time": "2022-09-15T21:30:26.263Z"
   },
   {
    "duration": 13,
    "start_time": "2022-09-15T21:30:26.272Z"
   },
   {
    "duration": 11,
    "start_time": "2022-09-15T21:30:26.286Z"
   },
   {
    "duration": 28,
    "start_time": "2022-09-15T21:30:26.300Z"
   },
   {
    "duration": 15,
    "start_time": "2022-09-15T21:30:26.330Z"
   },
   {
    "duration": 15,
    "start_time": "2022-09-15T21:30:26.347Z"
   },
   {
    "duration": 22,
    "start_time": "2022-09-15T21:30:26.364Z"
   },
   {
    "duration": 11,
    "start_time": "2022-09-15T21:30:26.388Z"
   },
   {
    "duration": 20,
    "start_time": "2022-09-15T21:30:26.402Z"
   },
   {
    "duration": 16,
    "start_time": "2022-09-15T21:30:26.423Z"
   },
   {
    "duration": 17,
    "start_time": "2022-09-15T21:30:26.441Z"
   },
   {
    "duration": 15,
    "start_time": "2022-09-15T21:30:26.459Z"
   },
   {
    "duration": 8,
    "start_time": "2022-09-15T21:30:26.476Z"
   },
   {
    "duration": 15,
    "start_time": "2022-09-15T21:30:26.485Z"
   },
   {
    "duration": 295,
    "start_time": "2022-09-15T21:30:26.502Z"
   },
   {
    "duration": 5,
    "start_time": "2022-09-15T21:30:26.799Z"
   },
   {
    "duration": 255,
    "start_time": "2022-09-15T21:30:26.805Z"
   },
   {
    "duration": 166,
    "start_time": "2022-09-15T21:30:27.062Z"
   },
   {
    "duration": 303,
    "start_time": "2022-09-15T21:30:27.231Z"
   },
   {
    "duration": 237,
    "start_time": "2022-09-15T21:30:27.536Z"
   },
   {
    "duration": 256,
    "start_time": "2022-09-15T21:30:27.776Z"
   },
   {
    "duration": 11,
    "start_time": "2022-09-15T21:30:28.034Z"
   },
   {
    "duration": 117,
    "start_time": "2022-09-15T21:30:28.047Z"
   },
   {
    "duration": 5,
    "start_time": "2022-09-15T21:30:28.165Z"
   },
   {
    "duration": 137,
    "start_time": "2022-09-15T21:30:28.172Z"
   },
   {
    "duration": 14,
    "start_time": "2022-09-15T21:30:28.311Z"
   },
   {
    "duration": 49,
    "start_time": "2022-09-15T21:30:28.326Z"
   },
   {
    "duration": 16,
    "start_time": "2022-09-15T21:30:28.377Z"
   },
   {
    "duration": 24,
    "start_time": "2022-09-15T21:30:28.394Z"
   },
   {
    "duration": 757,
    "start_time": "2022-09-16T12:43:22.134Z"
   },
   {
    "duration": 202,
    "start_time": "2022-09-16T12:43:22.893Z"
   },
   {
    "duration": 11,
    "start_time": "2022-09-16T12:43:23.097Z"
   },
   {
    "duration": 6,
    "start_time": "2022-09-16T12:43:23.109Z"
   },
   {
    "duration": 3,
    "start_time": "2022-09-16T12:43:23.117Z"
   },
   {
    "duration": 14,
    "start_time": "2022-09-16T12:43:23.121Z"
   },
   {
    "duration": 10,
    "start_time": "2022-09-16T12:43:23.136Z"
   },
   {
    "duration": 11,
    "start_time": "2022-09-16T12:43:23.147Z"
   },
   {
    "duration": 11,
    "start_time": "2022-09-16T12:43:23.160Z"
   },
   {
    "duration": 7,
    "start_time": "2022-09-16T12:43:23.173Z"
   },
   {
    "duration": 79,
    "start_time": "2022-09-16T12:43:23.181Z"
   },
   {
    "duration": 0,
    "start_time": "2022-09-16T12:43:23.262Z"
   },
   {
    "duration": 0,
    "start_time": "2022-09-16T12:43:23.263Z"
   },
   {
    "duration": 0,
    "start_time": "2022-09-16T12:43:23.264Z"
   },
   {
    "duration": 0,
    "start_time": "2022-09-16T12:43:23.265Z"
   },
   {
    "duration": 0,
    "start_time": "2022-09-16T12:43:23.266Z"
   },
   {
    "duration": 0,
    "start_time": "2022-09-16T12:43:23.267Z"
   },
   {
    "duration": 0,
    "start_time": "2022-09-16T12:43:23.268Z"
   },
   {
    "duration": 0,
    "start_time": "2022-09-16T12:43:23.269Z"
   },
   {
    "duration": 0,
    "start_time": "2022-09-16T12:43:23.270Z"
   },
   {
    "duration": 0,
    "start_time": "2022-09-16T12:43:23.270Z"
   },
   {
    "duration": 0,
    "start_time": "2022-09-16T12:43:23.271Z"
   },
   {
    "duration": 0,
    "start_time": "2022-09-16T12:43:23.272Z"
   },
   {
    "duration": 0,
    "start_time": "2022-09-16T12:43:23.273Z"
   },
   {
    "duration": 0,
    "start_time": "2022-09-16T12:43:23.274Z"
   },
   {
    "duration": 0,
    "start_time": "2022-09-16T12:43:23.274Z"
   },
   {
    "duration": 0,
    "start_time": "2022-09-16T12:43:23.275Z"
   },
   {
    "duration": 0,
    "start_time": "2022-09-16T12:43:23.276Z"
   },
   {
    "duration": 0,
    "start_time": "2022-09-16T12:43:23.277Z"
   },
   {
    "duration": 0,
    "start_time": "2022-09-16T12:43:23.278Z"
   },
   {
    "duration": 0,
    "start_time": "2022-09-16T12:43:23.279Z"
   },
   {
    "duration": 0,
    "start_time": "2022-09-16T12:43:23.280Z"
   },
   {
    "duration": 0,
    "start_time": "2022-09-16T12:43:23.281Z"
   },
   {
    "duration": 0,
    "start_time": "2022-09-16T12:43:23.282Z"
   },
   {
    "duration": 0,
    "start_time": "2022-09-16T12:43:23.283Z"
   },
   {
    "duration": 1,
    "start_time": "2022-09-16T12:43:23.283Z"
   },
   {
    "duration": 0,
    "start_time": "2022-09-16T12:43:23.285Z"
   },
   {
    "duration": 46,
    "start_time": "2022-09-16T12:43:32.738Z"
   },
   {
    "duration": 4,
    "start_time": "2022-09-16T12:45:13.427Z"
   },
   {
    "duration": 8,
    "start_time": "2022-09-16T12:45:19.408Z"
   },
   {
    "duration": 4,
    "start_time": "2022-09-16T12:45:38.746Z"
   },
   {
    "duration": 573,
    "start_time": "2022-09-16T12:45:44.727Z"
   },
   {
    "duration": 80,
    "start_time": "2022-09-16T12:45:45.302Z"
   },
   {
    "duration": 10,
    "start_time": "2022-09-16T12:45:45.384Z"
   },
   {
    "duration": 5,
    "start_time": "2022-09-16T12:45:45.396Z"
   },
   {
    "duration": 26,
    "start_time": "2022-09-16T12:45:45.403Z"
   },
   {
    "duration": 22,
    "start_time": "2022-09-16T12:45:45.431Z"
   },
   {
    "duration": 29,
    "start_time": "2022-09-16T12:45:45.454Z"
   },
   {
    "duration": 22,
    "start_time": "2022-09-16T12:45:45.485Z"
   },
   {
    "duration": 37,
    "start_time": "2022-09-16T12:45:45.508Z"
   },
   {
    "duration": 19,
    "start_time": "2022-09-16T12:45:45.546Z"
   },
   {
    "duration": 26,
    "start_time": "2022-09-16T12:45:45.566Z"
   },
   {
    "duration": 29,
    "start_time": "2022-09-16T12:45:45.593Z"
   },
   {
    "duration": 21,
    "start_time": "2022-09-16T12:45:45.623Z"
   },
   {
    "duration": 31,
    "start_time": "2022-09-16T12:45:45.647Z"
   },
   {
    "duration": 26,
    "start_time": "2022-09-16T12:45:45.679Z"
   },
   {
    "duration": 27,
    "start_time": "2022-09-16T12:45:45.706Z"
   },
   {
    "duration": 25,
    "start_time": "2022-09-16T12:45:45.735Z"
   },
   {
    "duration": 35,
    "start_time": "2022-09-16T12:45:45.762Z"
   },
   {
    "duration": 26,
    "start_time": "2022-09-16T12:45:45.798Z"
   },
   {
    "duration": 27,
    "start_time": "2022-09-16T12:45:45.826Z"
   },
   {
    "duration": 22,
    "start_time": "2022-09-16T12:45:45.855Z"
   },
   {
    "duration": 30,
    "start_time": "2022-09-16T12:45:45.878Z"
   },
   {
    "duration": 29,
    "start_time": "2022-09-16T12:45:45.910Z"
   },
   {
    "duration": 21,
    "start_time": "2022-09-16T12:45:45.941Z"
   },
   {
    "duration": 20,
    "start_time": "2022-09-16T12:45:45.963Z"
   },
   {
    "duration": 305,
    "start_time": "2022-09-16T12:45:45.985Z"
   },
   {
    "duration": 12,
    "start_time": "2022-09-16T12:45:46.291Z"
   },
   {
    "duration": 255,
    "start_time": "2022-09-16T12:45:46.304Z"
   },
   {
    "duration": 172,
    "start_time": "2022-09-16T12:45:46.561Z"
   },
   {
    "duration": 251,
    "start_time": "2022-09-16T12:45:46.734Z"
   },
   {
    "duration": 224,
    "start_time": "2022-09-16T12:45:46.987Z"
   },
   {
    "duration": 272,
    "start_time": "2022-09-16T12:45:47.213Z"
   },
   {
    "duration": 16,
    "start_time": "2022-09-16T12:45:47.487Z"
   },
   {
    "duration": 110,
    "start_time": "2022-09-16T12:45:47.505Z"
   },
   {
    "duration": 4,
    "start_time": "2022-09-16T12:45:47.617Z"
   },
   {
    "duration": 145,
    "start_time": "2022-09-16T12:45:47.623Z"
   },
   {
    "duration": 4,
    "start_time": "2022-09-16T12:45:47.769Z"
   },
   {
    "duration": 17,
    "start_time": "2022-09-16T12:45:47.775Z"
   },
   {
    "duration": 10,
    "start_time": "2022-09-16T12:46:33.216Z"
   },
   {
    "duration": 560,
    "start_time": "2022-09-16T12:46:39.543Z"
   },
   {
    "duration": 77,
    "start_time": "2022-09-16T12:46:40.105Z"
   },
   {
    "duration": 9,
    "start_time": "2022-09-16T12:46:40.184Z"
   },
   {
    "duration": 10,
    "start_time": "2022-09-16T12:46:40.195Z"
   },
   {
    "duration": 6,
    "start_time": "2022-09-16T12:46:40.207Z"
   },
   {
    "duration": 13,
    "start_time": "2022-09-16T12:46:40.214Z"
   },
   {
    "duration": 7,
    "start_time": "2022-09-16T12:46:40.228Z"
   },
   {
    "duration": 11,
    "start_time": "2022-09-16T12:46:40.237Z"
   },
   {
    "duration": 14,
    "start_time": "2022-09-16T12:46:40.250Z"
   },
   {
    "duration": 14,
    "start_time": "2022-09-16T12:46:40.265Z"
   },
   {
    "duration": 17,
    "start_time": "2022-09-16T12:46:40.280Z"
   },
   {
    "duration": 16,
    "start_time": "2022-09-16T12:46:40.298Z"
   },
   {
    "duration": 11,
    "start_time": "2022-09-16T12:46:40.315Z"
   },
   {
    "duration": 9,
    "start_time": "2022-09-16T12:46:40.329Z"
   },
   {
    "duration": 10,
    "start_time": "2022-09-16T12:46:40.339Z"
   },
   {
    "duration": 15,
    "start_time": "2022-09-16T12:46:40.350Z"
   },
   {
    "duration": 11,
    "start_time": "2022-09-16T12:46:40.366Z"
   },
   {
    "duration": 22,
    "start_time": "2022-09-16T12:46:40.378Z"
   },
   {
    "duration": 10,
    "start_time": "2022-09-16T12:46:40.402Z"
   },
   {
    "duration": 5,
    "start_time": "2022-09-16T12:46:40.414Z"
   },
   {
    "duration": 13,
    "start_time": "2022-09-16T12:46:40.420Z"
   },
   {
    "duration": 6,
    "start_time": "2022-09-16T12:46:40.435Z"
   },
   {
    "duration": 12,
    "start_time": "2022-09-16T12:46:40.442Z"
   },
   {
    "duration": 13,
    "start_time": "2022-09-16T12:46:40.456Z"
   },
   {
    "duration": 10,
    "start_time": "2022-09-16T12:46:40.470Z"
   },
   {
    "duration": 22,
    "start_time": "2022-09-16T12:46:40.481Z"
   },
   {
    "duration": 284,
    "start_time": "2022-09-16T12:46:40.504Z"
   },
   {
    "duration": 14,
    "start_time": "2022-09-16T12:46:40.790Z"
   },
   {
    "duration": 242,
    "start_time": "2022-09-16T12:46:40.806Z"
   },
   {
    "duration": 174,
    "start_time": "2022-09-16T12:46:41.049Z"
   },
   {
    "duration": 264,
    "start_time": "2022-09-16T12:46:41.225Z"
   },
   {
    "duration": 244,
    "start_time": "2022-09-16T12:46:41.501Z"
   },
   {
    "duration": 232,
    "start_time": "2022-09-16T12:46:41.747Z"
   },
   {
    "duration": 21,
    "start_time": "2022-09-16T12:46:41.980Z"
   },
   {
    "duration": 103,
    "start_time": "2022-09-16T12:46:42.002Z"
   },
   {
    "duration": 4,
    "start_time": "2022-09-16T12:46:42.107Z"
   },
   {
    "duration": 134,
    "start_time": "2022-09-16T12:46:42.112Z"
   },
   {
    "duration": 4,
    "start_time": "2022-09-16T12:46:42.248Z"
   },
   {
    "duration": 22,
    "start_time": "2022-09-16T12:46:42.254Z"
   },
   {
    "duration": 4,
    "start_time": "2022-09-16T12:48:49.821Z"
   },
   {
    "duration": 597,
    "start_time": "2022-09-16T12:48:53.654Z"
   },
   {
    "duration": 77,
    "start_time": "2022-09-16T12:48:54.253Z"
   },
   {
    "duration": 11,
    "start_time": "2022-09-16T12:48:54.332Z"
   },
   {
    "duration": 7,
    "start_time": "2022-09-16T12:48:54.345Z"
   },
   {
    "duration": 4,
    "start_time": "2022-09-16T12:48:54.353Z"
   },
   {
    "duration": 13,
    "start_time": "2022-09-16T12:48:54.359Z"
   },
   {
    "duration": 17,
    "start_time": "2022-09-16T12:48:54.373Z"
   },
   {
    "duration": 18,
    "start_time": "2022-09-16T12:48:54.392Z"
   },
   {
    "duration": 21,
    "start_time": "2022-09-16T12:48:54.412Z"
   },
   {
    "duration": 16,
    "start_time": "2022-09-16T12:48:54.436Z"
   },
   {
    "duration": 8,
    "start_time": "2022-09-16T12:48:54.454Z"
   },
   {
    "duration": 7,
    "start_time": "2022-09-16T12:48:54.465Z"
   },
   {
    "duration": 10,
    "start_time": "2022-09-16T12:48:54.474Z"
   },
   {
    "duration": 13,
    "start_time": "2022-09-16T12:48:54.488Z"
   },
   {
    "duration": 28,
    "start_time": "2022-09-16T12:48:54.503Z"
   },
   {
    "duration": 37,
    "start_time": "2022-09-16T12:48:54.534Z"
   },
   {
    "duration": 31,
    "start_time": "2022-09-16T12:48:54.572Z"
   },
   {
    "duration": 18,
    "start_time": "2022-09-16T12:48:54.605Z"
   },
   {
    "duration": 20,
    "start_time": "2022-09-16T12:48:54.625Z"
   },
   {
    "duration": 15,
    "start_time": "2022-09-16T12:48:54.647Z"
   },
   {
    "duration": 13,
    "start_time": "2022-09-16T12:48:54.664Z"
   },
   {
    "duration": 9,
    "start_time": "2022-09-16T12:48:54.679Z"
   },
   {
    "duration": 11,
    "start_time": "2022-09-16T12:48:54.690Z"
   },
   {
    "duration": 20,
    "start_time": "2022-09-16T12:48:54.702Z"
   },
   {
    "duration": 6,
    "start_time": "2022-09-16T12:48:54.723Z"
   },
   {
    "duration": 12,
    "start_time": "2022-09-16T12:48:54.731Z"
   },
   {
    "duration": 302,
    "start_time": "2022-09-16T12:48:54.745Z"
   },
   {
    "duration": 7,
    "start_time": "2022-09-16T12:48:55.049Z"
   },
   {
    "duration": 251,
    "start_time": "2022-09-16T12:48:55.058Z"
   },
   {
    "duration": 180,
    "start_time": "2022-09-16T12:48:55.311Z"
   },
   {
    "duration": 288,
    "start_time": "2022-09-16T12:48:55.493Z"
   },
   {
    "duration": 232,
    "start_time": "2022-09-16T12:48:55.783Z"
   },
   {
    "duration": 257,
    "start_time": "2022-09-16T12:48:56.017Z"
   },
   {
    "duration": 25,
    "start_time": "2022-09-16T12:48:56.276Z"
   },
   {
    "duration": 121,
    "start_time": "2022-09-16T12:48:56.302Z"
   },
   {
    "duration": 5,
    "start_time": "2022-09-16T12:48:56.424Z"
   },
   {
    "duration": 132,
    "start_time": "2022-09-16T12:48:56.431Z"
   },
   {
    "duration": 5,
    "start_time": "2022-09-16T12:48:56.564Z"
   },
   {
    "duration": 22,
    "start_time": "2022-09-16T12:48:56.570Z"
   },
   {
    "duration": 10,
    "start_time": "2022-09-16T12:49:41.041Z"
   },
   {
    "duration": 640,
    "start_time": "2022-09-16T12:49:50.471Z"
   },
   {
    "duration": 80,
    "start_time": "2022-09-16T12:49:51.113Z"
   },
   {
    "duration": 10,
    "start_time": "2022-09-16T12:49:51.195Z"
   },
   {
    "duration": 5,
    "start_time": "2022-09-16T12:49:51.207Z"
   },
   {
    "duration": 16,
    "start_time": "2022-09-16T12:49:51.214Z"
   },
   {
    "duration": 24,
    "start_time": "2022-09-16T12:49:51.231Z"
   },
   {
    "duration": 10,
    "start_time": "2022-09-16T12:49:51.257Z"
   },
   {
    "duration": 23,
    "start_time": "2022-09-16T12:49:51.269Z"
   },
   {
    "duration": 30,
    "start_time": "2022-09-16T12:49:51.294Z"
   },
   {
    "duration": 15,
    "start_time": "2022-09-16T12:49:51.326Z"
   },
   {
    "duration": 11,
    "start_time": "2022-09-16T12:49:51.342Z"
   },
   {
    "duration": 17,
    "start_time": "2022-09-16T12:49:51.355Z"
   },
   {
    "duration": 10,
    "start_time": "2022-09-16T12:49:51.374Z"
   },
   {
    "duration": 17,
    "start_time": "2022-09-16T12:49:51.387Z"
   },
   {
    "duration": 11,
    "start_time": "2022-09-16T12:49:51.405Z"
   },
   {
    "duration": 10,
    "start_time": "2022-09-16T12:49:51.418Z"
   },
   {
    "duration": 23,
    "start_time": "2022-09-16T12:49:51.430Z"
   },
   {
    "duration": 9,
    "start_time": "2022-09-16T12:49:51.455Z"
   },
   {
    "duration": 13,
    "start_time": "2022-09-16T12:49:51.466Z"
   },
   {
    "duration": 25,
    "start_time": "2022-09-16T12:49:51.480Z"
   },
   {
    "duration": 8,
    "start_time": "2022-09-16T12:49:51.507Z"
   },
   {
    "duration": 26,
    "start_time": "2022-09-16T12:49:51.516Z"
   },
   {
    "duration": 21,
    "start_time": "2022-09-16T12:49:51.543Z"
   },
   {
    "duration": 17,
    "start_time": "2022-09-16T12:49:51.566Z"
   },
   {
    "duration": 18,
    "start_time": "2022-09-16T12:49:51.584Z"
   },
   {
    "duration": 14,
    "start_time": "2022-09-16T12:49:51.603Z"
   },
   {
    "duration": 16,
    "start_time": "2022-09-16T12:49:51.619Z"
   },
   {
    "duration": 279,
    "start_time": "2022-09-16T12:49:51.637Z"
   },
   {
    "duration": 6,
    "start_time": "2022-09-16T12:49:51.917Z"
   },
   {
    "duration": 257,
    "start_time": "2022-09-16T12:49:51.925Z"
   },
   {
    "duration": 169,
    "start_time": "2022-09-16T12:49:52.184Z"
   },
   {
    "duration": 223,
    "start_time": "2022-09-16T12:49:52.355Z"
   },
   {
    "duration": 218,
    "start_time": "2022-09-16T12:49:52.599Z"
   },
   {
    "duration": 246,
    "start_time": "2022-09-16T12:49:52.819Z"
   },
   {
    "duration": 12,
    "start_time": "2022-09-16T12:49:53.067Z"
   },
   {
    "duration": 133,
    "start_time": "2022-09-16T12:49:53.081Z"
   },
   {
    "duration": 4,
    "start_time": "2022-09-16T12:49:53.216Z"
   },
   {
    "duration": 150,
    "start_time": "2022-09-16T12:49:53.222Z"
   },
   {
    "duration": 5,
    "start_time": "2022-09-16T12:49:53.374Z"
   },
   {
    "duration": 27,
    "start_time": "2022-09-16T12:49:53.381Z"
   },
   {
    "duration": 636,
    "start_time": "2022-09-16T12:52:45.584Z"
   },
   {
    "duration": 83,
    "start_time": "2022-09-16T12:52:46.222Z"
   },
   {
    "duration": 11,
    "start_time": "2022-09-16T12:52:46.306Z"
   },
   {
    "duration": 5,
    "start_time": "2022-09-16T12:52:46.318Z"
   },
   {
    "duration": 3,
    "start_time": "2022-09-16T12:52:46.325Z"
   },
   {
    "duration": 13,
    "start_time": "2022-09-16T12:52:46.329Z"
   },
   {
    "duration": 5,
    "start_time": "2022-09-16T12:52:46.344Z"
   },
   {
    "duration": 12,
    "start_time": "2022-09-16T12:52:46.350Z"
   },
   {
    "duration": 12,
    "start_time": "2022-09-16T12:52:46.364Z"
   },
   {
    "duration": 29,
    "start_time": "2022-09-16T12:52:46.379Z"
   },
   {
    "duration": 21,
    "start_time": "2022-09-16T12:52:46.410Z"
   },
   {
    "duration": 13,
    "start_time": "2022-09-16T12:52:46.433Z"
   },
   {
    "duration": 17,
    "start_time": "2022-09-16T12:52:46.448Z"
   },
   {
    "duration": 6,
    "start_time": "2022-09-16T12:52:46.467Z"
   },
   {
    "duration": 26,
    "start_time": "2022-09-16T12:52:46.475Z"
   },
   {
    "duration": 10,
    "start_time": "2022-09-16T12:52:46.503Z"
   },
   {
    "duration": 13,
    "start_time": "2022-09-16T12:52:46.514Z"
   },
   {
    "duration": 13,
    "start_time": "2022-09-16T12:52:46.529Z"
   },
   {
    "duration": 16,
    "start_time": "2022-09-16T12:52:46.543Z"
   },
   {
    "duration": 8,
    "start_time": "2022-09-16T12:52:46.560Z"
   },
   {
    "duration": 12,
    "start_time": "2022-09-16T12:52:46.569Z"
   },
   {
    "duration": 280,
    "start_time": "2022-09-16T12:52:46.583Z"
   },
   {
    "duration": 6,
    "start_time": "2022-09-16T12:52:46.864Z"
   },
   {
    "duration": 235,
    "start_time": "2022-09-16T12:52:46.871Z"
   },
   {
    "duration": 161,
    "start_time": "2022-09-16T12:52:47.107Z"
   },
   {
    "duration": 279,
    "start_time": "2022-09-16T12:52:47.269Z"
   },
   {
    "duration": 236,
    "start_time": "2022-09-16T12:52:47.550Z"
   },
   {
    "duration": 273,
    "start_time": "2022-09-16T12:52:47.788Z"
   },
   {
    "duration": 13,
    "start_time": "2022-09-16T12:52:48.063Z"
   },
   {
    "duration": 130,
    "start_time": "2022-09-16T12:52:48.078Z"
   },
   {
    "duration": 4,
    "start_time": "2022-09-16T12:52:48.211Z"
   },
   {
    "duration": 128,
    "start_time": "2022-09-16T12:52:48.217Z"
   },
   {
    "duration": 5,
    "start_time": "2022-09-16T12:52:48.347Z"
   },
   {
    "duration": 17,
    "start_time": "2022-09-16T12:52:48.353Z"
   },
   {
    "duration": 11,
    "start_time": "2022-09-16T12:53:38.859Z"
   },
   {
    "duration": 8,
    "start_time": "2022-09-16T12:55:19.210Z"
   },
   {
    "duration": 13,
    "start_time": "2022-09-16T13:05:22.482Z"
   },
   {
    "duration": 81,
    "start_time": "2022-09-16T13:08:15.908Z"
   },
   {
    "duration": 547,
    "start_time": "2022-09-16T13:08:23.528Z"
   },
   {
    "duration": 79,
    "start_time": "2022-09-16T13:08:24.077Z"
   },
   {
    "duration": 14,
    "start_time": "2022-09-16T13:08:24.158Z"
   },
   {
    "duration": 9,
    "start_time": "2022-09-16T13:08:24.174Z"
   },
   {
    "duration": 11,
    "start_time": "2022-09-16T13:08:24.185Z"
   },
   {
    "duration": 13,
    "start_time": "2022-09-16T13:08:24.197Z"
   },
   {
    "duration": 5,
    "start_time": "2022-09-16T13:08:24.212Z"
   },
   {
    "duration": 10,
    "start_time": "2022-09-16T13:08:24.219Z"
   },
   {
    "duration": 18,
    "start_time": "2022-09-16T13:08:24.231Z"
   },
   {
    "duration": 20,
    "start_time": "2022-09-16T13:08:24.251Z"
   },
   {
    "duration": 29,
    "start_time": "2022-09-16T13:08:24.272Z"
   },
   {
    "duration": 6,
    "start_time": "2022-09-16T13:08:24.303Z"
   },
   {
    "duration": 10,
    "start_time": "2022-09-16T13:08:24.311Z"
   },
   {
    "duration": 4,
    "start_time": "2022-09-16T13:08:24.324Z"
   },
   {
    "duration": 18,
    "start_time": "2022-09-16T13:08:24.330Z"
   },
   {
    "duration": 7,
    "start_time": "2022-09-16T13:08:24.350Z"
   },
   {
    "duration": 12,
    "start_time": "2022-09-16T13:08:24.358Z"
   },
   {
    "duration": 40,
    "start_time": "2022-09-16T13:08:24.372Z"
   },
   {
    "duration": 9,
    "start_time": "2022-09-16T13:08:24.414Z"
   },
   {
    "duration": 15,
    "start_time": "2022-09-16T13:08:24.425Z"
   },
   {
    "duration": 18,
    "start_time": "2022-09-16T13:08:24.442Z"
   },
   {
    "duration": 11,
    "start_time": "2022-09-16T13:08:24.462Z"
   },
   {
    "duration": 25,
    "start_time": "2022-09-16T13:08:24.475Z"
   },
   {
    "duration": 313,
    "start_time": "2022-09-16T13:08:24.502Z"
   },
   {
    "duration": 6,
    "start_time": "2022-09-16T13:08:24.817Z"
   },
   {
    "duration": 231,
    "start_time": "2022-09-16T13:08:24.824Z"
   },
   {
    "duration": 169,
    "start_time": "2022-09-16T13:08:25.056Z"
   },
   {
    "duration": 257,
    "start_time": "2022-09-16T13:08:25.227Z"
   },
   {
    "duration": 235,
    "start_time": "2022-09-16T13:08:25.486Z"
   },
   {
    "duration": 256,
    "start_time": "2022-09-16T13:08:25.723Z"
   },
   {
    "duration": 20,
    "start_time": "2022-09-16T13:08:25.981Z"
   },
   {
    "duration": 121,
    "start_time": "2022-09-16T13:08:26.002Z"
   },
   {
    "duration": 6,
    "start_time": "2022-09-16T13:08:26.124Z"
   },
   {
    "duration": 133,
    "start_time": "2022-09-16T13:08:26.132Z"
   },
   {
    "duration": 6,
    "start_time": "2022-09-16T13:08:26.267Z"
   },
   {
    "duration": 29,
    "start_time": "2022-09-16T13:08:26.274Z"
   },
   {
    "duration": 12,
    "start_time": "2022-09-16T13:08:26.305Z"
   },
   {
    "duration": 5,
    "start_time": "2022-09-16T13:08:26.319Z"
   },
   {
    "duration": 602,
    "start_time": "2022-09-16T13:08:55.021Z"
   },
   {
    "duration": 79,
    "start_time": "2022-09-16T13:08:55.624Z"
   },
   {
    "duration": 12,
    "start_time": "2022-09-16T13:08:55.704Z"
   },
   {
    "duration": 5,
    "start_time": "2022-09-16T13:08:55.718Z"
   },
   {
    "duration": 4,
    "start_time": "2022-09-16T13:08:55.724Z"
   },
   {
    "duration": 10,
    "start_time": "2022-09-16T13:08:55.729Z"
   },
   {
    "duration": 7,
    "start_time": "2022-09-16T13:08:55.741Z"
   },
   {
    "duration": 12,
    "start_time": "2022-09-16T13:08:55.750Z"
   },
   {
    "duration": 11,
    "start_time": "2022-09-16T13:08:55.764Z"
   },
   {
    "duration": 10,
    "start_time": "2022-09-16T13:08:55.801Z"
   },
   {
    "duration": 16,
    "start_time": "2022-09-16T13:08:55.814Z"
   },
   {
    "duration": 8,
    "start_time": "2022-09-16T13:08:55.832Z"
   },
   {
    "duration": 12,
    "start_time": "2022-09-16T13:08:55.841Z"
   },
   {
    "duration": 6,
    "start_time": "2022-09-16T13:08:55.854Z"
   },
   {
    "duration": 10,
    "start_time": "2022-09-16T13:08:55.862Z"
   },
   {
    "duration": 29,
    "start_time": "2022-09-16T13:08:55.874Z"
   },
   {
    "duration": 10,
    "start_time": "2022-09-16T13:08:55.905Z"
   },
   {
    "duration": 12,
    "start_time": "2022-09-16T13:08:55.916Z"
   },
   {
    "duration": 2,
    "start_time": "2022-09-16T13:08:55.930Z"
   },
   {
    "duration": 4,
    "start_time": "2022-09-16T13:08:55.934Z"
   },
   {
    "duration": 16,
    "start_time": "2022-09-16T13:08:55.940Z"
   },
   {
    "duration": 6,
    "start_time": "2022-09-16T13:08:55.958Z"
   },
   {
    "duration": 36,
    "start_time": "2022-09-16T13:08:55.965Z"
   },
   {
    "duration": 279,
    "start_time": "2022-09-16T13:08:56.003Z"
   },
   {
    "duration": 7,
    "start_time": "2022-09-16T13:08:56.284Z"
   },
   {
    "duration": 253,
    "start_time": "2022-09-16T13:08:56.292Z"
   },
   {
    "duration": 189,
    "start_time": "2022-09-16T13:08:56.547Z"
   },
   {
    "duration": 263,
    "start_time": "2022-09-16T13:08:56.739Z"
   },
   {
    "duration": 237,
    "start_time": "2022-09-16T13:08:57.004Z"
   },
   {
    "duration": 262,
    "start_time": "2022-09-16T13:08:57.243Z"
   },
   {
    "duration": 13,
    "start_time": "2022-09-16T13:08:57.507Z"
   },
   {
    "duration": 115,
    "start_time": "2022-09-16T13:08:57.521Z"
   },
   {
    "duration": 4,
    "start_time": "2022-09-16T13:08:57.638Z"
   },
   {
    "duration": 131,
    "start_time": "2022-09-16T13:08:57.643Z"
   },
   {
    "duration": 5,
    "start_time": "2022-09-16T13:08:57.775Z"
   },
   {
    "duration": 26,
    "start_time": "2022-09-16T13:08:57.782Z"
   },
   {
    "duration": 11,
    "start_time": "2022-09-16T13:08:57.810Z"
   },
   {
    "duration": 5,
    "start_time": "2022-09-16T13:08:57.823Z"
   },
   {
    "duration": 591,
    "start_time": "2022-09-16T13:09:15.628Z"
   },
   {
    "duration": 86,
    "start_time": "2022-09-16T13:09:16.221Z"
   },
   {
    "duration": 9,
    "start_time": "2022-09-16T13:09:16.309Z"
   },
   {
    "duration": 9,
    "start_time": "2022-09-16T13:09:16.320Z"
   },
   {
    "duration": 3,
    "start_time": "2022-09-16T13:09:16.331Z"
   },
   {
    "duration": 16,
    "start_time": "2022-09-16T13:09:16.336Z"
   },
   {
    "duration": 6,
    "start_time": "2022-09-16T13:09:16.353Z"
   },
   {
    "duration": 11,
    "start_time": "2022-09-16T13:09:16.361Z"
   },
   {
    "duration": 11,
    "start_time": "2022-09-16T13:09:16.374Z"
   },
   {
    "duration": 19,
    "start_time": "2022-09-16T13:09:16.387Z"
   },
   {
    "duration": 11,
    "start_time": "2022-09-16T13:09:16.407Z"
   },
   {
    "duration": 8,
    "start_time": "2022-09-16T13:09:16.419Z"
   },
   {
    "duration": 11,
    "start_time": "2022-09-16T13:09:16.428Z"
   },
   {
    "duration": 4,
    "start_time": "2022-09-16T13:09:16.442Z"
   },
   {
    "duration": 10,
    "start_time": "2022-09-16T13:09:16.447Z"
   },
   {
    "duration": 8,
    "start_time": "2022-09-16T13:09:16.459Z"
   },
   {
    "duration": 44,
    "start_time": "2022-09-16T13:09:16.469Z"
   },
   {
    "duration": 15,
    "start_time": "2022-09-16T13:09:16.515Z"
   },
   {
    "duration": 3,
    "start_time": "2022-09-16T13:09:16.532Z"
   },
   {
    "duration": 14,
    "start_time": "2022-09-16T13:09:16.537Z"
   },
   {
    "duration": 16,
    "start_time": "2022-09-16T13:09:16.553Z"
   },
   {
    "duration": 31,
    "start_time": "2022-09-16T13:09:16.571Z"
   },
   {
    "duration": 12,
    "start_time": "2022-09-16T13:09:16.603Z"
   },
   {
    "duration": 280,
    "start_time": "2022-09-16T13:09:16.617Z"
   },
   {
    "duration": 6,
    "start_time": "2022-09-16T13:09:16.900Z"
   },
   {
    "duration": 256,
    "start_time": "2022-09-16T13:09:16.907Z"
   },
   {
    "duration": 174,
    "start_time": "2022-09-16T13:09:17.164Z"
   },
   {
    "duration": 259,
    "start_time": "2022-09-16T13:09:17.340Z"
   },
   {
    "duration": 227,
    "start_time": "2022-09-16T13:09:17.602Z"
   },
   {
    "duration": 248,
    "start_time": "2022-09-16T13:09:17.831Z"
   },
   {
    "duration": 21,
    "start_time": "2022-09-16T13:09:18.080Z"
   },
   {
    "duration": 128,
    "start_time": "2022-09-16T13:09:18.103Z"
   },
   {
    "duration": 5,
    "start_time": "2022-09-16T13:09:18.232Z"
   },
   {
    "duration": 127,
    "start_time": "2022-09-16T13:09:18.238Z"
   },
   {
    "duration": 5,
    "start_time": "2022-09-16T13:09:18.366Z"
   },
   {
    "duration": 29,
    "start_time": "2022-09-16T13:09:18.372Z"
   },
   {
    "duration": 10,
    "start_time": "2022-09-16T13:09:18.402Z"
   },
   {
    "duration": 8,
    "start_time": "2022-09-16T13:09:18.413Z"
   },
   {
    "duration": 13,
    "start_time": "2022-09-16T13:10:39.789Z"
   },
   {
    "duration": 8,
    "start_time": "2022-09-16T13:10:44.483Z"
   },
   {
    "duration": 9,
    "start_time": "2022-09-16T13:10:52.466Z"
   },
   {
    "duration": 8,
    "start_time": "2022-09-16T13:11:10.387Z"
   },
   {
    "duration": 65,
    "start_time": "2022-09-16T13:12:02.656Z"
   },
   {
    "duration": 9,
    "start_time": "2022-09-16T13:12:03.276Z"
   },
   {
    "duration": 6,
    "start_time": "2022-09-16T13:12:22.546Z"
   },
   {
    "duration": 8,
    "start_time": "2022-09-16T13:12:25.185Z"
   },
   {
    "duration": 6,
    "start_time": "2022-09-16T13:12:40.892Z"
   },
   {
    "duration": 8,
    "start_time": "2022-09-16T13:12:41.919Z"
   },
   {
    "duration": 8,
    "start_time": "2022-09-16T13:14:35.285Z"
   },
   {
    "duration": 68,
    "start_time": "2022-09-16T13:14:35.801Z"
   },
   {
    "duration": 8,
    "start_time": "2022-09-16T13:14:46.449Z"
   },
   {
    "duration": 9,
    "start_time": "2022-09-16T13:30:33.668Z"
   },
   {
    "duration": 6,
    "start_time": "2022-09-16T13:32:32.030Z"
   },
   {
    "duration": 9,
    "start_time": "2022-09-16T13:34:39.029Z"
   },
   {
    "duration": 6,
    "start_time": "2022-09-16T13:34:50.789Z"
   },
   {
    "duration": 8,
    "start_time": "2022-09-16T13:35:03.676Z"
   },
   {
    "duration": 7,
    "start_time": "2022-09-16T13:35:13.110Z"
   },
   {
    "duration": 6,
    "start_time": "2022-09-16T13:35:18.569Z"
   },
   {
    "duration": 7,
    "start_time": "2022-09-16T13:41:20.723Z"
   },
   {
    "duration": 7,
    "start_time": "2022-09-16T13:41:52.631Z"
   },
   {
    "duration": 9,
    "start_time": "2022-09-16T13:42:18.357Z"
   },
   {
    "duration": 574,
    "start_time": "2022-09-16T13:42:30.856Z"
   },
   {
    "duration": 80,
    "start_time": "2022-09-16T13:42:31.432Z"
   },
   {
    "duration": 11,
    "start_time": "2022-09-16T13:42:31.513Z"
   },
   {
    "duration": 21,
    "start_time": "2022-09-16T13:42:31.526Z"
   },
   {
    "duration": 26,
    "start_time": "2022-09-16T13:42:31.548Z"
   },
   {
    "duration": 26,
    "start_time": "2022-09-16T13:42:31.576Z"
   },
   {
    "duration": 44,
    "start_time": "2022-09-16T13:42:31.604Z"
   },
   {
    "duration": 89,
    "start_time": "2022-09-16T13:42:31.650Z"
   },
   {
    "duration": 37,
    "start_time": "2022-09-16T13:42:31.740Z"
   },
   {
    "duration": 26,
    "start_time": "2022-09-16T13:42:31.779Z"
   },
   {
    "duration": 30,
    "start_time": "2022-09-16T13:42:31.806Z"
   },
   {
    "duration": 30,
    "start_time": "2022-09-16T13:42:31.838Z"
   },
   {
    "duration": 38,
    "start_time": "2022-09-16T13:42:31.869Z"
   },
   {
    "duration": 17,
    "start_time": "2022-09-16T13:42:31.909Z"
   },
   {
    "duration": 37,
    "start_time": "2022-09-16T13:42:31.928Z"
   },
   {
    "duration": 32,
    "start_time": "2022-09-16T13:42:31.967Z"
   },
   {
    "duration": 31,
    "start_time": "2022-09-16T13:42:32.001Z"
   },
   {
    "duration": 24,
    "start_time": "2022-09-16T13:42:32.033Z"
   },
   {
    "duration": 27,
    "start_time": "2022-09-16T13:42:32.059Z"
   },
   {
    "duration": 35,
    "start_time": "2022-09-16T13:42:32.088Z"
   },
   {
    "duration": 25,
    "start_time": "2022-09-16T13:42:32.125Z"
   },
   {
    "duration": 31,
    "start_time": "2022-09-16T13:42:32.151Z"
   },
   {
    "duration": 49,
    "start_time": "2022-09-16T13:42:32.183Z"
   },
   {
    "duration": 511,
    "start_time": "2022-09-16T13:42:32.233Z"
   },
   {
    "duration": 6,
    "start_time": "2022-09-16T13:42:32.745Z"
   },
   {
    "duration": 236,
    "start_time": "2022-09-16T13:42:32.752Z"
   },
   {
    "duration": 159,
    "start_time": "2022-09-16T13:42:32.990Z"
   },
   {
    "duration": 219,
    "start_time": "2022-09-16T13:42:33.152Z"
   },
   {
    "duration": 241,
    "start_time": "2022-09-16T13:42:33.372Z"
   },
   {
    "duration": 264,
    "start_time": "2022-09-16T13:42:33.615Z"
   },
   {
    "duration": 22,
    "start_time": "2022-09-16T13:42:33.881Z"
   },
   {
    "duration": 119,
    "start_time": "2022-09-16T13:42:33.905Z"
   },
   {
    "duration": 4,
    "start_time": "2022-09-16T13:42:34.026Z"
   },
   {
    "duration": 133,
    "start_time": "2022-09-16T13:42:34.031Z"
   },
   {
    "duration": 4,
    "start_time": "2022-09-16T13:42:34.166Z"
   },
   {
    "duration": 21,
    "start_time": "2022-09-16T13:42:34.172Z"
   },
   {
    "duration": 16,
    "start_time": "2022-09-16T13:42:34.197Z"
   },
   {
    "duration": 9,
    "start_time": "2022-09-16T13:42:34.215Z"
   },
   {
    "duration": 4,
    "start_time": "2022-09-16T13:42:34.225Z"
   },
   {
    "duration": 78,
    "start_time": "2022-09-16T13:42:34.231Z"
   },
   {
    "duration": 5,
    "start_time": "2022-09-16T13:43:17.160Z"
   },
   {
    "duration": 9,
    "start_time": "2022-09-16T13:43:22.605Z"
   },
   {
    "duration": 4,
    "start_time": "2022-09-16T13:43:39.620Z"
   },
   {
    "duration": 5,
    "start_time": "2022-09-16T13:43:40.154Z"
   },
   {
    "duration": 50,
    "start_time": "2022-09-16T13:48:46.986Z"
   },
   {
    "duration": 4,
    "start_time": "2022-09-16T13:48:54.334Z"
   },
   {
    "duration": 1151,
    "start_time": "2022-09-16T13:49:26.057Z"
   },
   {
    "duration": 6,
    "start_time": "2022-09-16T13:50:07.604Z"
   },
   {
    "duration": 3,
    "start_time": "2022-09-16T13:50:35.903Z"
   },
   {
    "duration": 7,
    "start_time": "2022-09-16T13:50:36.553Z"
   },
   {
    "duration": 1199,
    "start_time": "2022-09-16T13:50:43.268Z"
   },
   {
    "duration": 540,
    "start_time": "2022-09-16T13:50:49.160Z"
   },
   {
    "duration": 79,
    "start_time": "2022-09-16T13:50:49.702Z"
   },
   {
    "duration": 10,
    "start_time": "2022-09-16T13:50:49.783Z"
   },
   {
    "duration": 7,
    "start_time": "2022-09-16T13:50:49.794Z"
   },
   {
    "duration": 10,
    "start_time": "2022-09-16T13:50:49.803Z"
   },
   {
    "duration": 15,
    "start_time": "2022-09-16T13:50:49.815Z"
   },
   {
    "duration": 7,
    "start_time": "2022-09-16T13:50:49.831Z"
   },
   {
    "duration": 12,
    "start_time": "2022-09-16T13:50:49.839Z"
   },
   {
    "duration": 20,
    "start_time": "2022-09-16T13:50:49.852Z"
   },
   {
    "duration": 19,
    "start_time": "2022-09-16T13:50:49.873Z"
   },
   {
    "duration": 16,
    "start_time": "2022-09-16T13:50:49.893Z"
   },
   {
    "duration": 22,
    "start_time": "2022-09-16T13:50:49.911Z"
   },
   {
    "duration": 40,
    "start_time": "2022-09-16T13:50:49.935Z"
   },
   {
    "duration": 7,
    "start_time": "2022-09-16T13:50:49.978Z"
   },
   {
    "duration": 27,
    "start_time": "2022-09-16T13:50:49.986Z"
   },
   {
    "duration": 21,
    "start_time": "2022-09-16T13:50:50.014Z"
   },
   {
    "duration": 12,
    "start_time": "2022-09-16T13:50:50.036Z"
   },
   {
    "duration": 17,
    "start_time": "2022-09-16T13:50:50.049Z"
   },
   {
    "duration": 4,
    "start_time": "2022-09-16T13:50:50.068Z"
   },
   {
    "duration": 10,
    "start_time": "2022-09-16T13:50:50.074Z"
   },
   {
    "duration": 13,
    "start_time": "2022-09-16T13:50:50.085Z"
   },
   {
    "duration": 7,
    "start_time": "2022-09-16T13:50:50.100Z"
   },
   {
    "duration": 12,
    "start_time": "2022-09-16T13:50:50.108Z"
   },
   {
    "duration": 288,
    "start_time": "2022-09-16T13:50:50.121Z"
   },
   {
    "duration": 5,
    "start_time": "2022-09-16T13:50:50.411Z"
   },
   {
    "duration": 248,
    "start_time": "2022-09-16T13:50:50.417Z"
   },
   {
    "duration": 165,
    "start_time": "2022-09-16T13:50:50.666Z"
   },
   {
    "duration": 231,
    "start_time": "2022-09-16T13:50:50.832Z"
   },
   {
    "duration": 212,
    "start_time": "2022-09-16T13:50:51.064Z"
   },
   {
    "duration": 281,
    "start_time": "2022-09-16T13:50:51.278Z"
   },
   {
    "duration": 10,
    "start_time": "2022-09-16T13:50:51.561Z"
   },
   {
    "duration": 122,
    "start_time": "2022-09-16T13:50:51.573Z"
   },
   {
    "duration": 7,
    "start_time": "2022-09-16T13:50:51.696Z"
   },
   {
    "duration": 124,
    "start_time": "2022-09-16T13:50:51.704Z"
   },
   {
    "duration": 5,
    "start_time": "2022-09-16T13:50:51.830Z"
   },
   {
    "duration": 17,
    "start_time": "2022-09-16T13:50:51.836Z"
   },
   {
    "duration": 10,
    "start_time": "2022-09-16T13:50:51.854Z"
   },
   {
    "duration": 6,
    "start_time": "2022-09-16T13:50:51.865Z"
   },
   {
    "duration": 8,
    "start_time": "2022-09-16T13:50:51.872Z"
   },
   {
    "duration": 18,
    "start_time": "2022-09-16T13:50:51.882Z"
   },
   {
    "duration": 6,
    "start_time": "2022-09-16T13:50:51.903Z"
   },
   {
    "duration": 5,
    "start_time": "2022-09-16T13:50:51.910Z"
   },
   {
    "duration": 974,
    "start_time": "2022-09-16T13:50:51.916Z"
   },
   {
    "duration": 4,
    "start_time": "2022-09-16T13:52:02.668Z"
   },
   {
    "duration": 8,
    "start_time": "2022-09-16T13:52:04.237Z"
   },
   {
    "duration": 4,
    "start_time": "2022-09-16T13:52:10.276Z"
   },
   {
    "duration": 10,
    "start_time": "2022-09-16T13:56:05.168Z"
   },
   {
    "duration": 5,
    "start_time": "2022-09-16T13:56:42.025Z"
   },
   {
    "duration": 9,
    "start_time": "2022-09-16T13:56:45.175Z"
   },
   {
    "duration": 5,
    "start_time": "2022-09-16T13:56:45.665Z"
   },
   {
    "duration": 4,
    "start_time": "2022-09-16T13:57:25.907Z"
   },
   {
    "duration": 8,
    "start_time": "2022-09-16T13:57:27.203Z"
   },
   {
    "duration": 5,
    "start_time": "2022-09-16T13:57:27.667Z"
   },
   {
    "duration": 574,
    "start_time": "2022-09-16T13:58:02.260Z"
   },
   {
    "duration": 82,
    "start_time": "2022-09-16T13:58:02.836Z"
   },
   {
    "duration": 10,
    "start_time": "2022-09-16T13:58:02.919Z"
   },
   {
    "duration": 13,
    "start_time": "2022-09-16T13:58:02.932Z"
   },
   {
    "duration": 11,
    "start_time": "2022-09-16T13:58:02.946Z"
   },
   {
    "duration": 12,
    "start_time": "2022-09-16T13:58:02.958Z"
   },
   {
    "duration": 19,
    "start_time": "2022-09-16T13:58:02.972Z"
   },
   {
    "duration": 32,
    "start_time": "2022-09-16T13:58:02.992Z"
   },
   {
    "duration": 26,
    "start_time": "2022-09-16T13:58:03.026Z"
   },
   {
    "duration": 15,
    "start_time": "2022-09-16T13:58:03.054Z"
   },
   {
    "duration": 11,
    "start_time": "2022-09-16T13:58:03.071Z"
   },
   {
    "duration": 9,
    "start_time": "2022-09-16T13:58:03.084Z"
   },
   {
    "duration": 15,
    "start_time": "2022-09-16T13:58:03.094Z"
   },
   {
    "duration": 16,
    "start_time": "2022-09-16T13:58:03.110Z"
   },
   {
    "duration": 14,
    "start_time": "2022-09-16T13:58:03.128Z"
   },
   {
    "duration": 13,
    "start_time": "2022-09-16T13:58:03.143Z"
   },
   {
    "duration": 10,
    "start_time": "2022-09-16T13:58:03.158Z"
   },
   {
    "duration": 15,
    "start_time": "2022-09-16T13:58:03.169Z"
   },
   {
    "duration": 8,
    "start_time": "2022-09-16T13:58:03.185Z"
   },
   {
    "duration": 15,
    "start_time": "2022-09-16T13:58:03.194Z"
   },
   {
    "duration": 20,
    "start_time": "2022-09-16T13:58:03.211Z"
   },
   {
    "duration": 8,
    "start_time": "2022-09-16T13:58:03.232Z"
   },
   {
    "duration": 12,
    "start_time": "2022-09-16T13:58:03.241Z"
   },
   {
    "duration": 297,
    "start_time": "2022-09-16T13:58:03.255Z"
   },
   {
    "duration": 6,
    "start_time": "2022-09-16T13:58:03.553Z"
   },
   {
    "duration": 251,
    "start_time": "2022-09-16T13:58:03.560Z"
   },
   {
    "duration": 176,
    "start_time": "2022-09-16T13:58:03.813Z"
   },
   {
    "duration": 276,
    "start_time": "2022-09-16T13:58:04.001Z"
   },
   {
    "duration": 284,
    "start_time": "2022-09-16T13:58:04.278Z"
   },
   {
    "duration": 294,
    "start_time": "2022-09-16T13:58:04.564Z"
   },
   {
    "duration": 11,
    "start_time": "2022-09-16T13:58:04.859Z"
   },
   {
    "duration": 115,
    "start_time": "2022-09-16T13:58:04.871Z"
   },
   {
    "duration": 4,
    "start_time": "2022-09-16T13:58:04.988Z"
   },
   {
    "duration": 121,
    "start_time": "2022-09-16T13:58:05.000Z"
   },
   {
    "duration": 5,
    "start_time": "2022-09-16T13:58:05.122Z"
   },
   {
    "duration": 15,
    "start_time": "2022-09-16T13:58:05.128Z"
   },
   {
    "duration": 10,
    "start_time": "2022-09-16T13:58:05.144Z"
   },
   {
    "duration": 12,
    "start_time": "2022-09-16T13:58:05.155Z"
   },
   {
    "duration": 9,
    "start_time": "2022-09-16T13:58:05.169Z"
   },
   {
    "duration": 6,
    "start_time": "2022-09-16T13:58:05.179Z"
   },
   {
    "duration": 3,
    "start_time": "2022-09-16T13:58:05.201Z"
   },
   {
    "duration": 10,
    "start_time": "2022-09-16T13:58:05.205Z"
   },
   {
    "duration": 8,
    "start_time": "2022-09-16T13:58:05.216Z"
   },
   {
    "duration": 14,
    "start_time": "2022-09-16T13:58:05.225Z"
   },
   {
    "duration": 8,
    "start_time": "2022-09-16T13:58:05.240Z"
   },
   {
    "duration": 11,
    "start_time": "2022-09-16T13:58:05.249Z"
   },
   {
    "duration": 4,
    "start_time": "2022-09-16T14:01:50.542Z"
   },
   {
    "duration": 69,
    "start_time": "2022-09-16T14:01:51.880Z"
   },
   {
    "duration": 13,
    "start_time": "2022-09-16T14:02:02.828Z"
   },
   {
    "duration": 4,
    "start_time": "2022-09-16T14:02:57.689Z"
   },
   {
    "duration": 13,
    "start_time": "2022-09-16T14:02:58.927Z"
   },
   {
    "duration": 5,
    "start_time": "2022-09-16T14:02:59.747Z"
   },
   {
    "duration": 14,
    "start_time": "2022-09-16T14:03:04.693Z"
   },
   {
    "duration": 4,
    "start_time": "2022-09-16T14:04:21.418Z"
   },
   {
    "duration": 8,
    "start_time": "2022-09-16T14:04:22.196Z"
   },
   {
    "duration": 5,
    "start_time": "2022-09-16T14:04:24.295Z"
   },
   {
    "duration": 4,
    "start_time": "2022-09-16T14:04:30.584Z"
   },
   {
    "duration": 11,
    "start_time": "2022-09-16T14:04:49.458Z"
   },
   {
    "duration": 4,
    "start_time": "2022-09-16T14:04:58.412Z"
   },
   {
    "duration": 602,
    "start_time": "2022-09-16T14:05:06.311Z"
   },
   {
    "duration": 78,
    "start_time": "2022-09-16T14:05:06.915Z"
   },
   {
    "duration": 13,
    "start_time": "2022-09-16T14:05:06.995Z"
   },
   {
    "duration": 4,
    "start_time": "2022-09-16T14:05:07.010Z"
   },
   {
    "duration": 3,
    "start_time": "2022-09-16T14:05:07.016Z"
   },
   {
    "duration": 14,
    "start_time": "2022-09-16T14:05:07.021Z"
   },
   {
    "duration": 6,
    "start_time": "2022-09-16T14:05:07.037Z"
   },
   {
    "duration": 14,
    "start_time": "2022-09-16T14:05:07.045Z"
   },
   {
    "duration": 21,
    "start_time": "2022-09-16T14:05:07.061Z"
   },
   {
    "duration": 26,
    "start_time": "2022-09-16T14:05:07.084Z"
   },
   {
    "duration": 24,
    "start_time": "2022-09-16T14:05:07.112Z"
   },
   {
    "duration": 15,
    "start_time": "2022-09-16T14:05:07.137Z"
   },
   {
    "duration": 15,
    "start_time": "2022-09-16T14:05:07.154Z"
   },
   {
    "duration": 12,
    "start_time": "2022-09-16T14:05:07.171Z"
   },
   {
    "duration": 13,
    "start_time": "2022-09-16T14:05:07.185Z"
   },
   {
    "duration": 21,
    "start_time": "2022-09-16T14:05:07.199Z"
   },
   {
    "duration": 25,
    "start_time": "2022-09-16T14:05:07.221Z"
   },
   {
    "duration": 16,
    "start_time": "2022-09-16T14:05:07.247Z"
   },
   {
    "duration": 11,
    "start_time": "2022-09-16T14:05:07.265Z"
   },
   {
    "duration": 14,
    "start_time": "2022-09-16T14:05:07.277Z"
   },
   {
    "duration": 14,
    "start_time": "2022-09-16T14:05:07.292Z"
   },
   {
    "duration": 13,
    "start_time": "2022-09-16T14:05:07.307Z"
   },
   {
    "duration": 15,
    "start_time": "2022-09-16T14:05:07.321Z"
   },
   {
    "duration": 308,
    "start_time": "2022-09-16T14:05:07.337Z"
   },
   {
    "duration": 6,
    "start_time": "2022-09-16T14:05:07.647Z"
   },
   {
    "duration": 257,
    "start_time": "2022-09-16T14:05:07.654Z"
   },
   {
    "duration": 164,
    "start_time": "2022-09-16T14:05:07.912Z"
   },
   {
    "duration": 272,
    "start_time": "2022-09-16T14:05:08.079Z"
   },
   {
    "duration": 223,
    "start_time": "2022-09-16T14:05:08.353Z"
   },
   {
    "duration": 269,
    "start_time": "2022-09-16T14:05:08.577Z"
   },
   {
    "duration": 12,
    "start_time": "2022-09-16T14:05:08.848Z"
   },
   {
    "duration": 119,
    "start_time": "2022-09-16T14:05:08.862Z"
   },
   {
    "duration": 5,
    "start_time": "2022-09-16T14:05:08.983Z"
   },
   {
    "duration": 113,
    "start_time": "2022-09-16T14:05:09.000Z"
   },
   {
    "duration": 4,
    "start_time": "2022-09-16T14:05:09.115Z"
   },
   {
    "duration": 16,
    "start_time": "2022-09-16T14:05:09.120Z"
   },
   {
    "duration": 9,
    "start_time": "2022-09-16T14:05:09.138Z"
   },
   {
    "duration": 8,
    "start_time": "2022-09-16T14:05:09.148Z"
   },
   {
    "duration": 14,
    "start_time": "2022-09-16T14:05:09.157Z"
   },
   {
    "duration": 12,
    "start_time": "2022-09-16T14:05:09.173Z"
   },
   {
    "duration": 14,
    "start_time": "2022-09-16T14:05:09.186Z"
   },
   {
    "duration": 15,
    "start_time": "2022-09-16T14:05:09.202Z"
   },
   {
    "duration": 6,
    "start_time": "2022-09-16T14:05:09.218Z"
   },
   {
    "duration": 11,
    "start_time": "2022-09-16T14:05:09.225Z"
   },
   {
    "duration": 6,
    "start_time": "2022-09-16T14:05:09.237Z"
   },
   {
    "duration": 5,
    "start_time": "2022-09-16T14:05:09.244Z"
   },
   {
    "duration": 12,
    "start_time": "2022-09-16T14:05:09.250Z"
   },
   {
    "duration": 4,
    "start_time": "2022-09-16T14:05:09.263Z"
   },
   {
    "duration": 4,
    "start_time": "2022-09-16T14:06:08.524Z"
   },
   {
    "duration": 4,
    "start_time": "2022-09-16T14:06:12.301Z"
   },
   {
    "duration": 5,
    "start_time": "2022-09-16T14:07:20.008Z"
   },
   {
    "duration": 9,
    "start_time": "2022-09-16T14:07:20.629Z"
   },
   {
    "duration": 5,
    "start_time": "2022-09-16T14:07:21.238Z"
   },
   {
    "duration": 4,
    "start_time": "2022-09-16T14:07:23.861Z"
   },
   {
    "duration": 677,
    "start_time": "2022-09-16T14:07:48.823Z"
   },
   {
    "duration": 77,
    "start_time": "2022-09-16T14:07:49.502Z"
   },
   {
    "duration": 12,
    "start_time": "2022-09-16T14:07:49.580Z"
   },
   {
    "duration": 6,
    "start_time": "2022-09-16T14:07:49.594Z"
   },
   {
    "duration": 4,
    "start_time": "2022-09-16T14:07:49.601Z"
   },
   {
    "duration": 12,
    "start_time": "2022-09-16T14:07:49.606Z"
   },
   {
    "duration": 8,
    "start_time": "2022-09-16T14:07:49.620Z"
   },
   {
    "duration": 18,
    "start_time": "2022-09-16T14:07:49.630Z"
   },
   {
    "duration": 11,
    "start_time": "2022-09-16T14:07:49.650Z"
   },
   {
    "duration": 16,
    "start_time": "2022-09-16T14:07:49.664Z"
   },
   {
    "duration": 23,
    "start_time": "2022-09-16T14:07:49.682Z"
   },
   {
    "duration": 8,
    "start_time": "2022-09-16T14:07:49.707Z"
   },
   {
    "duration": 12,
    "start_time": "2022-09-16T14:07:49.716Z"
   },
   {
    "duration": 5,
    "start_time": "2022-09-16T14:07:49.730Z"
   },
   {
    "duration": 13,
    "start_time": "2022-09-16T14:07:49.736Z"
   },
   {
    "duration": 6,
    "start_time": "2022-09-16T14:07:49.750Z"
   },
   {
    "duration": 9,
    "start_time": "2022-09-16T14:07:49.758Z"
   },
   {
    "duration": 41,
    "start_time": "2022-09-16T14:07:49.769Z"
   },
   {
    "duration": 4,
    "start_time": "2022-09-16T14:07:49.812Z"
   },
   {
    "duration": 9,
    "start_time": "2022-09-16T14:07:49.817Z"
   },
   {
    "duration": 11,
    "start_time": "2022-09-16T14:07:49.828Z"
   },
   {
    "duration": 6,
    "start_time": "2022-09-16T14:07:49.840Z"
   },
   {
    "duration": 8,
    "start_time": "2022-09-16T14:07:49.848Z"
   },
   {
    "duration": 307,
    "start_time": "2022-09-16T14:07:49.858Z"
   },
   {
    "duration": 6,
    "start_time": "2022-09-16T14:07:50.167Z"
   },
   {
    "duration": 240,
    "start_time": "2022-09-16T14:07:50.174Z"
   },
   {
    "duration": 166,
    "start_time": "2022-09-16T14:07:50.416Z"
   },
   {
    "duration": 271,
    "start_time": "2022-09-16T14:07:50.585Z"
   },
   {
    "duration": 217,
    "start_time": "2022-09-16T14:07:50.857Z"
   },
   {
    "duration": 267,
    "start_time": "2022-09-16T14:07:51.076Z"
   },
   {
    "duration": 10,
    "start_time": "2022-09-16T14:07:51.345Z"
   },
   {
    "duration": 130,
    "start_time": "2022-09-16T14:07:51.356Z"
   },
   {
    "duration": 4,
    "start_time": "2022-09-16T14:07:51.488Z"
   },
   {
    "duration": 118,
    "start_time": "2022-09-16T14:07:51.500Z"
   },
   {
    "duration": 4,
    "start_time": "2022-09-16T14:07:51.619Z"
   },
   {
    "duration": 45,
    "start_time": "2022-09-16T14:07:51.624Z"
   },
   {
    "duration": 14,
    "start_time": "2022-09-16T14:07:51.671Z"
   },
   {
    "duration": 10,
    "start_time": "2022-09-16T14:07:51.686Z"
   },
   {
    "duration": 9,
    "start_time": "2022-09-16T14:07:51.697Z"
   },
   {
    "duration": 7,
    "start_time": "2022-09-16T14:07:51.708Z"
   },
   {
    "duration": 7,
    "start_time": "2022-09-16T14:07:51.717Z"
   },
   {
    "duration": 25,
    "start_time": "2022-09-16T14:07:51.725Z"
   },
   {
    "duration": 10,
    "start_time": "2022-09-16T14:07:51.752Z"
   },
   {
    "duration": 19,
    "start_time": "2022-09-16T14:07:51.763Z"
   },
   {
    "duration": 10,
    "start_time": "2022-09-16T14:07:51.784Z"
   },
   {
    "duration": 5,
    "start_time": "2022-09-16T14:07:51.796Z"
   },
   {
    "duration": 30,
    "start_time": "2022-09-16T14:07:51.803Z"
   },
   {
    "duration": 20,
    "start_time": "2022-09-16T14:07:51.835Z"
   },
   {
    "duration": 6,
    "start_time": "2022-09-16T14:07:51.856Z"
   },
   {
    "duration": 7,
    "start_time": "2022-09-16T14:07:51.863Z"
   },
   {
    "duration": 5,
    "start_time": "2022-09-16T14:08:54.309Z"
   },
   {
    "duration": 5,
    "start_time": "2022-09-16T14:09:01.353Z"
   },
   {
    "duration": 538,
    "start_time": "2022-09-16T14:29:04.452Z"
   },
   {
    "duration": 77,
    "start_time": "2022-09-16T14:29:04.992Z"
   },
   {
    "duration": 11,
    "start_time": "2022-09-16T14:29:05.070Z"
   },
   {
    "duration": 14,
    "start_time": "2022-09-16T14:29:05.082Z"
   },
   {
    "duration": 2,
    "start_time": "2022-09-16T14:29:05.098Z"
   },
   {
    "duration": 11,
    "start_time": "2022-09-16T14:29:05.101Z"
   },
   {
    "duration": 8,
    "start_time": "2022-09-16T14:29:05.113Z"
   },
   {
    "duration": 14,
    "start_time": "2022-09-16T14:29:05.122Z"
   },
   {
    "duration": 14,
    "start_time": "2022-09-16T14:29:05.137Z"
   },
   {
    "duration": 17,
    "start_time": "2022-09-16T14:29:05.154Z"
   },
   {
    "duration": 13,
    "start_time": "2022-09-16T14:29:05.172Z"
   },
   {
    "duration": 14,
    "start_time": "2022-09-16T14:29:05.187Z"
   },
   {
    "duration": 14,
    "start_time": "2022-09-16T14:29:05.202Z"
   },
   {
    "duration": 17,
    "start_time": "2022-09-16T14:29:05.218Z"
   },
   {
    "duration": 11,
    "start_time": "2022-09-16T14:29:05.236Z"
   },
   {
    "duration": 18,
    "start_time": "2022-09-16T14:29:05.248Z"
   },
   {
    "duration": 12,
    "start_time": "2022-09-16T14:29:05.267Z"
   },
   {
    "duration": 16,
    "start_time": "2022-09-16T14:29:05.280Z"
   },
   {
    "duration": 6,
    "start_time": "2022-09-16T14:29:05.298Z"
   },
   {
    "duration": 13,
    "start_time": "2022-09-16T14:29:05.305Z"
   },
   {
    "duration": 30,
    "start_time": "2022-09-16T14:29:05.320Z"
   },
   {
    "duration": 11,
    "start_time": "2022-09-16T14:29:05.351Z"
   },
   {
    "duration": 32,
    "start_time": "2022-09-16T14:29:05.363Z"
   },
   {
    "duration": 276,
    "start_time": "2022-09-16T14:29:05.396Z"
   },
   {
    "duration": 5,
    "start_time": "2022-09-16T14:29:05.674Z"
   },
   {
    "duration": 232,
    "start_time": "2022-09-16T14:29:05.680Z"
   },
   {
    "duration": 160,
    "start_time": "2022-09-16T14:29:05.913Z"
   },
   {
    "duration": 285,
    "start_time": "2022-09-16T14:29:06.076Z"
   },
   {
    "duration": 222,
    "start_time": "2022-09-16T14:29:06.362Z"
   },
   {
    "duration": 290,
    "start_time": "2022-09-16T14:29:06.585Z"
   },
   {
    "duration": 11,
    "start_time": "2022-09-16T14:29:06.877Z"
   },
   {
    "duration": 131,
    "start_time": "2022-09-16T14:29:06.890Z"
   },
   {
    "duration": 5,
    "start_time": "2022-09-16T14:29:07.022Z"
   },
   {
    "duration": 121,
    "start_time": "2022-09-16T14:29:07.028Z"
   },
   {
    "duration": 4,
    "start_time": "2022-09-16T14:29:07.151Z"
   },
   {
    "duration": 15,
    "start_time": "2022-09-16T14:29:07.156Z"
   },
   {
    "duration": 28,
    "start_time": "2022-09-16T14:29:07.172Z"
   },
   {
    "duration": 11,
    "start_time": "2022-09-16T14:29:07.202Z"
   },
   {
    "duration": 8,
    "start_time": "2022-09-16T14:29:07.214Z"
   },
   {
    "duration": 6,
    "start_time": "2022-09-16T14:29:07.223Z"
   },
   {
    "duration": 6,
    "start_time": "2022-09-16T14:29:07.230Z"
   },
   {
    "duration": 7,
    "start_time": "2022-09-16T14:29:07.238Z"
   },
   {
    "duration": 4,
    "start_time": "2022-09-16T14:29:07.246Z"
   },
   {
    "duration": 7,
    "start_time": "2022-09-16T14:29:07.251Z"
   },
   {
    "duration": 7,
    "start_time": "2022-09-16T14:29:07.259Z"
   },
   {
    "duration": 79,
    "start_time": "2022-09-16T14:29:07.267Z"
   },
   {
    "duration": 0,
    "start_time": "2022-09-16T14:29:07.347Z"
   },
   {
    "duration": 0,
    "start_time": "2022-09-16T14:29:07.348Z"
   },
   {
    "duration": 0,
    "start_time": "2022-09-16T14:29:07.349Z"
   },
   {
    "duration": 0,
    "start_time": "2022-09-16T14:29:07.350Z"
   },
   {
    "duration": 0,
    "start_time": "2022-09-16T14:29:07.351Z"
   },
   {
    "duration": 0,
    "start_time": "2022-09-16T14:29:07.352Z"
   },
   {
    "duration": 616,
    "start_time": "2022-09-16T14:29:39.169Z"
   },
   {
    "duration": 78,
    "start_time": "2022-09-16T14:29:39.787Z"
   },
   {
    "duration": 12,
    "start_time": "2022-09-16T14:29:39.867Z"
   },
   {
    "duration": 9,
    "start_time": "2022-09-16T14:29:39.881Z"
   },
   {
    "duration": 3,
    "start_time": "2022-09-16T14:29:39.892Z"
   },
   {
    "duration": 12,
    "start_time": "2022-09-16T14:29:39.896Z"
   },
   {
    "duration": 5,
    "start_time": "2022-09-16T14:29:39.909Z"
   },
   {
    "duration": 11,
    "start_time": "2022-09-16T14:29:39.915Z"
   },
   {
    "duration": 13,
    "start_time": "2022-09-16T14:29:39.927Z"
   },
   {
    "duration": 10,
    "start_time": "2022-09-16T14:29:39.943Z"
   },
   {
    "duration": 11,
    "start_time": "2022-09-16T14:29:39.954Z"
   },
   {
    "duration": 6,
    "start_time": "2022-09-16T14:29:39.966Z"
   },
   {
    "duration": 10,
    "start_time": "2022-09-16T14:29:40.001Z"
   },
   {
    "duration": 5,
    "start_time": "2022-09-16T14:29:40.013Z"
   },
   {
    "duration": 18,
    "start_time": "2022-09-16T14:29:40.020Z"
   },
   {
    "duration": 8,
    "start_time": "2022-09-16T14:29:40.039Z"
   },
   {
    "duration": 10,
    "start_time": "2022-09-16T14:29:40.049Z"
   },
   {
    "duration": 11,
    "start_time": "2022-09-16T14:29:40.060Z"
   },
   {
    "duration": 11,
    "start_time": "2022-09-16T14:29:40.073Z"
   },
   {
    "duration": 22,
    "start_time": "2022-09-16T14:29:40.086Z"
   },
   {
    "duration": 13,
    "start_time": "2022-09-16T14:29:40.109Z"
   },
   {
    "duration": 6,
    "start_time": "2022-09-16T14:29:40.123Z"
   },
   {
    "duration": 11,
    "start_time": "2022-09-16T14:29:40.130Z"
   },
   {
    "duration": 292,
    "start_time": "2022-09-16T14:29:40.142Z"
   },
   {
    "duration": 7,
    "start_time": "2022-09-16T14:29:40.435Z"
   },
   {
    "duration": 243,
    "start_time": "2022-09-16T14:29:40.444Z"
   },
   {
    "duration": 178,
    "start_time": "2022-09-16T14:29:40.689Z"
   },
   {
    "duration": 278,
    "start_time": "2022-09-16T14:29:40.871Z"
   },
   {
    "duration": 218,
    "start_time": "2022-09-16T14:29:41.151Z"
   },
   {
    "duration": 256,
    "start_time": "2022-09-16T14:29:41.371Z"
   },
   {
    "duration": 11,
    "start_time": "2022-09-16T14:29:41.629Z"
   },
   {
    "duration": 130,
    "start_time": "2022-09-16T14:29:41.642Z"
   },
   {
    "duration": 4,
    "start_time": "2022-09-16T14:29:41.774Z"
   },
   {
    "duration": 128,
    "start_time": "2022-09-16T14:29:41.779Z"
   },
   {
    "duration": 4,
    "start_time": "2022-09-16T14:29:41.908Z"
   },
   {
    "duration": 19,
    "start_time": "2022-09-16T14:29:41.914Z"
   },
   {
    "duration": 10,
    "start_time": "2022-09-16T14:29:41.935Z"
   },
   {
    "duration": 5,
    "start_time": "2022-09-16T14:29:41.947Z"
   },
   {
    "duration": 8,
    "start_time": "2022-09-16T14:29:41.953Z"
   },
   {
    "duration": 5,
    "start_time": "2022-09-16T14:29:41.963Z"
   },
   {
    "duration": 35,
    "start_time": "2022-09-16T14:29:41.970Z"
   },
   {
    "duration": 9,
    "start_time": "2022-09-16T14:29:42.007Z"
   },
   {
    "duration": 6,
    "start_time": "2022-09-16T14:29:42.018Z"
   },
   {
    "duration": 9,
    "start_time": "2022-09-16T14:29:42.026Z"
   },
   {
    "duration": 7,
    "start_time": "2022-09-16T14:29:42.036Z"
   },
   {
    "duration": 11,
    "start_time": "2022-09-16T14:29:42.044Z"
   },
   {
    "duration": 6,
    "start_time": "2022-09-16T14:29:42.056Z"
   },
   {
    "duration": 5,
    "start_time": "2022-09-16T14:29:42.063Z"
   },
   {
    "duration": 20,
    "start_time": "2022-09-16T14:29:42.070Z"
   },
   {
    "duration": 10,
    "start_time": "2022-09-16T14:29:42.091Z"
   },
   {
    "duration": 4,
    "start_time": "2022-09-16T14:29:42.102Z"
   },
   {
    "duration": 8,
    "start_time": "2022-09-16T14:29:42.108Z"
   },
   {
    "duration": 622,
    "start_time": "2022-09-16T14:30:31.019Z"
   },
   {
    "duration": 87,
    "start_time": "2022-09-16T14:30:31.642Z"
   },
   {
    "duration": 10,
    "start_time": "2022-09-16T14:30:31.730Z"
   },
   {
    "duration": 35,
    "start_time": "2022-09-16T14:30:31.742Z"
   },
   {
    "duration": 13,
    "start_time": "2022-09-16T14:30:31.779Z"
   },
   {
    "duration": 20,
    "start_time": "2022-09-16T14:30:31.793Z"
   },
   {
    "duration": 14,
    "start_time": "2022-09-16T14:30:31.814Z"
   },
   {
    "duration": 16,
    "start_time": "2022-09-16T14:30:31.829Z"
   },
   {
    "duration": 21,
    "start_time": "2022-09-16T14:30:31.847Z"
   },
   {
    "duration": 12,
    "start_time": "2022-09-16T14:30:31.870Z"
   },
   {
    "duration": 22,
    "start_time": "2022-09-16T14:30:31.883Z"
   },
   {
    "duration": 23,
    "start_time": "2022-09-16T14:30:31.907Z"
   },
   {
    "duration": 14,
    "start_time": "2022-09-16T14:30:31.931Z"
   },
   {
    "duration": 52,
    "start_time": "2022-09-16T14:30:31.948Z"
   },
   {
    "duration": 22,
    "start_time": "2022-09-16T14:30:32.002Z"
   },
   {
    "duration": 12,
    "start_time": "2022-09-16T14:30:32.026Z"
   },
   {
    "duration": 35,
    "start_time": "2022-09-16T14:30:32.039Z"
   },
   {
    "duration": 33,
    "start_time": "2022-09-16T14:30:32.076Z"
   },
   {
    "duration": 14,
    "start_time": "2022-09-16T14:30:32.110Z"
   },
   {
    "duration": 18,
    "start_time": "2022-09-16T14:30:32.125Z"
   },
   {
    "duration": 27,
    "start_time": "2022-09-16T14:30:32.145Z"
   },
   {
    "duration": 7,
    "start_time": "2022-09-16T14:30:32.173Z"
   },
   {
    "duration": 14,
    "start_time": "2022-09-16T14:30:32.181Z"
   },
   {
    "duration": 267,
    "start_time": "2022-09-16T14:30:32.197Z"
   },
   {
    "duration": 6,
    "start_time": "2022-09-16T14:30:32.465Z"
   },
   {
    "duration": 242,
    "start_time": "2022-09-16T14:30:32.472Z"
   },
   {
    "duration": 168,
    "start_time": "2022-09-16T14:30:32.716Z"
   },
   {
    "duration": 263,
    "start_time": "2022-09-16T14:30:32.885Z"
   },
   {
    "duration": 215,
    "start_time": "2022-09-16T14:30:33.150Z"
   },
   {
    "duration": 236,
    "start_time": "2022-09-16T14:30:33.366Z"
   },
   {
    "duration": 11,
    "start_time": "2022-09-16T14:30:33.603Z"
   },
   {
    "duration": 120,
    "start_time": "2022-09-16T14:30:33.615Z"
   },
   {
    "duration": 4,
    "start_time": "2022-09-16T14:30:33.737Z"
   },
   {
    "duration": 125,
    "start_time": "2022-09-16T14:30:33.742Z"
   },
   {
    "duration": 4,
    "start_time": "2022-09-16T14:30:33.868Z"
   },
   {
    "duration": 13,
    "start_time": "2022-09-16T14:30:33.874Z"
   },
   {
    "duration": 20,
    "start_time": "2022-09-16T14:30:33.888Z"
   },
   {
    "duration": 6,
    "start_time": "2022-09-16T14:30:33.909Z"
   },
   {
    "duration": 10,
    "start_time": "2022-09-16T14:30:33.917Z"
   },
   {
    "duration": 7,
    "start_time": "2022-09-16T14:30:33.928Z"
   },
   {
    "duration": 10,
    "start_time": "2022-09-16T14:30:33.938Z"
   },
   {
    "duration": 15,
    "start_time": "2022-09-16T14:30:33.949Z"
   },
   {
    "duration": 13,
    "start_time": "2022-09-16T14:30:33.966Z"
   },
   {
    "duration": 6,
    "start_time": "2022-09-16T14:30:33.980Z"
   },
   {
    "duration": 6,
    "start_time": "2022-09-16T14:30:33.987Z"
   },
   {
    "duration": 12,
    "start_time": "2022-09-16T14:30:33.994Z"
   },
   {
    "duration": 4,
    "start_time": "2022-09-16T14:30:34.007Z"
   },
   {
    "duration": 7,
    "start_time": "2022-09-16T14:30:34.013Z"
   },
   {
    "duration": 63,
    "start_time": "2022-09-16T14:30:34.021Z"
   },
   {
    "duration": 0,
    "start_time": "2022-09-16T14:30:34.100Z"
   },
   {
    "duration": 0,
    "start_time": "2022-09-16T14:30:34.101Z"
   },
   {
    "duration": 0,
    "start_time": "2022-09-16T14:30:34.102Z"
   },
   {
    "duration": 599,
    "start_time": "2022-09-16T14:30:50.674Z"
   },
   {
    "duration": 80,
    "start_time": "2022-09-16T14:30:51.275Z"
   },
   {
    "duration": 10,
    "start_time": "2022-09-16T14:30:51.356Z"
   },
   {
    "duration": 4,
    "start_time": "2022-09-16T14:30:51.368Z"
   },
   {
    "duration": 15,
    "start_time": "2022-09-16T14:30:51.373Z"
   },
   {
    "duration": 13,
    "start_time": "2022-09-16T14:30:51.389Z"
   },
   {
    "duration": 14,
    "start_time": "2022-09-16T14:30:51.404Z"
   },
   {
    "duration": 13,
    "start_time": "2022-09-16T14:30:51.419Z"
   },
   {
    "duration": 14,
    "start_time": "2022-09-16T14:30:51.434Z"
   },
   {
    "duration": 20,
    "start_time": "2022-09-16T14:30:51.452Z"
   },
   {
    "duration": 18,
    "start_time": "2022-09-16T14:30:51.474Z"
   },
   {
    "duration": 8,
    "start_time": "2022-09-16T14:30:51.494Z"
   },
   {
    "duration": 11,
    "start_time": "2022-09-16T14:30:51.503Z"
   },
   {
    "duration": 5,
    "start_time": "2022-09-16T14:30:51.515Z"
   },
   {
    "duration": 11,
    "start_time": "2022-09-16T14:30:51.521Z"
   },
   {
    "duration": 14,
    "start_time": "2022-09-16T14:30:51.534Z"
   },
   {
    "duration": 10,
    "start_time": "2022-09-16T14:30:51.549Z"
   },
   {
    "duration": 14,
    "start_time": "2022-09-16T14:30:51.561Z"
   },
   {
    "duration": 4,
    "start_time": "2022-09-16T14:30:51.576Z"
   },
   {
    "duration": 13,
    "start_time": "2022-09-16T14:30:51.581Z"
   },
   {
    "duration": 11,
    "start_time": "2022-09-16T14:30:51.601Z"
   },
   {
    "duration": 8,
    "start_time": "2022-09-16T14:30:51.613Z"
   },
   {
    "duration": 12,
    "start_time": "2022-09-16T14:30:51.623Z"
   },
   {
    "duration": 289,
    "start_time": "2022-09-16T14:30:51.636Z"
   },
   {
    "duration": 6,
    "start_time": "2022-09-16T14:30:51.926Z"
   },
   {
    "duration": 243,
    "start_time": "2022-09-16T14:30:51.933Z"
   },
   {
    "duration": 168,
    "start_time": "2022-09-16T14:30:52.178Z"
   },
   {
    "duration": 237,
    "start_time": "2022-09-16T14:30:52.348Z"
   },
   {
    "duration": 222,
    "start_time": "2022-09-16T14:30:52.586Z"
   },
   {
    "duration": 261,
    "start_time": "2022-09-16T14:30:52.810Z"
   },
   {
    "duration": 11,
    "start_time": "2022-09-16T14:30:53.073Z"
   },
   {
    "duration": 134,
    "start_time": "2022-09-16T14:30:53.085Z"
   },
   {
    "duration": 4,
    "start_time": "2022-09-16T14:30:53.220Z"
   },
   {
    "duration": 144,
    "start_time": "2022-09-16T14:30:53.226Z"
   },
   {
    "duration": 4,
    "start_time": "2022-09-16T14:30:53.371Z"
   },
   {
    "duration": 30,
    "start_time": "2022-09-16T14:30:53.376Z"
   },
   {
    "duration": 24,
    "start_time": "2022-09-16T14:30:53.408Z"
   },
   {
    "duration": 18,
    "start_time": "2022-09-16T14:30:53.434Z"
   },
   {
    "duration": 25,
    "start_time": "2022-09-16T14:30:53.454Z"
   },
   {
    "duration": 14,
    "start_time": "2022-09-16T14:30:53.481Z"
   },
   {
    "duration": 22,
    "start_time": "2022-09-16T14:30:53.496Z"
   },
   {
    "duration": 19,
    "start_time": "2022-09-16T14:30:53.520Z"
   },
   {
    "duration": 16,
    "start_time": "2022-09-16T14:30:53.540Z"
   },
   {
    "duration": 25,
    "start_time": "2022-09-16T14:30:53.558Z"
   },
   {
    "duration": 7,
    "start_time": "2022-09-16T14:30:53.584Z"
   },
   {
    "duration": 32,
    "start_time": "2022-09-16T14:30:53.592Z"
   },
   {
    "duration": 8,
    "start_time": "2022-09-16T14:30:53.626Z"
   },
   {
    "duration": 17,
    "start_time": "2022-09-16T14:30:53.636Z"
   },
   {
    "duration": 25,
    "start_time": "2022-09-16T14:30:53.655Z"
   },
   {
    "duration": 9,
    "start_time": "2022-09-16T14:30:53.682Z"
   },
   {
    "duration": 19,
    "start_time": "2022-09-16T14:30:53.692Z"
   },
   {
    "duration": 26,
    "start_time": "2022-09-16T14:30:53.712Z"
   },
   {
    "duration": 100,
    "start_time": "2022-09-16T14:31:56.232Z"
   },
   {
    "duration": 229,
    "start_time": "2022-09-16T14:32:07.493Z"
   },
   {
    "duration": 4,
    "start_time": "2022-09-16T14:32:18.439Z"
   },
   {
    "duration": 7,
    "start_time": "2022-09-16T14:32:32.303Z"
   },
   {
    "duration": 5,
    "start_time": "2022-09-16T14:32:33.050Z"
   },
   {
    "duration": 4,
    "start_time": "2022-09-16T14:32:37.907Z"
   },
   {
    "duration": 11,
    "start_time": "2022-09-16T14:32:45.681Z"
   },
   {
    "duration": 3,
    "start_time": "2022-09-16T14:32:48.785Z"
   },
   {
    "duration": 4,
    "start_time": "2022-09-16T14:32:51.704Z"
   },
   {
    "duration": 4,
    "start_time": "2022-09-16T14:32:52.309Z"
   },
   {
    "duration": 614,
    "start_time": "2022-09-16T14:33:14.299Z"
   },
   {
    "duration": 78,
    "start_time": "2022-09-16T14:33:14.915Z"
   },
   {
    "duration": 10,
    "start_time": "2022-09-16T14:33:14.995Z"
   },
   {
    "duration": 21,
    "start_time": "2022-09-16T14:33:15.007Z"
   },
   {
    "duration": 8,
    "start_time": "2022-09-16T14:33:15.029Z"
   },
   {
    "duration": 11,
    "start_time": "2022-09-16T14:33:15.039Z"
   },
   {
    "duration": 11,
    "start_time": "2022-09-16T14:33:15.051Z"
   },
   {
    "duration": 19,
    "start_time": "2022-09-16T14:33:15.063Z"
   },
   {
    "duration": 14,
    "start_time": "2022-09-16T14:33:15.083Z"
   },
   {
    "duration": 16,
    "start_time": "2022-09-16T14:33:15.099Z"
   },
   {
    "duration": 12,
    "start_time": "2022-09-16T14:33:15.116Z"
   },
   {
    "duration": 8,
    "start_time": "2022-09-16T14:33:15.130Z"
   },
   {
    "duration": 11,
    "start_time": "2022-09-16T14:33:15.139Z"
   },
   {
    "duration": 7,
    "start_time": "2022-09-16T14:33:15.151Z"
   },
   {
    "duration": 11,
    "start_time": "2022-09-16T14:33:15.159Z"
   },
   {
    "duration": 18,
    "start_time": "2022-09-16T14:33:15.171Z"
   },
   {
    "duration": 16,
    "start_time": "2022-09-16T14:33:15.191Z"
   },
   {
    "duration": 12,
    "start_time": "2022-09-16T14:33:15.208Z"
   },
   {
    "duration": 3,
    "start_time": "2022-09-16T14:33:15.222Z"
   },
   {
    "duration": 10,
    "start_time": "2022-09-16T14:33:15.226Z"
   },
   {
    "duration": 10,
    "start_time": "2022-09-16T14:33:15.238Z"
   },
   {
    "duration": 5,
    "start_time": "2022-09-16T14:33:15.250Z"
   },
   {
    "duration": 10,
    "start_time": "2022-09-16T14:33:15.256Z"
   },
   {
    "duration": 296,
    "start_time": "2022-09-16T14:33:15.267Z"
   },
   {
    "duration": 7,
    "start_time": "2022-09-16T14:33:15.564Z"
   },
   {
    "duration": 238,
    "start_time": "2022-09-16T14:33:15.572Z"
   },
   {
    "duration": 169,
    "start_time": "2022-09-16T14:33:15.812Z"
   },
   {
    "duration": 282,
    "start_time": "2022-09-16T14:33:15.984Z"
   },
   {
    "duration": 215,
    "start_time": "2022-09-16T14:33:16.268Z"
   },
   {
    "duration": 268,
    "start_time": "2022-09-16T14:33:16.485Z"
   },
   {
    "duration": 11,
    "start_time": "2022-09-16T14:33:16.754Z"
   },
   {
    "duration": 134,
    "start_time": "2022-09-16T14:33:16.766Z"
   },
   {
    "duration": 5,
    "start_time": "2022-09-16T14:33:16.902Z"
   },
   {
    "duration": 117,
    "start_time": "2022-09-16T14:33:16.908Z"
   },
   {
    "duration": 4,
    "start_time": "2022-09-16T14:33:17.027Z"
   },
   {
    "duration": 12,
    "start_time": "2022-09-16T14:33:17.032Z"
   },
   {
    "duration": 9,
    "start_time": "2022-09-16T14:33:17.046Z"
   },
   {
    "duration": 8,
    "start_time": "2022-09-16T14:33:17.056Z"
   },
   {
    "duration": 7,
    "start_time": "2022-09-16T14:33:17.066Z"
   },
   {
    "duration": 27,
    "start_time": "2022-09-16T14:33:17.074Z"
   },
   {
    "duration": 6,
    "start_time": "2022-09-16T14:33:17.103Z"
   },
   {
    "duration": 14,
    "start_time": "2022-09-16T14:33:17.111Z"
   },
   {
    "duration": 7,
    "start_time": "2022-09-16T14:33:17.127Z"
   },
   {
    "duration": 6,
    "start_time": "2022-09-16T14:33:17.135Z"
   },
   {
    "duration": 5,
    "start_time": "2022-09-16T14:33:17.142Z"
   },
   {
    "duration": 9,
    "start_time": "2022-09-16T14:33:17.148Z"
   },
   {
    "duration": 4,
    "start_time": "2022-09-16T14:33:17.159Z"
   },
   {
    "duration": 5,
    "start_time": "2022-09-16T14:33:17.164Z"
   },
   {
    "duration": 31,
    "start_time": "2022-09-16T14:33:17.170Z"
   },
   {
    "duration": 3,
    "start_time": "2022-09-16T14:33:17.203Z"
   },
   {
    "duration": 6,
    "start_time": "2022-09-16T14:33:17.207Z"
   },
   {
    "duration": 11,
    "start_time": "2022-09-16T14:33:17.214Z"
   },
   {
    "duration": 10,
    "start_time": "2022-09-16T14:34:02.848Z"
   },
   {
    "duration": 4,
    "start_time": "2022-09-16T14:34:05.044Z"
   },
   {
    "duration": 4,
    "start_time": "2022-09-16T14:37:27.715Z"
   },
   {
    "duration": 9,
    "start_time": "2022-09-16T14:37:28.383Z"
   },
   {
    "duration": 5,
    "start_time": "2022-09-16T14:37:28.784Z"
   },
   {
    "duration": 4,
    "start_time": "2022-09-16T14:37:29.902Z"
   },
   {
    "duration": 12,
    "start_time": "2022-09-16T14:37:30.243Z"
   },
   {
    "duration": 4,
    "start_time": "2022-09-16T14:37:35.717Z"
   },
   {
    "duration": 4,
    "start_time": "2022-09-16T14:37:45.898Z"
   },
   {
    "duration": 9,
    "start_time": "2022-09-16T14:37:46.951Z"
   },
   {
    "duration": 5,
    "start_time": "2022-09-16T14:37:47.639Z"
   },
   {
    "duration": 3,
    "start_time": "2022-09-16T14:37:50.391Z"
   },
   {
    "duration": 12,
    "start_time": "2022-09-16T14:37:51.440Z"
   },
   {
    "duration": 4,
    "start_time": "2022-09-16T14:38:00.291Z"
   },
   {
    "duration": 527,
    "start_time": "2022-09-16T14:38:39.962Z"
   },
   {
    "duration": 79,
    "start_time": "2022-09-16T14:38:40.491Z"
   },
   {
    "duration": 10,
    "start_time": "2022-09-16T14:38:40.571Z"
   },
   {
    "duration": 8,
    "start_time": "2022-09-16T14:38:40.582Z"
   },
   {
    "duration": 4,
    "start_time": "2022-09-16T14:38:40.591Z"
   },
   {
    "duration": 14,
    "start_time": "2022-09-16T14:38:40.596Z"
   },
   {
    "duration": 9,
    "start_time": "2022-09-16T14:38:40.611Z"
   },
   {
    "duration": 9,
    "start_time": "2022-09-16T14:38:40.622Z"
   },
   {
    "duration": 23,
    "start_time": "2022-09-16T14:38:40.633Z"
   },
   {
    "duration": 11,
    "start_time": "2022-09-16T14:38:40.660Z"
   },
   {
    "duration": 13,
    "start_time": "2022-09-16T14:38:40.673Z"
   },
   {
    "duration": 14,
    "start_time": "2022-09-16T14:38:40.688Z"
   },
   {
    "duration": 10,
    "start_time": "2022-09-16T14:38:40.703Z"
   },
   {
    "duration": 7,
    "start_time": "2022-09-16T14:38:40.714Z"
   },
   {
    "duration": 13,
    "start_time": "2022-09-16T14:38:40.722Z"
   },
   {
    "duration": 6,
    "start_time": "2022-09-16T14:38:40.737Z"
   },
   {
    "duration": 12,
    "start_time": "2022-09-16T14:38:40.745Z"
   },
   {
    "duration": 16,
    "start_time": "2022-09-16T14:38:40.759Z"
   },
   {
    "duration": 5,
    "start_time": "2022-09-16T14:38:40.776Z"
   },
   {
    "duration": 10,
    "start_time": "2022-09-16T14:38:40.799Z"
   },
   {
    "duration": 10,
    "start_time": "2022-09-16T14:38:40.810Z"
   },
   {
    "duration": 7,
    "start_time": "2022-09-16T14:38:40.821Z"
   },
   {
    "duration": 15,
    "start_time": "2022-09-16T14:38:40.829Z"
   },
   {
    "duration": 282,
    "start_time": "2022-09-16T14:38:40.845Z"
   },
   {
    "duration": 6,
    "start_time": "2022-09-16T14:38:41.128Z"
   },
   {
    "duration": 241,
    "start_time": "2022-09-16T14:38:41.135Z"
   },
   {
    "duration": 178,
    "start_time": "2022-09-16T14:38:41.378Z"
   },
   {
    "duration": 261,
    "start_time": "2022-09-16T14:38:41.559Z"
   },
   {
    "duration": 219,
    "start_time": "2022-09-16T14:38:41.822Z"
   },
   {
    "duration": 237,
    "start_time": "2022-09-16T14:38:42.043Z"
   },
   {
    "duration": 25,
    "start_time": "2022-09-16T14:38:42.283Z"
   },
   {
    "duration": 141,
    "start_time": "2022-09-16T14:38:42.310Z"
   },
   {
    "duration": 6,
    "start_time": "2022-09-16T14:38:42.452Z"
   },
   {
    "duration": 135,
    "start_time": "2022-09-16T14:38:42.460Z"
   },
   {
    "duration": 8,
    "start_time": "2022-09-16T14:38:42.596Z"
   },
   {
    "duration": 25,
    "start_time": "2022-09-16T14:38:42.605Z"
   },
   {
    "duration": 13,
    "start_time": "2022-09-16T14:38:42.632Z"
   },
   {
    "duration": 6,
    "start_time": "2022-09-16T14:38:42.646Z"
   },
   {
    "duration": 7,
    "start_time": "2022-09-16T14:38:42.654Z"
   },
   {
    "duration": 5,
    "start_time": "2022-09-16T14:38:42.662Z"
   },
   {
    "duration": 7,
    "start_time": "2022-09-16T14:38:42.669Z"
   },
   {
    "duration": 24,
    "start_time": "2022-09-16T14:38:42.677Z"
   },
   {
    "duration": 5,
    "start_time": "2022-09-16T14:38:42.702Z"
   },
   {
    "duration": 6,
    "start_time": "2022-09-16T14:38:42.708Z"
   },
   {
    "duration": 4,
    "start_time": "2022-09-16T14:38:42.715Z"
   },
   {
    "duration": 11,
    "start_time": "2022-09-16T14:38:42.720Z"
   },
   {
    "duration": 17,
    "start_time": "2022-09-16T14:38:42.732Z"
   },
   {
    "duration": 7,
    "start_time": "2022-09-16T14:38:42.750Z"
   },
   {
    "duration": 12,
    "start_time": "2022-09-16T14:38:42.758Z"
   },
   {
    "duration": 3,
    "start_time": "2022-09-16T14:38:42.771Z"
   },
   {
    "duration": 5,
    "start_time": "2022-09-16T14:38:42.775Z"
   },
   {
    "duration": 21,
    "start_time": "2022-09-16T14:38:42.781Z"
   },
   {
    "duration": 700,
    "start_time": "2022-09-16T14:38:59.198Z"
   },
   {
    "duration": 79,
    "start_time": "2022-09-16T14:38:59.901Z"
   },
   {
    "duration": 11,
    "start_time": "2022-09-16T14:38:59.984Z"
   },
   {
    "duration": 6,
    "start_time": "2022-09-16T14:38:59.996Z"
   },
   {
    "duration": 27,
    "start_time": "2022-09-16T14:39:00.003Z"
   },
   {
    "duration": 20,
    "start_time": "2022-09-16T14:39:00.031Z"
   },
   {
    "duration": 21,
    "start_time": "2022-09-16T14:39:00.053Z"
   },
   {
    "duration": 30,
    "start_time": "2022-09-16T14:39:00.075Z"
   },
   {
    "duration": 19,
    "start_time": "2022-09-16T14:39:00.108Z"
   },
   {
    "duration": 29,
    "start_time": "2022-09-16T14:39:00.129Z"
   },
   {
    "duration": 22,
    "start_time": "2022-09-16T14:39:00.160Z"
   },
   {
    "duration": 25,
    "start_time": "2022-09-16T14:39:00.184Z"
   },
   {
    "duration": 21,
    "start_time": "2022-09-16T14:39:00.210Z"
   },
   {
    "duration": 15,
    "start_time": "2022-09-16T14:39:00.233Z"
   },
   {
    "duration": 42,
    "start_time": "2022-09-16T14:39:00.250Z"
   },
   {
    "duration": 28,
    "start_time": "2022-09-16T14:39:00.294Z"
   },
   {
    "duration": 22,
    "start_time": "2022-09-16T14:39:00.324Z"
   },
   {
    "duration": 29,
    "start_time": "2022-09-16T14:39:00.348Z"
   },
   {
    "duration": 22,
    "start_time": "2022-09-16T14:39:00.378Z"
   },
   {
    "duration": 35,
    "start_time": "2022-09-16T14:39:00.402Z"
   },
   {
    "duration": 30,
    "start_time": "2022-09-16T14:39:00.439Z"
   },
   {
    "duration": 29,
    "start_time": "2022-09-16T14:39:00.471Z"
   },
   {
    "duration": 26,
    "start_time": "2022-09-16T14:39:00.502Z"
   },
   {
    "duration": 310,
    "start_time": "2022-09-16T14:39:00.529Z"
   },
   {
    "duration": 7,
    "start_time": "2022-09-16T14:39:00.840Z"
   },
   {
    "duration": 252,
    "start_time": "2022-09-16T14:39:00.848Z"
   },
   {
    "duration": 188,
    "start_time": "2022-09-16T14:39:01.104Z"
   },
   {
    "duration": 275,
    "start_time": "2022-09-16T14:39:01.294Z"
   },
   {
    "duration": 234,
    "start_time": "2022-09-16T14:39:01.571Z"
   },
   {
    "duration": 266,
    "start_time": "2022-09-16T14:39:01.807Z"
   },
   {
    "duration": 11,
    "start_time": "2022-09-16T14:39:02.075Z"
   },
   {
    "duration": 134,
    "start_time": "2022-09-16T14:39:02.088Z"
   },
   {
    "duration": 5,
    "start_time": "2022-09-16T14:39:02.224Z"
   },
   {
    "duration": 135,
    "start_time": "2022-09-16T14:39:02.231Z"
   },
   {
    "duration": 4,
    "start_time": "2022-09-16T14:39:02.368Z"
   },
   {
    "duration": 15,
    "start_time": "2022-09-16T14:39:02.374Z"
   },
   {
    "duration": 11,
    "start_time": "2022-09-16T14:39:02.401Z"
   },
   {
    "duration": 9,
    "start_time": "2022-09-16T14:39:02.414Z"
   },
   {
    "duration": 11,
    "start_time": "2022-09-16T14:39:02.425Z"
   },
   {
    "duration": 7,
    "start_time": "2022-09-16T14:39:02.437Z"
   },
   {
    "duration": 9,
    "start_time": "2022-09-16T14:39:02.445Z"
   },
   {
    "duration": 7,
    "start_time": "2022-09-16T14:39:02.456Z"
   },
   {
    "duration": 8,
    "start_time": "2022-09-16T14:39:02.464Z"
   },
   {
    "duration": 11,
    "start_time": "2022-09-16T14:39:02.473Z"
   },
   {
    "duration": 18,
    "start_time": "2022-09-16T14:39:02.485Z"
   },
   {
    "duration": 15,
    "start_time": "2022-09-16T14:39:02.504Z"
   },
   {
    "duration": 16,
    "start_time": "2022-09-16T14:39:02.520Z"
   },
   {
    "duration": 10,
    "start_time": "2022-09-16T14:39:02.537Z"
   },
   {
    "duration": 15,
    "start_time": "2022-09-16T14:39:02.549Z"
   },
   {
    "duration": 9,
    "start_time": "2022-09-16T14:39:02.566Z"
   },
   {
    "duration": 11,
    "start_time": "2022-09-16T14:39:02.577Z"
   },
   {
    "duration": 15,
    "start_time": "2022-09-16T14:39:02.590Z"
   },
   {
    "duration": 4,
    "start_time": "2022-09-16T14:39:44.691Z"
   },
   {
    "duration": 9,
    "start_time": "2022-09-16T14:39:45.080Z"
   },
   {
    "duration": 5,
    "start_time": "2022-09-16T14:39:50.218Z"
   },
   {
    "duration": 15,
    "start_time": "2022-09-16T14:39:55.422Z"
   },
   {
    "duration": 3,
    "start_time": "2022-09-16T14:39:55.928Z"
   },
   {
    "duration": 4,
    "start_time": "2022-09-16T14:40:40.011Z"
   },
   {
    "duration": 8,
    "start_time": "2022-09-16T14:40:40.438Z"
   },
   {
    "duration": 5,
    "start_time": "2022-09-16T14:40:40.891Z"
   },
   {
    "duration": 3,
    "start_time": "2022-09-16T14:40:41.417Z"
   },
   {
    "duration": 12,
    "start_time": "2022-09-16T14:40:41.848Z"
   },
   {
    "duration": 4,
    "start_time": "2022-09-16T14:40:42.368Z"
   },
   {
    "duration": 653,
    "start_time": "2022-09-16T14:40:50.228Z"
   },
   {
    "duration": 93,
    "start_time": "2022-09-16T14:40:50.883Z"
   },
   {
    "duration": 11,
    "start_time": "2022-09-16T14:40:50.977Z"
   },
   {
    "duration": 12,
    "start_time": "2022-09-16T14:40:50.989Z"
   },
   {
    "duration": 3,
    "start_time": "2022-09-16T14:40:51.003Z"
   },
   {
    "duration": 12,
    "start_time": "2022-09-16T14:40:51.007Z"
   },
   {
    "duration": 7,
    "start_time": "2022-09-16T14:40:51.021Z"
   },
   {
    "duration": 11,
    "start_time": "2022-09-16T14:40:51.030Z"
   },
   {
    "duration": 12,
    "start_time": "2022-09-16T14:40:51.042Z"
   },
   {
    "duration": 12,
    "start_time": "2022-09-16T14:40:51.055Z"
   },
   {
    "duration": 9,
    "start_time": "2022-09-16T14:40:51.068Z"
   },
   {
    "duration": 4,
    "start_time": "2022-09-16T14:40:51.100Z"
   },
   {
    "duration": 21,
    "start_time": "2022-09-16T14:40:51.106Z"
   },
   {
    "duration": 5,
    "start_time": "2022-09-16T14:40:51.129Z"
   },
   {
    "duration": 11,
    "start_time": "2022-09-16T14:40:51.135Z"
   },
   {
    "duration": 7,
    "start_time": "2022-09-16T14:40:51.147Z"
   },
   {
    "duration": 10,
    "start_time": "2022-09-16T14:40:51.155Z"
   },
   {
    "duration": 18,
    "start_time": "2022-09-16T14:40:51.167Z"
   },
   {
    "duration": 2,
    "start_time": "2022-09-16T14:40:51.200Z"
   },
   {
    "duration": 11,
    "start_time": "2022-09-16T14:40:51.204Z"
   },
   {
    "duration": 15,
    "start_time": "2022-09-16T14:40:51.217Z"
   },
   {
    "duration": 12,
    "start_time": "2022-09-16T14:40:51.234Z"
   },
   {
    "duration": 16,
    "start_time": "2022-09-16T14:40:51.247Z"
   },
   {
    "duration": 284,
    "start_time": "2022-09-16T14:40:51.265Z"
   },
   {
    "duration": 6,
    "start_time": "2022-09-16T14:40:51.550Z"
   },
   {
    "duration": 243,
    "start_time": "2022-09-16T14:40:51.557Z"
   },
   {
    "duration": 185,
    "start_time": "2022-09-16T14:40:51.802Z"
   },
   {
    "duration": 285,
    "start_time": "2022-09-16T14:40:51.988Z"
   },
   {
    "duration": 251,
    "start_time": "2022-09-16T14:40:52.275Z"
   },
   {
    "duration": 249,
    "start_time": "2022-09-16T14:40:52.528Z"
   },
   {
    "duration": 23,
    "start_time": "2022-09-16T14:40:52.778Z"
   },
   {
    "duration": 116,
    "start_time": "2022-09-16T14:40:52.802Z"
   },
   {
    "duration": 5,
    "start_time": "2022-09-16T14:40:52.919Z"
   },
   {
    "duration": 139,
    "start_time": "2022-09-16T14:40:52.925Z"
   },
   {
    "duration": 4,
    "start_time": "2022-09-16T14:40:53.065Z"
   },
   {
    "duration": 15,
    "start_time": "2022-09-16T14:40:53.071Z"
   },
   {
    "duration": 22,
    "start_time": "2022-09-16T14:40:53.087Z"
   },
   {
    "duration": 6,
    "start_time": "2022-09-16T14:40:53.110Z"
   },
   {
    "duration": 9,
    "start_time": "2022-09-16T14:40:53.118Z"
   },
   {
    "duration": 8,
    "start_time": "2022-09-16T14:40:53.129Z"
   },
   {
    "duration": 6,
    "start_time": "2022-09-16T14:40:53.140Z"
   },
   {
    "duration": 8,
    "start_time": "2022-09-16T14:40:53.147Z"
   },
   {
    "duration": 7,
    "start_time": "2022-09-16T14:40:53.156Z"
   },
   {
    "duration": 10,
    "start_time": "2022-09-16T14:40:53.164Z"
   },
   {
    "duration": 25,
    "start_time": "2022-09-16T14:40:53.175Z"
   },
   {
    "duration": 7,
    "start_time": "2022-09-16T14:40:53.202Z"
   },
   {
    "duration": 4,
    "start_time": "2022-09-16T14:40:53.211Z"
   },
   {
    "duration": 7,
    "start_time": "2022-09-16T14:40:53.216Z"
   },
   {
    "duration": 14,
    "start_time": "2022-09-16T14:40:53.225Z"
   },
   {
    "duration": 3,
    "start_time": "2022-09-16T14:40:53.241Z"
   },
   {
    "duration": 8,
    "start_time": "2022-09-16T14:40:53.246Z"
   },
   {
    "duration": 6,
    "start_time": "2022-09-16T14:40:53.256Z"
   },
   {
    "duration": 58,
    "start_time": "2022-09-16T14:41:36.081Z"
   },
   {
    "duration": 48,
    "start_time": "2022-09-16T14:42:03.854Z"
   },
   {
    "duration": 43,
    "start_time": "2022-09-16T14:42:18.298Z"
   },
   {
    "duration": 588,
    "start_time": "2022-09-16T14:42:23.634Z"
   },
   {
    "duration": 79,
    "start_time": "2022-09-16T14:42:24.224Z"
   },
   {
    "duration": 10,
    "start_time": "2022-09-16T14:42:24.307Z"
   },
   {
    "duration": 5,
    "start_time": "2022-09-16T14:42:24.319Z"
   },
   {
    "duration": 6,
    "start_time": "2022-09-16T14:42:24.325Z"
   },
   {
    "duration": 13,
    "start_time": "2022-09-16T14:42:24.332Z"
   },
   {
    "duration": 7,
    "start_time": "2022-09-16T14:42:24.346Z"
   },
   {
    "duration": 11,
    "start_time": "2022-09-16T14:42:24.354Z"
   },
   {
    "duration": 36,
    "start_time": "2022-09-16T14:42:24.367Z"
   },
   {
    "duration": 25,
    "start_time": "2022-09-16T14:42:24.405Z"
   },
   {
    "duration": 13,
    "start_time": "2022-09-16T14:42:24.432Z"
   },
   {
    "duration": 18,
    "start_time": "2022-09-16T14:42:24.449Z"
   },
   {
    "duration": 26,
    "start_time": "2022-09-16T14:42:24.471Z"
   },
   {
    "duration": 14,
    "start_time": "2022-09-16T14:42:24.499Z"
   },
   {
    "duration": 24,
    "start_time": "2022-09-16T14:42:24.515Z"
   },
   {
    "duration": 27,
    "start_time": "2022-09-16T14:42:24.541Z"
   },
   {
    "duration": 19,
    "start_time": "2022-09-16T14:42:24.570Z"
   },
   {
    "duration": 23,
    "start_time": "2022-09-16T14:42:24.591Z"
   },
   {
    "duration": 12,
    "start_time": "2022-09-16T14:42:24.617Z"
   },
   {
    "duration": 22,
    "start_time": "2022-09-16T14:42:24.631Z"
   },
   {
    "duration": 14,
    "start_time": "2022-09-16T14:42:24.655Z"
   },
   {
    "duration": 8,
    "start_time": "2022-09-16T14:42:24.671Z"
   },
   {
    "duration": 13,
    "start_time": "2022-09-16T14:42:24.680Z"
   },
   {
    "duration": 298,
    "start_time": "2022-09-16T14:42:24.695Z"
   },
   {
    "duration": 6,
    "start_time": "2022-09-16T14:42:25.000Z"
   },
   {
    "duration": 256,
    "start_time": "2022-09-16T14:42:25.008Z"
   },
   {
    "duration": 181,
    "start_time": "2022-09-16T14:42:25.266Z"
   },
   {
    "duration": 239,
    "start_time": "2022-09-16T14:42:25.448Z"
   },
   {
    "duration": 216,
    "start_time": "2022-09-16T14:42:25.700Z"
   },
   {
    "duration": 261,
    "start_time": "2022-09-16T14:42:25.918Z"
   },
   {
    "duration": 21,
    "start_time": "2022-09-16T14:42:26.180Z"
   },
   {
    "duration": 117,
    "start_time": "2022-09-16T14:42:26.203Z"
   },
   {
    "duration": 4,
    "start_time": "2022-09-16T14:42:26.322Z"
   },
   {
    "duration": 124,
    "start_time": "2022-09-16T14:42:26.327Z"
   },
   {
    "duration": 5,
    "start_time": "2022-09-16T14:42:26.453Z"
   },
   {
    "duration": 19,
    "start_time": "2022-09-16T14:42:26.460Z"
   },
   {
    "duration": 21,
    "start_time": "2022-09-16T14:42:26.480Z"
   },
   {
    "duration": 7,
    "start_time": "2022-09-16T14:42:26.503Z"
   },
   {
    "duration": 9,
    "start_time": "2022-09-16T14:42:26.512Z"
   },
   {
    "duration": 9,
    "start_time": "2022-09-16T14:42:26.525Z"
   },
   {
    "duration": 6,
    "start_time": "2022-09-16T14:42:26.536Z"
   },
   {
    "duration": 13,
    "start_time": "2022-09-16T14:42:26.544Z"
   },
   {
    "duration": 6,
    "start_time": "2022-09-16T14:42:26.558Z"
   },
   {
    "duration": 6,
    "start_time": "2022-09-16T14:42:26.566Z"
   },
   {
    "duration": 74,
    "start_time": "2022-09-16T14:42:26.574Z"
   },
   {
    "duration": 0,
    "start_time": "2022-09-16T14:42:26.650Z"
   },
   {
    "duration": 0,
    "start_time": "2022-09-16T14:42:26.651Z"
   },
   {
    "duration": 0,
    "start_time": "2022-09-16T14:42:26.652Z"
   },
   {
    "duration": 0,
    "start_time": "2022-09-16T14:42:26.654Z"
   },
   {
    "duration": 0,
    "start_time": "2022-09-16T14:42:26.655Z"
   },
   {
    "duration": 0,
    "start_time": "2022-09-16T14:42:26.656Z"
   },
   {
    "duration": 0,
    "start_time": "2022-09-16T14:42:26.657Z"
   },
   {
    "duration": 4,
    "start_time": "2022-09-16T14:43:31.807Z"
   },
   {
    "duration": 10,
    "start_time": "2022-09-16T14:43:40.092Z"
   },
   {
    "duration": 63,
    "start_time": "2022-09-16T14:43:42.783Z"
   },
   {
    "duration": 10,
    "start_time": "2022-09-16T14:43:55.492Z"
   },
   {
    "duration": 3,
    "start_time": "2022-09-16T14:43:56.365Z"
   },
   {
    "duration": 4,
    "start_time": "2022-09-16T14:44:53.530Z"
   },
   {
    "duration": 7,
    "start_time": "2022-09-16T14:44:54.827Z"
   },
   {
    "duration": 5,
    "start_time": "2022-09-16T14:44:55.502Z"
   },
   {
    "duration": 4,
    "start_time": "2022-09-16T14:44:55.864Z"
   },
   {
    "duration": 4,
    "start_time": "2022-09-16T14:45:28.686Z"
   },
   {
    "duration": 8,
    "start_time": "2022-09-16T14:45:29.768Z"
   },
   {
    "duration": 4,
    "start_time": "2022-09-16T14:45:30.334Z"
   },
   {
    "duration": 3,
    "start_time": "2022-09-16T14:45:32.834Z"
   },
   {
    "duration": 11,
    "start_time": "2022-09-16T14:45:33.888Z"
   },
   {
    "duration": 615,
    "start_time": "2022-09-16T14:46:14.826Z"
   },
   {
    "duration": 80,
    "start_time": "2022-09-16T14:46:15.443Z"
   },
   {
    "duration": 10,
    "start_time": "2022-09-16T14:46:15.525Z"
   },
   {
    "duration": 6,
    "start_time": "2022-09-16T14:46:15.537Z"
   },
   {
    "duration": 4,
    "start_time": "2022-09-16T14:46:15.544Z"
   },
   {
    "duration": 12,
    "start_time": "2022-09-16T14:46:15.549Z"
   },
   {
    "duration": 6,
    "start_time": "2022-09-16T14:46:15.562Z"
   },
   {
    "duration": 11,
    "start_time": "2022-09-16T14:46:15.570Z"
   },
   {
    "duration": 18,
    "start_time": "2022-09-16T14:46:15.582Z"
   },
   {
    "duration": 10,
    "start_time": "2022-09-16T14:46:15.603Z"
   },
   {
    "duration": 12,
    "start_time": "2022-09-16T14:46:15.615Z"
   },
   {
    "duration": 7,
    "start_time": "2022-09-16T14:46:15.629Z"
   },
   {
    "duration": 15,
    "start_time": "2022-09-16T14:46:15.637Z"
   },
   {
    "duration": 5,
    "start_time": "2022-09-16T14:46:15.654Z"
   },
   {
    "duration": 13,
    "start_time": "2022-09-16T14:46:15.660Z"
   },
   {
    "duration": 26,
    "start_time": "2022-09-16T14:46:15.675Z"
   },
   {
    "duration": 11,
    "start_time": "2022-09-16T14:46:15.703Z"
   },
   {
    "duration": 24,
    "start_time": "2022-09-16T14:46:15.716Z"
   },
   {
    "duration": 6,
    "start_time": "2022-09-16T14:46:15.742Z"
   },
   {
    "duration": 12,
    "start_time": "2022-09-16T14:46:15.749Z"
   },
   {
    "duration": 16,
    "start_time": "2022-09-16T14:46:15.762Z"
   },
   {
    "duration": 7,
    "start_time": "2022-09-16T14:46:15.780Z"
   },
   {
    "duration": 11,
    "start_time": "2022-09-16T14:46:15.801Z"
   },
   {
    "duration": 310,
    "start_time": "2022-09-16T14:46:15.814Z"
   },
   {
    "duration": 8,
    "start_time": "2022-09-16T14:46:16.125Z"
   },
   {
    "duration": 251,
    "start_time": "2022-09-16T14:46:16.134Z"
   },
   {
    "duration": 168,
    "start_time": "2022-09-16T14:46:16.386Z"
   },
   {
    "duration": 253,
    "start_time": "2022-09-16T14:46:16.558Z"
   },
   {
    "duration": 212,
    "start_time": "2022-09-16T14:46:16.813Z"
   },
   {
    "duration": 246,
    "start_time": "2022-09-16T14:46:17.026Z"
   },
   {
    "duration": 26,
    "start_time": "2022-09-16T14:46:17.275Z"
   },
   {
    "duration": 146,
    "start_time": "2022-09-16T14:46:17.303Z"
   },
   {
    "duration": 5,
    "start_time": "2022-09-16T14:46:17.452Z"
   },
   {
    "duration": 133,
    "start_time": "2022-09-16T14:46:17.459Z"
   },
   {
    "duration": 9,
    "start_time": "2022-09-16T14:46:17.593Z"
   },
   {
    "duration": 13,
    "start_time": "2022-09-16T14:46:17.604Z"
   },
   {
    "duration": 10,
    "start_time": "2022-09-16T14:46:17.618Z"
   },
   {
    "duration": 7,
    "start_time": "2022-09-16T14:46:17.630Z"
   },
   {
    "duration": 7,
    "start_time": "2022-09-16T14:46:17.639Z"
   },
   {
    "duration": 7,
    "start_time": "2022-09-16T14:46:17.647Z"
   },
   {
    "duration": 7,
    "start_time": "2022-09-16T14:46:17.655Z"
   },
   {
    "duration": 5,
    "start_time": "2022-09-16T14:46:17.663Z"
   },
   {
    "duration": 31,
    "start_time": "2022-09-16T14:46:17.670Z"
   },
   {
    "duration": 10,
    "start_time": "2022-09-16T14:46:17.703Z"
   },
   {
    "duration": 6,
    "start_time": "2022-09-16T14:46:17.714Z"
   },
   {
    "duration": 19,
    "start_time": "2022-09-16T14:46:17.721Z"
   },
   {
    "duration": 4,
    "start_time": "2022-09-16T14:46:17.742Z"
   },
   {
    "duration": 11,
    "start_time": "2022-09-16T14:46:17.747Z"
   },
   {
    "duration": 15,
    "start_time": "2022-09-16T14:46:17.759Z"
   },
   {
    "duration": 3,
    "start_time": "2022-09-16T14:46:17.776Z"
   },
   {
    "duration": 8,
    "start_time": "2022-09-16T14:46:17.780Z"
   },
   {
    "duration": 11,
    "start_time": "2022-09-16T14:46:17.790Z"
   },
   {
    "duration": 9,
    "start_time": "2022-09-16T14:47:44.096Z"
   },
   {
    "duration": 9,
    "start_time": "2022-09-16T14:47:46.518Z"
   },
   {
    "duration": 605,
    "start_time": "2022-09-16T14:47:51.883Z"
   },
   {
    "duration": 77,
    "start_time": "2022-09-16T14:47:52.490Z"
   },
   {
    "duration": 11,
    "start_time": "2022-09-16T14:47:52.568Z"
   },
   {
    "duration": 5,
    "start_time": "2022-09-16T14:47:52.580Z"
   },
   {
    "duration": 7,
    "start_time": "2022-09-16T14:47:52.587Z"
   },
   {
    "duration": 10,
    "start_time": "2022-09-16T14:47:52.595Z"
   },
   {
    "duration": 6,
    "start_time": "2022-09-16T14:47:52.607Z"
   },
   {
    "duration": 10,
    "start_time": "2022-09-16T14:47:52.615Z"
   },
   {
    "duration": 12,
    "start_time": "2022-09-16T14:47:52.626Z"
   },
   {
    "duration": 11,
    "start_time": "2022-09-16T14:47:52.639Z"
   },
   {
    "duration": 14,
    "start_time": "2022-09-16T14:47:52.651Z"
   },
   {
    "duration": 6,
    "start_time": "2022-09-16T14:47:52.667Z"
   },
   {
    "duration": 29,
    "start_time": "2022-09-16T14:47:52.675Z"
   },
   {
    "duration": 5,
    "start_time": "2022-09-16T14:47:52.707Z"
   },
   {
    "duration": 12,
    "start_time": "2022-09-16T14:47:52.713Z"
   },
   {
    "duration": 10,
    "start_time": "2022-09-16T14:47:52.726Z"
   },
   {
    "duration": 11,
    "start_time": "2022-09-16T14:47:52.737Z"
   },
   {
    "duration": 13,
    "start_time": "2022-09-16T14:47:52.749Z"
   },
   {
    "duration": 4,
    "start_time": "2022-09-16T14:47:52.764Z"
   },
   {
    "duration": 34,
    "start_time": "2022-09-16T14:47:52.769Z"
   },
   {
    "duration": 11,
    "start_time": "2022-09-16T14:47:52.805Z"
   },
   {
    "duration": 10,
    "start_time": "2022-09-16T14:47:52.817Z"
   },
   {
    "duration": 11,
    "start_time": "2022-09-16T14:47:52.829Z"
   },
   {
    "duration": 302,
    "start_time": "2022-09-16T14:47:52.842Z"
   },
   {
    "duration": 7,
    "start_time": "2022-09-16T14:47:53.145Z"
   },
   {
    "duration": 256,
    "start_time": "2022-09-16T14:47:53.153Z"
   },
   {
    "duration": 184,
    "start_time": "2022-09-16T14:47:53.411Z"
   },
   {
    "duration": 268,
    "start_time": "2022-09-16T14:47:53.596Z"
   },
   {
    "duration": 256,
    "start_time": "2022-09-16T14:47:53.865Z"
   },
   {
    "duration": 249,
    "start_time": "2022-09-16T14:47:54.123Z"
   },
   {
    "duration": 27,
    "start_time": "2022-09-16T14:47:54.374Z"
   },
   {
    "duration": 155,
    "start_time": "2022-09-16T14:47:54.404Z"
   },
   {
    "duration": 5,
    "start_time": "2022-09-16T14:47:54.561Z"
   },
   {
    "duration": 140,
    "start_time": "2022-09-16T14:47:54.567Z"
   },
   {
    "duration": 4,
    "start_time": "2022-09-16T14:47:54.708Z"
   },
   {
    "duration": 14,
    "start_time": "2022-09-16T14:47:54.714Z"
   },
   {
    "duration": 15,
    "start_time": "2022-09-16T14:47:54.729Z"
   },
   {
    "duration": 9,
    "start_time": "2022-09-16T14:47:54.746Z"
   },
   {
    "duration": 12,
    "start_time": "2022-09-16T14:47:54.757Z"
   },
   {
    "duration": 5,
    "start_time": "2022-09-16T14:47:54.771Z"
   },
   {
    "duration": 22,
    "start_time": "2022-09-16T14:47:54.779Z"
   },
   {
    "duration": 5,
    "start_time": "2022-09-16T14:47:54.802Z"
   },
   {
    "duration": 6,
    "start_time": "2022-09-16T14:47:54.808Z"
   },
   {
    "duration": 10,
    "start_time": "2022-09-16T14:47:54.816Z"
   },
   {
    "duration": 16,
    "start_time": "2022-09-16T14:47:54.827Z"
   },
   {
    "duration": 19,
    "start_time": "2022-09-16T14:47:54.844Z"
   },
   {
    "duration": 8,
    "start_time": "2022-09-16T14:47:54.865Z"
   },
   {
    "duration": 64,
    "start_time": "2022-09-16T14:50:43.625Z"
   },
   {
    "duration": 1018,
    "start_time": "2022-09-16T14:51:07.922Z"
   },
   {
    "duration": 79,
    "start_time": "2022-09-16T14:51:08.942Z"
   },
   {
    "duration": 13,
    "start_time": "2022-09-16T14:51:09.022Z"
   },
   {
    "duration": 26,
    "start_time": "2022-09-16T14:51:09.036Z"
   },
   {
    "duration": 7,
    "start_time": "2022-09-16T14:51:09.064Z"
   },
   {
    "duration": 46,
    "start_time": "2022-09-16T14:51:09.072Z"
   },
   {
    "duration": 10,
    "start_time": "2022-09-16T14:51:09.119Z"
   },
   {
    "duration": 12,
    "start_time": "2022-09-16T14:51:09.131Z"
   },
   {
    "duration": 15,
    "start_time": "2022-09-16T14:51:09.145Z"
   },
   {
    "duration": 15,
    "start_time": "2022-09-16T14:51:09.162Z"
   },
   {
    "duration": 14,
    "start_time": "2022-09-16T14:51:09.178Z"
   },
   {
    "duration": 5,
    "start_time": "2022-09-16T14:51:09.200Z"
   },
   {
    "duration": 54,
    "start_time": "2022-09-16T14:51:09.206Z"
   },
   {
    "duration": 24,
    "start_time": "2022-09-16T14:51:09.263Z"
   },
   {
    "duration": 27,
    "start_time": "2022-09-16T14:51:09.289Z"
   },
   {
    "duration": 30,
    "start_time": "2022-09-16T14:51:09.318Z"
   },
   {
    "duration": 20,
    "start_time": "2022-09-16T14:51:09.350Z"
   },
   {
    "duration": 40,
    "start_time": "2022-09-16T14:51:09.372Z"
   },
   {
    "duration": 25,
    "start_time": "2022-09-16T14:51:09.414Z"
   },
   {
    "duration": 30,
    "start_time": "2022-09-16T14:51:09.441Z"
   },
   {
    "duration": 33,
    "start_time": "2022-09-16T14:51:09.473Z"
   },
   {
    "duration": 27,
    "start_time": "2022-09-16T14:51:09.508Z"
   },
   {
    "duration": 20,
    "start_time": "2022-09-16T14:51:09.536Z"
   },
   {
    "duration": 290,
    "start_time": "2022-09-16T14:51:09.557Z"
   },
   {
    "duration": 6,
    "start_time": "2022-09-16T14:51:09.849Z"
   },
   {
    "duration": 247,
    "start_time": "2022-09-16T14:51:09.857Z"
   },
   {
    "duration": 176,
    "start_time": "2022-09-16T14:51:10.105Z"
   },
   {
    "duration": 285,
    "start_time": "2022-09-16T14:51:10.282Z"
   },
   {
    "duration": 184,
    "start_time": "2022-09-16T14:51:10.569Z"
   },
   {
    "duration": 233,
    "start_time": "2022-09-16T14:51:10.754Z"
   },
   {
    "duration": 20,
    "start_time": "2022-09-16T14:51:10.988Z"
   },
   {
    "duration": 139,
    "start_time": "2022-09-16T14:51:11.010Z"
   },
   {
    "duration": 4,
    "start_time": "2022-09-16T14:51:11.151Z"
   },
   {
    "duration": 183,
    "start_time": "2022-09-16T14:51:11.157Z"
   },
   {
    "duration": 4,
    "start_time": "2022-09-16T14:51:11.342Z"
   },
   {
    "duration": 23,
    "start_time": "2022-09-16T14:51:11.348Z"
   },
   {
    "duration": 11,
    "start_time": "2022-09-16T14:51:11.373Z"
   },
   {
    "duration": 18,
    "start_time": "2022-09-16T14:51:11.385Z"
   },
   {
    "duration": 18,
    "start_time": "2022-09-16T14:51:11.405Z"
   },
   {
    "duration": 17,
    "start_time": "2022-09-16T14:51:11.425Z"
   },
   {
    "duration": 8,
    "start_time": "2022-09-16T14:51:11.445Z"
   },
   {
    "duration": 12,
    "start_time": "2022-09-16T14:51:11.454Z"
   },
   {
    "duration": 8,
    "start_time": "2022-09-16T14:51:11.468Z"
   },
   {
    "duration": 7,
    "start_time": "2022-09-16T14:51:11.478Z"
   },
   {
    "duration": 5,
    "start_time": "2022-09-16T14:51:11.486Z"
   },
   {
    "duration": 12,
    "start_time": "2022-09-16T14:51:11.492Z"
   },
   {
    "duration": 10,
    "start_time": "2022-09-16T14:51:11.505Z"
   },
   {
    "duration": 108,
    "start_time": "2022-09-16T14:51:11.516Z"
   },
   {
    "duration": 5,
    "start_time": "2022-09-16T14:51:45.873Z"
   },
   {
    "duration": 5,
    "start_time": "2022-09-16T14:52:07.532Z"
   },
   {
    "duration": 13,
    "start_time": "2022-09-16T14:53:04.277Z"
   },
   {
    "duration": 14,
    "start_time": "2022-09-16T14:53:49.896Z"
   },
   {
    "duration": 8,
    "start_time": "2022-09-16T14:59:46.079Z"
   },
   {
    "duration": 9,
    "start_time": "2022-09-16T14:59:53.247Z"
   },
   {
    "duration": 7,
    "start_time": "2022-09-16T14:59:57.381Z"
   },
   {
    "duration": 1001,
    "start_time": "2022-09-16T15:00:20.542Z"
   },
   {
    "duration": 88,
    "start_time": "2022-09-16T15:00:21.545Z"
   },
   {
    "duration": 12,
    "start_time": "2022-09-16T15:00:21.634Z"
   },
   {
    "duration": 7,
    "start_time": "2022-09-16T15:00:21.648Z"
   },
   {
    "duration": 11,
    "start_time": "2022-09-16T15:00:21.656Z"
   },
   {
    "duration": 11,
    "start_time": "2022-09-16T15:00:21.669Z"
   },
   {
    "duration": 8,
    "start_time": "2022-09-16T15:00:21.682Z"
   },
   {
    "duration": 14,
    "start_time": "2022-09-16T15:00:21.691Z"
   },
   {
    "duration": 15,
    "start_time": "2022-09-16T15:00:21.707Z"
   },
   {
    "duration": 13,
    "start_time": "2022-09-16T15:00:21.724Z"
   },
   {
    "duration": 11,
    "start_time": "2022-09-16T15:00:21.738Z"
   },
   {
    "duration": 21,
    "start_time": "2022-09-16T15:00:21.750Z"
   },
   {
    "duration": 12,
    "start_time": "2022-09-16T15:00:21.773Z"
   },
   {
    "duration": 3,
    "start_time": "2022-09-16T15:00:21.787Z"
   },
   {
    "duration": 14,
    "start_time": "2022-09-16T15:00:21.791Z"
   },
   {
    "duration": 5,
    "start_time": "2022-09-16T15:00:21.807Z"
   },
   {
    "duration": 14,
    "start_time": "2022-09-16T15:00:21.813Z"
   },
   {
    "duration": 14,
    "start_time": "2022-09-16T15:00:21.828Z"
   },
   {
    "duration": 23,
    "start_time": "2022-09-16T15:00:21.843Z"
   },
   {
    "duration": 13,
    "start_time": "2022-09-16T15:00:21.867Z"
   },
   {
    "duration": 14,
    "start_time": "2022-09-16T15:00:21.881Z"
   },
   {
    "duration": 10,
    "start_time": "2022-09-16T15:00:21.896Z"
   },
   {
    "duration": 11,
    "start_time": "2022-09-16T15:00:21.907Z"
   },
   {
    "duration": 286,
    "start_time": "2022-09-16T15:00:21.919Z"
   },
   {
    "duration": 6,
    "start_time": "2022-09-16T15:00:22.206Z"
   },
   {
    "duration": 236,
    "start_time": "2022-09-16T15:00:22.213Z"
   },
   {
    "duration": 164,
    "start_time": "2022-09-16T15:00:22.451Z"
   },
   {
    "duration": 250,
    "start_time": "2022-09-16T15:00:22.619Z"
   },
   {
    "duration": 206,
    "start_time": "2022-09-16T15:00:22.870Z"
   },
   {
    "duration": 288,
    "start_time": "2022-09-16T15:00:23.077Z"
   },
   {
    "duration": 11,
    "start_time": "2022-09-16T15:00:23.367Z"
   },
   {
    "duration": 153,
    "start_time": "2022-09-16T15:00:23.380Z"
   },
   {
    "duration": 5,
    "start_time": "2022-09-16T15:00:23.535Z"
   },
   {
    "duration": 137,
    "start_time": "2022-09-16T15:00:23.541Z"
   },
   {
    "duration": 5,
    "start_time": "2022-09-16T15:00:23.679Z"
   },
   {
    "duration": 26,
    "start_time": "2022-09-16T15:00:23.700Z"
   },
   {
    "duration": 15,
    "start_time": "2022-09-16T15:00:23.727Z"
   },
   {
    "duration": 7,
    "start_time": "2022-09-16T15:00:23.744Z"
   },
   {
    "duration": 17,
    "start_time": "2022-09-16T15:00:23.752Z"
   },
   {
    "duration": 7,
    "start_time": "2022-09-16T15:00:23.770Z"
   },
   {
    "duration": 6,
    "start_time": "2022-09-16T15:00:23.779Z"
   },
   {
    "duration": 7,
    "start_time": "2022-09-16T15:00:23.786Z"
   },
   {
    "duration": 5,
    "start_time": "2022-09-16T15:00:23.795Z"
   },
   {
    "duration": 8,
    "start_time": "2022-09-16T15:00:23.801Z"
   },
   {
    "duration": 5,
    "start_time": "2022-09-16T15:00:23.811Z"
   },
   {
    "duration": 11,
    "start_time": "2022-09-16T15:00:23.817Z"
   },
   {
    "duration": 97,
    "start_time": "2022-09-16T15:00:23.829Z"
   },
   {
    "duration": 0,
    "start_time": "2022-09-16T15:00:23.928Z"
   },
   {
    "duration": 0,
    "start_time": "2022-09-16T15:00:23.929Z"
   },
   {
    "duration": 0,
    "start_time": "2022-09-16T15:00:23.930Z"
   },
   {
    "duration": 8,
    "start_time": "2022-09-16T15:00:34.012Z"
   },
   {
    "duration": 9,
    "start_time": "2022-09-16T15:00:34.671Z"
   },
   {
    "duration": 6,
    "start_time": "2022-09-16T15:00:35.717Z"
   },
   {
    "duration": 17,
    "start_time": "2022-09-16T15:00:41.071Z"
   },
   {
    "duration": 991,
    "start_time": "2022-09-16T15:02:08.462Z"
   },
   {
    "duration": 82,
    "start_time": "2022-09-16T15:02:09.455Z"
   },
   {
    "duration": 13,
    "start_time": "2022-09-16T15:02:09.538Z"
   },
   {
    "duration": 6,
    "start_time": "2022-09-16T15:02:09.553Z"
   },
   {
    "duration": 8,
    "start_time": "2022-09-16T15:02:09.560Z"
   },
   {
    "duration": 15,
    "start_time": "2022-09-16T15:02:09.569Z"
   },
   {
    "duration": 6,
    "start_time": "2022-09-16T15:02:09.586Z"
   },
   {
    "duration": 14,
    "start_time": "2022-09-16T15:02:09.594Z"
   },
   {
    "duration": 13,
    "start_time": "2022-09-16T15:02:09.610Z"
   },
   {
    "duration": 14,
    "start_time": "2022-09-16T15:02:09.625Z"
   },
   {
    "duration": 14,
    "start_time": "2022-09-16T15:02:09.641Z"
   },
   {
    "duration": 8,
    "start_time": "2022-09-16T15:02:09.658Z"
   },
   {
    "duration": 13,
    "start_time": "2022-09-16T15:02:09.667Z"
   },
   {
    "duration": 18,
    "start_time": "2022-09-16T15:02:09.682Z"
   },
   {
    "duration": 10,
    "start_time": "2022-09-16T15:02:09.702Z"
   },
   {
    "duration": 8,
    "start_time": "2022-09-16T15:02:09.713Z"
   },
   {
    "duration": 11,
    "start_time": "2022-09-16T15:02:09.722Z"
   },
   {
    "duration": 12,
    "start_time": "2022-09-16T15:02:09.735Z"
   },
   {
    "duration": 4,
    "start_time": "2022-09-16T15:02:09.748Z"
   },
   {
    "duration": 12,
    "start_time": "2022-09-16T15:02:09.753Z"
   },
   {
    "duration": 35,
    "start_time": "2022-09-16T15:02:09.766Z"
   },
   {
    "duration": 6,
    "start_time": "2022-09-16T15:02:09.803Z"
   },
   {
    "duration": 10,
    "start_time": "2022-09-16T15:02:09.811Z"
   },
   {
    "duration": 286,
    "start_time": "2022-09-16T15:02:09.822Z"
   },
   {
    "duration": 7,
    "start_time": "2022-09-16T15:02:10.109Z"
   },
   {
    "duration": 243,
    "start_time": "2022-09-16T15:02:10.118Z"
   },
   {
    "duration": 175,
    "start_time": "2022-09-16T15:02:10.363Z"
   },
   {
    "duration": 238,
    "start_time": "2022-09-16T15:02:10.540Z"
   },
   {
    "duration": 180,
    "start_time": "2022-09-16T15:02:10.779Z"
   },
   {
    "duration": 254,
    "start_time": "2022-09-16T15:02:10.960Z"
   },
   {
    "duration": 11,
    "start_time": "2022-09-16T15:02:11.216Z"
   },
   {
    "duration": 134,
    "start_time": "2022-09-16T15:02:11.229Z"
   },
   {
    "duration": 5,
    "start_time": "2022-09-16T15:02:11.365Z"
   },
   {
    "duration": 141,
    "start_time": "2022-09-16T15:02:11.371Z"
   },
   {
    "duration": 6,
    "start_time": "2022-09-16T15:02:11.514Z"
   },
   {
    "duration": 12,
    "start_time": "2022-09-16T15:02:11.524Z"
   },
   {
    "duration": 11,
    "start_time": "2022-09-16T15:02:11.537Z"
   },
   {
    "duration": 5,
    "start_time": "2022-09-16T15:02:11.549Z"
   },
   {
    "duration": 135,
    "start_time": "2022-09-16T15:02:11.555Z"
   },
   {
    "duration": 0,
    "start_time": "2022-09-16T15:02:11.692Z"
   },
   {
    "duration": 0,
    "start_time": "2022-09-16T15:02:11.694Z"
   },
   {
    "duration": 5,
    "start_time": "2022-09-16T15:02:35.722Z"
   },
   {
    "duration": 8,
    "start_time": "2022-09-16T15:02:36.315Z"
   },
   {
    "duration": 8,
    "start_time": "2022-09-16T15:02:37.844Z"
   },
   {
    "duration": 16,
    "start_time": "2022-09-16T15:02:38.411Z"
   },
   {
    "duration": 12,
    "start_time": "2022-09-16T15:03:41.531Z"
   },
   {
    "duration": 4,
    "start_time": "2022-09-16T15:04:33.544Z"
   },
   {
    "duration": 5,
    "start_time": "2022-09-16T15:05:02.880Z"
   },
   {
    "duration": 3,
    "start_time": "2022-09-16T15:06:56.376Z"
   },
   {
    "duration": 6,
    "start_time": "2022-09-16T15:07:04.959Z"
   },
   {
    "duration": 6,
    "start_time": "2022-09-16T15:07:29.076Z"
   },
   {
    "duration": 1038,
    "start_time": "2022-09-16T15:07:33.227Z"
   },
   {
    "duration": 78,
    "start_time": "2022-09-16T15:07:34.267Z"
   },
   {
    "duration": 11,
    "start_time": "2022-09-16T15:07:34.347Z"
   },
   {
    "duration": 13,
    "start_time": "2022-09-16T15:07:34.359Z"
   },
   {
    "duration": 13,
    "start_time": "2022-09-16T15:07:34.374Z"
   },
   {
    "duration": 16,
    "start_time": "2022-09-16T15:07:34.389Z"
   },
   {
    "duration": 22,
    "start_time": "2022-09-16T15:07:34.407Z"
   },
   {
    "duration": 21,
    "start_time": "2022-09-16T15:07:34.431Z"
   },
   {
    "duration": 22,
    "start_time": "2022-09-16T15:07:34.454Z"
   },
   {
    "duration": 26,
    "start_time": "2022-09-16T15:07:34.478Z"
   },
   {
    "duration": 20,
    "start_time": "2022-09-16T15:07:34.506Z"
   },
   {
    "duration": 12,
    "start_time": "2022-09-16T15:07:34.528Z"
   },
   {
    "duration": 19,
    "start_time": "2022-09-16T15:07:34.542Z"
   },
   {
    "duration": 6,
    "start_time": "2022-09-16T15:07:34.565Z"
   },
   {
    "duration": 22,
    "start_time": "2022-09-16T15:07:34.573Z"
   },
   {
    "duration": 8,
    "start_time": "2022-09-16T15:07:34.599Z"
   },
   {
    "duration": 12,
    "start_time": "2022-09-16T15:07:34.608Z"
   },
   {
    "duration": 16,
    "start_time": "2022-09-16T15:07:34.622Z"
   },
   {
    "duration": 13,
    "start_time": "2022-09-16T15:07:34.640Z"
   },
   {
    "duration": 17,
    "start_time": "2022-09-16T15:07:34.655Z"
   },
   {
    "duration": 15,
    "start_time": "2022-09-16T15:07:34.674Z"
   },
   {
    "duration": 7,
    "start_time": "2022-09-16T15:07:34.690Z"
   },
   {
    "duration": 13,
    "start_time": "2022-09-16T15:07:34.698Z"
   },
   {
    "duration": 306,
    "start_time": "2022-09-16T15:07:34.713Z"
   },
   {
    "duration": 7,
    "start_time": "2022-09-16T15:07:35.020Z"
   },
   {
    "duration": 257,
    "start_time": "2022-09-16T15:07:35.029Z"
   },
   {
    "duration": 197,
    "start_time": "2022-09-16T15:07:35.288Z"
   },
   {
    "duration": 286,
    "start_time": "2022-09-16T15:07:35.487Z"
   },
   {
    "duration": 174,
    "start_time": "2022-09-16T15:07:35.775Z"
   },
   {
    "duration": 233,
    "start_time": "2022-09-16T15:07:35.951Z"
   },
   {
    "duration": 19,
    "start_time": "2022-09-16T15:07:36.186Z"
   },
   {
    "duration": 134,
    "start_time": "2022-09-16T15:07:36.207Z"
   },
   {
    "duration": 5,
    "start_time": "2022-09-16T15:07:36.342Z"
   },
   {
    "duration": 144,
    "start_time": "2022-09-16T15:07:36.349Z"
   },
   {
    "duration": 6,
    "start_time": "2022-09-16T15:07:36.495Z"
   },
   {
    "duration": 25,
    "start_time": "2022-09-16T15:07:36.503Z"
   },
   {
    "duration": 12,
    "start_time": "2022-09-16T15:07:36.530Z"
   },
   {
    "duration": 8,
    "start_time": "2022-09-16T15:07:36.544Z"
   },
   {
    "duration": 12,
    "start_time": "2022-09-16T15:07:36.553Z"
   },
   {
    "duration": 7,
    "start_time": "2022-09-16T15:07:36.567Z"
   },
   {
    "duration": 26,
    "start_time": "2022-09-16T15:07:36.578Z"
   },
   {
    "duration": 10,
    "start_time": "2022-09-16T15:07:36.606Z"
   },
   {
    "duration": 17,
    "start_time": "2022-09-16T15:07:36.618Z"
   },
   {
    "duration": 105,
    "start_time": "2022-09-16T15:07:36.637Z"
   },
   {
    "duration": 3,
    "start_time": "2022-09-16T15:08:06.787Z"
   },
   {
    "duration": 8,
    "start_time": "2022-09-16T15:08:07.685Z"
   },
   {
    "duration": 11,
    "start_time": "2022-09-16T15:09:17.072Z"
   },
   {
    "duration": 11,
    "start_time": "2022-09-16T15:09:22.143Z"
   },
   {
    "duration": 1056,
    "start_time": "2022-09-16T15:09:26.479Z"
   },
   {
    "duration": 80,
    "start_time": "2022-09-16T15:09:27.537Z"
   },
   {
    "duration": 12,
    "start_time": "2022-09-16T15:09:27.618Z"
   },
   {
    "duration": 4,
    "start_time": "2022-09-16T15:09:27.632Z"
   },
   {
    "duration": 3,
    "start_time": "2022-09-16T15:09:27.637Z"
   },
   {
    "duration": 14,
    "start_time": "2022-09-16T15:09:27.642Z"
   },
   {
    "duration": 9,
    "start_time": "2022-09-16T15:09:27.657Z"
   },
   {
    "duration": 11,
    "start_time": "2022-09-16T15:09:27.668Z"
   },
   {
    "duration": 12,
    "start_time": "2022-09-16T15:09:27.681Z"
   },
   {
    "duration": 11,
    "start_time": "2022-09-16T15:09:27.699Z"
   },
   {
    "duration": 14,
    "start_time": "2022-09-16T15:09:27.711Z"
   },
   {
    "duration": 7,
    "start_time": "2022-09-16T15:09:27.726Z"
   },
   {
    "duration": 12,
    "start_time": "2022-09-16T15:09:27.734Z"
   },
   {
    "duration": 4,
    "start_time": "2022-09-16T15:09:27.748Z"
   },
   {
    "duration": 10,
    "start_time": "2022-09-16T15:09:27.753Z"
   },
   {
    "duration": 7,
    "start_time": "2022-09-16T15:09:27.765Z"
   },
   {
    "duration": 36,
    "start_time": "2022-09-16T15:09:27.773Z"
   },
   {
    "duration": 13,
    "start_time": "2022-09-16T15:09:27.810Z"
   },
   {
    "duration": 5,
    "start_time": "2022-09-16T15:09:27.824Z"
   },
   {
    "duration": 14,
    "start_time": "2022-09-16T15:09:27.830Z"
   },
   {
    "duration": 11,
    "start_time": "2022-09-16T15:09:27.845Z"
   },
   {
    "duration": 7,
    "start_time": "2022-09-16T15:09:27.857Z"
   },
   {
    "duration": 10,
    "start_time": "2022-09-16T15:09:27.865Z"
   },
   {
    "duration": 287,
    "start_time": "2022-09-16T15:09:27.899Z"
   },
   {
    "duration": 6,
    "start_time": "2022-09-16T15:09:28.187Z"
   },
   {
    "duration": 277,
    "start_time": "2022-09-16T15:09:28.200Z"
   },
   {
    "duration": 175,
    "start_time": "2022-09-16T15:09:28.478Z"
   },
   {
    "duration": 255,
    "start_time": "2022-09-16T15:09:28.657Z"
   },
   {
    "duration": 174,
    "start_time": "2022-09-16T15:09:28.914Z"
   },
   {
    "duration": 283,
    "start_time": "2022-09-16T15:09:29.090Z"
   },
   {
    "duration": 12,
    "start_time": "2022-09-16T15:09:29.374Z"
   },
   {
    "duration": 143,
    "start_time": "2022-09-16T15:09:29.400Z"
   },
   {
    "duration": 5,
    "start_time": "2022-09-16T15:09:29.545Z"
   },
   {
    "duration": 138,
    "start_time": "2022-09-16T15:09:29.551Z"
   },
   {
    "duration": 11,
    "start_time": "2022-09-16T15:09:29.690Z"
   },
   {
    "duration": 14,
    "start_time": "2022-09-16T15:09:29.703Z"
   },
   {
    "duration": 11,
    "start_time": "2022-09-16T15:09:29.718Z"
   },
   {
    "duration": 5,
    "start_time": "2022-09-16T15:09:29.731Z"
   },
   {
    "duration": 10,
    "start_time": "2022-09-16T15:09:29.738Z"
   },
   {
    "duration": 4,
    "start_time": "2022-09-16T15:09:29.750Z"
   },
   {
    "duration": 9,
    "start_time": "2022-09-16T15:09:29.755Z"
   },
   {
    "duration": 4,
    "start_time": "2022-09-16T15:09:29.765Z"
   },
   {
    "duration": 119,
    "start_time": "2022-09-16T15:09:29.770Z"
   },
   {
    "duration": 5,
    "start_time": "2022-09-16T15:10:10.644Z"
   },
   {
    "duration": 6,
    "start_time": "2022-09-16T15:11:42.335Z"
   },
   {
    "duration": 1007,
    "start_time": "2022-09-16T15:11:52.342Z"
   },
   {
    "duration": 83,
    "start_time": "2022-09-16T15:11:53.350Z"
   },
   {
    "duration": 14,
    "start_time": "2022-09-16T15:11:53.435Z"
   },
   {
    "duration": 16,
    "start_time": "2022-09-16T15:11:53.452Z"
   },
   {
    "duration": 16,
    "start_time": "2022-09-16T15:11:53.470Z"
   },
   {
    "duration": 15,
    "start_time": "2022-09-16T15:11:53.488Z"
   },
   {
    "duration": 15,
    "start_time": "2022-09-16T15:11:53.504Z"
   },
   {
    "duration": 18,
    "start_time": "2022-09-16T15:11:53.521Z"
   },
   {
    "duration": 20,
    "start_time": "2022-09-16T15:11:53.541Z"
   },
   {
    "duration": 21,
    "start_time": "2022-09-16T15:11:53.563Z"
   },
   {
    "duration": 16,
    "start_time": "2022-09-16T15:11:53.586Z"
   },
   {
    "duration": 14,
    "start_time": "2022-09-16T15:11:53.603Z"
   },
   {
    "duration": 21,
    "start_time": "2022-09-16T15:11:53.619Z"
   },
   {
    "duration": 3,
    "start_time": "2022-09-16T15:11:53.642Z"
   },
   {
    "duration": 15,
    "start_time": "2022-09-16T15:11:53.647Z"
   },
   {
    "duration": 29,
    "start_time": "2022-09-16T15:11:53.663Z"
   },
   {
    "duration": 15,
    "start_time": "2022-09-16T15:11:53.694Z"
   },
   {
    "duration": 12,
    "start_time": "2022-09-16T15:11:53.711Z"
   },
   {
    "duration": 8,
    "start_time": "2022-09-16T15:11:53.724Z"
   },
   {
    "duration": 15,
    "start_time": "2022-09-16T15:11:53.733Z"
   },
   {
    "duration": 14,
    "start_time": "2022-09-16T15:11:53.749Z"
   },
   {
    "duration": 4,
    "start_time": "2022-09-16T15:11:53.765Z"
   },
   {
    "duration": 11,
    "start_time": "2022-09-16T15:11:53.770Z"
   },
   {
    "duration": 293,
    "start_time": "2022-09-16T15:11:53.782Z"
   },
   {
    "duration": 7,
    "start_time": "2022-09-16T15:11:54.077Z"
   },
   {
    "duration": 269,
    "start_time": "2022-09-16T15:11:54.101Z"
   },
   {
    "duration": 229,
    "start_time": "2022-09-16T15:11:54.372Z"
   },
   {
    "duration": 262,
    "start_time": "2022-09-16T15:11:54.605Z"
   },
   {
    "duration": 189,
    "start_time": "2022-09-16T15:11:54.868Z"
   },
   {
    "duration": 251,
    "start_time": "2022-09-16T15:11:55.058Z"
   },
   {
    "duration": 13,
    "start_time": "2022-09-16T15:11:55.310Z"
   },
   {
    "duration": 144,
    "start_time": "2022-09-16T15:11:55.324Z"
   },
   {
    "duration": 5,
    "start_time": "2022-09-16T15:11:55.470Z"
   },
   {
    "duration": 139,
    "start_time": "2022-09-16T15:11:55.476Z"
   },
   {
    "duration": 5,
    "start_time": "2022-09-16T15:11:55.616Z"
   },
   {
    "duration": 16,
    "start_time": "2022-09-16T15:11:55.623Z"
   },
   {
    "duration": 11,
    "start_time": "2022-09-16T15:11:55.640Z"
   },
   {
    "duration": 9,
    "start_time": "2022-09-16T15:11:55.652Z"
   },
   {
    "duration": 14,
    "start_time": "2022-09-16T15:11:55.663Z"
   },
   {
    "duration": 23,
    "start_time": "2022-09-16T15:11:55.678Z"
   },
   {
    "duration": 24,
    "start_time": "2022-09-16T15:11:55.702Z"
   },
   {
    "duration": 10,
    "start_time": "2022-09-16T15:11:55.728Z"
   },
   {
    "duration": 108,
    "start_time": "2022-09-16T15:11:55.740Z"
   },
   {
    "duration": 12,
    "start_time": "2022-09-16T15:12:22.898Z"
   },
   {
    "duration": 7,
    "start_time": "2022-09-16T15:13:30.861Z"
   },
   {
    "duration": 6,
    "start_time": "2022-09-16T15:14:28.736Z"
   },
   {
    "duration": 984,
    "start_time": "2022-09-16T15:15:20.859Z"
   },
   {
    "duration": 79,
    "start_time": "2022-09-16T15:15:21.844Z"
   },
   {
    "duration": 12,
    "start_time": "2022-09-16T15:15:21.925Z"
   },
   {
    "duration": 6,
    "start_time": "2022-09-16T15:15:21.939Z"
   },
   {
    "duration": 6,
    "start_time": "2022-09-16T15:15:21.947Z"
   },
   {
    "duration": 12,
    "start_time": "2022-09-16T15:15:21.954Z"
   },
   {
    "duration": 8,
    "start_time": "2022-09-16T15:15:21.968Z"
   },
   {
    "duration": 22,
    "start_time": "2022-09-16T15:15:21.977Z"
   },
   {
    "duration": 15,
    "start_time": "2022-09-16T15:15:22.000Z"
   },
   {
    "duration": 13,
    "start_time": "2022-09-16T15:15:22.016Z"
   },
   {
    "duration": 11,
    "start_time": "2022-09-16T15:15:22.030Z"
   },
   {
    "duration": 9,
    "start_time": "2022-09-16T15:15:22.042Z"
   },
   {
    "duration": 13,
    "start_time": "2022-09-16T15:15:22.052Z"
   },
   {
    "duration": 8,
    "start_time": "2022-09-16T15:15:22.067Z"
   },
   {
    "duration": 18,
    "start_time": "2022-09-16T15:15:22.077Z"
   },
   {
    "duration": 29,
    "start_time": "2022-09-16T15:15:22.100Z"
   },
   {
    "duration": 13,
    "start_time": "2022-09-16T15:15:22.132Z"
   },
   {
    "duration": 26,
    "start_time": "2022-09-16T15:15:22.147Z"
   },
   {
    "duration": 11,
    "start_time": "2022-09-16T15:15:22.174Z"
   },
   {
    "duration": 14,
    "start_time": "2022-09-16T15:15:22.186Z"
   },
   {
    "duration": 15,
    "start_time": "2022-09-16T15:15:22.201Z"
   },
   {
    "duration": 4,
    "start_time": "2022-09-16T15:15:22.218Z"
   },
   {
    "duration": 36,
    "start_time": "2022-09-16T15:15:22.223Z"
   },
   {
    "duration": 356,
    "start_time": "2022-09-16T15:15:22.261Z"
   },
   {
    "duration": 5,
    "start_time": "2022-09-16T15:15:22.619Z"
   },
   {
    "duration": 241,
    "start_time": "2022-09-16T15:15:22.625Z"
   },
   {
    "duration": 175,
    "start_time": "2022-09-16T15:15:22.867Z"
   },
   {
    "duration": 229,
    "start_time": "2022-09-16T15:15:23.044Z"
   },
   {
    "duration": 176,
    "start_time": "2022-09-16T15:15:23.275Z"
   },
   {
    "duration": 224,
    "start_time": "2022-09-16T15:15:23.453Z"
   },
   {
    "duration": 27,
    "start_time": "2022-09-16T15:15:23.678Z"
   },
   {
    "duration": 123,
    "start_time": "2022-09-16T15:15:23.706Z"
   },
   {
    "duration": 5,
    "start_time": "2022-09-16T15:15:23.830Z"
   },
   {
    "duration": 126,
    "start_time": "2022-09-16T15:15:23.837Z"
   },
   {
    "duration": 5,
    "start_time": "2022-09-16T15:15:23.965Z"
   },
   {
    "duration": 16,
    "start_time": "2022-09-16T15:15:23.971Z"
   },
   {
    "duration": 16,
    "start_time": "2022-09-16T15:15:23.988Z"
   },
   {
    "duration": 9,
    "start_time": "2022-09-16T15:15:24.005Z"
   },
   {
    "duration": 14,
    "start_time": "2022-09-16T15:15:24.015Z"
   },
   {
    "duration": 5,
    "start_time": "2022-09-16T15:15:24.031Z"
   },
   {
    "duration": 9,
    "start_time": "2022-09-16T15:15:24.039Z"
   },
   {
    "duration": 3,
    "start_time": "2022-09-16T15:15:24.049Z"
   },
   {
    "duration": 123,
    "start_time": "2022-09-16T15:15:24.053Z"
   },
   {
    "duration": 10,
    "start_time": "2022-09-16T15:15:55.915Z"
   },
   {
    "duration": 3,
    "start_time": "2022-09-16T15:16:20.140Z"
   },
   {
    "duration": 10,
    "start_time": "2022-09-16T15:16:21.176Z"
   },
   {
    "duration": 4,
    "start_time": "2022-09-16T15:17:29.497Z"
   },
   {
    "duration": 7,
    "start_time": "2022-09-16T15:17:30.063Z"
   },
   {
    "duration": 5,
    "start_time": "2022-09-16T15:17:30.920Z"
   },
   {
    "duration": 8,
    "start_time": "2022-09-16T15:17:32.922Z"
   },
   {
    "duration": 4,
    "start_time": "2022-09-16T15:17:33.407Z"
   },
   {
    "duration": 4,
    "start_time": "2022-09-16T15:17:34.163Z"
   },
   {
    "duration": 13,
    "start_time": "2022-09-16T15:17:35.007Z"
   },
   {
    "duration": 1003,
    "start_time": "2022-09-16T15:17:44.553Z"
   },
   {
    "duration": 81,
    "start_time": "2022-09-16T15:17:45.558Z"
   },
   {
    "duration": 13,
    "start_time": "2022-09-16T15:17:45.641Z"
   },
   {
    "duration": 11,
    "start_time": "2022-09-16T15:17:45.655Z"
   },
   {
    "duration": 8,
    "start_time": "2022-09-16T15:17:45.668Z"
   },
   {
    "duration": 17,
    "start_time": "2022-09-16T15:17:45.678Z"
   },
   {
    "duration": 7,
    "start_time": "2022-09-16T15:17:45.697Z"
   },
   {
    "duration": 24,
    "start_time": "2022-09-16T15:17:45.706Z"
   },
   {
    "duration": 20,
    "start_time": "2022-09-16T15:17:45.732Z"
   },
   {
    "duration": 20,
    "start_time": "2022-09-16T15:17:45.753Z"
   },
   {
    "duration": 15,
    "start_time": "2022-09-16T15:17:45.774Z"
   },
   {
    "duration": 17,
    "start_time": "2022-09-16T15:17:45.790Z"
   },
   {
    "duration": 14,
    "start_time": "2022-09-16T15:17:45.809Z"
   },
   {
    "duration": 10,
    "start_time": "2022-09-16T15:17:45.826Z"
   },
   {
    "duration": 18,
    "start_time": "2022-09-16T15:17:45.838Z"
   },
   {
    "duration": 10,
    "start_time": "2022-09-16T15:17:45.858Z"
   },
   {
    "duration": 18,
    "start_time": "2022-09-16T15:17:45.870Z"
   },
   {
    "duration": 18,
    "start_time": "2022-09-16T15:17:45.890Z"
   },
   {
    "duration": 10,
    "start_time": "2022-09-16T15:17:45.910Z"
   },
   {
    "duration": 13,
    "start_time": "2022-09-16T15:17:45.922Z"
   },
   {
    "duration": 13,
    "start_time": "2022-09-16T15:17:45.936Z"
   },
   {
    "duration": 16,
    "start_time": "2022-09-16T15:17:45.950Z"
   },
   {
    "duration": 27,
    "start_time": "2022-09-16T15:17:45.968Z"
   },
   {
    "duration": 288,
    "start_time": "2022-09-16T15:17:45.996Z"
   },
   {
    "duration": 5,
    "start_time": "2022-09-16T15:17:46.286Z"
   },
   {
    "duration": 242,
    "start_time": "2022-09-16T15:17:46.300Z"
   },
   {
    "duration": 174,
    "start_time": "2022-09-16T15:17:46.544Z"
   },
   {
    "duration": 259,
    "start_time": "2022-09-16T15:17:46.719Z"
   },
   {
    "duration": 180,
    "start_time": "2022-09-16T15:17:46.979Z"
   },
   {
    "duration": 243,
    "start_time": "2022-09-16T15:17:47.160Z"
   },
   {
    "duration": 12,
    "start_time": "2022-09-16T15:17:47.405Z"
   },
   {
    "duration": 133,
    "start_time": "2022-09-16T15:17:47.419Z"
   },
   {
    "duration": 5,
    "start_time": "2022-09-16T15:17:47.553Z"
   },
   {
    "duration": 125,
    "start_time": "2022-09-16T15:17:47.559Z"
   },
   {
    "duration": 5,
    "start_time": "2022-09-16T15:17:47.685Z"
   },
   {
    "duration": 11,
    "start_time": "2022-09-16T15:17:47.700Z"
   },
   {
    "duration": 10,
    "start_time": "2022-09-16T15:17:47.712Z"
   },
   {
    "duration": 83,
    "start_time": "2022-09-16T15:17:47.723Z"
   },
   {
    "duration": 0,
    "start_time": "2022-09-16T15:17:47.807Z"
   },
   {
    "duration": 0,
    "start_time": "2022-09-16T15:17:47.809Z"
   },
   {
    "duration": 0,
    "start_time": "2022-09-16T15:17:47.810Z"
   },
   {
    "duration": 0,
    "start_time": "2022-09-16T15:17:47.811Z"
   },
   {
    "duration": 0,
    "start_time": "2022-09-16T15:17:47.812Z"
   },
   {
    "duration": 5,
    "start_time": "2022-09-16T15:18:02.276Z"
   },
   {
    "duration": 8,
    "start_time": "2022-09-16T15:18:02.927Z"
   },
   {
    "duration": 5,
    "start_time": "2022-09-16T15:18:03.820Z"
   },
   {
    "duration": 8,
    "start_time": "2022-09-16T15:18:07.262Z"
   },
   {
    "duration": 90,
    "start_time": "2022-09-16T15:18:08.027Z"
   },
   {
    "duration": 29,
    "start_time": "2022-09-16T15:19:52.382Z"
   },
   {
    "duration": 25,
    "start_time": "2022-09-16T15:20:05.356Z"
   },
   {
    "duration": 11,
    "start_time": "2022-09-16T15:20:19.021Z"
   },
   {
    "duration": 13,
    "start_time": "2022-09-16T15:20:35.389Z"
   },
   {
    "duration": 13,
    "start_time": "2022-09-16T15:21:24.172Z"
   },
   {
    "duration": 20,
    "start_time": "2022-09-16T15:21:36.194Z"
   },
   {
    "duration": 8,
    "start_time": "2022-09-16T15:21:52.098Z"
   },
   {
    "duration": 4,
    "start_time": "2022-09-16T15:21:52.561Z"
   },
   {
    "duration": 8,
    "start_time": "2022-09-16T15:22:31.106Z"
   },
   {
    "duration": 22,
    "start_time": "2022-09-16T15:22:33.016Z"
   },
   {
    "duration": 66,
    "start_time": "2022-09-16T15:23:26.298Z"
   },
   {
    "duration": 56,
    "start_time": "2022-09-16T15:23:39.932Z"
   },
   {
    "duration": 25,
    "start_time": "2022-09-16T15:23:44.509Z"
   },
   {
    "duration": 23,
    "start_time": "2022-09-16T15:23:54.118Z"
   },
   {
    "duration": 66,
    "start_time": "2022-09-16T15:24:07.601Z"
   },
   {
    "duration": 108,
    "start_time": "2022-09-16T15:24:18.723Z"
   },
   {
    "duration": 34,
    "start_time": "2022-09-16T15:24:24.603Z"
   },
   {
    "duration": 21,
    "start_time": "2022-09-16T15:24:36.866Z"
   },
   {
    "duration": 8,
    "start_time": "2022-09-16T15:25:59.387Z"
   },
   {
    "duration": 1044,
    "start_time": "2022-09-16T15:26:08.303Z"
   },
   {
    "duration": 79,
    "start_time": "2022-09-16T15:26:09.349Z"
   },
   {
    "duration": 12,
    "start_time": "2022-09-16T15:26:09.430Z"
   },
   {
    "duration": 13,
    "start_time": "2022-09-16T15:26:09.444Z"
   },
   {
    "duration": 14,
    "start_time": "2022-09-16T15:26:09.458Z"
   },
   {
    "duration": 27,
    "start_time": "2022-09-16T15:26:09.474Z"
   },
   {
    "duration": 18,
    "start_time": "2022-09-16T15:26:09.503Z"
   },
   {
    "duration": 22,
    "start_time": "2022-09-16T15:26:09.522Z"
   },
   {
    "duration": 22,
    "start_time": "2022-09-16T15:26:09.545Z"
   },
   {
    "duration": 20,
    "start_time": "2022-09-16T15:26:09.569Z"
   },
   {
    "duration": 25,
    "start_time": "2022-09-16T15:26:09.590Z"
   },
   {
    "duration": 13,
    "start_time": "2022-09-16T15:26:09.616Z"
   },
   {
    "duration": 28,
    "start_time": "2022-09-16T15:26:09.630Z"
   },
   {
    "duration": 24,
    "start_time": "2022-09-16T15:26:09.660Z"
   },
   {
    "duration": 18,
    "start_time": "2022-09-16T15:26:09.685Z"
   },
   {
    "duration": 33,
    "start_time": "2022-09-16T15:26:09.704Z"
   },
   {
    "duration": 19,
    "start_time": "2022-09-16T15:26:09.739Z"
   },
   {
    "duration": 29,
    "start_time": "2022-09-16T15:26:09.759Z"
   },
   {
    "duration": 25,
    "start_time": "2022-09-16T15:26:09.790Z"
   },
   {
    "duration": 30,
    "start_time": "2022-09-16T15:26:09.817Z"
   },
   {
    "duration": 26,
    "start_time": "2022-09-16T15:26:09.848Z"
   },
   {
    "duration": 11,
    "start_time": "2022-09-16T15:26:09.876Z"
   },
   {
    "duration": 28,
    "start_time": "2022-09-16T15:26:09.889Z"
   },
   {
    "duration": 269,
    "start_time": "2022-09-16T15:26:09.918Z"
   },
   {
    "duration": 14,
    "start_time": "2022-09-16T15:26:10.188Z"
   },
   {
    "duration": 259,
    "start_time": "2022-09-16T15:26:10.204Z"
   },
   {
    "duration": 174,
    "start_time": "2022-09-16T15:26:10.464Z"
   },
   {
    "duration": 248,
    "start_time": "2022-09-16T15:26:10.639Z"
   },
   {
    "duration": 175,
    "start_time": "2022-09-16T15:26:10.889Z"
   },
   {
    "duration": 243,
    "start_time": "2022-09-16T15:26:11.065Z"
   },
   {
    "duration": 10,
    "start_time": "2022-09-16T15:26:11.309Z"
   },
   {
    "duration": 120,
    "start_time": "2022-09-16T15:26:11.321Z"
   },
   {
    "duration": 5,
    "start_time": "2022-09-16T15:26:11.443Z"
   },
   {
    "duration": 143,
    "start_time": "2022-09-16T15:26:11.450Z"
   },
   {
    "duration": 9,
    "start_time": "2022-09-16T15:26:11.594Z"
   },
   {
    "duration": 21,
    "start_time": "2022-09-16T15:26:11.605Z"
   },
   {
    "duration": 15,
    "start_time": "2022-09-16T15:26:11.629Z"
   },
   {
    "duration": 8,
    "start_time": "2022-09-16T15:26:11.645Z"
   },
   {
    "duration": 113,
    "start_time": "2022-09-16T15:26:11.655Z"
   },
   {
    "duration": 0,
    "start_time": "2022-09-16T15:26:11.769Z"
   },
   {
    "duration": 0,
    "start_time": "2022-09-16T15:26:11.771Z"
   },
   {
    "duration": 0,
    "start_time": "2022-09-16T15:26:11.772Z"
   },
   {
    "duration": 0,
    "start_time": "2022-09-16T15:26:11.773Z"
   },
   {
    "duration": 1009,
    "start_time": "2022-09-16T15:26:33.763Z"
   },
   {
    "duration": 77,
    "start_time": "2022-09-16T15:26:34.773Z"
   },
   {
    "duration": 12,
    "start_time": "2022-09-16T15:26:34.852Z"
   },
   {
    "duration": 5,
    "start_time": "2022-09-16T15:26:34.865Z"
   },
   {
    "duration": 6,
    "start_time": "2022-09-16T15:26:34.872Z"
   },
   {
    "duration": 12,
    "start_time": "2022-09-16T15:26:34.879Z"
   },
   {
    "duration": 8,
    "start_time": "2022-09-16T15:26:34.892Z"
   },
   {
    "duration": 13,
    "start_time": "2022-09-16T15:26:34.902Z"
   },
   {
    "duration": 12,
    "start_time": "2022-09-16T15:26:34.916Z"
   },
   {
    "duration": 13,
    "start_time": "2022-09-16T15:26:34.930Z"
   },
   {
    "duration": 11,
    "start_time": "2022-09-16T15:26:34.945Z"
   },
   {
    "duration": 6,
    "start_time": "2022-09-16T15:26:34.958Z"
   },
   {
    "duration": 14,
    "start_time": "2022-09-16T15:26:34.965Z"
   },
   {
    "duration": 5,
    "start_time": "2022-09-16T15:26:34.982Z"
   },
   {
    "duration": 9,
    "start_time": "2022-09-16T15:26:34.999Z"
   },
   {
    "duration": 8,
    "start_time": "2022-09-16T15:26:35.010Z"
   },
   {
    "duration": 11,
    "start_time": "2022-09-16T15:26:35.019Z"
   },
   {
    "duration": 16,
    "start_time": "2022-09-16T15:26:35.031Z"
   },
   {
    "duration": 7,
    "start_time": "2022-09-16T15:26:35.049Z"
   },
   {
    "duration": 10,
    "start_time": "2022-09-16T15:26:35.058Z"
   },
   {
    "duration": 41,
    "start_time": "2022-09-16T15:26:35.070Z"
   },
   {
    "duration": 6,
    "start_time": "2022-09-16T15:26:35.112Z"
   },
   {
    "duration": 13,
    "start_time": "2022-09-16T15:26:35.119Z"
   },
   {
    "duration": 308,
    "start_time": "2022-09-16T15:26:35.133Z"
   },
   {
    "duration": 6,
    "start_time": "2022-09-16T15:26:35.443Z"
   },
   {
    "duration": 250,
    "start_time": "2022-09-16T15:26:35.451Z"
   },
   {
    "duration": 176,
    "start_time": "2022-09-16T15:26:35.703Z"
   },
   {
    "duration": 291,
    "start_time": "2022-09-16T15:26:35.881Z"
   },
   {
    "duration": 180,
    "start_time": "2022-09-16T15:26:36.173Z"
   },
   {
    "duration": 272,
    "start_time": "2022-09-16T15:26:36.355Z"
   },
   {
    "duration": 13,
    "start_time": "2022-09-16T15:26:36.628Z"
   },
   {
    "duration": 137,
    "start_time": "2022-09-16T15:26:36.642Z"
   },
   {
    "duration": 5,
    "start_time": "2022-09-16T15:26:36.780Z"
   },
   {
    "duration": 134,
    "start_time": "2022-09-16T15:26:36.801Z"
   },
   {
    "duration": 4,
    "start_time": "2022-09-16T15:26:36.937Z"
   },
   {
    "duration": 13,
    "start_time": "2022-09-16T15:26:36.943Z"
   },
   {
    "duration": 12,
    "start_time": "2022-09-16T15:26:36.957Z"
   },
   {
    "duration": 5,
    "start_time": "2022-09-16T15:26:36.971Z"
   },
   {
    "duration": 34,
    "start_time": "2022-09-16T15:26:36.977Z"
   },
   {
    "duration": 6,
    "start_time": "2022-09-16T15:26:37.012Z"
   },
   {
    "duration": 12,
    "start_time": "2022-09-16T15:26:37.021Z"
   },
   {
    "duration": 20,
    "start_time": "2022-09-16T15:26:37.034Z"
   },
   {
    "duration": 9,
    "start_time": "2022-09-16T15:26:37.055Z"
   },
   {
    "duration": 100,
    "start_time": "2022-09-16T15:27:17.109Z"
   },
   {
    "duration": 27,
    "start_time": "2022-09-16T15:27:29.559Z"
   },
   {
    "duration": 14,
    "start_time": "2022-09-16T15:28:00.370Z"
   },
   {
    "duration": 18,
    "start_time": "2022-09-16T15:28:01.018Z"
   },
   {
    "duration": 31,
    "start_time": "2022-09-16T15:36:13.332Z"
   },
   {
    "duration": 1043,
    "start_time": "2022-09-16T15:37:34.902Z"
   },
   {
    "duration": 79,
    "start_time": "2022-09-16T15:37:35.947Z"
   },
   {
    "duration": 14,
    "start_time": "2022-09-16T15:37:36.027Z"
   },
   {
    "duration": 32,
    "start_time": "2022-09-16T15:37:36.043Z"
   },
   {
    "duration": 14,
    "start_time": "2022-09-16T15:37:36.076Z"
   },
   {
    "duration": 30,
    "start_time": "2022-09-16T15:37:36.092Z"
   },
   {
    "duration": 28,
    "start_time": "2022-09-16T15:37:36.124Z"
   },
   {
    "duration": 25,
    "start_time": "2022-09-16T15:37:36.153Z"
   },
   {
    "duration": 35,
    "start_time": "2022-09-16T15:37:36.179Z"
   },
   {
    "duration": 28,
    "start_time": "2022-09-16T15:37:36.216Z"
   },
   {
    "duration": 31,
    "start_time": "2022-09-16T15:37:36.245Z"
   },
   {
    "duration": 26,
    "start_time": "2022-09-16T15:37:36.278Z"
   },
   {
    "duration": 30,
    "start_time": "2022-09-16T15:37:36.306Z"
   },
   {
    "duration": 27,
    "start_time": "2022-09-16T15:37:36.337Z"
   },
   {
    "duration": 22,
    "start_time": "2022-09-16T15:37:36.366Z"
   },
   {
    "duration": 26,
    "start_time": "2022-09-16T15:37:36.390Z"
   },
   {
    "duration": 30,
    "start_time": "2022-09-16T15:37:36.418Z"
   },
   {
    "duration": 40,
    "start_time": "2022-09-16T15:37:36.450Z"
   },
   {
    "duration": 17,
    "start_time": "2022-09-16T15:37:36.492Z"
   },
   {
    "duration": 34,
    "start_time": "2022-09-16T15:37:36.510Z"
   },
   {
    "duration": 31,
    "start_time": "2022-09-16T15:37:36.546Z"
   },
   {
    "duration": 21,
    "start_time": "2022-09-16T15:37:36.579Z"
   },
   {
    "duration": 30,
    "start_time": "2022-09-16T15:37:36.601Z"
   },
   {
    "duration": 300,
    "start_time": "2022-09-16T15:37:36.632Z"
   },
   {
    "duration": 6,
    "start_time": "2022-09-16T15:37:36.933Z"
   },
   {
    "duration": 274,
    "start_time": "2022-09-16T15:37:36.940Z"
   },
   {
    "duration": 169,
    "start_time": "2022-09-16T15:37:37.215Z"
   },
   {
    "duration": 287,
    "start_time": "2022-09-16T15:37:37.387Z"
   },
   {
    "duration": 176,
    "start_time": "2022-09-16T15:37:37.676Z"
   },
   {
    "duration": 229,
    "start_time": "2022-09-16T15:37:37.854Z"
   },
   {
    "duration": 26,
    "start_time": "2022-09-16T15:37:38.084Z"
   },
   {
    "duration": 129,
    "start_time": "2022-09-16T15:37:38.112Z"
   },
   {
    "duration": 4,
    "start_time": "2022-09-16T15:37:38.242Z"
   },
   {
    "duration": 126,
    "start_time": "2022-09-16T15:37:38.247Z"
   },
   {
    "duration": 5,
    "start_time": "2022-09-16T15:37:38.374Z"
   },
   {
    "duration": 26,
    "start_time": "2022-09-16T15:37:38.380Z"
   },
   {
    "duration": 10,
    "start_time": "2022-09-16T15:37:38.408Z"
   },
   {
    "duration": 5,
    "start_time": "2022-09-16T15:37:38.420Z"
   },
   {
    "duration": 40,
    "start_time": "2022-09-16T15:37:38.427Z"
   },
   {
    "duration": 41,
    "start_time": "2022-09-16T15:37:38.468Z"
   },
   {
    "duration": 31,
    "start_time": "2022-09-16T15:37:38.510Z"
   },
   {
    "duration": 1170,
    "start_time": "2022-09-16T16:16:44.069Z"
   },
   {
    "duration": 80,
    "start_time": "2022-09-16T16:16:45.241Z"
   },
   {
    "duration": 12,
    "start_time": "2022-09-16T16:16:45.323Z"
   },
   {
    "duration": 11,
    "start_time": "2022-09-16T16:16:45.336Z"
   },
   {
    "duration": 8,
    "start_time": "2022-09-16T16:16:45.349Z"
   },
   {
    "duration": 13,
    "start_time": "2022-09-16T16:16:45.359Z"
   },
   {
    "duration": 14,
    "start_time": "2022-09-16T16:16:45.374Z"
   },
   {
    "duration": 17,
    "start_time": "2022-09-16T16:16:45.389Z"
   },
   {
    "duration": 20,
    "start_time": "2022-09-16T16:16:45.407Z"
   },
   {
    "duration": 23,
    "start_time": "2022-09-16T16:16:45.429Z"
   },
   {
    "duration": 19,
    "start_time": "2022-09-16T16:16:45.453Z"
   },
   {
    "duration": 8,
    "start_time": "2022-09-16T16:16:45.473Z"
   },
   {
    "duration": 12,
    "start_time": "2022-09-16T16:16:45.482Z"
   },
   {
    "duration": 15,
    "start_time": "2022-09-16T16:16:45.497Z"
   },
   {
    "duration": 33,
    "start_time": "2022-09-16T16:16:45.514Z"
   },
   {
    "duration": 10,
    "start_time": "2022-09-16T16:16:45.550Z"
   },
   {
    "duration": 13,
    "start_time": "2022-09-16T16:16:45.561Z"
   },
   {
    "duration": 14,
    "start_time": "2022-09-16T16:16:45.576Z"
   },
   {
    "duration": 13,
    "start_time": "2022-09-16T16:16:45.591Z"
   },
   {
    "duration": 14,
    "start_time": "2022-09-16T16:16:45.605Z"
   },
   {
    "duration": 7,
    "start_time": "2022-09-16T16:16:45.620Z"
   },
   {
    "duration": 12,
    "start_time": "2022-09-16T16:16:45.629Z"
   },
   {
    "duration": 287,
    "start_time": "2022-09-16T16:16:45.642Z"
   },
   {
    "duration": 6,
    "start_time": "2022-09-16T16:16:45.930Z"
   },
   {
    "duration": 240,
    "start_time": "2022-09-16T16:16:45.937Z"
   },
   {
    "duration": 163,
    "start_time": "2022-09-16T16:16:46.178Z"
   },
   {
    "duration": 223,
    "start_time": "2022-09-16T16:16:46.343Z"
   },
   {
    "duration": 171,
    "start_time": "2022-09-16T16:16:46.567Z"
   },
   {
    "duration": 241,
    "start_time": "2022-09-16T16:16:46.739Z"
   },
   {
    "duration": 21,
    "start_time": "2022-09-16T16:16:46.982Z"
   },
   {
    "duration": 120,
    "start_time": "2022-09-16T16:16:47.004Z"
   },
   {
    "duration": 4,
    "start_time": "2022-09-16T16:16:47.126Z"
   },
   {
    "duration": 128,
    "start_time": "2022-09-16T16:16:47.132Z"
   },
   {
    "duration": 4,
    "start_time": "2022-09-16T16:16:47.262Z"
   },
   {
    "duration": 13,
    "start_time": "2022-09-16T16:16:47.267Z"
   },
   {
    "duration": 31,
    "start_time": "2022-09-16T16:16:47.281Z"
   },
   {
    "duration": 8,
    "start_time": "2022-09-16T16:16:47.314Z"
   },
   {
    "duration": 32,
    "start_time": "2022-09-16T16:16:47.323Z"
   },
   {
    "duration": 48,
    "start_time": "2022-09-16T16:16:47.357Z"
   },
   {
    "duration": 37,
    "start_time": "2022-09-16T16:16:47.407Z"
   },
   {
    "duration": 14,
    "start_time": "2022-09-16T16:16:47.448Z"
   },
   {
    "duration": 10,
    "start_time": "2022-09-16T16:19:02.674Z"
   },
   {
    "duration": 11,
    "start_time": "2022-09-16T16:26:37.928Z"
   },
   {
    "duration": 4,
    "start_time": "2022-09-16T16:27:29.212Z"
   },
   {
    "duration": 88,
    "start_time": "2022-09-16T16:27:43.593Z"
   },
   {
    "duration": 12,
    "start_time": "2022-09-16T16:28:00.388Z"
   },
   {
    "duration": 4,
    "start_time": "2022-09-16T16:29:09.997Z"
   },
   {
    "duration": 8,
    "start_time": "2022-09-16T16:29:11.019Z"
   },
   {
    "duration": 10,
    "start_time": "2022-09-16T16:29:25.053Z"
   },
   {
    "duration": 11,
    "start_time": "2022-09-16T16:30:08.362Z"
   },
   {
    "duration": 4,
    "start_time": "2022-09-16T16:30:23.545Z"
   },
   {
    "duration": 8,
    "start_time": "2022-09-16T16:30:24.421Z"
   },
   {
    "duration": 66,
    "start_time": "2022-09-16T16:30:36.140Z"
   },
   {
    "duration": 66,
    "start_time": "2022-09-16T16:30:41.885Z"
   },
   {
    "duration": 4,
    "start_time": "2022-09-16T16:30:55.879Z"
   },
   {
    "duration": 4,
    "start_time": "2022-09-16T16:32:28.810Z"
   },
   {
    "duration": 10,
    "start_time": "2022-09-16T16:32:48.768Z"
   },
   {
    "duration": 3,
    "start_time": "2022-09-16T16:32:57.788Z"
   },
   {
    "duration": 2,
    "start_time": "2022-09-16T16:33:03.806Z"
   },
   {
    "duration": 2,
    "start_time": "2022-09-16T16:33:06.629Z"
   },
   {
    "duration": 3,
    "start_time": "2022-09-16T16:33:11.801Z"
   },
   {
    "duration": 12,
    "start_time": "2022-09-16T16:33:14.167Z"
   },
   {
    "duration": 4,
    "start_time": "2022-09-16T16:33:16.599Z"
   },
   {
    "duration": 3,
    "start_time": "2022-09-16T16:33:17.839Z"
   },
   {
    "duration": 3,
    "start_time": "2022-09-16T16:34:05.507Z"
   },
   {
    "duration": 9,
    "start_time": "2022-09-16T16:34:06.036Z"
   },
   {
    "duration": 3,
    "start_time": "2022-09-16T16:34:07.781Z"
   },
   {
    "duration": 3,
    "start_time": "2022-09-16T16:34:09.473Z"
   },
   {
    "duration": 4,
    "start_time": "2022-09-16T16:34:19.960Z"
   },
   {
    "duration": 4,
    "start_time": "2022-09-16T16:34:38.328Z"
   },
   {
    "duration": 8,
    "start_time": "2022-09-16T16:34:38.855Z"
   },
   {
    "duration": 4,
    "start_time": "2022-09-16T16:34:39.353Z"
   },
   {
    "duration": 3,
    "start_time": "2022-09-16T16:34:39.903Z"
   },
   {
    "duration": 3,
    "start_time": "2022-09-16T16:34:40.670Z"
   },
   {
    "duration": 4,
    "start_time": "2022-09-16T16:35:07.638Z"
   },
   {
    "duration": 3,
    "start_time": "2022-09-16T16:35:15.701Z"
   },
   {
    "duration": 9,
    "start_time": "2022-09-16T16:35:16.229Z"
   },
   {
    "duration": 4,
    "start_time": "2022-09-16T16:35:16.646Z"
   },
   {
    "duration": 3,
    "start_time": "2022-09-16T16:35:17.059Z"
   },
   {
    "duration": 4,
    "start_time": "2022-09-16T16:35:59.575Z"
   },
   {
    "duration": 10,
    "start_time": "2022-09-16T16:35:59.971Z"
   },
   {
    "duration": 3,
    "start_time": "2022-09-16T16:36:00.292Z"
   },
   {
    "duration": 3,
    "start_time": "2022-09-16T16:36:00.854Z"
   },
   {
    "duration": 3,
    "start_time": "2022-09-16T16:36:01.387Z"
   },
   {
    "duration": 3,
    "start_time": "2022-09-16T16:40:56.335Z"
   },
   {
    "duration": 6,
    "start_time": "2022-09-16T16:40:56.749Z"
   },
   {
    "duration": 3,
    "start_time": "2022-09-16T16:41:02.263Z"
   },
   {
    "duration": 3,
    "start_time": "2022-09-16T16:41:03.287Z"
   },
   {
    "duration": 4,
    "start_time": "2022-09-16T16:41:42.526Z"
   },
   {
    "duration": 8,
    "start_time": "2022-09-16T16:41:44.765Z"
   },
   {
    "duration": 4,
    "start_time": "2022-09-16T16:41:45.228Z"
   },
   {
    "duration": 3,
    "start_time": "2022-09-16T16:41:45.793Z"
   },
   {
    "duration": 4,
    "start_time": "2022-09-16T16:41:49.895Z"
   },
   {
    "duration": 9,
    "start_time": "2022-09-16T16:42:03.622Z"
   },
   {
    "duration": 4,
    "start_time": "2022-09-16T16:42:21.981Z"
   },
   {
    "duration": 8,
    "start_time": "2022-09-16T16:42:22.439Z"
   },
   {
    "duration": 4,
    "start_time": "2022-09-16T16:42:22.838Z"
   },
   {
    "duration": 4,
    "start_time": "2022-09-16T16:42:23.390Z"
   },
   {
    "duration": 3,
    "start_time": "2022-09-16T16:42:23.881Z"
   },
   {
    "duration": 14,
    "start_time": "2022-09-16T16:42:38.604Z"
   },
   {
    "duration": 4,
    "start_time": "2022-09-16T16:42:43.291Z"
   },
   {
    "duration": 7,
    "start_time": "2022-09-16T16:42:43.680Z"
   },
   {
    "duration": 4,
    "start_time": "2022-09-16T16:42:51.019Z"
   },
   {
    "duration": 4,
    "start_time": "2022-09-16T16:42:51.674Z"
   },
   {
    "duration": 8,
    "start_time": "2022-09-16T16:43:15.412Z"
   },
   {
    "duration": 11,
    "start_time": "2022-09-16T16:43:23.131Z"
   },
   {
    "duration": 4,
    "start_time": "2022-09-16T16:43:23.698Z"
   },
   {
    "duration": 3,
    "start_time": "2022-09-16T16:43:31.521Z"
   },
   {
    "duration": 1050,
    "start_time": "2022-09-16T16:47:19.096Z"
   },
   {
    "duration": 79,
    "start_time": "2022-09-16T16:47:20.148Z"
   },
   {
    "duration": 12,
    "start_time": "2022-09-16T16:47:20.229Z"
   },
   {
    "duration": 11,
    "start_time": "2022-09-16T16:47:20.242Z"
   },
   {
    "duration": 10,
    "start_time": "2022-09-16T16:47:20.255Z"
   },
   {
    "duration": 11,
    "start_time": "2022-09-16T16:47:20.266Z"
   },
   {
    "duration": 9,
    "start_time": "2022-09-16T16:47:20.278Z"
   },
   {
    "duration": 18,
    "start_time": "2022-09-16T16:47:20.288Z"
   },
   {
    "duration": 19,
    "start_time": "2022-09-16T16:47:20.308Z"
   },
   {
    "duration": 22,
    "start_time": "2022-09-16T16:47:20.328Z"
   },
   {
    "duration": 23,
    "start_time": "2022-09-16T16:47:20.352Z"
   },
   {
    "duration": 35,
    "start_time": "2022-09-16T16:47:20.376Z"
   },
   {
    "duration": 19,
    "start_time": "2022-09-16T16:47:20.412Z"
   },
   {
    "duration": 55,
    "start_time": "2022-09-16T16:47:20.434Z"
   },
   {
    "duration": 13,
    "start_time": "2022-09-16T16:47:20.491Z"
   },
   {
    "duration": 15,
    "start_time": "2022-09-16T16:47:20.506Z"
   },
   {
    "duration": 12,
    "start_time": "2022-09-16T16:47:20.523Z"
   },
   {
    "duration": 13,
    "start_time": "2022-09-16T16:47:20.536Z"
   },
   {
    "duration": 21,
    "start_time": "2022-09-16T16:47:20.550Z"
   },
   {
    "duration": 22,
    "start_time": "2022-09-16T16:47:20.573Z"
   },
   {
    "duration": 8,
    "start_time": "2022-09-16T16:47:20.596Z"
   },
   {
    "duration": 17,
    "start_time": "2022-09-16T16:47:20.606Z"
   },
   {
    "duration": 266,
    "start_time": "2022-09-16T16:47:20.624Z"
   },
   {
    "duration": 12,
    "start_time": "2022-09-16T16:47:20.892Z"
   },
   {
    "duration": 238,
    "start_time": "2022-09-16T16:47:20.906Z"
   },
   {
    "duration": 176,
    "start_time": "2022-09-16T16:47:21.146Z"
   },
   {
    "duration": 276,
    "start_time": "2022-09-16T16:47:21.324Z"
   },
   {
    "duration": 179,
    "start_time": "2022-09-16T16:47:21.602Z"
   },
   {
    "duration": 284,
    "start_time": "2022-09-16T16:47:21.783Z"
   },
   {
    "duration": 10,
    "start_time": "2022-09-16T16:47:22.069Z"
   },
   {
    "duration": 138,
    "start_time": "2022-09-16T16:47:22.080Z"
   },
   {
    "duration": 4,
    "start_time": "2022-09-16T16:47:22.220Z"
   },
   {
    "duration": 130,
    "start_time": "2022-09-16T16:47:22.226Z"
   },
   {
    "duration": 5,
    "start_time": "2022-09-16T16:47:22.357Z"
   },
   {
    "duration": 14,
    "start_time": "2022-09-16T16:47:22.363Z"
   },
   {
    "duration": 26,
    "start_time": "2022-09-16T16:47:22.378Z"
   },
   {
    "duration": 33,
    "start_time": "2022-09-16T16:47:22.406Z"
   },
   {
    "duration": 91,
    "start_time": "2022-09-16T16:47:22.441Z"
   },
   {
    "duration": 30,
    "start_time": "2022-09-16T16:47:22.533Z"
   },
   {
    "duration": 37,
    "start_time": "2022-09-16T16:47:22.564Z"
   },
   {
    "duration": 12,
    "start_time": "2022-09-16T16:47:22.604Z"
   },
   {
    "duration": 10,
    "start_time": "2022-09-16T16:47:22.618Z"
   },
   {
    "duration": 13,
    "start_time": "2022-09-16T16:47:22.629Z"
   },
   {
    "duration": 5,
    "start_time": "2022-09-16T16:47:22.643Z"
   },
   {
    "duration": 11,
    "start_time": "2022-09-16T16:47:22.650Z"
   },
   {
    "duration": 14,
    "start_time": "2022-09-16T16:47:22.663Z"
   },
   {
    "duration": 16,
    "start_time": "2022-09-16T16:47:22.678Z"
   },
   {
    "duration": 6,
    "start_time": "2022-09-16T16:47:22.695Z"
   },
   {
    "duration": 1023,
    "start_time": "2022-09-16T16:48:08.367Z"
   },
   {
    "duration": 90,
    "start_time": "2022-09-16T16:48:09.392Z"
   },
   {
    "duration": 11,
    "start_time": "2022-09-16T16:48:09.484Z"
   },
   {
    "duration": 6,
    "start_time": "2022-09-16T16:48:09.497Z"
   },
   {
    "duration": 5,
    "start_time": "2022-09-16T16:48:09.504Z"
   },
   {
    "duration": 11,
    "start_time": "2022-09-16T16:48:09.510Z"
   },
   {
    "duration": 8,
    "start_time": "2022-09-16T16:48:09.522Z"
   },
   {
    "duration": 10,
    "start_time": "2022-09-16T16:48:09.532Z"
   },
   {
    "duration": 11,
    "start_time": "2022-09-16T16:48:09.544Z"
   },
   {
    "duration": 11,
    "start_time": "2022-09-16T16:48:09.558Z"
   },
   {
    "duration": 12,
    "start_time": "2022-09-16T16:48:09.570Z"
   },
   {
    "duration": 4,
    "start_time": "2022-09-16T16:48:09.601Z"
   },
   {
    "duration": 12,
    "start_time": "2022-09-16T16:48:09.607Z"
   },
   {
    "duration": 5,
    "start_time": "2022-09-16T16:48:09.620Z"
   },
   {
    "duration": 11,
    "start_time": "2022-09-16T16:48:09.626Z"
   },
   {
    "duration": 10,
    "start_time": "2022-09-16T16:48:09.638Z"
   },
   {
    "duration": 10,
    "start_time": "2022-09-16T16:48:09.650Z"
   },
   {
    "duration": 22,
    "start_time": "2022-09-16T16:48:09.661Z"
   },
   {
    "duration": 19,
    "start_time": "2022-09-16T16:48:09.685Z"
   },
   {
    "duration": 11,
    "start_time": "2022-09-16T16:48:09.706Z"
   },
   {
    "duration": 37,
    "start_time": "2022-09-16T16:48:09.718Z"
   },
   {
    "duration": 15,
    "start_time": "2022-09-16T16:48:09.756Z"
   },
   {
    "duration": 294,
    "start_time": "2022-09-16T16:48:09.773Z"
   },
   {
    "duration": 6,
    "start_time": "2022-09-16T16:48:10.068Z"
   },
   {
    "duration": 256,
    "start_time": "2022-09-16T16:48:10.075Z"
   },
   {
    "duration": 177,
    "start_time": "2022-09-16T16:48:10.333Z"
   },
   {
    "duration": 266,
    "start_time": "2022-09-16T16:48:10.512Z"
   },
   {
    "duration": 183,
    "start_time": "2022-09-16T16:48:10.781Z"
   },
   {
    "duration": 287,
    "start_time": "2022-09-16T16:48:10.966Z"
   },
   {
    "duration": 13,
    "start_time": "2022-09-16T16:48:11.255Z"
   },
   {
    "duration": 142,
    "start_time": "2022-09-16T16:48:11.270Z"
   },
   {
    "duration": 5,
    "start_time": "2022-09-16T16:48:11.414Z"
   },
   {
    "duration": 144,
    "start_time": "2022-09-16T16:48:11.421Z"
   },
   {
    "duration": 5,
    "start_time": "2022-09-16T16:48:11.567Z"
   },
   {
    "duration": 27,
    "start_time": "2022-09-16T16:48:11.574Z"
   },
   {
    "duration": 13,
    "start_time": "2022-09-16T16:48:11.603Z"
   },
   {
    "duration": 6,
    "start_time": "2022-09-16T16:48:11.617Z"
   },
   {
    "duration": 37,
    "start_time": "2022-09-16T16:48:11.624Z"
   },
   {
    "duration": 45,
    "start_time": "2022-09-16T16:48:11.662Z"
   },
   {
    "duration": 30,
    "start_time": "2022-09-16T16:48:11.709Z"
   },
   {
    "duration": 12,
    "start_time": "2022-09-16T16:48:11.741Z"
   },
   {
    "duration": 6,
    "start_time": "2022-09-16T16:48:11.754Z"
   },
   {
    "duration": 15,
    "start_time": "2022-09-16T16:48:11.761Z"
   },
   {
    "duration": 4,
    "start_time": "2022-09-16T16:48:11.777Z"
   },
   {
    "duration": 4,
    "start_time": "2022-09-16T16:48:11.800Z"
   },
   {
    "duration": 11,
    "start_time": "2022-09-16T16:48:11.805Z"
   },
   {
    "duration": 3,
    "start_time": "2022-09-16T16:48:11.817Z"
   },
   {
    "duration": 5,
    "start_time": "2022-09-16T16:48:11.822Z"
   },
   {
    "duration": 956,
    "start_time": "2022-09-16T16:48:55.565Z"
   },
   {
    "duration": 77,
    "start_time": "2022-09-16T16:48:56.523Z"
   },
   {
    "duration": 11,
    "start_time": "2022-09-16T16:48:56.602Z"
   },
   {
    "duration": 4,
    "start_time": "2022-09-16T16:48:56.615Z"
   },
   {
    "duration": 3,
    "start_time": "2022-09-16T16:48:56.621Z"
   },
   {
    "duration": 10,
    "start_time": "2022-09-16T16:48:56.625Z"
   },
   {
    "duration": 5,
    "start_time": "2022-09-16T16:48:56.636Z"
   },
   {
    "duration": 14,
    "start_time": "2022-09-16T16:48:56.642Z"
   },
   {
    "duration": 11,
    "start_time": "2022-09-16T16:48:56.657Z"
   },
   {
    "duration": 31,
    "start_time": "2022-09-16T16:48:56.670Z"
   },
   {
    "duration": 13,
    "start_time": "2022-09-16T16:48:56.703Z"
   },
   {
    "duration": 14,
    "start_time": "2022-09-16T16:48:56.717Z"
   },
   {
    "duration": 11,
    "start_time": "2022-09-16T16:48:56.733Z"
   },
   {
    "duration": 7,
    "start_time": "2022-09-16T16:48:56.745Z"
   },
   {
    "duration": 16,
    "start_time": "2022-09-16T16:48:56.754Z"
   },
   {
    "duration": 6,
    "start_time": "2022-09-16T16:48:56.772Z"
   },
   {
    "duration": 32,
    "start_time": "2022-09-16T16:48:56.780Z"
   },
   {
    "duration": 13,
    "start_time": "2022-09-16T16:48:56.814Z"
   },
   {
    "duration": 9,
    "start_time": "2022-09-16T16:48:56.829Z"
   },
   {
    "duration": 23,
    "start_time": "2022-09-16T16:48:56.839Z"
   },
   {
    "duration": 10,
    "start_time": "2022-09-16T16:48:56.863Z"
   },
   {
    "duration": 11,
    "start_time": "2022-09-16T16:48:56.875Z"
   },
   {
    "duration": 272,
    "start_time": "2022-09-16T16:48:56.887Z"
   },
   {
    "duration": 5,
    "start_time": "2022-09-16T16:48:57.161Z"
   },
   {
    "duration": 240,
    "start_time": "2022-09-16T16:48:57.168Z"
   },
   {
    "duration": 154,
    "start_time": "2022-09-16T16:48:57.410Z"
   },
   {
    "duration": 292,
    "start_time": "2022-09-16T16:48:57.566Z"
   },
   {
    "duration": 185,
    "start_time": "2022-09-16T16:48:57.862Z"
   },
   {
    "duration": 232,
    "start_time": "2022-09-16T16:48:58.048Z"
   },
   {
    "duration": 19,
    "start_time": "2022-09-16T16:48:58.281Z"
   },
   {
    "duration": 110,
    "start_time": "2022-09-16T16:48:58.301Z"
   },
   {
    "duration": 4,
    "start_time": "2022-09-16T16:48:58.412Z"
   },
   {
    "duration": 132,
    "start_time": "2022-09-16T16:48:58.418Z"
   },
   {
    "duration": 4,
    "start_time": "2022-09-16T16:48:58.552Z"
   },
   {
    "duration": 34,
    "start_time": "2022-09-16T16:48:58.558Z"
   },
   {
    "duration": 10,
    "start_time": "2022-09-16T16:48:58.593Z"
   },
   {
    "duration": 5,
    "start_time": "2022-09-16T16:48:58.605Z"
   },
   {
    "duration": 30,
    "start_time": "2022-09-16T16:48:58.611Z"
   },
   {
    "duration": 29,
    "start_time": "2022-09-16T16:48:58.642Z"
   },
   {
    "duration": 48,
    "start_time": "2022-09-16T16:48:58.673Z"
   },
   {
    "duration": 10,
    "start_time": "2022-09-16T16:48:58.723Z"
   },
   {
    "duration": 8,
    "start_time": "2022-09-16T16:48:58.734Z"
   },
   {
    "duration": 10,
    "start_time": "2022-09-16T16:48:58.743Z"
   },
   {
    "duration": 3,
    "start_time": "2022-09-16T16:48:58.754Z"
   },
   {
    "duration": 9,
    "start_time": "2022-09-16T16:48:58.758Z"
   },
   {
    "duration": 11,
    "start_time": "2022-09-16T16:48:58.768Z"
   },
   {
    "duration": 4,
    "start_time": "2022-09-16T16:48:58.799Z"
   },
   {
    "duration": 7,
    "start_time": "2022-09-16T16:48:58.804Z"
   },
   {
    "duration": 1160,
    "start_time": "2022-09-16T16:50:01.671Z"
   },
   {
    "duration": 79,
    "start_time": "2022-09-16T16:50:02.832Z"
   },
   {
    "duration": 11,
    "start_time": "2022-09-16T16:50:02.913Z"
   },
   {
    "duration": 19,
    "start_time": "2022-09-16T16:50:02.926Z"
   },
   {
    "duration": 22,
    "start_time": "2022-09-16T16:50:02.946Z"
   },
   {
    "duration": 14,
    "start_time": "2022-09-16T16:50:02.969Z"
   },
   {
    "duration": 15,
    "start_time": "2022-09-16T16:50:02.984Z"
   },
   {
    "duration": 21,
    "start_time": "2022-09-16T16:50:03.000Z"
   },
   {
    "duration": 14,
    "start_time": "2022-09-16T16:50:03.023Z"
   },
   {
    "duration": 14,
    "start_time": "2022-09-16T16:50:03.040Z"
   },
   {
    "duration": 12,
    "start_time": "2022-09-16T16:50:03.056Z"
   },
   {
    "duration": 9,
    "start_time": "2022-09-16T16:50:03.069Z"
   },
   {
    "duration": 15,
    "start_time": "2022-09-16T16:50:03.079Z"
   },
   {
    "duration": 5,
    "start_time": "2022-09-16T16:50:03.096Z"
   },
   {
    "duration": 16,
    "start_time": "2022-09-16T16:50:03.102Z"
   },
   {
    "duration": 10,
    "start_time": "2022-09-16T16:50:03.119Z"
   },
   {
    "duration": 25,
    "start_time": "2022-09-16T16:50:03.135Z"
   },
   {
    "duration": 13,
    "start_time": "2022-09-16T16:50:03.161Z"
   },
   {
    "duration": 13,
    "start_time": "2022-09-16T16:50:03.176Z"
   },
   {
    "duration": 15,
    "start_time": "2022-09-16T16:50:03.191Z"
   },
   {
    "duration": 4,
    "start_time": "2022-09-16T16:50:03.208Z"
   },
   {
    "duration": 10,
    "start_time": "2022-09-16T16:50:03.214Z"
   },
   {
    "duration": 284,
    "start_time": "2022-09-16T16:50:03.225Z"
   },
   {
    "duration": 5,
    "start_time": "2022-09-16T16:50:03.511Z"
   },
   {
    "duration": 246,
    "start_time": "2022-09-16T16:50:03.518Z"
   },
   {
    "duration": 181,
    "start_time": "2022-09-16T16:50:03.766Z"
   },
   {
    "duration": 279,
    "start_time": "2022-09-16T16:50:03.948Z"
   },
   {
    "duration": 223,
    "start_time": "2022-09-16T16:50:04.230Z"
   },
   {
    "duration": 250,
    "start_time": "2022-09-16T16:50:04.455Z"
   },
   {
    "duration": 11,
    "start_time": "2022-09-16T16:50:04.706Z"
   },
   {
    "duration": 144,
    "start_time": "2022-09-16T16:50:04.718Z"
   },
   {
    "duration": 4,
    "start_time": "2022-09-16T16:50:04.864Z"
   },
   {
    "duration": 115,
    "start_time": "2022-09-16T16:50:04.869Z"
   },
   {
    "duration": 4,
    "start_time": "2022-09-16T16:50:04.986Z"
   },
   {
    "duration": 16,
    "start_time": "2022-09-16T16:50:04.991Z"
   },
   {
    "duration": 18,
    "start_time": "2022-09-16T16:50:05.008Z"
   },
   {
    "duration": 6,
    "start_time": "2022-09-16T16:50:05.028Z"
   },
   {
    "duration": 45,
    "start_time": "2022-09-16T16:50:05.036Z"
   },
   {
    "duration": 35,
    "start_time": "2022-09-16T16:50:05.082Z"
   },
   {
    "duration": 29,
    "start_time": "2022-09-16T16:50:05.118Z"
   },
   {
    "duration": 11,
    "start_time": "2022-09-16T16:50:05.149Z"
   },
   {
    "duration": 4,
    "start_time": "2022-09-16T16:50:05.200Z"
   },
   {
    "duration": 14,
    "start_time": "2022-09-16T16:50:05.205Z"
   },
   {
    "duration": 8,
    "start_time": "2022-09-16T16:50:05.221Z"
   },
   {
    "duration": 20,
    "start_time": "2022-09-16T16:50:05.230Z"
   },
   {
    "duration": 56,
    "start_time": "2022-09-16T16:50:05.251Z"
   },
   {
    "duration": 4,
    "start_time": "2022-09-16T16:50:05.308Z"
   },
   {
    "duration": 15,
    "start_time": "2022-09-16T16:50:05.314Z"
   },
   {
    "duration": 1027,
    "start_time": "2022-09-16T16:52:09.532Z"
   },
   {
    "duration": 79,
    "start_time": "2022-09-16T16:52:10.561Z"
   },
   {
    "duration": 13,
    "start_time": "2022-09-16T16:52:10.642Z"
   },
   {
    "duration": 19,
    "start_time": "2022-09-16T16:52:10.657Z"
   },
   {
    "duration": 7,
    "start_time": "2022-09-16T16:52:10.677Z"
   },
   {
    "duration": 27,
    "start_time": "2022-09-16T16:52:10.686Z"
   },
   {
    "duration": 26,
    "start_time": "2022-09-16T16:52:10.714Z"
   },
   {
    "duration": 23,
    "start_time": "2022-09-16T16:52:10.741Z"
   },
   {
    "duration": 27,
    "start_time": "2022-09-16T16:52:10.765Z"
   },
   {
    "duration": 17,
    "start_time": "2022-09-16T16:52:10.794Z"
   },
   {
    "duration": 28,
    "start_time": "2022-09-16T16:52:10.812Z"
   },
   {
    "duration": 19,
    "start_time": "2022-09-16T16:52:10.841Z"
   },
   {
    "duration": 25,
    "start_time": "2022-09-16T16:52:10.862Z"
   },
   {
    "duration": 24,
    "start_time": "2022-09-16T16:52:10.888Z"
   },
   {
    "duration": 24,
    "start_time": "2022-09-16T16:52:10.914Z"
   },
   {
    "duration": 26,
    "start_time": "2022-09-16T16:52:10.940Z"
   },
   {
    "duration": 36,
    "start_time": "2022-09-16T16:52:10.967Z"
   },
   {
    "duration": 33,
    "start_time": "2022-09-16T16:52:11.004Z"
   },
   {
    "duration": 23,
    "start_time": "2022-09-16T16:52:11.038Z"
   },
   {
    "duration": 24,
    "start_time": "2022-09-16T16:52:11.062Z"
   },
   {
    "duration": 19,
    "start_time": "2022-09-16T16:52:11.087Z"
   },
   {
    "duration": 33,
    "start_time": "2022-09-16T16:52:11.107Z"
   },
   {
    "duration": 274,
    "start_time": "2022-09-16T16:52:11.141Z"
   },
   {
    "duration": 6,
    "start_time": "2022-09-16T16:52:11.416Z"
   },
   {
    "duration": 262,
    "start_time": "2022-09-16T16:52:11.424Z"
   },
   {
    "duration": 160,
    "start_time": "2022-09-16T16:52:11.687Z"
   },
   {
    "duration": 222,
    "start_time": "2022-09-16T16:52:11.848Z"
   },
   {
    "duration": 168,
    "start_time": "2022-09-16T16:52:12.073Z"
   },
   {
    "duration": 238,
    "start_time": "2022-09-16T16:52:12.242Z"
   },
   {
    "duration": 21,
    "start_time": "2022-09-16T16:52:12.482Z"
   },
   {
    "duration": 130,
    "start_time": "2022-09-16T16:52:12.505Z"
   },
   {
    "duration": 5,
    "start_time": "2022-09-16T16:52:12.636Z"
   },
   {
    "duration": 134,
    "start_time": "2022-09-16T16:52:12.642Z"
   },
   {
    "duration": 4,
    "start_time": "2022-09-16T16:52:12.778Z"
   },
   {
    "duration": 34,
    "start_time": "2022-09-16T16:52:12.784Z"
   },
   {
    "duration": 26,
    "start_time": "2022-09-16T16:52:12.820Z"
   },
   {
    "duration": 20,
    "start_time": "2022-09-16T16:52:12.848Z"
   },
   {
    "duration": 53,
    "start_time": "2022-09-16T16:52:12.870Z"
   },
   {
    "duration": 28,
    "start_time": "2022-09-16T16:52:12.924Z"
   },
   {
    "duration": 31,
    "start_time": "2022-09-16T16:52:12.953Z"
   },
   {
    "duration": 23,
    "start_time": "2022-09-16T16:52:12.985Z"
   },
   {
    "duration": 26,
    "start_time": "2022-09-16T16:52:13.009Z"
   },
   {
    "duration": 33,
    "start_time": "2022-09-16T16:52:13.036Z"
   },
   {
    "duration": 24,
    "start_time": "2022-09-16T16:52:13.071Z"
   },
   {
    "duration": 4,
    "start_time": "2022-09-16T16:52:39.925Z"
   },
   {
    "duration": 9,
    "start_time": "2022-09-16T16:52:40.164Z"
   },
   {
    "duration": 10,
    "start_time": "2022-09-16T16:52:40.513Z"
   },
   {
    "duration": 10,
    "start_time": "2022-09-16T16:53:17.213Z"
   },
   {
    "duration": 996,
    "start_time": "2022-09-16T16:56:06.530Z"
   },
   {
    "duration": 76,
    "start_time": "2022-09-16T16:56:07.528Z"
   },
   {
    "duration": 11,
    "start_time": "2022-09-16T16:56:07.606Z"
   },
   {
    "duration": 9,
    "start_time": "2022-09-16T16:56:07.619Z"
   },
   {
    "duration": 10,
    "start_time": "2022-09-16T16:56:07.630Z"
   },
   {
    "duration": 17,
    "start_time": "2022-09-16T16:56:07.641Z"
   },
   {
    "duration": 6,
    "start_time": "2022-09-16T16:56:07.659Z"
   },
   {
    "duration": 12,
    "start_time": "2022-09-16T16:56:07.666Z"
   },
   {
    "duration": 12,
    "start_time": "2022-09-16T16:56:07.679Z"
   },
   {
    "duration": 13,
    "start_time": "2022-09-16T16:56:07.693Z"
   },
   {
    "duration": 9,
    "start_time": "2022-09-16T16:56:07.708Z"
   },
   {
    "duration": 6,
    "start_time": "2022-09-16T16:56:07.719Z"
   },
   {
    "duration": 11,
    "start_time": "2022-09-16T16:56:07.727Z"
   },
   {
    "duration": 3,
    "start_time": "2022-09-16T16:56:07.741Z"
   },
   {
    "duration": 10,
    "start_time": "2022-09-16T16:56:07.746Z"
   },
   {
    "duration": 6,
    "start_time": "2022-09-16T16:56:07.758Z"
   },
   {
    "duration": 37,
    "start_time": "2022-09-16T16:56:07.766Z"
   },
   {
    "duration": 11,
    "start_time": "2022-09-16T16:56:07.804Z"
   },
   {
    "duration": 11,
    "start_time": "2022-09-16T16:56:07.817Z"
   },
   {
    "duration": 11,
    "start_time": "2022-09-16T16:56:07.829Z"
   },
   {
    "duration": 9,
    "start_time": "2022-09-16T16:56:07.842Z"
   },
   {
    "duration": 9,
    "start_time": "2022-09-16T16:56:07.852Z"
   },
   {
    "duration": 295,
    "start_time": "2022-09-16T16:56:07.862Z"
   },
   {
    "duration": 7,
    "start_time": "2022-09-16T16:56:08.159Z"
   },
   {
    "duration": 239,
    "start_time": "2022-09-16T16:56:08.167Z"
   },
   {
    "duration": 168,
    "start_time": "2022-09-16T16:56:08.408Z"
   },
   {
    "duration": 271,
    "start_time": "2022-09-16T16:56:08.578Z"
   },
   {
    "duration": 172,
    "start_time": "2022-09-16T16:56:08.851Z"
   },
   {
    "duration": 247,
    "start_time": "2022-09-16T16:56:09.025Z"
   },
   {
    "duration": 12,
    "start_time": "2022-09-16T16:56:09.274Z"
   },
   {
    "duration": 143,
    "start_time": "2022-09-16T16:56:09.300Z"
   },
   {
    "duration": 4,
    "start_time": "2022-09-16T16:56:09.445Z"
   },
   {
    "duration": 128,
    "start_time": "2022-09-16T16:56:09.450Z"
   },
   {
    "duration": 4,
    "start_time": "2022-09-16T16:56:09.580Z"
   },
   {
    "duration": 19,
    "start_time": "2022-09-16T16:56:09.586Z"
   },
   {
    "duration": 10,
    "start_time": "2022-09-16T16:56:09.607Z"
   },
   {
    "duration": 6,
    "start_time": "2022-09-16T16:56:09.618Z"
   },
   {
    "duration": 30,
    "start_time": "2022-09-16T16:56:09.625Z"
   },
   {
    "duration": 48,
    "start_time": "2022-09-16T16:56:09.657Z"
   },
   {
    "duration": 29,
    "start_time": "2022-09-16T16:56:09.706Z"
   },
   {
    "duration": 11,
    "start_time": "2022-09-16T16:56:09.738Z"
   },
   {
    "duration": 6,
    "start_time": "2022-09-16T16:56:09.750Z"
   },
   {
    "duration": 9,
    "start_time": "2022-09-16T16:56:09.757Z"
   },
   {
    "duration": 37,
    "start_time": "2022-09-16T16:56:09.768Z"
   },
   {
    "duration": 10,
    "start_time": "2022-09-16T16:56:09.806Z"
   },
   {
    "duration": 3,
    "start_time": "2022-09-17T12:40:13.018Z"
   },
   {
    "duration": 73,
    "start_time": "2022-09-17T12:40:13.047Z"
   },
   {
    "duration": 7,
    "start_time": "2022-09-17T12:40:13.121Z"
   },
   {
    "duration": 5,
    "start_time": "2022-09-17T12:40:13.130Z"
   },
   {
    "duration": 6,
    "start_time": "2022-09-17T12:40:13.136Z"
   },
   {
    "duration": 12,
    "start_time": "2022-09-17T12:40:13.143Z"
   },
   {
    "duration": 5,
    "start_time": "2022-09-17T12:40:13.159Z"
   },
   {
    "duration": 13,
    "start_time": "2022-09-17T12:40:13.166Z"
   },
   {
    "duration": 13,
    "start_time": "2022-09-17T12:40:13.181Z"
   },
   {
    "duration": 15,
    "start_time": "2022-09-17T12:40:13.195Z"
   },
   {
    "duration": 10,
    "start_time": "2022-09-17T12:40:13.212Z"
   },
   {
    "duration": 24,
    "start_time": "2022-09-17T12:40:13.223Z"
   },
   {
    "duration": 5,
    "start_time": "2022-09-17T12:40:13.248Z"
   },
   {
    "duration": 22,
    "start_time": "2022-09-17T12:40:13.255Z"
   },
   {
    "duration": 6,
    "start_time": "2022-09-17T12:40:13.279Z"
   },
   {
    "duration": 11,
    "start_time": "2022-09-17T12:40:13.287Z"
   },
   {
    "duration": 8,
    "start_time": "2022-09-17T12:40:13.299Z"
   },
   {
    "duration": 12,
    "start_time": "2022-09-17T12:40:13.309Z"
   },
   {
    "duration": 30,
    "start_time": "2022-09-17T12:40:13.322Z"
   },
   {
    "duration": 12,
    "start_time": "2022-09-17T12:40:13.354Z"
   },
   {
    "duration": 21,
    "start_time": "2022-09-17T12:40:13.369Z"
   },
   {
    "duration": 10,
    "start_time": "2022-09-17T12:40:13.391Z"
   },
   {
    "duration": 15,
    "start_time": "2022-09-17T12:40:13.403Z"
   },
   {
    "duration": 317,
    "start_time": "2022-09-17T12:40:13.420Z"
   },
   {
    "duration": 13,
    "start_time": "2022-09-17T12:40:13.739Z"
   },
   {
    "duration": 189,
    "start_time": "2022-09-17T12:40:13.755Z"
   },
   {
    "duration": 183,
    "start_time": "2022-09-17T12:40:13.946Z"
   },
   {
    "duration": 306,
    "start_time": "2022-09-17T12:40:14.131Z"
   },
   {
    "duration": 196,
    "start_time": "2022-09-17T12:40:14.439Z"
   },
   {
    "duration": 285,
    "start_time": "2022-09-17T12:40:14.637Z"
   },
   {
    "duration": 22,
    "start_time": "2022-09-17T12:40:14.924Z"
   },
   {
    "duration": 145,
    "start_time": "2022-09-17T12:40:14.948Z"
   },
   {
    "duration": 4,
    "start_time": "2022-09-17T12:40:15.095Z"
   },
   {
    "duration": 142,
    "start_time": "2022-09-17T12:40:15.101Z"
   },
   {
    "duration": 6,
    "start_time": "2022-09-17T12:40:15.246Z"
   },
   {
    "duration": 72,
    "start_time": "2022-09-17T12:40:15.253Z"
   },
   {
    "duration": 26,
    "start_time": "2022-09-17T12:40:15.326Z"
   },
   {
    "duration": 21,
    "start_time": "2022-09-17T12:40:15.354Z"
   },
   {
    "duration": 47,
    "start_time": "2022-09-17T12:40:15.377Z"
   },
   {
    "duration": 49,
    "start_time": "2022-09-17T12:40:15.425Z"
   },
   {
    "duration": 33,
    "start_time": "2022-09-17T12:40:15.476Z"
   },
   {
    "duration": 11,
    "start_time": "2022-09-17T12:40:15.511Z"
   },
   {
    "duration": 17,
    "start_time": "2022-09-17T12:40:15.523Z"
   },
   {
    "duration": 29,
    "start_time": "2022-09-17T12:40:15.541Z"
   },
   {
    "duration": 21,
    "start_time": "2022-09-17T12:40:15.572Z"
   },
   {
    "duration": 19,
    "start_time": "2022-09-17T12:40:15.594Z"
   },
   {
    "duration": 11,
    "start_time": "2022-09-17T12:49:08.032Z"
   },
   {
    "duration": 5,
    "start_time": "2022-09-17T12:50:02.218Z"
   },
   {
    "duration": 4,
    "start_time": "2022-09-17T12:50:18.670Z"
   },
   {
    "duration": 1046,
    "start_time": "2022-09-17T12:57:52.911Z"
   },
   {
    "duration": 74,
    "start_time": "2022-09-17T12:57:53.959Z"
   },
   {
    "duration": 11,
    "start_time": "2022-09-17T12:57:54.035Z"
   },
   {
    "duration": 20,
    "start_time": "2022-09-17T12:57:54.048Z"
   },
   {
    "duration": 17,
    "start_time": "2022-09-17T12:57:54.070Z"
   },
   {
    "duration": 22,
    "start_time": "2022-09-17T12:57:54.089Z"
   },
   {
    "duration": 16,
    "start_time": "2022-09-17T12:57:54.112Z"
   },
   {
    "duration": 6,
    "start_time": "2022-09-17T12:57:54.129Z"
   },
   {
    "duration": 13,
    "start_time": "2022-09-17T12:57:54.136Z"
   },
   {
    "duration": 6,
    "start_time": "2022-09-17T12:57:54.151Z"
   },
   {
    "duration": 13,
    "start_time": "2022-09-17T12:57:54.158Z"
   },
   {
    "duration": 13,
    "start_time": "2022-09-17T12:57:54.173Z"
   },
   {
    "duration": 8,
    "start_time": "2022-09-17T12:57:54.187Z"
   },
   {
    "duration": 12,
    "start_time": "2022-09-17T12:57:54.198Z"
   },
   {
    "duration": 21,
    "start_time": "2022-09-17T12:57:54.211Z"
   },
   {
    "duration": 15,
    "start_time": "2022-09-17T12:57:54.233Z"
   },
   {
    "duration": 8,
    "start_time": "2022-09-17T12:57:54.250Z"
   },
   {
    "duration": 12,
    "start_time": "2022-09-17T12:57:54.260Z"
   },
   {
    "duration": 296,
    "start_time": "2022-09-17T12:57:54.274Z"
   },
   {
    "duration": 6,
    "start_time": "2022-09-17T12:57:54.571Z"
   },
   {
    "duration": 275,
    "start_time": "2022-09-17T12:57:54.578Z"
   },
   {
    "duration": 180,
    "start_time": "2022-09-17T12:57:54.855Z"
   },
   {
    "duration": 291,
    "start_time": "2022-09-17T12:57:55.037Z"
   },
   {
    "duration": 193,
    "start_time": "2022-09-17T12:57:55.330Z"
   },
   {
    "duration": 301,
    "start_time": "2022-09-17T12:57:55.525Z"
   },
   {
    "duration": 21,
    "start_time": "2022-09-17T12:57:55.827Z"
   },
   {
    "duration": 126,
    "start_time": "2022-09-17T12:57:55.849Z"
   },
   {
    "duration": 4,
    "start_time": "2022-09-17T12:57:55.976Z"
   },
   {
    "duration": 128,
    "start_time": "2022-09-17T12:57:55.982Z"
   },
   {
    "duration": 5,
    "start_time": "2022-09-17T12:57:56.111Z"
   },
   {
    "duration": 14,
    "start_time": "2022-09-17T12:57:56.117Z"
   },
   {
    "duration": 25,
    "start_time": "2022-09-17T12:57:56.133Z"
   },
   {
    "duration": 15,
    "start_time": "2022-09-17T12:57:56.160Z"
   },
   {
    "duration": 47,
    "start_time": "2022-09-17T12:57:56.177Z"
   },
   {
    "duration": 54,
    "start_time": "2022-09-17T12:57:56.227Z"
   },
   {
    "duration": 40,
    "start_time": "2022-09-17T12:57:56.283Z"
   },
   {
    "duration": 35,
    "start_time": "2022-09-17T12:57:56.325Z"
   },
   {
    "duration": 19,
    "start_time": "2022-09-17T12:57:56.362Z"
   },
   {
    "duration": 14,
    "start_time": "2022-09-17T12:57:56.383Z"
   },
   {
    "duration": 18,
    "start_time": "2022-09-17T12:57:56.399Z"
   },
   {
    "duration": 13,
    "start_time": "2022-09-17T12:57:56.421Z"
   },
   {
    "duration": 99,
    "start_time": "2022-09-17T13:36:45.051Z"
   },
   {
    "duration": 1127,
    "start_time": "2022-09-17T13:36:50.975Z"
   },
   {
    "duration": 74,
    "start_time": "2022-09-17T13:36:52.103Z"
   },
   {
    "duration": 13,
    "start_time": "2022-09-17T13:36:52.179Z"
   },
   {
    "duration": 10,
    "start_time": "2022-09-17T13:36:52.194Z"
   },
   {
    "duration": 13,
    "start_time": "2022-09-17T13:36:52.206Z"
   },
   {
    "duration": 16,
    "start_time": "2022-09-17T13:36:52.221Z"
   },
   {
    "duration": 102,
    "start_time": "2022-09-17T13:36:52.239Z"
   },
   {
    "duration": 0,
    "start_time": "2022-09-17T13:36:52.344Z"
   },
   {
    "duration": 0,
    "start_time": "2022-09-17T13:36:52.345Z"
   },
   {
    "duration": 0,
    "start_time": "2022-09-17T13:36:52.346Z"
   },
   {
    "duration": 0,
    "start_time": "2022-09-17T13:36:52.347Z"
   },
   {
    "duration": 1,
    "start_time": "2022-09-17T13:36:52.349Z"
   },
   {
    "duration": 0,
    "start_time": "2022-09-17T13:36:52.352Z"
   },
   {
    "duration": 0,
    "start_time": "2022-09-17T13:36:52.353Z"
   },
   {
    "duration": 0,
    "start_time": "2022-09-17T13:36:52.354Z"
   },
   {
    "duration": 0,
    "start_time": "2022-09-17T13:36:52.354Z"
   },
   {
    "duration": 0,
    "start_time": "2022-09-17T13:36:52.355Z"
   },
   {
    "duration": 0,
    "start_time": "2022-09-17T13:36:52.356Z"
   },
   {
    "duration": 0,
    "start_time": "2022-09-17T13:36:52.357Z"
   },
   {
    "duration": 0,
    "start_time": "2022-09-17T13:36:52.358Z"
   },
   {
    "duration": 0,
    "start_time": "2022-09-17T13:36:52.359Z"
   },
   {
    "duration": 0,
    "start_time": "2022-09-17T13:36:52.362Z"
   },
   {
    "duration": 0,
    "start_time": "2022-09-17T13:36:52.363Z"
   },
   {
    "duration": 1,
    "start_time": "2022-09-17T13:36:52.363Z"
   },
   {
    "duration": 0,
    "start_time": "2022-09-17T13:36:52.364Z"
   },
   {
    "duration": 0,
    "start_time": "2022-09-17T13:36:52.369Z"
   },
   {
    "duration": 0,
    "start_time": "2022-09-17T13:36:52.370Z"
   },
   {
    "duration": 0,
    "start_time": "2022-09-17T13:36:52.371Z"
   },
   {
    "duration": 0,
    "start_time": "2022-09-17T13:36:52.371Z"
   },
   {
    "duration": 0,
    "start_time": "2022-09-17T13:36:52.372Z"
   },
   {
    "duration": 0,
    "start_time": "2022-09-17T13:36:52.374Z"
   },
   {
    "duration": 0,
    "start_time": "2022-09-17T13:36:52.375Z"
   },
   {
    "duration": 0,
    "start_time": "2022-09-17T13:36:52.377Z"
   },
   {
    "duration": 0,
    "start_time": "2022-09-17T13:36:52.378Z"
   },
   {
    "duration": 0,
    "start_time": "2022-09-17T13:36:52.379Z"
   },
   {
    "duration": 0,
    "start_time": "2022-09-17T13:36:52.380Z"
   },
   {
    "duration": 0,
    "start_time": "2022-09-17T13:36:52.381Z"
   },
   {
    "duration": 0,
    "start_time": "2022-09-17T13:36:52.381Z"
   },
   {
    "duration": 0,
    "start_time": "2022-09-17T13:36:52.382Z"
   },
   {
    "duration": 0,
    "start_time": "2022-09-17T13:36:52.383Z"
   },
   {
    "duration": 0,
    "start_time": "2022-09-17T13:36:52.384Z"
   },
   {
    "duration": 8,
    "start_time": "2022-09-17T13:37:08.760Z"
   },
   {
    "duration": 1177,
    "start_time": "2022-09-17T13:41:27.417Z"
   },
   {
    "duration": 72,
    "start_time": "2022-09-17T13:41:28.596Z"
   },
   {
    "duration": 12,
    "start_time": "2022-09-17T13:41:28.670Z"
   },
   {
    "duration": 10,
    "start_time": "2022-09-17T13:41:28.683Z"
   },
   {
    "duration": 20,
    "start_time": "2022-09-17T13:41:28.695Z"
   },
   {
    "duration": 14,
    "start_time": "2022-09-17T13:41:28.716Z"
   },
   {
    "duration": 8,
    "start_time": "2022-09-17T13:41:28.732Z"
   },
   {
    "duration": 9,
    "start_time": "2022-09-17T13:41:28.741Z"
   },
   {
    "duration": 20,
    "start_time": "2022-09-17T13:41:28.752Z"
   },
   {
    "duration": 20,
    "start_time": "2022-09-17T13:41:28.774Z"
   },
   {
    "duration": 9,
    "start_time": "2022-09-17T13:41:28.796Z"
   },
   {
    "duration": 7,
    "start_time": "2022-09-17T13:41:28.806Z"
   },
   {
    "duration": 13,
    "start_time": "2022-09-17T13:41:28.815Z"
   },
   {
    "duration": 18,
    "start_time": "2022-09-17T13:41:28.831Z"
   },
   {
    "duration": 41,
    "start_time": "2022-09-17T13:41:28.851Z"
   },
   {
    "duration": 27,
    "start_time": "2022-09-17T13:41:28.894Z"
   },
   {
    "duration": 19,
    "start_time": "2022-09-17T13:41:28.922Z"
   },
   {
    "duration": 12,
    "start_time": "2022-09-17T13:41:28.943Z"
   },
   {
    "duration": 36,
    "start_time": "2022-09-17T13:41:28.958Z"
   },
   {
    "duration": 15,
    "start_time": "2022-09-17T13:41:28.996Z"
   },
   {
    "duration": 303,
    "start_time": "2022-09-17T13:41:29.013Z"
   },
   {
    "duration": 6,
    "start_time": "2022-09-17T13:41:29.318Z"
   },
   {
    "duration": 300,
    "start_time": "2022-09-17T13:41:29.325Z"
   },
   {
    "duration": 178,
    "start_time": "2022-09-17T13:41:29.626Z"
   },
   {
    "duration": 263,
    "start_time": "2022-09-17T13:41:29.806Z"
   },
   {
    "duration": 187,
    "start_time": "2022-09-17T13:41:30.071Z"
   },
   {
    "duration": 269,
    "start_time": "2022-09-17T13:41:30.260Z"
   },
   {
    "duration": 21,
    "start_time": "2022-09-17T13:41:30.530Z"
   },
   {
    "duration": 136,
    "start_time": "2022-09-17T13:41:30.553Z"
   },
   {
    "duration": 5,
    "start_time": "2022-09-17T13:41:30.690Z"
   },
   {
    "duration": 136,
    "start_time": "2022-09-17T13:41:30.697Z"
   },
   {
    "duration": 14,
    "start_time": "2022-09-17T13:41:30.834Z"
   },
   {
    "duration": 22,
    "start_time": "2022-09-17T13:41:30.850Z"
   },
   {
    "duration": 18,
    "start_time": "2022-09-17T13:41:30.874Z"
   },
   {
    "duration": 49,
    "start_time": "2022-09-17T13:41:30.893Z"
   },
   {
    "duration": 42,
    "start_time": "2022-09-17T13:41:30.944Z"
   },
   {
    "duration": 38,
    "start_time": "2022-09-17T13:41:30.988Z"
   },
   {
    "duration": 20,
    "start_time": "2022-09-17T13:41:31.028Z"
   },
   {
    "duration": 7,
    "start_time": "2022-09-17T13:41:31.050Z"
   },
   {
    "duration": 31,
    "start_time": "2022-09-17T13:41:31.059Z"
   },
   {
    "duration": 21,
    "start_time": "2022-09-17T13:41:31.093Z"
   },
   {
    "duration": 15,
    "start_time": "2022-09-17T13:41:31.115Z"
   },
   {
    "duration": 9,
    "start_time": "2022-09-17T14:02:54.100Z"
   },
   {
    "duration": 1150,
    "start_time": "2022-09-17T14:03:41.680Z"
   },
   {
    "duration": 73,
    "start_time": "2022-09-17T14:03:42.832Z"
   },
   {
    "duration": 13,
    "start_time": "2022-09-17T14:03:42.906Z"
   },
   {
    "duration": 10,
    "start_time": "2022-09-17T14:03:42.920Z"
   },
   {
    "duration": 14,
    "start_time": "2022-09-17T14:03:42.932Z"
   },
   {
    "duration": 16,
    "start_time": "2022-09-17T14:03:42.948Z"
   },
   {
    "duration": 8,
    "start_time": "2022-09-17T14:03:42.966Z"
   },
   {
    "duration": 7,
    "start_time": "2022-09-17T14:03:42.975Z"
   },
   {
    "duration": 22,
    "start_time": "2022-09-17T14:03:42.984Z"
   },
   {
    "duration": 18,
    "start_time": "2022-09-17T14:03:43.009Z"
   },
   {
    "duration": 21,
    "start_time": "2022-09-17T14:03:43.028Z"
   },
   {
    "duration": 9,
    "start_time": "2022-09-17T14:03:43.051Z"
   },
   {
    "duration": 11,
    "start_time": "2022-09-17T14:03:43.061Z"
   },
   {
    "duration": 12,
    "start_time": "2022-09-17T14:03:43.073Z"
   },
   {
    "duration": 11,
    "start_time": "2022-09-17T14:03:43.087Z"
   },
   {
    "duration": 11,
    "start_time": "2022-09-17T14:03:43.100Z"
   },
   {
    "duration": 17,
    "start_time": "2022-09-17T14:03:43.112Z"
   },
   {
    "duration": 23,
    "start_time": "2022-09-17T14:03:43.130Z"
   },
   {
    "duration": 9,
    "start_time": "2022-09-17T14:03:43.155Z"
   },
   {
    "duration": 8,
    "start_time": "2022-09-17T14:03:43.166Z"
   },
   {
    "duration": 13,
    "start_time": "2022-09-17T14:03:43.175Z"
   },
   {
    "duration": 308,
    "start_time": "2022-09-17T14:03:43.190Z"
   },
   {
    "duration": 6,
    "start_time": "2022-09-17T14:03:43.500Z"
   },
   {
    "duration": 248,
    "start_time": "2022-09-17T14:03:43.507Z"
   },
   {
    "duration": 183,
    "start_time": "2022-09-17T14:03:43.757Z"
   },
   {
    "duration": 278,
    "start_time": "2022-09-17T14:03:43.946Z"
   },
   {
    "duration": 174,
    "start_time": "2022-09-17T14:03:44.225Z"
   },
   {
    "duration": 222,
    "start_time": "2022-09-17T14:03:44.402Z"
   },
   {
    "duration": 25,
    "start_time": "2022-09-17T14:03:44.625Z"
   },
   {
    "duration": 120,
    "start_time": "2022-09-17T14:03:44.652Z"
   },
   {
    "duration": 4,
    "start_time": "2022-09-17T14:03:44.774Z"
   },
   {
    "duration": 124,
    "start_time": "2022-09-17T14:03:44.779Z"
   },
   {
    "duration": 5,
    "start_time": "2022-09-17T14:03:44.905Z"
   },
   {
    "duration": 13,
    "start_time": "2022-09-17T14:03:44.912Z"
   },
   {
    "duration": 23,
    "start_time": "2022-09-17T14:03:44.926Z"
   },
   {
    "duration": 36,
    "start_time": "2022-09-17T14:03:44.951Z"
   },
   {
    "duration": 32,
    "start_time": "2022-09-17T14:03:44.988Z"
   },
   {
    "duration": 50,
    "start_time": "2022-09-17T14:03:45.021Z"
   },
   {
    "duration": 13,
    "start_time": "2022-09-17T14:03:45.073Z"
   },
   {
    "duration": 7,
    "start_time": "2022-09-17T14:03:45.087Z"
   },
   {
    "duration": 12,
    "start_time": "2022-09-17T14:03:45.096Z"
   },
   {
    "duration": 9,
    "start_time": "2022-09-17T14:03:45.110Z"
   },
   {
    "duration": 32,
    "start_time": "2022-09-17T14:03:45.121Z"
   },
   {
    "duration": 58,
    "start_time": "2022-09-17T15:49:00.036Z"
   },
   {
    "duration": 1363,
    "start_time": "2022-09-17T15:49:05.429Z"
   },
   {
    "duration": 310,
    "start_time": "2022-09-17T15:49:06.794Z"
   },
   {
    "duration": 48,
    "start_time": "2022-09-17T15:49:07.108Z"
   },
   {
    "duration": 15,
    "start_time": "2022-09-17T15:49:07.157Z"
   },
   {
    "duration": 29,
    "start_time": "2022-09-17T15:49:07.174Z"
   },
   {
    "duration": 70,
    "start_time": "2022-09-17T15:49:07.204Z"
   },
   {
    "duration": 59,
    "start_time": "2022-09-17T15:49:07.275Z"
   },
   {
    "duration": 39,
    "start_time": "2022-09-17T15:49:07.335Z"
   },
   {
    "duration": 52,
    "start_time": "2022-09-17T15:49:07.375Z"
   },
   {
    "duration": 42,
    "start_time": "2022-09-17T15:49:07.429Z"
   },
   {
    "duration": 26,
    "start_time": "2022-09-17T15:49:07.473Z"
   },
   {
    "duration": 53,
    "start_time": "2022-09-17T15:49:07.501Z"
   },
   {
    "duration": 21,
    "start_time": "2022-09-17T15:49:07.556Z"
   },
   {
    "duration": 35,
    "start_time": "2022-09-17T15:49:07.580Z"
   },
   {
    "duration": 59,
    "start_time": "2022-09-17T15:49:07.617Z"
   },
   {
    "duration": 64,
    "start_time": "2022-09-17T15:49:07.678Z"
   },
   {
    "duration": 27,
    "start_time": "2022-09-17T15:49:07.744Z"
   },
   {
    "duration": 84,
    "start_time": "2022-09-17T15:49:07.773Z"
   },
   {
    "duration": 32,
    "start_time": "2022-09-17T15:49:07.859Z"
   },
   {
    "duration": 64,
    "start_time": "2022-09-17T15:49:07.892Z"
   },
   {
    "duration": 38,
    "start_time": "2022-09-17T15:49:07.958Z"
   },
   {
    "duration": 353,
    "start_time": "2022-09-17T15:49:07.998Z"
   },
   {
    "duration": 6,
    "start_time": "2022-09-17T15:49:08.353Z"
   },
   {
    "duration": 419,
    "start_time": "2022-09-17T15:49:08.361Z"
   },
   {
    "duration": 0,
    "start_time": "2022-09-17T15:49:08.781Z"
   },
   {
    "duration": 0,
    "start_time": "2022-09-17T15:49:08.782Z"
   },
   {
    "duration": 0,
    "start_time": "2022-09-17T15:49:08.783Z"
   },
   {
    "duration": 0,
    "start_time": "2022-09-17T15:49:08.784Z"
   },
   {
    "duration": 0,
    "start_time": "2022-09-17T15:49:08.785Z"
   },
   {
    "duration": 0,
    "start_time": "2022-09-17T15:49:08.786Z"
   },
   {
    "duration": 0,
    "start_time": "2022-09-17T15:49:08.787Z"
   },
   {
    "duration": 0,
    "start_time": "2022-09-17T15:49:08.788Z"
   },
   {
    "duration": 0,
    "start_time": "2022-09-17T15:49:08.789Z"
   },
   {
    "duration": 0,
    "start_time": "2022-09-17T15:49:08.790Z"
   },
   {
    "duration": 0,
    "start_time": "2022-09-17T15:49:08.791Z"
   },
   {
    "duration": 0,
    "start_time": "2022-09-17T15:49:08.792Z"
   },
   {
    "duration": 0,
    "start_time": "2022-09-17T15:49:08.793Z"
   },
   {
    "duration": 0,
    "start_time": "2022-09-17T15:49:08.816Z"
   },
   {
    "duration": 0,
    "start_time": "2022-09-17T15:49:08.817Z"
   },
   {
    "duration": 0,
    "start_time": "2022-09-17T15:49:08.825Z"
   },
   {
    "duration": 0,
    "start_time": "2022-09-17T15:49:08.826Z"
   },
   {
    "duration": 0,
    "start_time": "2022-09-17T15:49:08.827Z"
   },
   {
    "duration": 0,
    "start_time": "2022-09-17T15:49:08.827Z"
   },
   {
    "duration": 207,
    "start_time": "2022-09-17T15:49:36.952Z"
   },
   {
    "duration": 218,
    "start_time": "2022-09-17T15:53:05.605Z"
   },
   {
    "duration": 211,
    "start_time": "2022-09-17T15:54:17.157Z"
   },
   {
    "duration": 1205,
    "start_time": "2022-09-17T15:54:43.373Z"
   },
   {
    "duration": 106,
    "start_time": "2022-09-17T15:54:44.580Z"
   },
   {
    "duration": 11,
    "start_time": "2022-09-17T15:54:44.688Z"
   },
   {
    "duration": 50,
    "start_time": "2022-09-17T15:54:44.701Z"
   },
   {
    "duration": 23,
    "start_time": "2022-09-17T15:54:44.754Z"
   },
   {
    "duration": 10,
    "start_time": "2022-09-17T15:54:44.779Z"
   },
   {
    "duration": 7,
    "start_time": "2022-09-17T15:54:44.791Z"
   },
   {
    "duration": 6,
    "start_time": "2022-09-17T15:54:44.800Z"
   },
   {
    "duration": 64,
    "start_time": "2022-09-17T15:54:44.807Z"
   },
   {
    "duration": 7,
    "start_time": "2022-09-17T15:54:44.873Z"
   },
   {
    "duration": 9,
    "start_time": "2022-09-17T15:54:44.882Z"
   },
   {
    "duration": 6,
    "start_time": "2022-09-17T15:54:44.893Z"
   },
   {
    "duration": 18,
    "start_time": "2022-09-17T15:54:44.900Z"
   },
   {
    "duration": 50,
    "start_time": "2022-09-17T15:54:44.921Z"
   },
   {
    "duration": 11,
    "start_time": "2022-09-17T15:54:44.972Z"
   },
   {
    "duration": 14,
    "start_time": "2022-09-17T15:54:44.984Z"
   },
   {
    "duration": 64,
    "start_time": "2022-09-17T15:54:45.000Z"
   },
   {
    "duration": 14,
    "start_time": "2022-09-17T15:54:45.066Z"
   },
   {
    "duration": 12,
    "start_time": "2022-09-17T15:54:45.082Z"
   },
   {
    "duration": 9,
    "start_time": "2022-09-17T15:54:45.096Z"
   },
   {
    "duration": 61,
    "start_time": "2022-09-17T15:54:45.107Z"
   },
   {
    "duration": 328,
    "start_time": "2022-09-17T15:54:45.170Z"
   },
   {
    "duration": 6,
    "start_time": "2022-09-17T15:54:45.500Z"
   },
   {
    "duration": 410,
    "start_time": "2022-09-17T15:54:45.508Z"
   },
   {
    "duration": 200,
    "start_time": "2022-09-17T15:54:45.920Z"
   },
   {
    "duration": 268,
    "start_time": "2022-09-17T15:54:46.121Z"
   },
   {
    "duration": 194,
    "start_time": "2022-09-17T15:54:46.391Z"
   },
   {
    "duration": 326,
    "start_time": "2022-09-17T15:54:46.587Z"
   },
   {
    "duration": 29,
    "start_time": "2022-09-17T15:54:46.918Z"
   },
   {
    "duration": 156,
    "start_time": "2022-09-17T15:54:46.949Z"
   },
   {
    "duration": 21,
    "start_time": "2022-09-17T15:54:47.107Z"
   },
   {
    "duration": 185,
    "start_time": "2022-09-17T15:54:47.130Z"
   },
   {
    "duration": 10,
    "start_time": "2022-09-17T15:54:47.317Z"
   },
   {
    "duration": 46,
    "start_time": "2022-09-17T15:54:47.338Z"
   },
   {
    "duration": 7,
    "start_time": "2022-09-17T15:54:47.385Z"
   },
   {
    "duration": 73,
    "start_time": "2022-09-17T15:54:47.394Z"
   },
   {
    "duration": 50,
    "start_time": "2022-09-17T15:54:47.469Z"
   },
   {
    "duration": 52,
    "start_time": "2022-09-17T15:54:47.522Z"
   },
   {
    "duration": 12,
    "start_time": "2022-09-17T15:54:47.576Z"
   },
   {
    "duration": 4,
    "start_time": "2022-09-17T15:54:47.590Z"
   },
   {
    "duration": 10,
    "start_time": "2022-09-17T15:54:47.597Z"
   },
   {
    "duration": 51,
    "start_time": "2022-09-17T15:54:47.616Z"
   },
   {
    "duration": 10,
    "start_time": "2022-09-17T15:54:47.668Z"
   },
   {
    "duration": 83,
    "start_time": "2022-09-17T16:01:30.177Z"
   },
   {
    "duration": 0,
    "start_time": "2022-09-17T16:01:30.262Z"
   },
   {
    "duration": 1250,
    "start_time": "2022-09-17T16:01:30.340Z"
   },
   {
    "duration": 106,
    "start_time": "2022-09-17T16:01:31.593Z"
   },
   {
    "duration": 17,
    "start_time": "2022-09-17T16:01:31.701Z"
   },
   {
    "duration": 55,
    "start_time": "2022-09-17T16:01:31.720Z"
   },
   {
    "duration": 71,
    "start_time": "2022-09-17T16:01:31.777Z"
   },
   {
    "duration": 46,
    "start_time": "2022-09-17T16:01:31.849Z"
   },
   {
    "duration": 72,
    "start_time": "2022-09-17T16:01:31.897Z"
   },
   {
    "duration": 38,
    "start_time": "2022-09-17T16:01:31.970Z"
   },
   {
    "duration": 70,
    "start_time": "2022-09-17T16:01:32.009Z"
   },
   {
    "duration": 68,
    "start_time": "2022-09-17T16:01:32.081Z"
   },
   {
    "duration": 54,
    "start_time": "2022-09-17T16:01:32.152Z"
   },
   {
    "duration": 76,
    "start_time": "2022-09-17T16:01:32.208Z"
   },
   {
    "duration": 18,
    "start_time": "2022-09-17T16:01:32.286Z"
   },
   {
    "duration": 84,
    "start_time": "2022-09-17T16:01:32.308Z"
   },
   {
    "duration": 80,
    "start_time": "2022-09-17T16:01:32.393Z"
   },
   {
    "duration": 26,
    "start_time": "2022-09-17T16:01:32.475Z"
   },
   {
    "duration": 140,
    "start_time": "2022-09-17T16:01:32.503Z"
   },
   {
    "duration": 18,
    "start_time": "2022-09-17T16:01:32.645Z"
   },
   {
    "duration": 103,
    "start_time": "2022-09-17T16:01:32.665Z"
   },
   {
    "duration": 68,
    "start_time": "2022-09-17T16:01:32.771Z"
   },
   {
    "duration": 108,
    "start_time": "2022-09-17T16:01:32.848Z"
   },
   {
    "duration": 450,
    "start_time": "2022-09-17T16:01:32.960Z"
   },
   {
    "duration": 25,
    "start_time": "2022-09-17T16:01:33.412Z"
   },
   {
    "duration": 345,
    "start_time": "2022-09-17T16:01:33.439Z"
   },
   {
    "duration": 221,
    "start_time": "2022-09-17T16:01:33.786Z"
   },
   {
    "duration": 322,
    "start_time": "2022-09-17T16:01:34.017Z"
   },
   {
    "duration": 294,
    "start_time": "2022-09-17T16:01:34.341Z"
   },
   {
    "duration": 327,
    "start_time": "2022-09-17T16:01:34.637Z"
   },
   {
    "duration": 14,
    "start_time": "2022-09-17T16:01:34.966Z"
   },
   {
    "duration": 195,
    "start_time": "2022-09-17T16:01:34.982Z"
   },
   {
    "duration": 7,
    "start_time": "2022-09-17T16:01:35.179Z"
   },
   {
    "duration": 165,
    "start_time": "2022-09-17T16:01:35.188Z"
   },
   {
    "duration": 5,
    "start_time": "2022-09-17T16:01:35.354Z"
   },
   {
    "duration": 26,
    "start_time": "2022-09-17T16:01:35.361Z"
   },
   {
    "duration": 60,
    "start_time": "2022-09-17T16:01:35.389Z"
   },
   {
    "duration": 66,
    "start_time": "2022-09-17T16:01:35.452Z"
   },
   {
    "duration": 43,
    "start_time": "2022-09-17T16:01:35.520Z"
   },
   {
    "duration": 50,
    "start_time": "2022-09-17T16:01:35.565Z"
   },
   {
    "duration": 18,
    "start_time": "2022-09-17T16:01:35.617Z"
   },
   {
    "duration": 33,
    "start_time": "2022-09-17T16:01:35.637Z"
   },
   {
    "duration": 56,
    "start_time": "2022-09-17T16:01:35.675Z"
   },
   {
    "duration": 23,
    "start_time": "2022-09-17T16:01:35.751Z"
   },
   {
    "duration": 32,
    "start_time": "2022-09-17T16:01:35.775Z"
   },
   {
    "duration": 1082,
    "start_time": "2022-09-17T16:29:57.369Z"
   },
   {
    "duration": 75,
    "start_time": "2022-09-17T16:29:58.453Z"
   },
   {
    "duration": 1078,
    "start_time": "2022-09-17T16:30:03.245Z"
   },
   {
    "duration": 74,
    "start_time": "2022-09-17T16:30:04.325Z"
   },
   {
    "duration": 15,
    "start_time": "2022-09-17T16:30:04.401Z"
   },
   {
    "duration": 26,
    "start_time": "2022-09-17T16:30:04.418Z"
   },
   {
    "duration": 22,
    "start_time": "2022-09-17T16:30:04.447Z"
   },
   {
    "duration": 27,
    "start_time": "2022-09-17T16:30:04.471Z"
   },
   {
    "duration": 23,
    "start_time": "2022-09-17T16:30:04.500Z"
   },
   {
    "duration": 25,
    "start_time": "2022-09-17T16:30:04.525Z"
   },
   {
    "duration": 35,
    "start_time": "2022-09-17T16:30:04.551Z"
   },
   {
    "duration": 14,
    "start_time": "2022-09-17T16:30:04.587Z"
   },
   {
    "duration": 25,
    "start_time": "2022-09-17T16:30:04.602Z"
   },
   {
    "duration": 24,
    "start_time": "2022-09-17T16:30:04.628Z"
   },
   {
    "duration": 23,
    "start_time": "2022-09-17T16:30:04.653Z"
   },
   {
    "duration": 35,
    "start_time": "2022-09-17T16:30:04.679Z"
   },
   {
    "duration": 21,
    "start_time": "2022-09-17T16:30:04.716Z"
   },
   {
    "duration": 44,
    "start_time": "2022-09-17T16:30:04.739Z"
   },
   {
    "duration": 20,
    "start_time": "2022-09-17T16:30:04.785Z"
   },
   {
    "duration": 43,
    "start_time": "2022-09-17T16:30:04.807Z"
   },
   {
    "duration": 33,
    "start_time": "2022-09-17T16:30:04.852Z"
   },
   {
    "duration": 31,
    "start_time": "2022-09-17T16:30:04.887Z"
   },
   {
    "duration": 20,
    "start_time": "2022-09-17T16:30:04.919Z"
   },
   {
    "duration": 300,
    "start_time": "2022-09-17T16:30:04.940Z"
   },
   {
    "duration": 6,
    "start_time": "2022-09-17T16:30:05.242Z"
   },
   {
    "duration": 277,
    "start_time": "2022-09-17T16:30:05.249Z"
   },
   {
    "duration": 183,
    "start_time": "2022-09-17T16:30:05.528Z"
   },
   {
    "duration": 279,
    "start_time": "2022-09-17T16:30:05.713Z"
   },
   {
    "duration": 190,
    "start_time": "2022-09-17T16:30:05.994Z"
   },
   {
    "duration": 293,
    "start_time": "2022-09-17T16:30:06.186Z"
   },
   {
    "duration": 13,
    "start_time": "2022-09-17T16:30:06.481Z"
   },
   {
    "duration": 120,
    "start_time": "2022-09-17T16:30:06.509Z"
   },
   {
    "duration": 5,
    "start_time": "2022-09-17T16:30:06.631Z"
   },
   {
    "duration": 152,
    "start_time": "2022-09-17T16:30:06.638Z"
   },
   {
    "duration": 5,
    "start_time": "2022-09-17T16:30:06.791Z"
   },
   {
    "duration": 12,
    "start_time": "2022-09-17T16:30:06.809Z"
   },
   {
    "duration": 13,
    "start_time": "2022-09-17T16:30:06.823Z"
   },
   {
    "duration": 44,
    "start_time": "2022-09-17T16:30:06.837Z"
   },
   {
    "duration": 55,
    "start_time": "2022-09-17T16:30:06.883Z"
   },
   {
    "duration": 32,
    "start_time": "2022-09-17T16:30:06.939Z"
   },
   {
    "duration": 11,
    "start_time": "2022-09-17T16:30:06.973Z"
   },
   {
    "duration": 19,
    "start_time": "2022-09-17T16:30:06.986Z"
   },
   {
    "duration": 37,
    "start_time": "2022-09-17T16:30:07.009Z"
   },
   {
    "duration": 23,
    "start_time": "2022-09-17T16:30:07.048Z"
   },
   {
    "duration": 27,
    "start_time": "2022-09-17T16:30:07.073Z"
   },
   {
    "duration": 129,
    "start_time": "2022-09-17T17:03:57.094Z"
   },
   {
    "duration": 305,
    "start_time": "2022-09-17T17:07:29.188Z"
   },
   {
    "duration": 149,
    "start_time": "2022-09-17T17:07:41.690Z"
   },
   {
    "duration": 122,
    "start_time": "2022-09-17T17:07:56.892Z"
   },
   {
    "duration": 127,
    "start_time": "2022-09-17T17:08:58.267Z"
   },
   {
    "duration": 131,
    "start_time": "2022-09-17T17:12:53.952Z"
   },
   {
    "duration": 148,
    "start_time": "2022-09-17T17:13:43.672Z"
   },
   {
    "duration": 1064,
    "start_time": "2022-09-17T18:14:43.824Z"
   },
   {
    "duration": 85,
    "start_time": "2022-09-17T18:14:44.890Z"
   },
   {
    "duration": 13,
    "start_time": "2022-09-17T18:14:44.977Z"
   },
   {
    "duration": 12,
    "start_time": "2022-09-17T18:14:44.991Z"
   },
   {
    "duration": 39,
    "start_time": "2022-09-17T18:14:45.005Z"
   },
   {
    "duration": 10,
    "start_time": "2022-09-17T18:14:45.045Z"
   },
   {
    "duration": 9,
    "start_time": "2022-09-17T18:14:45.057Z"
   },
   {
    "duration": 7,
    "start_time": "2022-09-17T18:14:45.067Z"
   },
   {
    "duration": 12,
    "start_time": "2022-09-17T18:14:45.075Z"
   },
   {
    "duration": 8,
    "start_time": "2022-09-17T18:14:45.088Z"
   },
   {
    "duration": 26,
    "start_time": "2022-09-17T18:14:45.097Z"
   },
   {
    "duration": 11,
    "start_time": "2022-09-17T18:14:45.124Z"
   },
   {
    "duration": 9,
    "start_time": "2022-09-17T18:14:45.137Z"
   },
   {
    "duration": 26,
    "start_time": "2022-09-17T18:14:45.150Z"
   },
   {
    "duration": 11,
    "start_time": "2022-09-17T18:14:45.178Z"
   },
   {
    "duration": 53,
    "start_time": "2022-09-17T18:14:45.190Z"
   },
   {
    "duration": 10,
    "start_time": "2022-09-17T18:14:45.245Z"
   },
   {
    "duration": 12,
    "start_time": "2022-09-17T18:14:45.257Z"
   },
   {
    "duration": 11,
    "start_time": "2022-09-17T18:14:45.270Z"
   },
   {
    "duration": 9,
    "start_time": "2022-09-17T18:14:45.282Z"
   },
   {
    "duration": 44,
    "start_time": "2022-09-17T18:14:45.292Z"
   },
   {
    "duration": 295,
    "start_time": "2022-09-17T18:14:45.338Z"
   },
   {
    "duration": 8,
    "start_time": "2022-09-17T18:14:45.635Z"
   },
   {
    "duration": 290,
    "start_time": "2022-09-17T18:14:45.645Z"
   },
   {
    "duration": 193,
    "start_time": "2022-09-17T18:14:45.937Z"
   },
   {
    "duration": 299,
    "start_time": "2022-09-17T18:14:46.131Z"
   },
   {
    "duration": 202,
    "start_time": "2022-09-17T18:14:46.432Z"
   },
   {
    "duration": 317,
    "start_time": "2022-09-17T18:14:46.637Z"
   },
   {
    "duration": 14,
    "start_time": "2022-09-17T18:14:46.956Z"
   },
   {
    "duration": 168,
    "start_time": "2022-09-17T18:14:46.971Z"
   },
   {
    "duration": 6,
    "start_time": "2022-09-17T18:14:47.140Z"
   },
   {
    "duration": 129,
    "start_time": "2022-09-17T18:14:47.147Z"
   },
   {
    "duration": 170,
    "start_time": "2022-09-17T18:14:47.278Z"
   },
   {
    "duration": 5,
    "start_time": "2022-09-17T18:14:47.450Z"
   },
   {
    "duration": 26,
    "start_time": "2022-09-17T18:14:47.456Z"
   },
   {
    "duration": 21,
    "start_time": "2022-09-17T18:14:47.485Z"
   },
   {
    "duration": 79,
    "start_time": "2022-09-17T18:14:47.508Z"
   },
   {
    "duration": 92,
    "start_time": "2022-09-17T18:14:47.588Z"
   },
   {
    "duration": 62,
    "start_time": "2022-09-17T18:14:47.682Z"
   },
   {
    "duration": 12,
    "start_time": "2022-09-17T18:14:47.746Z"
   },
   {
    "duration": 8,
    "start_time": "2022-09-17T18:14:47.761Z"
   },
   {
    "duration": 31,
    "start_time": "2022-09-17T18:14:47.770Z"
   },
   {
    "duration": 51,
    "start_time": "2022-09-17T18:14:47.803Z"
   },
   {
    "duration": 17,
    "start_time": "2022-09-17T18:14:47.856Z"
   },
   {
    "duration": 1246,
    "start_time": "2022-09-18T17:12:02.327Z"
   },
   {
    "duration": 194,
    "start_time": "2022-09-18T17:12:03.575Z"
   },
   {
    "duration": 14,
    "start_time": "2022-09-18T17:12:03.771Z"
   },
   {
    "duration": 11,
    "start_time": "2022-09-18T17:12:03.787Z"
   },
   {
    "duration": 15,
    "start_time": "2022-09-18T17:12:03.799Z"
   },
   {
    "duration": 16,
    "start_time": "2022-09-18T17:12:03.815Z"
   },
   {
    "duration": 7,
    "start_time": "2022-09-18T17:12:03.832Z"
   },
   {
    "duration": 7,
    "start_time": "2022-09-18T17:12:03.840Z"
   },
   {
    "duration": 21,
    "start_time": "2022-09-18T17:12:03.848Z"
   },
   {
    "duration": 7,
    "start_time": "2022-09-18T17:12:03.872Z"
   },
   {
    "duration": 17,
    "start_time": "2022-09-18T17:12:03.881Z"
   },
   {
    "duration": 10,
    "start_time": "2022-09-18T17:12:03.900Z"
   },
   {
    "duration": 8,
    "start_time": "2022-09-18T17:12:03.911Z"
   },
   {
    "duration": 14,
    "start_time": "2022-09-18T17:12:03.921Z"
   },
   {
    "duration": 21,
    "start_time": "2022-09-18T17:12:03.936Z"
   },
   {
    "duration": 11,
    "start_time": "2022-09-18T17:12:03.959Z"
   },
   {
    "duration": 9,
    "start_time": "2022-09-18T17:12:03.972Z"
   },
   {
    "duration": 11,
    "start_time": "2022-09-18T17:12:03.983Z"
   },
   {
    "duration": 21,
    "start_time": "2022-09-18T17:12:03.995Z"
   },
   {
    "duration": 10,
    "start_time": "2022-09-18T17:12:04.017Z"
   },
   {
    "duration": 12,
    "start_time": "2022-09-18T17:12:04.028Z"
   },
   {
    "duration": 295,
    "start_time": "2022-09-18T17:12:04.041Z"
   },
   {
    "duration": 5,
    "start_time": "2022-09-18T17:12:04.338Z"
   },
   {
    "duration": 332,
    "start_time": "2022-09-18T17:12:04.345Z"
   },
   {
    "duration": 191,
    "start_time": "2022-09-18T17:12:04.679Z"
   },
   {
    "duration": 345,
    "start_time": "2022-09-18T17:12:04.872Z"
   },
   {
    "duration": 188,
    "start_time": "2022-09-18T17:12:05.219Z"
   },
   {
    "duration": 264,
    "start_time": "2022-09-18T17:12:05.411Z"
   },
   {
    "duration": 12,
    "start_time": "2022-09-18T17:12:05.677Z"
   },
   {
    "duration": 132,
    "start_time": "2022-09-18T17:12:05.690Z"
   },
   {
    "duration": 4,
    "start_time": "2022-09-18T17:12:05.824Z"
   },
   {
    "duration": 128,
    "start_time": "2022-09-18T17:12:05.830Z"
   },
   {
    "duration": 130,
    "start_time": "2022-09-18T17:12:05.959Z"
   },
   {
    "duration": 4,
    "start_time": "2022-09-18T17:12:06.091Z"
   },
   {
    "duration": 20,
    "start_time": "2022-09-18T17:12:06.097Z"
   },
   {
    "duration": 25,
    "start_time": "2022-09-18T17:12:06.118Z"
   },
   {
    "duration": 85,
    "start_time": "2022-09-18T17:12:06.144Z"
   },
   {
    "duration": 95,
    "start_time": "2022-09-18T17:12:06.231Z"
   },
   {
    "duration": 31,
    "start_time": "2022-09-18T17:12:06.328Z"
   },
   {
    "duration": 11,
    "start_time": "2022-09-18T17:12:06.360Z"
   },
   {
    "duration": 24,
    "start_time": "2022-09-18T17:12:06.373Z"
   },
   {
    "duration": 20,
    "start_time": "2022-09-18T17:12:06.399Z"
   },
   {
    "duration": 36,
    "start_time": "2022-09-18T17:12:06.421Z"
   },
   {
    "duration": 52,
    "start_time": "2022-09-18T17:12:06.459Z"
   },
   {
    "duration": 66,
    "start_time": "2022-09-18T21:16:19.237Z"
   },
   {
    "duration": 1348,
    "start_time": "2022-09-18T21:16:24.136Z"
   },
   {
    "duration": 252,
    "start_time": "2022-09-18T21:16:25.485Z"
   },
   {
    "duration": 12,
    "start_time": "2022-09-18T21:16:25.739Z"
   },
   {
    "duration": 11,
    "start_time": "2022-09-18T21:16:25.753Z"
   },
   {
    "duration": 11,
    "start_time": "2022-09-18T21:16:25.768Z"
   },
   {
    "duration": 12,
    "start_time": "2022-09-18T21:16:25.781Z"
   },
   {
    "duration": 9,
    "start_time": "2022-09-18T21:16:25.794Z"
   },
   {
    "duration": 24,
    "start_time": "2022-09-18T21:16:25.805Z"
   },
   {
    "duration": 14,
    "start_time": "2022-09-18T21:16:25.833Z"
   },
   {
    "duration": 7,
    "start_time": "2022-09-18T21:16:25.848Z"
   },
   {
    "duration": 12,
    "start_time": "2022-09-18T21:16:25.857Z"
   },
   {
    "duration": 5,
    "start_time": "2022-09-18T21:16:25.870Z"
   },
   {
    "duration": 7,
    "start_time": "2022-09-18T21:16:25.877Z"
   },
   {
    "duration": 11,
    "start_time": "2022-09-18T21:16:25.887Z"
   },
   {
    "duration": 26,
    "start_time": "2022-09-18T21:16:25.899Z"
   },
   {
    "duration": 16,
    "start_time": "2022-09-18T21:16:25.928Z"
   },
   {
    "duration": 21,
    "start_time": "2022-09-18T21:16:25.945Z"
   },
   {
    "duration": 19,
    "start_time": "2022-09-18T21:16:25.968Z"
   },
   {
    "duration": 152,
    "start_time": "2022-09-18T21:16:25.989Z"
   },
   {
    "duration": 11,
    "start_time": "2022-09-18T21:16:26.143Z"
   },
   {
    "duration": 6,
    "start_time": "2022-09-18T21:16:26.155Z"
   },
   {
    "duration": 10,
    "start_time": "2022-09-18T21:16:26.163Z"
   },
   {
    "duration": 322,
    "start_time": "2022-09-18T21:16:26.178Z"
   },
   {
    "duration": 17,
    "start_time": "2022-09-18T21:16:26.502Z"
   },
   {
    "duration": 282,
    "start_time": "2022-09-18T21:16:26.522Z"
   },
   {
    "duration": 222,
    "start_time": "2022-09-18T21:16:26.805Z"
   },
   {
    "duration": 318,
    "start_time": "2022-09-18T21:16:27.028Z"
   },
   {
    "duration": 211,
    "start_time": "2022-09-18T21:16:27.348Z"
   },
   {
    "duration": 265,
    "start_time": "2022-09-18T21:16:27.561Z"
   },
   {
    "duration": 16,
    "start_time": "2022-09-18T21:16:27.827Z"
   },
   {
    "duration": 161,
    "start_time": "2022-09-18T21:16:27.845Z"
   },
   {
    "duration": 8,
    "start_time": "2022-09-18T21:16:28.007Z"
   },
   {
    "duration": 177,
    "start_time": "2022-09-18T21:16:28.016Z"
   },
   {
    "duration": 196,
    "start_time": "2022-09-18T21:16:28.194Z"
   },
   {
    "duration": 4,
    "start_time": "2022-09-18T21:16:28.392Z"
   },
   {
    "duration": 62,
    "start_time": "2022-09-18T21:16:28.398Z"
   },
   {
    "duration": 21,
    "start_time": "2022-09-18T21:16:28.462Z"
   },
   {
    "duration": 86,
    "start_time": "2022-09-18T21:16:28.485Z"
   },
   {
    "duration": 54,
    "start_time": "2022-09-18T21:16:28.573Z"
   },
   {
    "duration": 33,
    "start_time": "2022-09-18T21:16:28.635Z"
   },
   {
    "duration": 11,
    "start_time": "2022-09-18T21:16:28.671Z"
   },
   {
    "duration": 53,
    "start_time": "2022-09-18T21:16:28.684Z"
   },
   {
    "duration": 23,
    "start_time": "2022-09-18T21:16:28.739Z"
   },
   {
    "duration": 30,
    "start_time": "2022-09-18T21:16:28.764Z"
   },
   {
    "duration": 39,
    "start_time": "2022-09-18T21:16:28.796Z"
   },
   {
    "duration": 125,
    "start_time": "2022-09-18T21:16:37.735Z"
   },
   {
    "duration": 120,
    "start_time": "2022-09-18T21:18:10.455Z"
   },
   {
    "duration": 32,
    "start_time": "2022-09-18T21:33:03.635Z"
   },
   {
    "duration": 44,
    "start_time": "2022-09-18T21:33:23.284Z"
   },
   {
    "duration": 43,
    "start_time": "2022-09-18T21:35:20.824Z"
   },
   {
    "duration": 9,
    "start_time": "2022-09-18T21:41:35.485Z"
   },
   {
    "duration": 10,
    "start_time": "2022-09-18T21:42:15.145Z"
   },
   {
    "duration": 1154,
    "start_time": "2022-09-18T21:46:00.968Z"
   },
   {
    "duration": 84,
    "start_time": "2022-09-18T21:46:02.131Z"
   },
   {
    "duration": 13,
    "start_time": "2022-09-18T21:46:02.220Z"
   },
   {
    "duration": 30,
    "start_time": "2022-09-18T21:46:02.235Z"
   },
   {
    "duration": 16,
    "start_time": "2022-09-18T21:46:02.268Z"
   },
   {
    "duration": 21,
    "start_time": "2022-09-18T21:46:02.286Z"
   },
   {
    "duration": 32,
    "start_time": "2022-09-18T21:46:02.308Z"
   },
   {
    "duration": 6,
    "start_time": "2022-09-18T21:46:02.342Z"
   },
   {
    "duration": 20,
    "start_time": "2022-09-18T21:46:02.349Z"
   },
   {
    "duration": 7,
    "start_time": "2022-09-18T21:46:02.374Z"
   },
   {
    "duration": 24,
    "start_time": "2022-09-18T21:46:02.382Z"
   },
   {
    "duration": 34,
    "start_time": "2022-09-18T21:46:02.408Z"
   },
   {
    "duration": 13,
    "start_time": "2022-09-18T21:46:02.444Z"
   },
   {
    "duration": 19,
    "start_time": "2022-09-18T21:46:02.459Z"
   },
   {
    "duration": 11,
    "start_time": "2022-09-18T21:46:02.479Z"
   },
   {
    "duration": 32,
    "start_time": "2022-09-18T21:46:02.491Z"
   },
   {
    "duration": 21,
    "start_time": "2022-09-18T21:46:02.529Z"
   },
   {
    "duration": 28,
    "start_time": "2022-09-18T21:46:02.552Z"
   },
   {
    "duration": 155,
    "start_time": "2022-09-18T21:46:02.583Z"
   },
   {
    "duration": 15,
    "start_time": "2022-09-18T21:46:02.741Z"
   },
   {
    "duration": 192,
    "start_time": "2022-09-18T21:46:02.759Z"
   },
   {
    "duration": 8,
    "start_time": "2022-09-18T21:46:02.953Z"
   },
   {
    "duration": 24,
    "start_time": "2022-09-18T21:46:02.963Z"
   },
   {
    "duration": 434,
    "start_time": "2022-09-18T21:46:02.989Z"
   },
   {
    "duration": 6,
    "start_time": "2022-09-18T21:46:03.424Z"
   },
   {
    "duration": 266,
    "start_time": "2022-09-18T21:46:03.432Z"
   },
   {
    "duration": 211,
    "start_time": "2022-09-18T21:46:03.700Z"
   },
   {
    "duration": 337,
    "start_time": "2022-09-18T21:46:03.915Z"
   },
   {
    "duration": 257,
    "start_time": "2022-09-18T21:46:04.253Z"
   },
   {
    "duration": 324,
    "start_time": "2022-09-18T21:46:04.516Z"
   },
   {
    "duration": 15,
    "start_time": "2022-09-18T21:46:04.842Z"
   },
   {
    "duration": 176,
    "start_time": "2022-09-18T21:46:04.860Z"
   },
   {
    "duration": 10,
    "start_time": "2022-09-18T21:46:05.037Z"
   },
   {
    "duration": 187,
    "start_time": "2022-09-18T21:46:05.049Z"
   },
   {
    "duration": 193,
    "start_time": "2022-09-18T21:46:05.238Z"
   },
   {
    "duration": 5,
    "start_time": "2022-09-18T21:46:05.433Z"
   },
   {
    "duration": 23,
    "start_time": "2022-09-18T21:46:05.439Z"
   },
   {
    "duration": 8,
    "start_time": "2022-09-18T21:46:05.464Z"
   },
   {
    "duration": 31,
    "start_time": "2022-09-18T21:46:05.474Z"
   },
   {
    "duration": 40,
    "start_time": "2022-09-18T21:46:05.507Z"
   },
   {
    "duration": 38,
    "start_time": "2022-09-18T21:46:05.550Z"
   },
   {
    "duration": 20,
    "start_time": "2022-09-18T21:46:05.590Z"
   },
   {
    "duration": 37,
    "start_time": "2022-09-18T21:46:05.611Z"
   },
   {
    "duration": 41,
    "start_time": "2022-09-18T21:46:05.650Z"
   },
   {
    "duration": 14,
    "start_time": "2022-09-18T21:46:05.693Z"
   },
   {
    "duration": 31,
    "start_time": "2022-09-18T21:46:05.708Z"
   },
   {
    "duration": 1092,
    "start_time": "2022-09-19T08:42:34.253Z"
   },
   {
    "duration": 82,
    "start_time": "2022-09-19T08:42:35.348Z"
   },
   {
    "duration": 18,
    "start_time": "2022-09-19T08:42:35.432Z"
   },
   {
    "duration": 15,
    "start_time": "2022-09-19T08:42:35.453Z"
   },
   {
    "duration": 20,
    "start_time": "2022-09-19T08:42:35.470Z"
   },
   {
    "duration": 15,
    "start_time": "2022-09-19T08:42:35.492Z"
   },
   {
    "duration": 29,
    "start_time": "2022-09-19T08:42:35.509Z"
   },
   {
    "duration": 10,
    "start_time": "2022-09-19T08:42:35.539Z"
   },
   {
    "duration": 14,
    "start_time": "2022-09-19T08:42:35.551Z"
   },
   {
    "duration": 8,
    "start_time": "2022-09-19T08:42:35.568Z"
   },
   {
    "duration": 22,
    "start_time": "2022-09-19T08:42:35.578Z"
   },
   {
    "duration": 18,
    "start_time": "2022-09-19T08:42:35.602Z"
   },
   {
    "duration": 10,
    "start_time": "2022-09-19T08:42:35.622Z"
   },
   {
    "duration": 12,
    "start_time": "2022-09-19T08:42:35.634Z"
   },
   {
    "duration": 9,
    "start_time": "2022-09-19T08:42:35.647Z"
   },
   {
    "duration": 12,
    "start_time": "2022-09-19T08:42:35.658Z"
   },
   {
    "duration": 32,
    "start_time": "2022-09-19T08:42:35.671Z"
   },
   {
    "duration": 25,
    "start_time": "2022-09-19T08:42:35.705Z"
   },
   {
    "duration": 169,
    "start_time": "2022-09-19T08:42:35.732Z"
   },
   {
    "duration": 18,
    "start_time": "2022-09-19T08:42:35.904Z"
   },
   {
    "duration": 140,
    "start_time": "2022-09-19T08:42:35.924Z"
   },
   {
    "duration": 6,
    "start_time": "2022-09-19T08:42:36.065Z"
   },
   {
    "duration": 40,
    "start_time": "2022-09-19T08:42:36.073Z"
   },
   {
    "duration": 336,
    "start_time": "2022-09-19T08:42:36.115Z"
   },
   {
    "duration": 8,
    "start_time": "2022-09-19T08:42:36.453Z"
   },
   {
    "duration": 440,
    "start_time": "2022-09-19T08:42:36.463Z"
   },
   {
    "duration": 240,
    "start_time": "2022-09-19T08:42:36.906Z"
   },
   {
    "duration": 305,
    "start_time": "2022-09-19T08:42:37.151Z"
   },
   {
    "duration": 231,
    "start_time": "2022-09-19T08:42:37.458Z"
   },
   {
    "duration": 322,
    "start_time": "2022-09-19T08:42:37.695Z"
   },
   {
    "duration": 16,
    "start_time": "2022-09-19T08:42:38.020Z"
   },
   {
    "duration": 193,
    "start_time": "2022-09-19T08:42:38.039Z"
   },
   {
    "duration": 6,
    "start_time": "2022-09-19T08:42:38.234Z"
   },
   {
    "duration": 222,
    "start_time": "2022-09-19T08:42:38.241Z"
   },
   {
    "duration": 165,
    "start_time": "2022-09-19T08:42:38.465Z"
   },
   {
    "duration": 7,
    "start_time": "2022-09-19T08:42:38.631Z"
   },
   {
    "duration": 15,
    "start_time": "2022-09-19T08:42:38.639Z"
   },
   {
    "duration": 5,
    "start_time": "2022-09-19T08:42:38.656Z"
   },
   {
    "duration": 65,
    "start_time": "2022-09-19T08:42:38.662Z"
   },
   {
    "duration": 34,
    "start_time": "2022-09-19T08:42:38.728Z"
   },
   {
    "duration": 61,
    "start_time": "2022-09-19T08:42:38.764Z"
   },
   {
    "duration": 13,
    "start_time": "2022-09-19T08:42:38.827Z"
   },
   {
    "duration": 11,
    "start_time": "2022-09-19T08:42:38.842Z"
   },
   {
    "duration": 16,
    "start_time": "2022-09-19T08:42:38.855Z"
   },
   {
    "duration": 23,
    "start_time": "2022-09-19T08:42:38.873Z"
   },
   {
    "duration": 12,
    "start_time": "2022-09-19T08:42:38.897Z"
   },
   {
    "duration": 1518,
    "start_time": "2022-09-19T08:49:55.780Z"
   },
   {
    "duration": 10,
    "start_time": "2022-09-19T08:50:03.992Z"
   },
   {
    "duration": 1256,
    "start_time": "2022-09-19T09:31:51.552Z"
   },
   {
    "duration": 195,
    "start_time": "2022-09-19T09:31:52.811Z"
   },
   {
    "duration": 14,
    "start_time": "2022-09-19T09:31:53.008Z"
   },
   {
    "duration": 27,
    "start_time": "2022-09-19T09:31:53.024Z"
   },
   {
    "duration": 28,
    "start_time": "2022-09-19T09:31:53.053Z"
   },
   {
    "duration": 34,
    "start_time": "2022-09-19T09:31:53.083Z"
   },
   {
    "duration": 28,
    "start_time": "2022-09-19T09:31:53.119Z"
   },
   {
    "duration": 33,
    "start_time": "2022-09-19T09:31:53.148Z"
   },
   {
    "duration": 31,
    "start_time": "2022-09-19T09:31:53.183Z"
   },
   {
    "duration": 39,
    "start_time": "2022-09-19T09:31:53.216Z"
   },
   {
    "duration": 32,
    "start_time": "2022-09-19T09:31:53.257Z"
   },
   {
    "duration": 34,
    "start_time": "2022-09-19T09:31:53.291Z"
   },
   {
    "duration": 35,
    "start_time": "2022-09-19T09:31:53.326Z"
   },
   {
    "duration": 47,
    "start_time": "2022-09-19T09:31:53.363Z"
   },
   {
    "duration": 52,
    "start_time": "2022-09-19T09:31:53.411Z"
   },
   {
    "duration": 30,
    "start_time": "2022-09-19T09:31:53.465Z"
   },
   {
    "duration": 35,
    "start_time": "2022-09-19T09:31:53.497Z"
   },
   {
    "duration": 18,
    "start_time": "2022-09-19T09:31:53.533Z"
   },
   {
    "duration": 33,
    "start_time": "2022-09-19T09:31:53.552Z"
   },
   {
    "duration": 34,
    "start_time": "2022-09-19T09:31:53.587Z"
   },
   {
    "duration": 174,
    "start_time": "2022-09-19T09:31:53.622Z"
   },
   {
    "duration": 13,
    "start_time": "2022-09-19T09:31:53.798Z"
   },
   {
    "duration": 145,
    "start_time": "2022-09-19T09:31:53.820Z"
   },
   {
    "duration": 6,
    "start_time": "2022-09-19T09:31:53.967Z"
   },
   {
    "duration": 32,
    "start_time": "2022-09-19T09:31:53.974Z"
   },
   {
    "duration": 336,
    "start_time": "2022-09-19T09:31:54.008Z"
   },
   {
    "duration": 7,
    "start_time": "2022-09-19T09:31:54.345Z"
   },
   {
    "duration": 294,
    "start_time": "2022-09-19T09:31:54.355Z"
   },
   {
    "duration": 219,
    "start_time": "2022-09-19T09:31:54.652Z"
   },
   {
    "duration": 363,
    "start_time": "2022-09-19T09:31:54.873Z"
   },
   {
    "duration": 211,
    "start_time": "2022-09-19T09:31:55.238Z"
   },
   {
    "duration": 285,
    "start_time": "2022-09-19T09:31:55.451Z"
   },
   {
    "duration": 15,
    "start_time": "2022-09-19T09:31:55.738Z"
   },
   {
    "duration": 165,
    "start_time": "2022-09-19T09:31:55.755Z"
   },
   {
    "duration": 6,
    "start_time": "2022-09-19T09:31:55.922Z"
   },
   {
    "duration": 255,
    "start_time": "2022-09-19T09:31:55.930Z"
   },
   {
    "duration": 154,
    "start_time": "2022-09-19T09:31:56.187Z"
   },
   {
    "duration": 5,
    "start_time": "2022-09-19T09:31:56.343Z"
   },
   {
    "duration": 70,
    "start_time": "2022-09-19T09:31:56.350Z"
   },
   {
    "duration": 48,
    "start_time": "2022-09-19T09:31:56.421Z"
   },
   {
    "duration": 74,
    "start_time": "2022-09-19T09:31:56.471Z"
   },
   {
    "duration": 34,
    "start_time": "2022-09-19T09:31:56.547Z"
   },
   {
    "duration": 47,
    "start_time": "2022-09-19T09:31:56.583Z"
   },
   {
    "duration": 13,
    "start_time": "2022-09-19T09:31:56.631Z"
   },
   {
    "duration": 33,
    "start_time": "2022-09-19T09:31:56.645Z"
   },
   {
    "duration": 42,
    "start_time": "2022-09-19T09:31:56.680Z"
   },
   {
    "duration": 46,
    "start_time": "2022-09-19T09:31:56.724Z"
   },
   {
    "duration": 38,
    "start_time": "2022-09-19T09:31:56.772Z"
   },
   {
    "duration": 1073,
    "start_time": "2022-09-19T09:58:44.219Z"
   },
   {
    "duration": 79,
    "start_time": "2022-09-19T09:58:45.294Z"
   },
   {
    "duration": 14,
    "start_time": "2022-09-19T09:58:45.375Z"
   },
   {
    "duration": 21,
    "start_time": "2022-09-19T09:58:45.391Z"
   },
   {
    "duration": 22,
    "start_time": "2022-09-19T09:58:45.415Z"
   },
   {
    "duration": 39,
    "start_time": "2022-09-19T09:58:45.438Z"
   },
   {
    "duration": 18,
    "start_time": "2022-09-19T09:58:45.479Z"
   },
   {
    "duration": 11,
    "start_time": "2022-09-19T09:58:45.499Z"
   },
   {
    "duration": 18,
    "start_time": "2022-09-19T09:58:45.512Z"
   },
   {
    "duration": 10,
    "start_time": "2022-09-19T09:58:45.532Z"
   },
   {
    "duration": 13,
    "start_time": "2022-09-19T09:58:45.543Z"
   },
   {
    "duration": 9,
    "start_time": "2022-09-19T09:58:45.558Z"
   },
   {
    "duration": 16,
    "start_time": "2022-09-19T09:58:45.569Z"
   },
   {
    "duration": 13,
    "start_time": "2022-09-19T09:58:45.587Z"
   },
   {
    "duration": 23,
    "start_time": "2022-09-19T09:58:45.602Z"
   },
   {
    "duration": 18,
    "start_time": "2022-09-19T09:58:45.627Z"
   },
   {
    "duration": 14,
    "start_time": "2022-09-19T09:58:45.647Z"
   },
   {
    "duration": 18,
    "start_time": "2022-09-19T09:58:45.663Z"
   },
   {
    "duration": 20,
    "start_time": "2022-09-19T09:58:45.683Z"
   },
   {
    "duration": 166,
    "start_time": "2022-09-19T09:58:45.705Z"
   },
   {
    "duration": 13,
    "start_time": "2022-09-19T09:58:45.873Z"
   },
   {
    "duration": 167,
    "start_time": "2022-09-19T09:58:45.888Z"
   },
   {
    "duration": 6,
    "start_time": "2022-09-19T09:58:46.057Z"
   },
   {
    "duration": 18,
    "start_time": "2022-09-19T09:58:46.065Z"
   },
   {
    "duration": 374,
    "start_time": "2022-09-19T09:58:46.085Z"
   },
   {
    "duration": 7,
    "start_time": "2022-09-19T09:58:46.462Z"
   },
   {
    "duration": 288,
    "start_time": "2022-09-19T09:58:46.471Z"
   },
   {
    "duration": 216,
    "start_time": "2022-09-19T09:58:46.761Z"
   },
   {
    "duration": 289,
    "start_time": "2022-09-19T09:58:46.978Z"
   },
   {
    "duration": 223,
    "start_time": "2022-09-19T09:58:47.269Z"
   },
   {
    "duration": 322,
    "start_time": "2022-09-19T09:58:47.494Z"
   },
   {
    "duration": 17,
    "start_time": "2022-09-19T09:58:47.822Z"
   },
   {
    "duration": 168,
    "start_time": "2022-09-19T09:58:47.841Z"
   },
   {
    "duration": 11,
    "start_time": "2022-09-19T09:58:48.011Z"
   },
   {
    "duration": 219,
    "start_time": "2022-09-19T09:58:48.024Z"
   },
   {
    "duration": 160,
    "start_time": "2022-09-19T09:58:48.245Z"
   },
   {
    "duration": 15,
    "start_time": "2022-09-19T09:58:48.407Z"
   },
   {
    "duration": 20,
    "start_time": "2022-09-19T09:58:48.423Z"
   },
   {
    "duration": 11,
    "start_time": "2022-09-19T09:58:48.445Z"
   },
   {
    "duration": 49,
    "start_time": "2022-09-19T09:58:48.458Z"
   },
   {
    "duration": 11,
    "start_time": "2022-09-19T09:58:48.511Z"
   },
   {
    "duration": 39,
    "start_time": "2022-09-19T09:58:48.524Z"
   },
   {
    "duration": 34,
    "start_time": "2022-09-19T09:58:48.565Z"
   },
   {
    "duration": 30,
    "start_time": "2022-09-19T09:58:48.601Z"
   },
   {
    "duration": 4,
    "start_time": "2022-09-19T09:58:48.633Z"
   },
   {
    "duration": 17,
    "start_time": "2022-09-19T09:58:48.639Z"
   },
   {
    "duration": 11,
    "start_time": "2022-09-19T09:58:48.657Z"
   },
   {
    "duration": 14,
    "start_time": "2022-09-19T09:58:48.669Z"
   },
   {
    "duration": 16,
    "start_time": "2022-09-19T09:58:48.684Z"
   },
   {
    "duration": 96,
    "start_time": "2022-09-19T10:05:50.444Z"
   },
   {
    "duration": 12,
    "start_time": "2022-09-19T10:06:05.803Z"
   },
   {
    "duration": 36,
    "start_time": "2022-09-19T10:07:03.419Z"
   },
   {
    "duration": 38,
    "start_time": "2022-09-19T10:07:37.669Z"
   },
   {
    "duration": 1221,
    "start_time": "2022-09-19T10:08:16.240Z"
   },
   {
    "duration": 79,
    "start_time": "2022-09-19T10:08:17.463Z"
   },
   {
    "duration": 13,
    "start_time": "2022-09-19T10:08:17.544Z"
   },
   {
    "duration": 10,
    "start_time": "2022-09-19T10:08:17.559Z"
   },
   {
    "duration": 15,
    "start_time": "2022-09-19T10:08:17.572Z"
   },
   {
    "duration": 13,
    "start_time": "2022-09-19T10:08:17.588Z"
   },
   {
    "duration": 13,
    "start_time": "2022-09-19T10:08:17.603Z"
   },
   {
    "duration": 9,
    "start_time": "2022-09-19T10:08:17.621Z"
   },
   {
    "duration": 12,
    "start_time": "2022-09-19T10:08:17.632Z"
   },
   {
    "duration": 7,
    "start_time": "2022-09-19T10:08:17.646Z"
   },
   {
    "duration": 12,
    "start_time": "2022-09-19T10:08:17.655Z"
   },
   {
    "duration": 4,
    "start_time": "2022-09-19T10:08:17.669Z"
   },
   {
    "duration": 11,
    "start_time": "2022-09-19T10:08:17.675Z"
   },
   {
    "duration": 40,
    "start_time": "2022-09-19T10:08:17.690Z"
   },
   {
    "duration": 12,
    "start_time": "2022-09-19T10:08:17.732Z"
   },
   {
    "duration": 13,
    "start_time": "2022-09-19T10:08:17.746Z"
   },
   {
    "duration": 16,
    "start_time": "2022-09-19T10:08:17.761Z"
   },
   {
    "duration": 8,
    "start_time": "2022-09-19T10:08:17.779Z"
   },
   {
    "duration": 44,
    "start_time": "2022-09-19T10:08:17.789Z"
   },
   {
    "duration": 172,
    "start_time": "2022-09-19T10:08:17.835Z"
   },
   {
    "duration": 21,
    "start_time": "2022-09-19T10:08:18.009Z"
   },
   {
    "duration": 151,
    "start_time": "2022-09-19T10:08:18.033Z"
   },
   {
    "duration": 7,
    "start_time": "2022-09-19T10:08:18.186Z"
   },
   {
    "duration": 27,
    "start_time": "2022-09-19T10:08:18.195Z"
   },
   {
    "duration": 324,
    "start_time": "2022-09-19T10:08:18.224Z"
   },
   {
    "duration": 8,
    "start_time": "2022-09-19T10:08:18.550Z"
   },
   {
    "duration": 281,
    "start_time": "2022-09-19T10:08:18.560Z"
   },
   {
    "duration": 281,
    "start_time": "2022-09-19T10:08:18.843Z"
   },
   {
    "duration": 296,
    "start_time": "2022-09-19T10:08:19.126Z"
   },
   {
    "duration": 207,
    "start_time": "2022-09-19T10:08:19.424Z"
   },
   {
    "duration": 293,
    "start_time": "2022-09-19T10:08:19.633Z"
   },
   {
    "duration": 13,
    "start_time": "2022-09-19T10:08:19.927Z"
   },
   {
    "duration": 163,
    "start_time": "2022-09-19T10:08:19.942Z"
   },
   {
    "duration": 5,
    "start_time": "2022-09-19T10:08:20.107Z"
   },
   {
    "duration": 237,
    "start_time": "2022-09-19T10:08:20.113Z"
   },
   {
    "duration": 148,
    "start_time": "2022-09-19T10:08:20.352Z"
   },
   {
    "duration": 5,
    "start_time": "2022-09-19T10:08:20.502Z"
   },
   {
    "duration": 25,
    "start_time": "2022-09-19T10:08:20.520Z"
   },
   {
    "duration": 43,
    "start_time": "2022-09-19T10:08:20.547Z"
   },
   {
    "duration": 62,
    "start_time": "2022-09-19T10:08:20.591Z"
   },
   {
    "duration": 19,
    "start_time": "2022-09-19T10:08:20.658Z"
   },
   {
    "duration": 45,
    "start_time": "2022-09-19T10:08:20.679Z"
   },
   {
    "duration": 39,
    "start_time": "2022-09-19T10:08:20.725Z"
   },
   {
    "duration": 13,
    "start_time": "2022-09-19T10:08:20.767Z"
   },
   {
    "duration": 4,
    "start_time": "2022-09-19T10:08:20.782Z"
   },
   {
    "duration": 33,
    "start_time": "2022-09-19T10:08:20.788Z"
   },
   {
    "duration": 12,
    "start_time": "2022-09-19T10:08:20.823Z"
   },
   {
    "duration": 24,
    "start_time": "2022-09-19T10:08:20.838Z"
   }
  ],
  "kernelspec": {
   "display_name": "Python 3 (ipykernel)",
   "language": "python",
   "name": "python3"
  },
  "language_info": {
   "codemirror_mode": {
    "name": "ipython",
    "version": 3
   },
   "file_extension": ".py",
   "mimetype": "text/x-python",
   "name": "python",
   "nbconvert_exporter": "python",
   "pygments_lexer": "ipython3",
   "version": "3.9.12"
  },
  "toc": {
   "base_numbering": 1,
   "nav_menu": {},
   "number_sections": true,
   "sideBar": true,
   "skip_h1_title": true,
   "title_cell": "Table of Contents",
   "title_sidebar": "Contents",
   "toc_cell": false,
   "toc_position": {},
   "toc_section_display": true,
   "toc_window_display": false
  }
 },
 "nbformat": 4,
 "nbformat_minor": 2
}
